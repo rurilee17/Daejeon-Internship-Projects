{
 "cells": [
  {
   "cell_type": "code",
   "execution_count": 1,
   "metadata": {},
   "outputs": [
    {
     "name": "stdout",
     "output_type": "stream",
     "text": [
      "Requirement already satisfied: tensorflow-datasets in c:\\users\\affinity\\anaconda3\\lib\\site-packages (1.3.0)\n",
      "Requirement already satisfied: future in c:\\users\\affinity\\anaconda3\\lib\\site-packages (from tensorflow-datasets) (0.17.1)\n",
      "Requirement already satisfied: requests>=2.19.0 in c:\\users\\affinity\\anaconda3\\lib\\site-packages (from tensorflow-datasets) (2.22.0)\n",
      "Requirement already satisfied: six in c:\\users\\affinity\\anaconda3\\lib\\site-packages (from tensorflow-datasets) (1.12.0)\n",
      "Requirement already satisfied: promise in c:\\users\\affinity\\anaconda3\\lib\\site-packages (from tensorflow-datasets) (2.2.1)\n",
      "Requirement already satisfied: tensorflow-metadata in c:\\users\\affinity\\anaconda3\\lib\\site-packages (from tensorflow-datasets) (0.15.0)\n",
      "Requirement already satisfied: tqdm in c:\\users\\affinity\\anaconda3\\lib\\site-packages (from tensorflow-datasets) (4.36.1)\n",
      "Requirement already satisfied: wrapt in c:\\users\\affinity\\anaconda3\\lib\\site-packages (from tensorflow-datasets) (1.11.2)\n",
      "Requirement already satisfied: protobuf>=3.6.1 in c:\\users\\affinity\\anaconda3\\lib\\site-packages (from tensorflow-datasets) (3.9.2)\n",
      "Requirement already satisfied: numpy in c:\\users\\affinity\\anaconda3\\lib\\site-packages (from tensorflow-datasets) (1.16.5)\n",
      "Requirement already satisfied: attrs in c:\\users\\affinity\\anaconda3\\lib\\site-packages (from tensorflow-datasets) (19.3.0)\n",
      "Requirement already satisfied: absl-py in c:\\users\\affinity\\anaconda3\\lib\\site-packages (from tensorflow-datasets) (0.8.0)\n",
      "Requirement already satisfied: dill in c:\\users\\affinity\\anaconda3\\lib\\site-packages (from tensorflow-datasets) (0.3.1.1)\n",
      "Requirement already satisfied: termcolor in c:\\users\\affinity\\anaconda3\\lib\\site-packages (from tensorflow-datasets) (1.1.0)\n",
      "Requirement already satisfied: chardet<3.1.0,>=3.0.2 in c:\\users\\affinity\\anaconda3\\lib\\site-packages (from requests>=2.19.0->tensorflow-datasets) (3.0.4)\n",
      "Requirement already satisfied: certifi>=2017.4.17 in c:\\users\\affinity\\anaconda3\\lib\\site-packages (from requests>=2.19.0->tensorflow-datasets) (2019.9.11)\n",
      "Requirement already satisfied: urllib3!=1.25.0,!=1.25.1,<1.26,>=1.21.1 in c:\\users\\affinity\\anaconda3\\lib\\site-packages (from requests>=2.19.0->tensorflow-datasets) (1.24.2)\n",
      "Requirement already satisfied: idna<2.9,>=2.5 in c:\\users\\affinity\\anaconda3\\lib\\site-packages (from requests>=2.19.0->tensorflow-datasets) (2.8)\n",
      "Requirement already satisfied: googleapis-common-protos in c:\\users\\affinity\\anaconda3\\lib\\site-packages (from tensorflow-metadata->tensorflow-datasets) (1.6.0)\n",
      "Requirement already satisfied: setuptools in c:\\users\\affinity\\anaconda3\\lib\\site-packages (from protobuf>=3.6.1->tensorflow-datasets) (41.4.0)\n"
     ]
    }
   ],
   "source": [
    "!pip install tensorflow-datasets"
   ]
  },
  {
   "cell_type": "code",
   "execution_count": 2,
   "metadata": {},
   "outputs": [
    {
     "name": "stdout",
     "output_type": "stream",
     "text": [
      "Requirement already up-to-date: pip in c:\\users\\affinity\\anaconda3\\lib\\site-packages (19.3.1)\n"
     ]
    }
   ],
   "source": [
    "!python -m pip install --upgrade pip"
   ]
  },
  {
   "cell_type": "code",
   "execution_count": 3,
   "metadata": {},
   "outputs": [
    {
     "name": "stderr",
     "output_type": "stream",
     "text": [
      "Using TensorFlow backend.\n"
     ]
    }
   ],
   "source": [
    "import tensorflow as tf\n",
    "import tensorflow_datasets as tfds\n",
    "from keras.models import load_model\n",
    "from datetime import datetime\n",
    "#tf.enable_eager_execution()"
   ]
  },
  {
   "cell_type": "code",
   "execution_count": 4,
   "metadata": {},
   "outputs": [],
   "source": [
    "train_data = tfds.load(name='cifar10:3.*.*', split='train[:80%]', as_supervised=True)\n",
    "valid_data = tfds.load(name='cifar10:3.*.*', split='train[80%:]', as_supervised=True)\n",
    "test_data = tfds.load(name='cifar10:3.*.*', split='test', as_supervised=True)"
   ]
  },
  {
   "cell_type": "code",
   "execution_count": 5,
   "metadata": {},
   "outputs": [],
   "source": [
    "def scale(image, label):\n",
    "    image = tf.cast(image, tf.float32)\n",
    "    image /= 255\n",
    "    image = tf.image.random_contrast(image, lower=0.2, upper=2.0)\n",
    "    image = tf.image.random_flip_left_right(image)\n",
    "    image = tf.image.random_contrast(image, lower=0.2, upper = 0.2)\n",
    "    image = tf.image.random_hue(image, max_delta = 0.08)\n",
    "    image = tf.image.random_saturation(image, lower=0.2, upper=0.2)\n",
    "    return image, label\n",
    "    "
   ]
  },
  {
   "cell_type": "code",
   "execution_count": 6,
   "metadata": {},
   "outputs": [
    {
     "name": "stdout",
     "output_type": "stream",
     "text": [
      "Model: \"sequential\"\n",
      "_________________________________________________________________\n",
      "Layer (type)                 Output Shape              Param #   \n",
      "=================================================================\n",
      "conv2d (Conv2D)              (None, 32, 32, 32)        896       \n",
      "_________________________________________________________________\n",
      "conv2d_1 (Conv2D)            (None, 32, 32, 32)        9248      \n",
      "_________________________________________________________________\n",
      "batch_normalization (BatchNo (None, 32, 32, 32)        128       \n",
      "_________________________________________________________________\n",
      "max_pooling2d (MaxPooling2D) (None, 16, 16, 32)        0         \n",
      "_________________________________________________________________\n",
      "conv2d_2 (Conv2D)            (None, 16, 16, 64)        18496     \n",
      "_________________________________________________________________\n",
      "conv2d_3 (Conv2D)            (None, 16, 16, 64)        36928     \n",
      "_________________________________________________________________\n",
      "conv2d_4 (Conv2D)            (None, 16, 16, 64)        36928     \n",
      "_________________________________________________________________\n",
      "batch_normalization_1 (Batch (None, 16, 16, 64)        256       \n",
      "_________________________________________________________________\n",
      "max_pooling2d_1 (MaxPooling2 (None, 8, 8, 64)          0         \n",
      "_________________________________________________________________\n",
      "conv2d_5 (Conv2D)            (None, 8, 8, 128)         73856     \n",
      "_________________________________________________________________\n",
      "conv2d_6 (Conv2D)            (None, 8, 8, 128)         147584    \n",
      "_________________________________________________________________\n",
      "conv2d_7 (Conv2D)            (None, 8, 8, 128)         147584    \n",
      "_________________________________________________________________\n",
      "dropout (Dropout)            (None, 8, 8, 128)         0         \n",
      "_________________________________________________________________\n",
      "flatten (Flatten)            (None, 8192)              0         \n",
      "_________________________________________________________________\n",
      "dropout_1 (Dropout)          (None, 8192)              0         \n",
      "_________________________________________________________________\n",
      "dense (Dense)                (None, 10)                81930     \n",
      "=================================================================\n",
      "Total params: 553,834\n",
      "Trainable params: 553,642\n",
      "Non-trainable params: 192\n",
      "_________________________________________________________________\n"
     ]
    }
   ],
   "source": [
    "model = tf.keras.Sequential([\n",
    "    tf.keras.layers.Conv2D(32, 3, activation='relu', padding='same', input_shape=(32, 32, 3)),\n",
    "    tf.keras.layers.Conv2D(32, 3, activation='relu', padding='same'),\n",
    "    tf.keras.layers.BatchNormalization(),  # Gradient Vanishing / Gradient Exploding 이 일어나지 않도록 하는 아이디어 중의 하나이다\n",
    "    tf.keras.layers.MaxPooling2D(),\n",
    "    tf.keras.layers.Conv2D(64, 3, activation='relu', padding='same',bias_regularizer=tf.keras.regularizers.l2(0.01)),\n",
    "    tf.keras.layers.Conv2D(64, 3, activation='relu', padding='same',bias_regularizer=tf.keras.regularizers.l2(0.01)),\n",
    "    tf.keras.layers.Conv2D(64, 3, activation='relu', padding='same',bias_regularizer=tf.keras.regularizers.l2(0.01)),\n",
    "    tf.keras.layers.BatchNormalization(),\n",
    "    tf.keras.layers.MaxPooling2D(),\n",
    "    tf.keras.layers.Conv2D(128, 3, activation='relu', padding='same',bias_regularizer=tf.keras.regularizers.l2(0.01)),\n",
    "    tf.keras.layers.Conv2D(128, 3, activation='relu', padding='same',bias_regularizer=tf.keras.regularizers.l2(0.01)),\n",
    "    tf.keras.layers.Conv2D(128, 3, activation='relu', padding='same',bias_regularizer=tf.keras.regularizers.l2(0.01)),\n",
    "    tf.keras.layers.Dropout(0.4),\n",
    "    tf.keras.layers.Flatten(),\n",
    "    tf.keras.layers.Dropout(0.4),\n",
    "    tf.keras.layers.Dense(10, activation='softmax', bias_regularizer=tf.keras.regularizers.l2(0.01))\n",
    "    \n",
    "])\n",
    "model.summary()"
   ]
  },
  {
   "cell_type": "code",
   "execution_count": 7,
   "metadata": {},
   "outputs": [],
   "source": [
    "model.compile(optimizer='adam',\n",
    "              loss='sparse_categorical_crossentropy',\n",
    "              metrics=['accuracy'])"
   ]
  },
  {
   "cell_type": "code",
   "execution_count": 8,
   "metadata": {},
   "outputs": [],
   "source": [
    "def scale(image, label):\n",
    "    image = tf.cast(image, tf.float32)\n",
    "    image /= 255\n",
    "    return image, label\n",
    "\n",
    "train_data = train_data.map(scale).shuffle(50000).repeat(3).batch(64) \n",
    "valid_data = valid_data.map(scale).batch(64)\n",
    "test_data = test_data.map(scale).batch(64)"
   ]
  },
  {
   "cell_type": "code",
   "execution_count": 9,
   "metadata": {},
   "outputs": [],
   "source": [
    "dt = datetime.now().strftime('%Y%m%d-%H%M%S')\n",
    "\n",
    "cp_callback = tf.keras.callbacks.ModelCheckpoint(   \n",
    "    'checkpoints/{}.hdf5'.format(dt),\n",
    "    monitor='val_accuracy',\n",
    "    save_best_only=True)"
   ]
  },
  {
   "cell_type": "code",
   "execution_count": 10,
   "metadata": {},
   "outputs": [],
   "source": [
    "class MyCallback(tf.keras.callbacks.Callback):\n",
    "\n",
    "    def on_epoch_start(self, epoch, logs=None):\n",
    "        print('Epoch {} begins at {}: {}'.format(epoch, datetime.now().time(), logs))\n",
    "\n",
    "    def on_epoch_end(self, epoch, logs=None):\n",
    "        print('Epoch {} ends at {}: {}'.format(epoch, datetime.now().time(), logs))"
   ]
  },
  {
   "cell_type": "code",
   "execution_count": 11,
   "metadata": {},
   "outputs": [
    {
     "name": "stdout",
     "output_type": "stream",
     "text": [
      "Epoch 0 ends at 10:33:17.729442: {'loss': 1.1294663419882456, 'accuracy': 0.59915, 'val_loss': 0.9429279736652496, 'val_accuracy': 0.6728}\n",
      "Epoch 1 ends at 10:34:21.072964: {'loss': 0.6876917716503144, 'accuracy': 0.7624417, 'val_loss': 0.9091906585511128, 'val_accuracy': 0.6985}\n",
      "Epoch 2 ends at 10:35:28.156329: {'loss': 0.528450136423111, 'accuracy': 0.81673336, 'val_loss': 1.229917755172511, 'val_accuracy': 0.6533}\n",
      "Epoch 3 ends at 10:36:40.972333: {'loss': 0.4236197190284729, 'accuracy': 0.85350835, 'val_loss': 0.9199793541887004, 'val_accuracy': 0.7288}\n",
      "Epoch 4 ends at 10:38:00.436124: {'loss': 0.3412747973243396, 'accuracy': 0.8815917, 'val_loss': 0.8614044829159025, 'val_accuracy': 0.7641}\n",
      "Epoch 5 ends at 10:39:22.750047: {'loss': 0.2877398352642854, 'accuracy': 0.90065, 'val_loss': 0.9238156194140197, 'val_accuracy': 0.764}\n",
      "Epoch 6 ends at 10:40:41.918354: {'loss': 0.2464600383847952, 'accuracy': 0.91595834, 'val_loss': 0.8712231962923791, 'val_accuracy': 0.7737}\n",
      "Epoch 7 ends at 10:42:03.160954: {'loss': 0.2176821085790793, 'accuracy': 0.92651665, 'val_loss': 0.8894523843458504, 'val_accuracy': 0.7844}\n",
      "Epoch 8 ends at 10:43:26.491370: {'loss': 0.192254359468321, 'accuracy': 0.935575, 'val_loss': 0.9890617439701299, 'val_accuracy': 0.7796}\n",
      "Epoch 9 ends at 10:44:49.560557: {'loss': 0.17119179505233964, 'accuracy': 0.942625, 'val_loss': 1.0673425410203874, 'val_accuracy': 0.7832}\n",
      "Epoch 10 ends at 10:46:11.937116: {'loss': 0.15625362927863995, 'accuracy': 0.9491583, 'val_loss': 1.1004164926945024, 'val_accuracy': 0.7764}\n",
      "Epoch 11 ends at 10:47:37.674864: {'loss': 0.142660315922151, 'accuracy': 0.952775, 'val_loss': 1.225476847902225, 'val_accuracy': 0.7859}\n",
      "Epoch 12 ends at 10:49:06.359938: {'loss': 0.13347590720864633, 'accuracy': 0.95683336, 'val_loss': 1.1564091257988267, 'val_accuracy': 0.7974}\n",
      "Epoch 13 ends at 10:50:31.803140: {'loss': 0.11987526560636858, 'accuracy': 0.961175, 'val_loss': 14.377349379715646, 'val_accuracy': 0.3499}\n",
      "Epoch 14 ends at 10:51:54.405190: {'loss': 0.12834333427088956, 'accuracy': 0.95928335, 'val_loss': 1.1224493947188565, 'val_accuracy': 0.795}\n",
      "Epoch 15 ends at 10:53:17.990404: {'loss': 0.1015028002301852, 'accuracy': 0.967, 'val_loss': 1.189094784722966, 'val_accuracy': 0.7938}\n",
      "Epoch 16 ends at 10:54:41.270394: {'loss': 0.10047559406248231, 'accuracy': 0.96835834, 'val_loss': 1.3497551734660083, 'val_accuracy': 0.7813}\n",
      "Epoch 17 ends at 10:56:05.582013: {'loss': 0.09643522440244755, 'accuracy': 0.96923333, 'val_loss': 1.259942550757888, 'val_accuracy': 0.7791}\n",
      "Epoch 18 ends at 10:57:29.020359: {'loss': 0.08966389064323158, 'accuracy': 0.9713333, 'val_loss': 1.1619730018506385, 'val_accuracy': 0.807}\n",
      "Epoch 19 ends at 10:58:53.028643: {'loss': 0.08402153860634813, 'accuracy': 0.9734, 'val_loss': 1.1889549273594169, 'val_accuracy': 0.8014}\n"
     ]
    }
   ],
   "source": [
    "history = model.fit(train_data,\n",
    "                    epochs=20,\n",
    "                    validation_data=valid_data,\n",
    "                    verbose=0,\n",
    "                    callbacks=[cp_callback, MyCallback()])"
   ]
  },
  {
   "cell_type": "code",
   "execution_count": 12,
   "metadata": {
    "scrolled": true
   },
   "outputs": [
    {
     "name": "stdout",
     "output_type": "stream",
     "text": [
      "157/157 [==============================]0.9834 - accuracy: 0.765 - 0s 70ms/step - loss: 1.0832 - accuracy: 0.781 - 0s 56ms/step - loss: 1.0418 - accuracy: 0.80 - 0s 49ms/step - loss: 1.0014 - accuracy: 0.81 - 0s 52ms/step - loss: 0.9657 - accuracy: 0.81 - 0s 49ms/step - loss: 0.9659 - accuracy: 0.82 - 0s 47ms/step - loss: 1.0549 - accuracy: 0.81 - 0s 45ms/step - loss: 1.1771 - accuracy: 0.80 - 0s 44ms/step - loss: 1.1382 - accuracy: 0.81 - 0s 43ms/step - loss: 1.1856 - accuracy: 0.80 - 0s 42ms/step - loss: 1.1558 - accuracy: 0.81 - 0s 41ms/step - loss: 1.1750 - accuracy: 0.81 - 1s 41ms/step - loss: 1.2015 - accuracy: 0.80 - 1s 40ms/step - loss: 1.2132 - accuracy: 0.80 - 1s 40ms/step - loss: 1.1942 - accuracy: 0.80 - 1s 39ms/step - loss: 1.2311 - accuracy: 0.80 - 1s 39ms/step - loss: 1.2332 - accuracy: 0.79 - 1s 39ms/step - loss: 1.2816 - accuracy: 0.79 - 1s 38ms/step - loss: 1.2737 - accuracy: 0.79 - 1s 38ms/step - loss: 1.2781 - accuracy: 0.79 - 1s 38ms/step - loss: 1.2351 - accuracy: 0.80 - 1s 38ms/step - loss: 1.2240 - accuracy: 0.80 - 1s 38ms/step - loss: 1.2270 - accuracy: 0.80 - 1s 38ms/step - loss: 1.2531 - accuracy: 0.79 - 1s 38ms/step - loss: 1.2392 - accuracy: 0.79 - 1s 37ms/step - loss: 1.2403 - accuracy: 0.79 - 1s 37ms/step - loss: 1.2330 - accuracy: 0.80 - 1s 37ms/step - loss: 1.2150 - accuracy: 0.80 - 1s 37ms/step - loss: 1.2160 - accuracy: 0.79 - 1s 37ms/step - loss: 1.2166 - accuracy: 0.79 - 1s 37ms/step - loss: 1.2017 - accuracy: 0.79 - 1s 37ms/step - loss: 1.1925 - accuracy: 0.80 - 1s 37ms/step - loss: 1.1983 - accuracy: 0.80 - 1s 36ms/step - loss: 1.2021 - accuracy: 0.79 - 1s 36ms/step - loss: 1.2029 - accuracy: 0.79 - 1s 36ms/step - loss: 1.2049 - accuracy: 0.79 - 1s 36ms/step - loss: 1.2157 - accuracy: 0.79 - 1s 36ms/step - loss: 1.2184 - accuracy: 0.80 - 1s 36ms/step - loss: 1.2036 - accuracy: 0.80 - 1s 36ms/step - loss: 1.2093 - accuracy: 0.80 - 1s 36ms/step - loss: 1.2178 - accuracy: 0.80 - 2s 36ms/step - loss: 1.2145 - accuracy: 0.80 - 2s 36ms/step - loss: 1.2135 - accuracy: 0.80 - 2s 36ms/step - loss: 1.2237 - accuracy: 0.80 - 2s 36ms/step - loss: 1.2087 - accuracy: 0.80 - 2s 36ms/step - loss: 1.2097 - accuracy: 0.80 - 2s 36ms/step - loss: 1.2133 - accuracy: 0.80 - 2s 36ms/step - loss: 1.2031 - accuracy: 0.80 - 2s 36ms/step - loss: 1.2116 - accuracy: 0.80 - 2s 36ms/step - loss: 1.2042 - accuracy: 0.80 - 2s 36ms/step - loss: 1.2148 - accuracy: 0.80 - 2s 35ms/step - loss: 1.2145 - accuracy: 0.80 - 2s 35ms/step - loss: 1.2242 - accuracy: 0.79 - 2s 35ms/step - loss: 1.2251 - accuracy: 0.80 - 2s 35ms/step - loss: 1.2329 - accuracy: 0.79 - 2s 35ms/step - loss: 1.2386 - accuracy: 0.79 - 2s 35ms/step - loss: 1.2371 - accuracy: 0.79 - 2s 35ms/step - loss: 1.2324 - accuracy: 0.79 - 2s 35ms/step - loss: 1.2286 - accuracy: 0.79 - 2s 35ms/step - loss: 1.2506 - accuracy: 0.79 - 2s 35ms/step - loss: 1.2443 - accuracy: 0.79 - 2s 35ms/step - loss: 1.2613 - accuracy: 0.79 - 2s 35ms/step - loss: 1.2615 - accuracy: 0.79 - 2s 35ms/step - loss: 1.2721 - accuracy: 0.79 - 2s 35ms/step - loss: 1.2728 - accuracy: 0.79 - 2s 35ms/step - loss: 1.2773 - accuracy: 0.79 - 2s 35ms/step - loss: 1.2777 - accuracy: 0.79 - 2s 35ms/step - loss: 1.2822 - accuracy: 0.79 - 2s 35ms/step - loss: 1.2784 - accuracy: 0.79 - 2s 35ms/step - loss: 1.2813 - accuracy: 0.79 - 2s 35ms/step - loss: 1.2829 - accuracy: 0.79 - 2s 35ms/step - loss: 1.2911 - accuracy: 0.79 - 3s 35ms/step - loss: 1.2958 - accuracy: 0.79 - 3s 35ms/step - loss: 1.2906 - accuracy: 0.79 - 3s 35ms/step - loss: 1.2964 - accuracy: 0.79 - 3s 35ms/step - loss: 1.2975 - accuracy: 0.79 - 3s 34ms/step - loss: 1.2969 - accuracy: 0.79 - 3s 34ms/step - loss: 1.2909 - accuracy: 0.79 - 3s 34ms/step - loss: 1.2836 - accuracy: 0.79 - 3s 34ms/step - loss: 1.2848 - accuracy: 0.79 - 3s 34ms/step - loss: 1.2837 - accuracy: 0.79 - 3s 34ms/step - loss: 1.2840 - accuracy: 0.79 - 3s 34ms/step - loss: 1.2883 - accuracy: 0.79 - 3s 34ms/step - loss: 1.2897 - accuracy: 0.79 - 3s 34ms/step - loss: 1.2901 - accuracy: 0.79 - 3s 34ms/step - loss: 1.2927 - accuracy: 0.79 - 3s 34ms/step - loss: 1.2996 - accuracy: 0.79 - 3s 34ms/step - loss: 1.3011 - accuracy: 0.79 - 3s 34ms/step - loss: 1.2981 - accuracy: 0.79 - 3s 34ms/step - loss: 1.3024 - accuracy: 0.79 - 3s 34ms/step - loss: 1.3016 - accuracy: 0.79 - 3s 34ms/step - loss: 1.2997 - accuracy: 0.79 - 3s 34ms/step - loss: 1.2964 - accuracy: 0.79 - 3s 34ms/step - loss: 1.2969 - accuracy: 0.79 - 3s 34ms/step - loss: 1.3012 - accuracy: 0.79 - 3s 34ms/step - loss: 1.3018 - accuracy: 0.79 - 3s 34ms/step - loss: 1.3035 - accuracy: 0.79 - 3s 34ms/step - loss: 1.2979 - accuracy: 0.79 - 3s 34ms/step - loss: 1.2934 - accuracy: 0.79 - 3s 34ms/step - loss: 1.2896 - accuracy: 0.79 - 3s 34ms/step - loss: 1.2907 - accuracy: 0.79 - 3s 34ms/step - loss: 1.2826 - accuracy: 0.79 - 3s 33ms/step - loss: 1.2842 - accuracy: 0.79 - 3s 33ms/step - loss: 1.2927 - accuracy: 0.79 - 4s 33ms/step - loss: 1.2937 - accuracy: 0.79 - 4s 33ms/step - loss: 1.2929 - accuracy: 0.79 - 4s 33ms/step - loss: 1.2925 - accuracy: 0.79 - 4s 33ms/step - loss: 1.2951 - accuracy: 0.79 - 4s 34ms/step - loss: 1.2999 - accuracy: 0.79 - 4s 33ms/step - loss: 1.3102 - accuracy: 0.79 - 4s 33ms/step - loss: 1.3067 - accuracy: 0.79 - 4s 33ms/step - loss: 1.3099 - accuracy: 0.79 - 4s 33ms/step - loss: 1.3165 - accuracy: 0.79 - 4s 33ms/step - loss: 1.3106 - accuracy: 0.79 - 4s 33ms/step - loss: 1.3097 - accuracy: 0.79 - 4s 33ms/step - loss: 1.3098 - accuracy: 0.79 - 4s 33ms/step - loss: 1.3055 - accuracy: 0.79 - 4s 33ms/step - loss: 1.3026 - accuracy: 0.79 - 4s 33ms/step - loss: 1.2981 - accuracy: 0.79 - 4s 33ms/step - loss: 1.3018 - accuracy: 0.79 - 4s 33ms/step - loss: 1.2977 - accuracy: 0.79 - 4s 33ms/step - loss: 1.2984 - accuracy: 0.79 - 4s 33ms/step - loss: 1.2944 - accuracy: 0.79 - 4s 33ms/step - loss: 1.2918 - accuracy: 0.79 - 4s 33ms/step - loss: 1.2889 - accuracy: 0.79 - 4s 33ms/step - loss: 1.2871 - accuracy: 0.79 - 4s 33ms/step - loss: 1.2844 - accuracy: 0.79 - 4s 33ms/step - loss: 1.2851 - accuracy: 0.79 - 4s 33ms/step - loss: 1.2833 - accuracy: 0.79 - 4s 33ms/step - loss: 1.2790 - accuracy: 0.79 - 4s 33ms/step - loss: 1.2774 - accuracy: 0.79 - 4s 33ms/step - loss: 1.2785 - accuracy: 0.79 - 4s 33ms/step - loss: 1.2763 - accuracy: 0.79 - 4s 33ms/step - loss: 1.2778 - accuracy: 0.79 - 4s 33ms/step - loss: 1.2768 - accuracy: 0.79 - 4s 33ms/step - loss: 1.2852 - accuracy: 0.79 - 4s 33ms/step - loss: 1.2831 - accuracy: 0.79 - 5s 33ms/step - loss: 1.2846 - accuracy: 0.79 - 5s 33ms/step - loss: 1.2925 - accuracy: 0.79 - 5s 33ms/step - loss: 1.2875 - accuracy: 0.79 - 5s 33ms/step - loss: 1.2895 - accuracy: 0.79 - 5s 33ms/step - loss: 1.2887 - accuracy: 0.79 - 5s 33ms/step - loss: 1.2879 - accuracy: 0.79 - 5s 33ms/step - loss: 1.2873 - accuracy: 0.79 - 5s 33ms/step - loss: 1.2841 - accuracy: 0.79 - 5s 33ms/step - loss: 1.2828 - accuracy: 0.79 - 5s 33ms/step - loss: 1.2831 - accuracy: 0.79 - 5s 33ms/step - loss: 1.2804 - accuracy: 0.79 - 5s 33ms/step - loss: 1.2774 - accuracy: 0.79 - 5s 33ms/step - loss: 1.2779 - accuracy: 0.79 - 5s 33ms/step - loss: 1.2781 - accuracy: 0.79 - 5s 32ms/step - loss: 1.2761 - accuracy: 0.79 - 5s 32ms/step - loss: 1.2758 - accuracy: 0.79 - 5s 32ms/step - loss: 1.2740 - accuracy: 0.79 - 5s 32ms/step - loss: 1.2716 - accuracy: 0.79 - 5s 32ms/step - loss: 1.2690 - accuracy: 0.79 - 5s 32ms/step - loss: 1.2613 - accuracy: 0.79 - 5s 33ms/step - loss: 1.2613 - accuracy: 0.7961\n"
     ]
    },
    {
     "data": {
      "text/plain": [
       "[1.2612651859166895, 0.7961]"
      ]
     },
     "execution_count": 12,
     "metadata": {},
     "output_type": "execute_result"
    }
   ],
   "source": [
    "model.evaluate(test_data)"
   ]
  },
  {
   "cell_type": "code",
   "execution_count": 13,
   "metadata": {},
   "outputs": [],
   "source": [
    "m = tf.keras.models.load_model('checkpoints/{}.hdf5'.format(dt))"
   ]
  },
  {
   "cell_type": "code",
   "execution_count": null,
   "metadata": {},
   "outputs": [],
   "source": []
  },
  {
   "cell_type": "code",
   "execution_count": null,
   "metadata": {},
   "outputs": [],
   "source": []
  }
 ],
 "metadata": {
  "kernelspec": {
   "display_name": "Python 3",
   "language": "python",
   "name": "python3"
  },
  "language_info": {
   "codemirror_mode": {
    "name": "ipython",
    "version": 3
   },
   "file_extension": ".py",
   "mimetype": "text/x-python",
   "name": "python",
   "nbconvert_exporter": "python",
   "pygments_lexer": "ipython3",
   "version": "3.6.9"
  }
 },
 "nbformat": 4,
 "nbformat_minor": 2
}
