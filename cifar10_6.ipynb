{
 "cells": [
  {
   "cell_type": "code",
   "execution_count": 1,
   "metadata": {},
   "outputs": [
    {
     "name": "stdout",
     "output_type": "stream",
     "text": [
      "Collecting tensorflow-datasets\n",
      "  Using cached https://files.pythonhosted.org/packages/e2/14/900746f9b8e1ed8ea93661f1a62b3937a5a25858d550ece38de8ea579f2d/tensorflow_datasets-1.3.0-py3-none-any.whl\n",
      "Requirement already satisfied: termcolor in c:\\users\\affinity\\anaconda3\\lib\\site-packages (from tensorflow-datasets) (1.1.0)\n",
      "Collecting promise\n",
      "  Using cached https://files.pythonhosted.org/packages/5a/81/221d09d90176fd90aed4b530e31b8fedf207385767c06d1d46c550c5e418/promise-2.2.1.tar.gz\n",
      "Requirement already satisfied: requests>=2.19.0 in c:\\users\\affinity\\anaconda3\\lib\\site-packages (from tensorflow-datasets) (2.22.0)\n",
      "Requirement already satisfied: attrs in c:\\users\\affinity\\anaconda3\\lib\\site-packages (from tensorflow-datasets) (19.3.0)\n",
      "Requirement already satisfied: protobuf>=3.6.1 in c:\\users\\affinity\\anaconda3\\lib\\site-packages (from tensorflow-datasets) (3.9.2)\n",
      "Requirement already satisfied: future in c:\\users\\affinity\\anaconda3\\lib\\site-packages (from tensorflow-datasets) (0.17.1)\n",
      "Requirement already satisfied: tqdm in c:\\users\\affinity\\anaconda3\\lib\\site-packages (from tensorflow-datasets) (4.36.1)\n",
      "Requirement already satisfied: wrapt in c:\\users\\affinity\\anaconda3\\lib\\site-packages (from tensorflow-datasets) (1.11.2)\n",
      "Collecting tensorflow-metadata\n",
      "  Using cached https://files.pythonhosted.org/packages/4e/c2/e4ed82a725c9f8160a0ed73f0511773be9f76343def86f6f47121f0e8430/tensorflow_metadata-0.15.0-py2.py3-none-any.whl\n",
      "Collecting dill\n",
      "  Using cached https://files.pythonhosted.org/packages/c7/11/345f3173809cea7f1a193bfbf02403fff250a3360e0e118a1630985e547d/dill-0.3.1.1.tar.gz\n",
      "Requirement already satisfied: six in c:\\users\\affinity\\anaconda3\\lib\\site-packages (from tensorflow-datasets) (1.12.0)\n",
      "Requirement already satisfied: absl-py in c:\\users\\affinity\\anaconda3\\lib\\site-packages (from tensorflow-datasets) (0.8.0)\n",
      "Requirement already satisfied: numpy in c:\\users\\affinity\\anaconda3\\lib\\site-packages (from tensorflow-datasets) (1.16.5)\n",
      "Requirement already satisfied: certifi>=2017.4.17 in c:\\users\\affinity\\anaconda3\\lib\\site-packages (from requests>=2.19.0->tensorflow-datasets) (2019.9.11)\n",
      "Requirement already satisfied: chardet<3.1.0,>=3.0.2 in c:\\users\\affinity\\anaconda3\\lib\\site-packages (from requests>=2.19.0->tensorflow-datasets) (3.0.4)\n",
      "Requirement already satisfied: idna<2.9,>=2.5 in c:\\users\\affinity\\anaconda3\\lib\\site-packages (from requests>=2.19.0->tensorflow-datasets) (2.8)\n",
      "Requirement already satisfied: urllib3!=1.25.0,!=1.25.1,<1.26,>=1.21.1 in c:\\users\\affinity\\anaconda3\\lib\\site-packages (from requests>=2.19.0->tensorflow-datasets) (1.24.2)\n",
      "Requirement already satisfied: setuptools in c:\\users\\affinity\\anaconda3\\lib\\site-packages (from protobuf>=3.6.1->tensorflow-datasets) (41.4.0)\n",
      "Collecting googleapis-common-protos\n",
      "  Using cached https://files.pythonhosted.org/packages/eb/ee/e59e74ecac678a14d6abefb9054f0bbcb318a6452a30df3776f133886d7d/googleapis-common-protos-1.6.0.tar.gz\n",
      "Building wheels for collected packages: promise, dill, googleapis-common-protos\n",
      "  Building wheel for promise (setup.py): started\n",
      "  Building wheel for promise (setup.py): finished with status 'done'\n",
      "  Created wheel for promise: filename=promise-2.2.1-cp36-none-any.whl size=21294 sha256=656f4e511d0512241fee056a98cdae07e8d9893269720c83914e3551bdbdedfd\n",
      "  Stored in directory: C:\\Users\\Affinity\\AppData\\Local\\pip\\Cache\\wheels\\92\\84\\9f\\75e2235effae0e1c5a5c0626a503e532bbffcb7e79e672b606\n",
      "  Building wheel for dill (setup.py): started\n",
      "  Building wheel for dill (setup.py): finished with status 'done'\n",
      "  Created wheel for dill: filename=dill-0.3.1.1-cp36-none-any.whl size=78599 sha256=a4da5ed294b90408cf298d3d727d35b56765e5079522d81d5b9d16b991c8ad62\n",
      "  Stored in directory: C:\\Users\\Affinity\\AppData\\Local\\pip\\Cache\\wheels\\59\\b1\\91\\f02e76c732915c4015ab4010f3015469866c1eb9b14058d8e7\n",
      "  Building wheel for googleapis-common-protos (setup.py): started\n",
      "  Building wheel for googleapis-common-protos (setup.py): finished with status 'done'\n",
      "  Created wheel for googleapis-common-protos: filename=googleapis_common_protos-1.6.0-cp36-none-any.whl size=77586 sha256=5bf2db306e5dd22e4ab8eea6da2060205d8e9220c5231e74167827bd401807b8\n",
      "  Stored in directory: C:\\Users\\Affinity\\AppData\\Local\\pip\\Cache\\wheels\\9e\\3d\\a2\\1bec8bb7db80ab3216dbc33092bb7ccd0debfb8ba42b5668d5\n",
      "Successfully built promise dill googleapis-common-protos\n",
      "Installing collected packages: promise, googleapis-common-protos, tensorflow-metadata, dill, tensorflow-datasets\n",
      "Successfully installed dill-0.3.1.1 googleapis-common-protos-1.6.0 promise-2.2.1 tensorflow-datasets-1.3.0 tensorflow-metadata-0.15.0\n"
     ]
    }
   ],
   "source": [
    "!pip install tensorflow-datasets"
   ]
  },
  {
   "cell_type": "code",
   "execution_count": 2,
   "metadata": {},
   "outputs": [
    {
     "name": "stdout",
     "output_type": "stream",
     "text": [
      "Requirement already up-to-date: pip in c:\\users\\affinity\\anaconda3\\lib\\site-packages (19.3.1)\n"
     ]
    }
   ],
   "source": [
    "!python -m pip install --upgrade pip"
   ]
  },
  {
   "cell_type": "code",
   "execution_count": 3,
   "metadata": {},
   "outputs": [],
   "source": [
    "import tensorflow as tf\n",
    "import tensorflow_datasets as tfds\n",
    "# from keras.models import load_model\n",
    "from datetime import datetime\n",
    "#tf.enable_eager_execution()"
   ]
  },
  {
   "cell_type": "code",
   "execution_count": 4,
   "metadata": {},
   "outputs": [],
   "source": [
    "train_data = tfds.load(name='cifar10:3.*.*', split='train[:80%]', as_supervised=True)\n",
    "valid_data = tfds.load(name='cifar10:3.*.*', split='train[80%:]', as_supervised=True)\n",
    "test_data = tfds.load(name='cifar10:3.*.*', split='test', as_supervised=True)"
   ]
  },
  {
   "cell_type": "code",
   "execution_count": 5,
   "metadata": {},
   "outputs": [
    {
     "name": "stdout",
     "output_type": "stream",
     "text": [
      "Model: \"sequential\"\n",
      "_________________________________________________________________\n",
      "Layer (type)                 Output Shape              Param #   \n",
      "=================================================================\n",
      "conv2d (Conv2D)              (None, 32, 32, 128)       3584      \n",
      "_________________________________________________________________\n",
      "batch_normalization (BatchNo (None, 32, 32, 128)       512       \n",
      "_________________________________________________________________\n",
      "max_pooling2d (MaxPooling2D) (None, 16, 16, 128)       0         \n",
      "_________________________________________________________________\n",
      "conv2d_1 (Conv2D)            (None, 16, 16, 64)        73792     \n",
      "_________________________________________________________________\n",
      "batch_normalization_1 (Batch (None, 16, 16, 64)        256       \n",
      "_________________________________________________________________\n",
      "max_pooling2d_1 (MaxPooling2 (None, 8, 8, 64)          0         \n",
      "_________________________________________________________________\n",
      "conv2d_2 (Conv2D)            (None, 8, 8, 32)          18464     \n",
      "_________________________________________________________________\n",
      "batch_normalization_2 (Batch (None, 8, 8, 32)          128       \n",
      "_________________________________________________________________\n",
      "max_pooling2d_2 (MaxPooling2 (None, 4, 4, 32)          0         \n",
      "_________________________________________________________________\n",
      "flatten (Flatten)            (None, 512)               0         \n",
      "_________________________________________________________________\n",
      "dropout (Dropout)            (None, 512)               0         \n",
      "_________________________________________________________________\n",
      "dense (Dense)                (None, 10)                5130      \n",
      "=================================================================\n",
      "Total params: 101,866\n",
      "Trainable params: 101,418\n",
      "Non-trainable params: 448\n",
      "_________________________________________________________________\n"
     ]
    }
   ],
   "source": [
    "model = tf.keras.Sequential([\n",
    "    tf.keras.layers.Conv2D(128, 3, activation='relu', padding='same', input_shape=(32, 32, 3)),\n",
    "    tf.keras.layers.BatchNormalization(),  # Gradient Vanishing / Gradient Exploding 이 일어나지 않도록 하는 아이디어 중의 하나이다\n",
    "    tf.keras.layers.MaxPooling2D(),\n",
    "    tf.keras.layers.Conv2D(64, 3, activation='relu', padding='same'),\n",
    "    tf.keras.layers.BatchNormalization(),  # Gradient Vanishing / Gradient Exploding 이 일어나지 않도록 하는 아이디어 중의 하나이다\n",
    "    tf.keras.layers.MaxPooling2D(),    \n",
    "    tf.keras.layers.Conv2D(32, 3, activation='relu', padding='same'),\n",
    "    tf.keras.layers.BatchNormalization(),  # Gradient Vanishing / Gradient Exploding 이 일어나지 않도록 하는 아이디어 중의 하나이다\n",
    "    tf.keras.layers.MaxPooling2D(),\n",
    "    tf.keras.layers.Flatten(),\n",
    "    tf.keras.layers.Dropout(0.4),\n",
    "    tf.keras.layers.Dense(10, activation='softmax')\n",
    "    \n",
    "])\n",
    "model.summary()"
   ]
  },
  {
   "cell_type": "code",
   "execution_count": 6,
   "metadata": {},
   "outputs": [],
   "source": [
    "model.compile(optimizer='adam',\n",
    "              loss='sparse_categorical_crossentropy',\n",
    "              metrics=['accuracy'])"
   ]
  },
  {
   "cell_type": "code",
   "execution_count": 7,
   "metadata": {},
   "outputs": [],
   "source": [
    "def scale(image, label):\n",
    "    image = tf.cast(image, tf.float32)\n",
    "    image /= 255\n",
    "    return image, label\n",
    "\n",
    "train_data = train_data.map(scale).shuffle(50000).batch(64) # \n",
    "valid_data = valid_data.map(scale).batch(64)\n",
    "test_data = test_data.map(scale).batch(64)"
   ]
  },
  {
   "cell_type": "code",
   "execution_count": 8,
   "metadata": {},
   "outputs": [],
   "source": [
    "dt = datetime.now().strftime('%Y%m%d-%H%M%S')\n",
    "\n",
    "cp_callback = tf.keras.callbacks.ModelCheckpoint(   \n",
    "    'checkpoints/{}.hdf5'.format(dt),\n",
    "    monitor='val_acc',\n",
    "    save_best_only=True)"
   ]
  },
  {
   "cell_type": "code",
   "execution_count": 9,
   "metadata": {},
   "outputs": [],
   "source": [
    "class MyCallback(tf.keras.callbacks.Callback):\n",
    "\n",
    "    def on_epoch_start(self, epoch, logs=None):\n",
    "        print('Epoch {} begins at {}: {}'.format(epoch, datetime.now().time(), logs))\n",
    "\n",
    "    def on_epoch_end(self, epoch, logs=None):\n",
    "        print('Epoch {} ends at {}: {}'.format(epoch, datetime.now().time(), logs))"
   ]
  },
  {
   "cell_type": "code",
   "execution_count": 10,
   "metadata": {},
   "outputs": [
    {
     "name": "stdout",
     "output_type": "stream",
     "text": [
      "WARNING:tensorflow:Can save best model only with val_acc available, skipping.\n"
     ]
    },
    {
     "name": "stderr",
     "output_type": "stream",
     "text": [
      "WARNING:tensorflow:Can save best model only with val_acc available, skipping.\n"
     ]
    },
    {
     "name": "stdout",
     "output_type": "stream",
     "text": [
      "Epoch 0 ends at 15:27:00.702932: {'loss': 1.7730145391464234, 'accuracy': 0.414525, 'val_loss': 1.2942685071070483, 'val_accuracy': 0.541}\n",
      "WARNING:tensorflow:Can save best model only with val_acc available, skipping.\n"
     ]
    },
    {
     "name": "stderr",
     "output_type": "stream",
     "text": [
      "WARNING:tensorflow:Can save best model only with val_acc available, skipping.\n"
     ]
    },
    {
     "name": "stdout",
     "output_type": "stream",
     "text": [
      "Epoch 1 ends at 15:27:19.015566: {'loss': 1.2040796027183533, 'accuracy': 0.57425, 'val_loss': 1.084419104324025, 'val_accuracy': 0.62}\n",
      "WARNING:tensorflow:Can save best model only with val_acc available, skipping.\n"
     ]
    },
    {
     "name": "stderr",
     "output_type": "stream",
     "text": [
      "WARNING:tensorflow:Can save best model only with val_acc available, skipping.\n"
     ]
    },
    {
     "name": "stdout",
     "output_type": "stream",
     "text": [
      "Epoch 2 ends at 15:27:38.278823: {'loss': 1.0368134649276732, 'accuracy': 0.634175, 'val_loss': 1.1476710685499154, 'val_accuracy': 0.6053}\n",
      "WARNING:tensorflow:Can save best model only with val_acc available, skipping.\n"
     ]
    },
    {
     "name": "stderr",
     "output_type": "stream",
     "text": [
      "WARNING:tensorflow:Can save best model only with val_acc available, skipping.\n"
     ]
    },
    {
     "name": "stdout",
     "output_type": "stream",
     "text": [
      "Epoch 3 ends at 15:27:57.926151: {'loss': 0.9497518507957459, 'accuracy': 0.6667, 'val_loss': 1.0558139529957133, 'val_accuracy': 0.6291}\n",
      "WARNING:tensorflow:Can save best model only with val_acc available, skipping.\n"
     ]
    },
    {
     "name": "stderr",
     "output_type": "stream",
     "text": [
      "WARNING:tensorflow:Can save best model only with val_acc available, skipping.\n"
     ]
    },
    {
     "name": "stdout",
     "output_type": "stream",
     "text": [
      "Epoch 4 ends at 15:28:17.881233: {'loss': 0.8951839470863342, 'accuracy': 0.68825, 'val_loss': 1.0761034188756518, 'val_accuracy': 0.6158}\n",
      "WARNING:tensorflow:Can save best model only with val_acc available, skipping.\n"
     ]
    },
    {
     "name": "stderr",
     "output_type": "stream",
     "text": [
      "WARNING:tensorflow:Can save best model only with val_acc available, skipping.\n"
     ]
    },
    {
     "name": "stdout",
     "output_type": "stream",
     "text": [
      "Epoch 5 ends at 15:28:38.369944: {'loss': 0.8443015386104584, 'accuracy': 0.706225, 'val_loss': 0.932113455738991, 'val_accuracy': 0.6759}\n",
      "WARNING:tensorflow:Can save best model only with val_acc available, skipping.\n"
     ]
    },
    {
     "name": "stderr",
     "output_type": "stream",
     "text": [
      "WARNING:tensorflow:Can save best model only with val_acc available, skipping.\n"
     ]
    },
    {
     "name": "stdout",
     "output_type": "stream",
     "text": [
      "Epoch 6 ends at 15:28:58.980880: {'loss': 0.8073723680973053, 'accuracy': 0.718425, 'val_loss': 1.1273634262905, 'val_accuracy': 0.6203}\n",
      "WARNING:tensorflow:Can save best model only with val_acc available, skipping.\n"
     ]
    },
    {
     "name": "stderr",
     "output_type": "stream",
     "text": [
      "WARNING:tensorflow:Can save best model only with val_acc available, skipping.\n"
     ]
    },
    {
     "name": "stdout",
     "output_type": "stream",
     "text": [
      "Epoch 7 ends at 15:29:20.484425: {'loss': 0.7779292953014374, 'accuracy': 0.72925, 'val_loss': 0.8301480868060118, 'val_accuracy': 0.7066}\n",
      "WARNING:tensorflow:Can save best model only with val_acc available, skipping.\n"
     ]
    },
    {
     "name": "stderr",
     "output_type": "stream",
     "text": [
      "WARNING:tensorflow:Can save best model only with val_acc available, skipping.\n"
     ]
    },
    {
     "name": "stdout",
     "output_type": "stream",
     "text": [
      "Epoch 8 ends at 15:29:41.943051: {'loss': 0.7475029194831848, 'accuracy': 0.73825, 'val_loss': 0.8681585872249239, 'val_accuracy': 0.7082}\n",
      "WARNING:tensorflow:Can save best model only with val_acc available, skipping.\n"
     ]
    },
    {
     "name": "stderr",
     "output_type": "stream",
     "text": [
      "WARNING:tensorflow:Can save best model only with val_acc available, skipping.\n"
     ]
    },
    {
     "name": "stdout",
     "output_type": "stream",
     "text": [
      "Epoch 9 ends at 15:30:03.633136: {'loss': 0.7237589046001435, 'accuracy': 0.74745, 'val_loss': 0.8748253724377626, 'val_accuracy': 0.6942}\n",
      "WARNING:tensorflow:Can save best model only with val_acc available, skipping.\n"
     ]
    },
    {
     "name": "stderr",
     "output_type": "stream",
     "text": [
      "WARNING:tensorflow:Can save best model only with val_acc available, skipping.\n"
     ]
    },
    {
     "name": "stdout",
     "output_type": "stream",
     "text": [
      "Epoch 10 ends at 15:30:25.409932: {'loss': 0.6952681694030761, 'accuracy': 0.75585, 'val_loss': 0.7963164124139555, 'val_accuracy': 0.7253}\n",
      "WARNING:tensorflow:Can save best model only with val_acc available, skipping.\n"
     ]
    },
    {
     "name": "stderr",
     "output_type": "stream",
     "text": [
      "WARNING:tensorflow:Can save best model only with val_acc available, skipping.\n"
     ]
    },
    {
     "name": "stdout",
     "output_type": "stream",
     "text": [
      "Epoch 11 ends at 15:30:47.542151: {'loss': 0.6840997982501984, 'accuracy': 0.76065, 'val_loss': 0.8504934166647067, 'val_accuracy': 0.7142}\n",
      "WARNING:tensorflow:Can save best model only with val_acc available, skipping.\n"
     ]
    },
    {
     "name": "stderr",
     "output_type": "stream",
     "text": [
      "WARNING:tensorflow:Can save best model only with val_acc available, skipping.\n"
     ]
    },
    {
     "name": "stdout",
     "output_type": "stream",
     "text": [
      "Epoch 12 ends at 15:31:10.666877: {'loss': 0.6575960318565368, 'accuracy': 0.7686, 'val_loss': 0.7478691552095352, 'val_accuracy': 0.7395}\n",
      "WARNING:tensorflow:Can save best model only with val_acc available, skipping.\n"
     ]
    },
    {
     "name": "stderr",
     "output_type": "stream",
     "text": [
      "WARNING:tensorflow:Can save best model only with val_acc available, skipping.\n"
     ]
    },
    {
     "name": "stdout",
     "output_type": "stream",
     "text": [
      "Epoch 13 ends at 15:31:34.908833: {'loss': 0.6353699839115143, 'accuracy': 0.7772, 'val_loss': 0.8698263050644262, 'val_accuracy': 0.7022}\n",
      "WARNING:tensorflow:Can save best model only with val_acc available, skipping.\n"
     ]
    },
    {
     "name": "stderr",
     "output_type": "stream",
     "text": [
      "WARNING:tensorflow:Can save best model only with val_acc available, skipping.\n"
     ]
    },
    {
     "name": "stdout",
     "output_type": "stream",
     "text": [
      "Epoch 14 ends at 15:31:58.939930: {'loss': 0.6206741692066192, 'accuracy': 0.783725, 'val_loss': 0.8045701534505103, 'val_accuracy': 0.7203}\n",
      "WARNING:tensorflow:Can save best model only with val_acc available, skipping.\n"
     ]
    },
    {
     "name": "stderr",
     "output_type": "stream",
     "text": [
      "WARNING:tensorflow:Can save best model only with val_acc available, skipping.\n"
     ]
    },
    {
     "name": "stdout",
     "output_type": "stream",
     "text": [
      "Epoch 15 ends at 15:32:22.924802: {'loss': 0.60522764878273, 'accuracy': 0.7864, 'val_loss': 0.9581547166891159, 'val_accuracy': 0.6748}\n",
      "WARNING:tensorflow:Can save best model only with val_acc available, skipping.\n"
     ]
    },
    {
     "name": "stderr",
     "output_type": "stream",
     "text": [
      "WARNING:tensorflow:Can save best model only with val_acc available, skipping.\n"
     ]
    },
    {
     "name": "stdout",
     "output_type": "stream",
     "text": [
      "Epoch 16 ends at 15:32:47.640073: {'loss': 0.5950289278507233, 'accuracy': 0.792725, 'val_loss': 0.7620173969845863, 'val_accuracy': 0.7448}\n",
      "WARNING:tensorflow:Can save best model only with val_acc available, skipping.\n"
     ]
    },
    {
     "name": "stderr",
     "output_type": "stream",
     "text": [
      "WARNING:tensorflow:Can save best model only with val_acc available, skipping.\n"
     ]
    },
    {
     "name": "stdout",
     "output_type": "stream",
     "text": [
      "Epoch 17 ends at 15:33:12.096546: {'loss': 0.5818280215024948, 'accuracy': 0.794875, 'val_loss': 0.8222706851306235, 'val_accuracy': 0.7262}\n",
      "WARNING:tensorflow:Can save best model only with val_acc available, skipping.\n"
     ]
    },
    {
     "name": "stderr",
     "output_type": "stream",
     "text": [
      "WARNING:tensorflow:Can save best model only with val_acc available, skipping.\n"
     ]
    },
    {
     "name": "stdout",
     "output_type": "stream",
     "text": [
      "Epoch 18 ends at 15:33:38.440674: {'loss': 0.5633057186841964, 'accuracy': 0.8013, 'val_loss': 0.7671207140205772, 'val_accuracy': 0.7404}\n",
      "WARNING:tensorflow:Can save best model only with val_acc available, skipping.\n"
     ]
    },
    {
     "name": "stderr",
     "output_type": "stream",
     "text": [
      "WARNING:tensorflow:Can save best model only with val_acc available, skipping.\n"
     ]
    },
    {
     "name": "stdout",
     "output_type": "stream",
     "text": [
      "Epoch 19 ends at 15:34:04.878331: {'loss': 0.5551151056289673, 'accuracy': 0.805525, 'val_loss': 0.8681897145168037, 'val_accuracy': 0.7108}\n"
     ]
    }
   ],
   "source": [
    "history = model.fit(train_data,\n",
    "                    epochs=20,\n",
    "                    validation_data=valid_data,\n",
    "                    verbose=0,\n",
    "                    callbacks=[cp_callback, MyCallback()])"
   ]
  },
  {
   "cell_type": "code",
   "execution_count": 11,
   "metadata": {
    "scrolled": true
   },
   "outputs": [
    {
     "name": "stdout",
     "output_type": "stream",
     "text": [
      "157/157 [==============================].6721 - accuracy: 0.79 - 0s 60ms/step - loss: 0.7232 - accuracy: 0.78 - 0s 53ms/step - loss: 0.7726 - accuracy: 0.77 - 0s 47ms/step - loss: 0.7636 - accuracy: 0.76 - 0s 46ms/step - loss: 0.7837 - accuracy: 0.76 - 0s 45ms/step - loss: 0.7670 - accuracy: 0.76 - 0s 43ms/step - loss: 0.7763 - accuracy: 0.75 - 0s 42ms/step - loss: 0.7897 - accuracy: 0.75 - 0s 41ms/step - loss: 0.7880 - accuracy: 0.75 - 0s 39ms/step - loss: 0.7737 - accuracy: 0.75 - 0s 38ms/step - loss: 0.7608 - accuracy: 0.76 - 0s 37ms/step - loss: 0.7713 - accuracy: 0.75 - 0s 37ms/step - loss: 0.7721 - accuracy: 0.75 - 1s 36ms/step - loss: 0.7755 - accuracy: 0.75 - 1s 36ms/step - loss: 0.7713 - accuracy: 0.75 - 1s 36ms/step - loss: 0.7801 - accuracy: 0.74 - 1s 35ms/step - loss: 0.7950 - accuracy: 0.74 - 1s 36ms/step - loss: 0.7992 - accuracy: 0.74 - 1s 37ms/step - loss: 0.8015 - accuracy: 0.73 - 1s 37ms/step - loss: 0.8029 - accuracy: 0.74 - 1s 36ms/step - loss: 0.7945 - accuracy: 0.73 - 1s 36ms/step - loss: 0.7944 - accuracy: 0.74 - 1s 36ms/step - loss: 0.7978 - accuracy: 0.73 - 1s 35ms/step - loss: 0.7981 - accuracy: 0.73 - 1s 35ms/step - loss: 0.7942 - accuracy: 0.73 - 1s 35ms/step - loss: 0.7946 - accuracy: 0.73 - 1s 35ms/step - loss: 0.7896 - accuracy: 0.74 - 1s 35ms/step - loss: 0.7851 - accuracy: 0.74 - 1s 35ms/step - loss: 0.7871 - accuracy: 0.74 - 1s 34ms/step - loss: 0.7942 - accuracy: 0.74 - 1s 34ms/step - loss: 0.7972 - accuracy: 0.74 - 1s 34ms/step - loss: 0.7964 - accuracy: 0.74 - 1s 34ms/step - loss: 0.8033 - accuracy: 0.74 - 1s 33ms/step - loss: 0.8019 - accuracy: 0.74 - 1s 34ms/step - loss: 0.8037 - accuracy: 0.74 - 1s 33ms/step - loss: 0.8074 - accuracy: 0.74 - 1s 33ms/step - loss: 0.8096 - accuracy: 0.74 - 1s 33ms/step - loss: 0.8057 - accuracy: 0.74 - 1s 33ms/step - loss: 0.8092 - accuracy: 0.74 - 1s 33ms/step - loss: 0.8084 - accuracy: 0.73 - 1s 33ms/step - loss: 0.8088 - accuracy: 0.74 - 1s 33ms/step - loss: 0.8101 - accuracy: 0.74 - 1s 33ms/step - loss: 0.8180 - accuracy: 0.73 - 1s 33ms/step - loss: 0.8242 - accuracy: 0.73 - 1s 33ms/step - loss: 0.8206 - accuracy: 0.73 - 2s 33ms/step - loss: 0.8145 - accuracy: 0.73 - 2s 33ms/step - loss: 0.8173 - accuracy: 0.73 - 2s 33ms/step - loss: 0.8130 - accuracy: 0.73 - 2s 33ms/step - loss: 0.8170 - accuracy: 0.73 - 2s 33ms/step - loss: 0.8182 - accuracy: 0.73 - 2s 33ms/step - loss: 0.8231 - accuracy: 0.73 - 2s 33ms/step - loss: 0.8287 - accuracy: 0.73 - 2s 33ms/step - loss: 0.8299 - accuracy: 0.73 - 2s 33ms/step - loss: 0.8311 - accuracy: 0.73 - 2s 33ms/step - loss: 0.8272 - accuracy: 0.73 - 2s 33ms/step - loss: 0.8293 - accuracy: 0.73 - 2s 33ms/step - loss: 0.8252 - accuracy: 0.73 - 2s 33ms/step - loss: 0.8235 - accuracy: 0.73 - 2s 33ms/step - loss: 0.8235 - accuracy: 0.73 - 2s 33ms/step - loss: 0.8265 - accuracy: 0.73 - 2s 33ms/step - loss: 0.8248 - accuracy: 0.73 - 2s 33ms/step - loss: 0.8277 - accuracy: 0.73 - 2s 32ms/step - loss: 0.8291 - accuracy: 0.73 - 2s 32ms/step - loss: 0.8295 - accuracy: 0.73 - 2s 32ms/step - loss: 0.8325 - accuracy: 0.72 - 2s 32ms/step - loss: 0.8359 - accuracy: 0.72 - 2s 32ms/step - loss: 0.8369 - accuracy: 0.72 - 2s 32ms/step - loss: 0.8408 - accuracy: 0.72 - 2s 32ms/step - loss: 0.8385 - accuracy: 0.72 - 2s 32ms/step - loss: 0.8367 - accuracy: 0.72 - 2s 32ms/step - loss: 0.8384 - accuracy: 0.72 - 2s 32ms/step - loss: 0.8407 - accuracy: 0.72 - 2s 32ms/step - loss: 0.8431 - accuracy: 0.72 - 2s 33ms/step - loss: 0.8421 - accuracy: 0.72 - 2s 33ms/step - loss: 0.8429 - accuracy: 0.72 - 2s 33ms/step - loss: 0.8413 - accuracy: 0.72 - 3s 33ms/step - loss: 0.8425 - accuracy: 0.72 - 3s 33ms/step - loss: 0.8429 - accuracy: 0.72 - 3s 33ms/step - loss: 0.8442 - accuracy: 0.72 - 3s 33ms/step - loss: 0.8410 - accuracy: 0.72 - 3s 33ms/step - loss: 0.8402 - accuracy: 0.72 - 3s 33ms/step - loss: 0.8402 - accuracy: 0.72 - 3s 33ms/step - loss: 0.8398 - accuracy: 0.72 - 3s 33ms/step - loss: 0.8391 - accuracy: 0.72 - 3s 33ms/step - loss: 0.8401 - accuracy: 0.72 - 3s 33ms/step - loss: 0.8393 - accuracy: 0.72 - 3s 33ms/step - loss: 0.8398 - accuracy: 0.72 - 3s 34ms/step - loss: 0.8406 - accuracy: 0.72 - 3s 34ms/step - loss: 0.8412 - accuracy: 0.72 - 3s 34ms/step - loss: 0.8415 - accuracy: 0.72 - 3s 34ms/step - loss: 0.8410 - accuracy: 0.72 - 3s 34ms/step - loss: 0.8444 - accuracy: 0.72 - 3s 34ms/step - loss: 0.8437 - accuracy: 0.72 - 3s 34ms/step - loss: 0.8454 - accuracy: 0.72 - 3s 34ms/step - loss: 0.8460 - accuracy: 0.72 - 3s 34ms/step - loss: 0.8454 - accuracy: 0.72 - 3s 34ms/step - loss: 0.8476 - accuracy: 0.72 - 3s 34ms/step - loss: 0.8465 - accuracy: 0.72 - 3s 34ms/step - loss: 0.8474 - accuracy: 0.72 - 3s 34ms/step - loss: 0.8471 - accuracy: 0.72 - 3s 34ms/step - loss: 0.8492 - accuracy: 0.72 - 3s 34ms/step - loss: 0.8466 - accuracy: 0.72 - 3s 34ms/step - loss: 0.8455 - accuracy: 0.72 - 4s 34ms/step - loss: 0.8502 - accuracy: 0.71 - 4s 34ms/step - loss: 0.8499 - accuracy: 0.71 - 4s 34ms/step - loss: 0.8504 - accuracy: 0.71 - 4s 34ms/step - loss: 0.8518 - accuracy: 0.71 - 4s 34ms/step - loss: 0.8538 - accuracy: 0.71 - 4s 34ms/step - loss: 0.8532 - accuracy: 0.71 - 4s 34ms/step - loss: 0.8566 - accuracy: 0.71 - 4s 34ms/step - loss: 0.8553 - accuracy: 0.71 - 4s 34ms/step - loss: 0.8547 - accuracy: 0.71 - 4s 34ms/step - loss: 0.8541 - accuracy: 0.71 - 4s 34ms/step - loss: 0.8515 - accuracy: 0.71 - 4s 34ms/step - loss: 0.8526 - accuracy: 0.71 - 4s 34ms/step - loss: 0.8542 - accuracy: 0.71 - 4s 34ms/step - loss: 0.8544 - accuracy: 0.71 - 4s 34ms/step - loss: 0.8552 - accuracy: 0.71 - 4s 34ms/step - loss: 0.8549 - accuracy: 0.71 - 4s 34ms/step - loss: 0.8544 - accuracy: 0.71 - 4s 34ms/step - loss: 0.8554 - accuracy: 0.71 - 4s 34ms/step - loss: 0.8535 - accuracy: 0.71 - 4s 34ms/step - loss: 0.8525 - accuracy: 0.71 - 4s 34ms/step - loss: 0.8523 - accuracy: 0.71 - 4s 34ms/step - loss: 0.8506 - accuracy: 0.71 - 4s 34ms/step - loss: 0.8514 - accuracy: 0.71 - 4s 34ms/step - loss: 0.8532 - accuracy: 0.71 - 4s 34ms/step - loss: 0.8536 - accuracy: 0.71 - 4s 34ms/step - loss: 0.8538 - accuracy: 0.71 - 4s 34ms/step - loss: 0.8543 - accuracy: 0.71 - 4s 34ms/step - loss: 0.8537 - accuracy: 0.71 - 4s 34ms/step - loss: 0.8520 - accuracy: 0.71 - 5s 34ms/step - loss: 0.8529 - accuracy: 0.71 - 5s 34ms/step - loss: 0.8514 - accuracy: 0.71 - 5s 34ms/step - loss: 0.8506 - accuracy: 0.71 - 5s 34ms/step - loss: 0.8516 - accuracy: 0.71 - 5s 34ms/step - loss: 0.8520 - accuracy: 0.71 - 5s 34ms/step - loss: 0.8529 - accuracy: 0.71 - 5s 34ms/step - loss: 0.8526 - accuracy: 0.71 - 5s 34ms/step - loss: 0.8507 - accuracy: 0.71 - 5s 34ms/step - loss: 0.8501 - accuracy: 0.71 - 5s 34ms/step - loss: 0.8503 - accuracy: 0.71 - 5s 34ms/step - loss: 0.8488 - accuracy: 0.71 - 5s 34ms/step - loss: 0.8474 - accuracy: 0.71 - 5s 34ms/step - loss: 0.8470 - accuracy: 0.71 - 5s 34ms/step - loss: 0.8459 - accuracy: 0.71 - 5s 34ms/step - loss: 0.8457 - accuracy: 0.71 - 5s 34ms/step - loss: 0.8452 - accuracy: 0.71 - 5s 34ms/step - loss: 0.8452 - accuracy: 0.71 - 5s 34ms/step - loss: 0.8465 - accuracy: 0.71 - 5s 34ms/step - loss: 0.8446 - accuracy: 0.71 - 5s 34ms/step - loss: 0.8449 - accuracy: 0.71 - 5s 34ms/step - loss: 0.8438 - accuracy: 0.71 - 5s 34ms/step - loss: 0.8446 - accuracy: 0.71 - 5s 34ms/step - loss: 0.8456 - accuracy: 0.71 - 5s 34ms/step - loss: 0.8474 - accuracy: 0.71 - 5s 33ms/step - loss: 0.8480 - accuracy: 0.71 - 5s 35ms/step - loss: 0.8480 - accuracy: 0.7150\n"
     ]
    },
    {
     "data": {
      "text/plain": [
       "[0.8480432811816028, 0.715]"
      ]
     },
     "execution_count": 11,
     "metadata": {},
     "output_type": "execute_result"
    }
   ],
   "source": [
    "model.evaluate(test_data)"
   ]
  },
  {
   "cell_type": "code",
   "execution_count": 16,
   "metadata": {},
   "outputs": [
    {
     "ename": "OSError",
     "evalue": "SavedModel file does not exist at: checkpoints/20191028-152638.hdf5/{saved_model.pbtxt|saved_model.pb}",
     "output_type": "error",
     "traceback": [
      "\u001b[1;31m---------------------------------------------------------------------------\u001b[0m",
      "\u001b[1;31mOSError\u001b[0m                                   Traceback (most recent call last)",
      "\u001b[1;32m<ipython-input-16-aea2af40ecff>\u001b[0m in \u001b[0;36m<module>\u001b[1;34m\u001b[0m\n\u001b[1;32m----> 1\u001b[1;33m \u001b[0mm\u001b[0m \u001b[1;33m=\u001b[0m \u001b[0mtf\u001b[0m\u001b[1;33m.\u001b[0m\u001b[0mkeras\u001b[0m\u001b[1;33m.\u001b[0m\u001b[0mmodels\u001b[0m\u001b[1;33m.\u001b[0m\u001b[0mload_model\u001b[0m\u001b[1;33m(\u001b[0m\u001b[1;34m'checkpoints/{}.hdf5'\u001b[0m\u001b[1;33m.\u001b[0m\u001b[0mformat\u001b[0m\u001b[1;33m(\u001b[0m\u001b[0mdt\u001b[0m\u001b[1;33m)\u001b[0m\u001b[1;33m)\u001b[0m\u001b[1;33m\u001b[0m\u001b[1;33m\u001b[0m\u001b[0m\n\u001b[0m",
      "\u001b[1;32m~\\Anaconda3\\lib\\site-packages\\tensorflow_core\\python\\keras\\saving\\save.py\u001b[0m in \u001b[0;36mload_model\u001b[1;34m(filepath, custom_objects, compile)\u001b[0m\n\u001b[0;32m    147\u001b[0m \u001b[1;33m\u001b[0m\u001b[0m\n\u001b[0;32m    148\u001b[0m   \u001b[1;32mif\u001b[0m \u001b[0misinstance\u001b[0m\u001b[1;33m(\u001b[0m\u001b[0mfilepath\u001b[0m\u001b[1;33m,\u001b[0m \u001b[0msix\u001b[0m\u001b[1;33m.\u001b[0m\u001b[0mstring_types\u001b[0m\u001b[1;33m)\u001b[0m\u001b[1;33m:\u001b[0m\u001b[1;33m\u001b[0m\u001b[1;33m\u001b[0m\u001b[0m\n\u001b[1;32m--> 149\u001b[1;33m     \u001b[0mloader_impl\u001b[0m\u001b[1;33m.\u001b[0m\u001b[0mparse_saved_model\u001b[0m\u001b[1;33m(\u001b[0m\u001b[0mfilepath\u001b[0m\u001b[1;33m)\u001b[0m\u001b[1;33m\u001b[0m\u001b[1;33m\u001b[0m\u001b[0m\n\u001b[0m\u001b[0;32m    150\u001b[0m     \u001b[1;32mreturn\u001b[0m \u001b[0msaved_model_load\u001b[0m\u001b[1;33m.\u001b[0m\u001b[0mload\u001b[0m\u001b[1;33m(\u001b[0m\u001b[0mfilepath\u001b[0m\u001b[1;33m,\u001b[0m \u001b[0mcompile\u001b[0m\u001b[1;33m)\u001b[0m\u001b[1;33m\u001b[0m\u001b[1;33m\u001b[0m\u001b[0m\n\u001b[0;32m    151\u001b[0m \u001b[1;33m\u001b[0m\u001b[0m\n",
      "\u001b[1;32m~\\Anaconda3\\lib\\site-packages\\tensorflow_core\\python\\saved_model\\loader_impl.py\u001b[0m in \u001b[0;36mparse_saved_model\u001b[1;34m(export_dir)\u001b[0m\n\u001b[0;32m     81\u001b[0m                   (export_dir,\n\u001b[0;32m     82\u001b[0m                    \u001b[0mconstants\u001b[0m\u001b[1;33m.\u001b[0m\u001b[0mSAVED_MODEL_FILENAME_PBTXT\u001b[0m\u001b[1;33m,\u001b[0m\u001b[1;33m\u001b[0m\u001b[1;33m\u001b[0m\u001b[0m\n\u001b[1;32m---> 83\u001b[1;33m                    constants.SAVED_MODEL_FILENAME_PB))\n\u001b[0m\u001b[0;32m     84\u001b[0m \u001b[1;33m\u001b[0m\u001b[0m\n\u001b[0;32m     85\u001b[0m \u001b[1;33m\u001b[0m\u001b[0m\n",
      "\u001b[1;31mOSError\u001b[0m: SavedModel file does not exist at: checkpoints/20191028-152638.hdf5/{saved_model.pbtxt|saved_model.pb}"
     ]
    }
   ],
   "source": [
    "m = tf.keras.models.load_model('checkpoints/{}.hdf5'.format(dt))"
   ]
  },
  {
   "cell_type": "code",
   "execution_count": null,
   "metadata": {},
   "outputs": [],
   "source": []
  }
 ],
 "metadata": {
  "kernelspec": {
   "display_name": "Python 3",
   "language": "python",
   "name": "python3"
  },
  "language_info": {
   "codemirror_mode": {
    "name": "ipython",
    "version": 3
   },
   "file_extension": ".py",
   "mimetype": "text/x-python",
   "name": "python",
   "nbconvert_exporter": "python",
   "pygments_lexer": "ipython3",
   "version": "3.6.9"
  }
 },
 "nbformat": 4,
 "nbformat_minor": 2
}
