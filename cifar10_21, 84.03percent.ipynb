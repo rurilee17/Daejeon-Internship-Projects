{
 "cells": [
  {
   "cell_type": "code",
   "execution_count": 1,
   "metadata": {},
   "outputs": [
    {
     "name": "stdout",
     "output_type": "stream",
     "text": [
      "Requirement already satisfied: tensorflow-datasets in c:\\users\\affinity\\anaconda3\\lib\\site-packages (1.3.0)\n",
      "Requirement already satisfied: tqdm in c:\\users\\affinity\\anaconda3\\lib\\site-packages (from tensorflow-datasets) (4.36.1)\n",
      "Requirement already satisfied: absl-py in c:\\users\\affinity\\anaconda3\\lib\\site-packages (from tensorflow-datasets) (0.8.0)\n",
      "Requirement already satisfied: termcolor in c:\\users\\affinity\\anaconda3\\lib\\site-packages (from tensorflow-datasets) (1.1.0)\n",
      "Requirement already satisfied: promise in c:\\users\\affinity\\anaconda3\\lib\\site-packages (from tensorflow-datasets) (2.2.1)\n",
      "Requirement already satisfied: tensorflow-metadata in c:\\users\\affinity\\anaconda3\\lib\\site-packages (from tensorflow-datasets) (0.15.0)\n",
      "Requirement already satisfied: protobuf>=3.6.1 in c:\\users\\affinity\\anaconda3\\lib\\site-packages (from tensorflow-datasets) (3.9.2)\n",
      "Requirement already satisfied: future in c:\\users\\affinity\\anaconda3\\lib\\site-packages (from tensorflow-datasets) (0.17.1)\n",
      "Requirement already satisfied: six in c:\\users\\affinity\\anaconda3\\lib\\site-packages (from tensorflow-datasets) (1.12.0)\n",
      "Requirement already satisfied: requests>=2.19.0 in c:\\users\\affinity\\anaconda3\\lib\\site-packages (from tensorflow-datasets) (2.22.0)\n",
      "Requirement already satisfied: attrs in c:\\users\\affinity\\anaconda3\\lib\\site-packages (from tensorflow-datasets) (19.3.0)\n",
      "Requirement already satisfied: numpy in c:\\users\\affinity\\anaconda3\\lib\\site-packages (from tensorflow-datasets) (1.16.5)\n",
      "Requirement already satisfied: wrapt in c:\\users\\affinity\\anaconda3\\lib\\site-packages (from tensorflow-datasets) (1.11.2)\n",
      "Requirement already satisfied: dill in c:\\users\\affinity\\anaconda3\\lib\\site-packages (from tensorflow-datasets) (0.3.1.1)\n",
      "Requirement already satisfied: googleapis-common-protos in c:\\users\\affinity\\anaconda3\\lib\\site-packages (from tensorflow-metadata->tensorflow-datasets) (1.6.0)\n",
      "Requirement already satisfied: setuptools in c:\\users\\affinity\\anaconda3\\lib\\site-packages (from protobuf>=3.6.1->tensorflow-datasets) (41.4.0)\n",
      "Requirement already satisfied: idna<2.9,>=2.5 in c:\\users\\affinity\\anaconda3\\lib\\site-packages (from requests>=2.19.0->tensorflow-datasets) (2.8)\n",
      "Requirement already satisfied: chardet<3.1.0,>=3.0.2 in c:\\users\\affinity\\anaconda3\\lib\\site-packages (from requests>=2.19.0->tensorflow-datasets) (3.0.4)\n",
      "Requirement already satisfied: certifi>=2017.4.17 in c:\\users\\affinity\\anaconda3\\lib\\site-packages (from requests>=2.19.0->tensorflow-datasets) (2019.9.11)\n",
      "Requirement already satisfied: urllib3!=1.25.0,!=1.25.1,<1.26,>=1.21.1 in c:\\users\\affinity\\anaconda3\\lib\\site-packages (from requests>=2.19.0->tensorflow-datasets) (1.24.2)\n"
     ]
    }
   ],
   "source": [
    "!pip install tensorflow-datasets"
   ]
  },
  {
   "cell_type": "code",
   "execution_count": 2,
   "metadata": {},
   "outputs": [
    {
     "name": "stdout",
     "output_type": "stream",
     "text": [
      "Requirement already up-to-date: pip in c:\\users\\affinity\\anaconda3\\lib\\site-packages (19.3.1)\n"
     ]
    }
   ],
   "source": [
    "!python -m pip install --upgrade pip"
   ]
  },
  {
   "cell_type": "code",
   "execution_count": 3,
   "metadata": {},
   "outputs": [
    {
     "name": "stderr",
     "output_type": "stream",
     "text": [
      "Using TensorFlow backend.\n"
     ]
    }
   ],
   "source": [
    "import tensorflow as tf\n",
    "import tensorflow_datasets as tfds\n",
    "from keras.models import load_model\n",
    "from datetime import datetime\n",
    "#tf.enable_eager_execution()"
   ]
  },
  {
   "cell_type": "code",
   "execution_count": 4,
   "metadata": {},
   "outputs": [],
   "source": [
    "train_data = tfds.load(name='cifar10:3.*.*', split='train[:80%]', as_supervised=True)\n",
    "valid_data = tfds.load(name='cifar10:3.*.*', split='train[80%:]', as_supervised=True)\n",
    "test_data = tfds.load(name='cifar10:3.*.*', split='test', as_supervised=True)"
   ]
  },
  {
   "cell_type": "code",
   "execution_count": 5,
   "metadata": {},
   "outputs": [],
   "source": [
    "def scale(image, label):\n",
    "    image = tf.cast(image, tf.float32)\n",
    "    image /= 255\n",
    "    image = tf.image.random_contrast(image, lower=2.0, upper=2.0)\n",
    "    image = tf.image.random_flip_left_right(image)\n",
    "    image = tf.image.random_contrast(image, lower=2.0, upper = 2.0)\n",
    "    image = tf.image.random_hue(image, max_delta = 0.8)\n",
    "    image = tf.image.random_saturation(image, lower=2.0, upper=2.0)\n",
    "    return image, label"
   ]
  },
  {
   "cell_type": "code",
   "execution_count": 6,
   "metadata": {},
   "outputs": [
    {
     "name": "stdout",
     "output_type": "stream",
     "text": [
      "Model: \"sequential\"\n",
      "_________________________________________________________________\n",
      "Layer (type)                 Output Shape              Param #   \n",
      "=================================================================\n",
      "conv2d (Conv2D)              (None, 32, 32, 128)       3584      \n",
      "_________________________________________________________________\n",
      "batch_normalization (BatchNo (None, 32, 32, 128)       512       \n",
      "_________________________________________________________________\n",
      "max_pooling2d (MaxPooling2D) (None, 16, 16, 128)       0         \n",
      "_________________________________________________________________\n",
      "conv2d_1 (Conv2D)            (None, 16, 16, 256)       295168    \n",
      "_________________________________________________________________\n",
      "conv2d_2 (Conv2D)            (None, 16, 16, 256)       590080    \n",
      "_________________________________________________________________\n",
      "batch_normalization_1 (Batch (None, 16, 16, 256)       1024      \n",
      "_________________________________________________________________\n",
      "max_pooling2d_1 (MaxPooling2 (None, 8, 8, 256)         0         \n",
      "_________________________________________________________________\n",
      "dropout (Dropout)            (None, 8, 8, 256)         0         \n",
      "_________________________________________________________________\n",
      "conv2d_3 (Conv2D)            (None, 8, 8, 256)         590080    \n",
      "_________________________________________________________________\n",
      "conv2d_4 (Conv2D)            (None, 8, 8, 256)         590080    \n",
      "_________________________________________________________________\n",
      "max_pooling2d_2 (MaxPooling2 (None, 4, 4, 256)         0         \n",
      "_________________________________________________________________\n",
      "dropout_1 (Dropout)          (None, 4, 4, 256)         0         \n",
      "_________________________________________________________________\n",
      "conv2d_5 (Conv2D)            (None, 4, 4, 512)         1180160   \n",
      "_________________________________________________________________\n",
      "conv2d_6 (Conv2D)            (None, 4, 4, 512)         2359808   \n",
      "_________________________________________________________________\n",
      "batch_normalization_2 (Batch (None, 4, 4, 512)         2048      \n",
      "_________________________________________________________________\n",
      "max_pooling2d_3 (MaxPooling2 (None, 2, 2, 512)         0         \n",
      "_________________________________________________________________\n",
      "flatten (Flatten)            (None, 2048)              0         \n",
      "_________________________________________________________________\n",
      "dropout_2 (Dropout)          (None, 2048)              0         \n",
      "_________________________________________________________________\n",
      "dense (Dense)                (None, 10)                20490     \n",
      "=================================================================\n",
      "Total params: 5,633,034\n",
      "Trainable params: 5,631,242\n",
      "Non-trainable params: 1,792\n",
      "_________________________________________________________________\n"
     ]
    }
   ],
   "source": [
    "model = tf.keras.Sequential([\n",
    "    tf.keras.layers.Conv2D(128, 3, activation='relu', padding='same', input_shape=(32, 32, 3)),\n",
    "    tf.keras.layers.BatchNormalization(),  # Gradient Vanishing / Gradient Exploding 이 일어나지 않도록 하는 아이디어 중의 하나이다\n",
    "    tf.keras.layers.MaxPooling2D(),\n",
    "    tf.keras.layers.Conv2D(256, 3, activation='relu', padding='same'),\n",
    "    tf.keras.layers.Conv2D(256, 3, activation='relu', padding='same'),\n",
    "    tf.keras.layers.BatchNormalization(),\n",
    "    tf.keras.layers.MaxPooling2D(),\n",
    "    tf.keras.layers.Dropout(0.4),\n",
    "    tf.keras.layers.Conv2D(256, 3, activation='relu', padding='same'),\n",
    "    tf.keras.layers.Conv2D(256, 3, activation='relu', padding='same'),\n",
    "    tf.keras.layers.MaxPooling2D(),\n",
    "    tf.keras.layers.Dropout(0.4),\n",
    "    tf.keras.layers.Conv2D(512, 3, activation='relu', padding='same'),\n",
    "    tf.keras.layers.Conv2D(512, 3, activation='relu', padding='same'),\n",
    "    tf.keras.layers.BatchNormalization(),\n",
    "    tf.keras.layers.MaxPooling2D(),\n",
    "    tf.keras.layers.Flatten(),\n",
    "    tf.keras.layers.Dropout(0.4),\n",
    "    tf.keras.layers.Dense(10, activation='softmax')\n",
    "    \n",
    "])\n",
    "model.summary()"
   ]
  },
  {
   "cell_type": "code",
   "execution_count": 7,
   "metadata": {},
   "outputs": [],
   "source": [
    "model.compile(optimizer='adam',\n",
    "              loss='sparse_categorical_crossentropy',\n",
    "              metrics=['accuracy'])"
   ]
  },
  {
   "cell_type": "code",
   "execution_count": 8,
   "metadata": {},
   "outputs": [],
   "source": [
    "def scale(image, label):\n",
    "    image = tf.cast(image, tf.float32)\n",
    "    image /= 255\n",
    "    return image, label\n",
    "\n",
    "train_data = train_data.map(scale).shuffle(50000).repeat(4).batch(64) \n",
    "valid_data = valid_data.map(scale).batch(64)\n",
    "test_data = test_data.map(scale).batch(64)"
   ]
  },
  {
   "cell_type": "code",
   "execution_count": 9,
   "metadata": {},
   "outputs": [],
   "source": [
    "dt = datetime.now().strftime('%Y%m%d-%H%M%S')\n",
    "\n",
    "cp_callback = tf.keras.callbacks.ModelCheckpoint(   \n",
    "    'checkpoints/{}.hdf5'.format(dt),\n",
    "    monitor='val_accuracy',\n",
    "    save_best_only=True)"
   ]
  },
  {
   "cell_type": "code",
   "execution_count": 10,
   "metadata": {},
   "outputs": [],
   "source": [
    "class MyCallback(tf.keras.callbacks.Callback):\n",
    "\n",
    "    def on_epoch_start(self, epoch, logs=None):\n",
    "        print('Epoch {} begins at {}: {}'.format(epoch, datetime.now().time(), logs))\n",
    "\n",
    "    def on_epoch_end(self, epoch, logs=None):\n",
    "        print('Epoch {} ends at {}: {}'.format(epoch, datetime.now().time(), logs))"
   ]
  },
  {
   "cell_type": "code",
   "execution_count": 11,
   "metadata": {},
   "outputs": [
    {
     "name": "stdout",
     "output_type": "stream",
     "text": [
      "Epoch 0 ends at 10:12:02.778439: {'loss': 1.7848540184497834, 'accuracy': 0.45964375, 'val_loss': 1.199775561405595, 'val_accuracy': 0.6008}\n",
      "Epoch 1 ends at 10:16:04.590190: {'loss': 0.8971222634077072, 'accuracy': 0.704375, 'val_loss': 1.0797167207784713, 'val_accuracy': 0.6151}\n",
      "Epoch 2 ends at 10:20:11.827649: {'loss': 0.543234035307169, 'accuracy': 0.8132125, 'val_loss': 0.8240562557794486, 'val_accuracy': 0.7276}\n",
      "Epoch 3 ends at 10:24:26.830897: {'loss': 0.36892248053252696, 'accuracy': 0.87275624, 'val_loss': 0.6473339634716131, 'val_accuracy': 0.7969}\n",
      "Epoch 4 ends at 10:28:44.768282: {'loss': 0.25954890947192905, 'accuracy': 0.90995, 'val_loss': 0.5959679695071688, 'val_accuracy': 0.818}\n",
      "Epoch 5 ends at 10:33:07.977395: {'loss': 0.18837507278323173, 'accuracy': 0.9352875, 'val_loss': 0.6253098944190202, 'val_accuracy': 0.8217}\n",
      "Epoch 6 ends at 10:37:37.075387: {'loss': 0.14560401912592352, 'accuracy': 0.950725, 'val_loss': 0.747721675000373, 'val_accuracy': 0.8153}\n",
      "Epoch 7 ends at 10:41:59.813393: {'loss': 0.1224668550780043, 'accuracy': 0.9589, 'val_loss': 0.7847844895663535, 'val_accuracy': 0.7816}\n",
      "Epoch 8 ends at 10:46:35.733990: {'loss': 0.10817142223771661, 'accuracy': 0.96433127, 'val_loss': 0.6674104799890215, 'val_accuracy': 0.8259}\n",
      "Epoch 9 ends at 10:51:05.680974: {'loss': 0.0907416450231336, 'accuracy': 0.96930623, 'val_loss': 0.7049657400626286, 'val_accuracy': 0.8206}\n",
      "Epoch 10 ends at 10:55:34.226452: {'loss': 0.08285206621089018, 'accuracy': 0.972925, 'val_loss': 0.7960017456370554, 'val_accuracy': 0.7965}\n",
      "Epoch 11 ends at 11:00:06.875018: {'loss': 0.07396701292956713, 'accuracy': 0.9757063, 'val_loss': 0.7613104255336105, 'val_accuracy': 0.8206}\n",
      "Epoch 12 ends at 11:04:41.590056: {'loss': 0.06703638548846357, 'accuracy': 0.9778625, 'val_loss': 0.7484146620437597, 'val_accuracy': 0.8351}\n",
      "Epoch 13 ends at 11:09:16.342122: {'loss': 0.06123023951307405, 'accuracy': 0.9799188, 'val_loss': 0.6798155706399566, 'val_accuracy': 0.8412}\n",
      "Epoch 14 ends at 11:13:58.469929: {'loss': 0.0568077097596135, 'accuracy': 0.9814125, 'val_loss': 0.8772257082401567, 'val_accuracy': 0.7992}\n",
      "Epoch 15 ends at 11:18:34.132875: {'loss': 0.05351594797916478, 'accuracy': 0.98265, 'val_loss': 0.7280613747751636, 'val_accuracy': 0.8433}\n",
      "Epoch 16 ends at 11:23:09.608532: {'loss': 0.047516046474315225, 'accuracy': 0.98458123, 'val_loss': 0.7253510215479857, 'val_accuracy': 0.8449}\n",
      "Epoch 17 ends at 11:27:45.663254: {'loss': 0.046212874501862095, 'accuracy': 0.984475, 'val_loss': 0.7303889592172234, 'val_accuracy': 0.8457}\n",
      "Epoch 18 ends at 11:32:22.451351: {'loss': 0.041631486208329446, 'accuracy': 0.985825, 'val_loss': 0.7473312457845469, 'val_accuracy': 0.8457}\n",
      "Epoch 19 ends at 11:37:03.943296: {'loss': 0.04049022866011946, 'accuracy': 0.986625, 'val_loss': 0.8537503706801469, 'val_accuracy': 0.8364}\n"
     ]
    }
   ],
   "source": [
    "history = model.fit(train_data,\n",
    "                    epochs=20,\n",
    "                    validation_data=valid_data,\n",
    "                    verbose=0,\n",
    "                    callbacks=[cp_callback, MyCallback()])"
   ]
  },
  {
   "cell_type": "code",
   "execution_count": 12,
   "metadata": {
    "scrolled": true
   },
   "outputs": [
    {
     "name": "stdout",
     "output_type": "stream",
     "text": [
      "157/157 [==============================]0.6674 - accuracy: 0.859 - 0s 92ms/step - loss: 0.8031 - accuracy: 0.843 - 0s 81ms/step - loss: 0.7321 - accuracy: 0.84 - 0s 78ms/step - loss: 0.7533 - accuracy: 0.85 - 0s 75ms/step - loss: 0.7289 - accuracy: 0.86 - 0s 72ms/step - loss: 0.6692 - accuracy: 0.87 - 0s 69ms/step - loss: 0.6718 - accuracy: 0.86 - 1s 67ms/step - loss: 0.7493 - accuracy: 0.85 - 1s 65ms/step - loss: 0.7167 - accuracy: 0.86 - 1s 63ms/step - loss: 0.7131 - accuracy: 0.86 - 1s 62ms/step - loss: 0.6724 - accuracy: 0.86 - 1s 61ms/step - loss: 0.6713 - accuracy: 0.86 - 1s 61ms/step - loss: 0.6707 - accuracy: 0.86 - 1s 61ms/step - loss: 0.6663 - accuracy: 0.86 - 1s 61ms/step - loss: 0.6895 - accuracy: 0.85 - 1s 60ms/step - loss: 0.7143 - accuracy: 0.85 - 1s 61ms/step - loss: 0.7189 - accuracy: 0.85 - 1s 60ms/step - loss: 0.7435 - accuracy: 0.84 - 1s 60ms/step - loss: 0.7456 - accuracy: 0.84 - 1s 60ms/step - loss: 0.7416 - accuracy: 0.84 - 1s 60ms/step - loss: 0.7122 - accuracy: 0.85 - 1s 60ms/step - loss: 0.7018 - accuracy: 0.85 - 1s 60ms/step - loss: 0.7060 - accuracy: 0.85 - 1s 60ms/step - loss: 0.7058 - accuracy: 0.85 - 1s 59ms/step - loss: 0.7140 - accuracy: 0.85 - 2s 60ms/step - loss: 0.7341 - accuracy: 0.85 - 2s 60ms/step - loss: 0.7470 - accuracy: 0.84 - 2s 59ms/step - loss: 0.7286 - accuracy: 0.85 - 2s 59ms/step - loss: 0.7437 - accuracy: 0.84 - 2s 59ms/step - loss: 0.7425 - accuracy: 0.85 - 2s 59ms/step - loss: 0.7332 - accuracy: 0.85 - 2s 58ms/step - loss: 0.7299 - accuracy: 0.85 - 2s 58ms/step - loss: 0.7320 - accuracy: 0.85 - 2s 58ms/step - loss: 0.7296 - accuracy: 0.85 - 2s 58ms/step - loss: 0.7267 - accuracy: 0.85 - 2s 57ms/step - loss: 0.7201 - accuracy: 0.85 - 2s 57ms/step - loss: 0.7364 - accuracy: 0.85 - 2s 57ms/step - loss: 0.7364 - accuracy: 0.85 - 2s 57ms/step - loss: 0.7350 - accuracy: 0.85 - 2s 57ms/step - loss: 0.7334 - accuracy: 0.85 - 2s 58ms/step - loss: 0.7497 - accuracy: 0.85 - 2s 58ms/step - loss: 0.7491 - accuracy: 0.85 - 3s 58ms/step - loss: 0.7447 - accuracy: 0.85 - 3s 59ms/step - loss: 0.7520 - accuracy: 0.84 - 3s 59ms/step - loss: 0.7454 - accuracy: 0.85 - 3s 60ms/step - loss: 0.7476 - accuracy: 0.84 - 3s 60ms/step - loss: 0.7474 - accuracy: 0.85 - 3s 60ms/step - loss: 0.7450 - accuracy: 0.85 - 3s 60ms/step - loss: 0.7629 - accuracy: 0.85 - 3s 60ms/step - loss: 0.7580 - accuracy: 0.85 - 3s 60ms/step - loss: 0.7528 - accuracy: 0.85 - 3s 60ms/step - loss: 0.7601 - accuracy: 0.85 - 3s 60ms/step - loss: 0.7669 - accuracy: 0.84 - 3s 60ms/step - loss: 0.7727 - accuracy: 0.84 - 3s 60ms/step - loss: 0.7705 - accuracy: 0.84 - 3s 60ms/step - loss: 0.7706 - accuracy: 0.84 - 3s 60ms/step - loss: 0.7728 - accuracy: 0.84 - 3s 60ms/step - loss: 0.7759 - accuracy: 0.84 - 4s 59ms/step - loss: 0.7809 - accuracy: 0.84 - 4s 59ms/step - loss: 0.7843 - accuracy: 0.84 - 4s 59ms/step - loss: 0.7821 - accuracy: 0.84 - 4s 59ms/step - loss: 0.7798 - accuracy: 0.84 - 4s 59ms/step - loss: 0.7800 - accuracy: 0.84 - 4s 59ms/step - loss: 0.7840 - accuracy: 0.84 - 4s 58ms/step - loss: 0.7844 - accuracy: 0.84 - 4s 58ms/step - loss: 0.7836 - accuracy: 0.84 - 4s 58ms/step - loss: 0.7899 - accuracy: 0.84 - 4s 58ms/step - loss: 0.7991 - accuracy: 0.84 - 4s 58ms/step - loss: 0.7971 - accuracy: 0.84 - 4s 58ms/step - loss: 0.8020 - accuracy: 0.84 - 4s 58ms/step - loss: 0.8019 - accuracy: 0.84 - 4s 57ms/step - loss: 0.8092 - accuracy: 0.84 - 4s 57ms/step - loss: 0.8181 - accuracy: 0.84 - 4s 57ms/step - loss: 0.8119 - accuracy: 0.84 - 4s 57ms/step - loss: 0.8158 - accuracy: 0.84 - 4s 57ms/step - loss: 0.8171 - accuracy: 0.84 - 4s 57ms/step - loss: 0.8220 - accuracy: 0.84 - 4s 57ms/step - loss: 0.8240 - accuracy: 0.84 - 4s 57ms/step - loss: 0.8172 - accuracy: 0.84 - 5s 57ms/step - loss: 0.8229 - accuracy: 0.84 - 5s 57ms/step - loss: 0.8239 - accuracy: 0.84 - 5s 57ms/step - loss: 0.8259 - accuracy: 0.84 - 5s 57ms/step - loss: 0.8271 - accuracy: 0.84 - 5s 56ms/step - loss: 0.8301 - accuracy: 0.84 - 5s 56ms/step - loss: 0.8279 - accuracy: 0.84 - 5s 56ms/step - loss: 0.8276 - accuracy: 0.83 - 5s 56ms/step - loss: 0.8254 - accuracy: 0.84 - 5s 56ms/step - loss: 0.8219 - accuracy: 0.84 - 5s 56ms/step - loss: 0.8222 - accuracy: 0.84 - 5s 56ms/step - loss: 0.8207 - accuracy: 0.84 - 5s 56ms/step - loss: 0.8171 - accuracy: 0.84 - 5s 56ms/step - loss: 0.8118 - accuracy: 0.84 - 5s 56ms/step - loss: 0.8085 - accuracy: 0.84 - 5s 56ms/step - loss: 0.8113 - accuracy: 0.84 - 5s 56ms/step - loss: 0.8171 - accuracy: 0.84 - 5s 56ms/step - loss: 0.8145 - accuracy: 0.84 - 5s 56ms/step - loss: 0.8201 - accuracy: 0.84 - 6s 56ms/step - loss: 0.8144 - accuracy: 0.84 - 6s 57ms/step - loss: 0.8208 - accuracy: 0.84 - 6s 56ms/step - loss: 0.8189 - accuracy: 0.84 - 6s 56ms/step - loss: 0.8183 - accuracy: 0.84 - 6s 56ms/step - loss: 0.8147 - accuracy: 0.84 - 6s 56ms/step - loss: 0.8107 - accuracy: 0.84 - 6s 56ms/step - loss: 0.8136 - accuracy: 0.84 - 6s 56ms/step - loss: 0.8135 - accuracy: 0.84 - 6s 56ms/step - loss: 0.8136 - accuracy: 0.84 - 6s 56ms/step - loss: 0.8172 - accuracy: 0.84 - 6s 56ms/step - loss: 0.8196 - accuracy: 0.84 - 6s 56ms/step - loss: 0.8207 - accuracy: 0.84 - 6s 56ms/step - loss: 0.8273 - accuracy: 0.84 - 6s 56ms/step - loss: 0.8247 - accuracy: 0.84 - 6s 56ms/step - loss: 0.8331 - accuracy: 0.84 - 6s 56ms/step - loss: 0.8320 - accuracy: 0.83 - 6s 56ms/step - loss: 0.8291 - accuracy: 0.84 - 6s 56ms/step - loss: 0.8279 - accuracy: 0.84 - 6s 56ms/step - loss: 0.8280 - accuracy: 0.84 - 7s 56ms/step - loss: 0.8267 - accuracy: 0.84 - 7s 55ms/step - loss: 0.8230 - accuracy: 0.84 - 7s 56ms/step - loss: 0.8193 - accuracy: 0.84 - 7s 56ms/step - loss: 0.8226 - accuracy: 0.84 - 7s 56ms/step - loss: 0.8244 - accuracy: 0.84 - 7s 56ms/step - loss: 0.8232 - accuracy: 0.84 - 7s 55ms/step - loss: 0.8221 - accuracy: 0.84 - 7s 55ms/step - loss: 0.8282 - accuracy: 0.84 - 7s 55ms/step - loss: 0.8254 - accuracy: 0.84 - 7s 55ms/step - loss: 0.8282 - accuracy: 0.84 - 7s 55ms/step - loss: 0.8308 - accuracy: 0.84 - 7s 55ms/step - loss: 0.8280 - accuracy: 0.84 - 7s 55ms/step - loss: 0.8307 - accuracy: 0.84 - 7s 55ms/step - loss: 0.8291 - accuracy: 0.84 - 7s 55ms/step - loss: 0.8296 - accuracy: 0.84 - 7s 55ms/step - loss: 0.8284 - accuracy: 0.84 - 7s 55ms/step - loss: 0.8275 - accuracy: 0.84 - 7s 55ms/step - loss: 0.8292 - accuracy: 0.84 - 7s 55ms/step - loss: 0.8264 - accuracy: 0.84 - 8s 55ms/step - loss: 0.8285 - accuracy: 0.83 - 8s 55ms/step - loss: 0.8272 - accuracy: 0.83 - 8s 55ms/step - loss: 0.8268 - accuracy: 0.83 - 8s 55ms/step - loss: 0.8275 - accuracy: 0.83 - 8s 55ms/step - loss: 0.8241 - accuracy: 0.83 - 8s 55ms/step - loss: 0.8244 - accuracy: 0.83 - 8s 55ms/step - loss: 0.8256 - accuracy: 0.83 - 8s 55ms/step - loss: 0.8272 - accuracy: 0.83 - 8s 55ms/step - loss: 0.8293 - accuracy: 0.83 - 8s 55ms/step - loss: 0.8289 - accuracy: 0.83 - 8s 55ms/step - loss: 0.8290 - accuracy: 0.83 - 8s 55ms/step - loss: 0.8259 - accuracy: 0.84 - 8s 55ms/step - loss: 0.8269 - accuracy: 0.83 - 8s 55ms/step - loss: 0.8391 - accuracy: 0.83 - 8s 55ms/step - loss: 0.8376 - accuracy: 0.83 - 8s 55ms/step - loss: 0.8368 - accuracy: 0.83 - 8s 55ms/step - loss: 0.8353 - accuracy: 0.83 - 8s 55ms/step - loss: 0.8325 - accuracy: 0.84 - 8s 55ms/step - loss: 0.8325 - accuracy: 0.83 - 8s 55ms/step - loss: 0.8300 - accuracy: 0.84 - 9s 55ms/step - loss: 0.8275 - accuracy: 0.84 - 9s 55ms/step - loss: 0.8325 - accuracy: 0.84 - 9s 56ms/step - loss: 0.8325 - accuracy: 0.8403\n"
     ]
    },
    {
     "data": {
      "text/plain": [
       "[0.8324826537234009, 0.8403]"
      ]
     },
     "execution_count": 12,
     "metadata": {},
     "output_type": "execute_result"
    }
   ],
   "source": [
    "model.evaluate(test_data)"
   ]
  },
  {
   "cell_type": "code",
   "execution_count": 13,
   "metadata": {},
   "outputs": [],
   "source": [
    "m = tf.keras.models.load_model('checkpoints/{}.hdf5'.format(dt))"
   ]
  },
  {
   "cell_type": "code",
   "execution_count": null,
   "metadata": {},
   "outputs": [],
   "source": []
  }
 ],
 "metadata": {
  "kernelspec": {
   "display_name": "Python 3",
   "language": "python",
   "name": "python3"
  },
  "language_info": {
   "codemirror_mode": {
    "name": "ipython",
    "version": 3
   },
   "file_extension": ".py",
   "mimetype": "text/x-python",
   "name": "python",
   "nbconvert_exporter": "python",
   "pygments_lexer": "ipython3",
   "version": "3.6.9"
  }
 },
 "nbformat": 4,
 "nbformat_minor": 2
}
