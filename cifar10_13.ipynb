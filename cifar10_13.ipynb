{
 "cells": [
  {
   "cell_type": "code",
   "execution_count": 1,
   "metadata": {},
   "outputs": [
    {
     "name": "stdout",
     "output_type": "stream",
     "text": [
      "Requirement already satisfied: tensorflow-datasets in c:\\users\\affinity\\anaconda3\\lib\\site-packages (1.3.0)\n",
      "Requirement already satisfied: requests>=2.19.0 in c:\\users\\affinity\\anaconda3\\lib\\site-packages (from tensorflow-datasets) (2.22.0)\n",
      "Requirement already satisfied: tensorflow-metadata in c:\\users\\affinity\\anaconda3\\lib\\site-packages (from tensorflow-datasets) (0.15.0)\n",
      "Requirement already satisfied: future in c:\\users\\affinity\\anaconda3\\lib\\site-packages (from tensorflow-datasets) (0.17.1)\n",
      "Requirement already satisfied: tqdm in c:\\users\\affinity\\anaconda3\\lib\\site-packages (from tensorflow-datasets) (4.36.1)\n",
      "Requirement already satisfied: dill in c:\\users\\affinity\\anaconda3\\lib\\site-packages (from tensorflow-datasets) (0.3.1.1)\n",
      "Requirement already satisfied: wrapt in c:\\users\\affinity\\anaconda3\\lib\\site-packages (from tensorflow-datasets) (1.11.2)\n",
      "Requirement already satisfied: numpy in c:\\users\\affinity\\anaconda3\\lib\\site-packages (from tensorflow-datasets) (1.16.5)\n",
      "Requirement already satisfied: promise in c:\\users\\affinity\\anaconda3\\lib\\site-packages (from tensorflow-datasets) (2.2.1)\n",
      "Requirement already satisfied: attrs in c:\\users\\affinity\\anaconda3\\lib\\site-packages (from tensorflow-datasets) (19.3.0)\n",
      "Requirement already satisfied: termcolor in c:\\users\\affinity\\anaconda3\\lib\\site-packages (from tensorflow-datasets) (1.1.0)\n",
      "Requirement already satisfied: absl-py in c:\\users\\affinity\\anaconda3\\lib\\site-packages (from tensorflow-datasets) (0.8.0)\n",
      "Requirement already satisfied: protobuf>=3.6.1 in c:\\users\\affinity\\anaconda3\\lib\\site-packages (from tensorflow-datasets) (3.9.2)\n",
      "Requirement already satisfied: six in c:\\users\\affinity\\anaconda3\\lib\\site-packages (from tensorflow-datasets) (1.12.0)\n",
      "Requirement already satisfied: idna<2.9,>=2.5 in c:\\users\\affinity\\anaconda3\\lib\\site-packages (from requests>=2.19.0->tensorflow-datasets) (2.8)\n",
      "Requirement already satisfied: certifi>=2017.4.17 in c:\\users\\affinity\\anaconda3\\lib\\site-packages (from requests>=2.19.0->tensorflow-datasets) (2019.9.11)\n",
      "Requirement already satisfied: urllib3!=1.25.0,!=1.25.1,<1.26,>=1.21.1 in c:\\users\\affinity\\anaconda3\\lib\\site-packages (from requests>=2.19.0->tensorflow-datasets) (1.24.2)\n",
      "Requirement already satisfied: chardet<3.1.0,>=3.0.2 in c:\\users\\affinity\\anaconda3\\lib\\site-packages (from requests>=2.19.0->tensorflow-datasets) (3.0.4)\n",
      "Requirement already satisfied: googleapis-common-protos in c:\\users\\affinity\\anaconda3\\lib\\site-packages (from tensorflow-metadata->tensorflow-datasets) (1.6.0)\n",
      "Requirement already satisfied: setuptools in c:\\users\\affinity\\anaconda3\\lib\\site-packages (from protobuf>=3.6.1->tensorflow-datasets) (41.4.0)\n"
     ]
    }
   ],
   "source": [
    "!pip install tensorflow-datasets"
   ]
  },
  {
   "cell_type": "code",
   "execution_count": 2,
   "metadata": {},
   "outputs": [
    {
     "name": "stdout",
     "output_type": "stream",
     "text": [
      "Requirement already up-to-date: pip in c:\\users\\affinity\\anaconda3\\lib\\site-packages (19.3.1)\n"
     ]
    }
   ],
   "source": [
    "!python -m pip install --upgrade pip"
   ]
  },
  {
   "cell_type": "code",
   "execution_count": 3,
   "metadata": {},
   "outputs": [
    {
     "name": "stderr",
     "output_type": "stream",
     "text": [
      "Using TensorFlow backend.\n"
     ]
    }
   ],
   "source": [
    "import tensorflow as tf\n",
    "import tensorflow_datasets as tfds\n",
    "from keras.models import load_model\n",
    "from datetime import datetime\n",
    "#tf.enable_eager_execution()"
   ]
  },
  {
   "cell_type": "code",
   "execution_count": 4,
   "metadata": {},
   "outputs": [],
   "source": [
    "train_data = tfds.load(name='cifar10:3.*.*', split='train[:80%]', as_supervised=True)\n",
    "valid_data = tfds.load(name='cifar10:3.*.*', split='train[80%:]', as_supervised=True)\n",
    "test_data = tfds.load(name='cifar10:3.*.*', split='test', as_supervised=True)"
   ]
  },
  {
   "cell_type": "code",
   "execution_count": 5,
   "metadata": {},
   "outputs": [
    {
     "name": "stdout",
     "output_type": "stream",
     "text": [
      "Model: \"sequential\"\n",
      "_________________________________________________________________\n",
      "Layer (type)                 Output Shape              Param #   \n",
      "=================================================================\n",
      "conv2d (Conv2D)              (None, 32, 32, 128)       3584      \n",
      "_________________________________________________________________\n",
      "batch_normalization (BatchNo (None, 32, 32, 128)       512       \n",
      "_________________________________________________________________\n",
      "max_pooling2d (MaxPooling2D) (None, 16, 16, 128)       0         \n",
      "_________________________________________________________________\n",
      "conv2d_1 (Conv2D)            (None, 16, 16, 256)       295168    \n",
      "_________________________________________________________________\n",
      "conv2d_2 (Conv2D)            (None, 16, 16, 256)       590080    \n",
      "_________________________________________________________________\n",
      "batch_normalization_1 (Batch (None, 16, 16, 256)       1024      \n",
      "_________________________________________________________________\n",
      "max_pooling2d_1 (MaxPooling2 (None, 8, 8, 256)         0         \n",
      "_________________________________________________________________\n",
      "dropout (Dropout)            (None, 8, 8, 256)         0         \n",
      "_________________________________________________________________\n",
      "conv2d_3 (Conv2D)            (None, 8, 8, 512)         1180160   \n",
      "_________________________________________________________________\n",
      "conv2d_4 (Conv2D)            (None, 8, 8, 512)         2359808   \n",
      "_________________________________________________________________\n",
      "batch_normalization_2 (Batch (None, 8, 8, 512)         2048      \n",
      "_________________________________________________________________\n",
      "max_pooling2d_2 (MaxPooling2 (None, 4, 4, 512)         0         \n",
      "_________________________________________________________________\n",
      "flatten (Flatten)            (None, 8192)              0         \n",
      "_________________________________________________________________\n",
      "dropout_1 (Dropout)          (None, 8192)              0         \n",
      "_________________________________________________________________\n",
      "dense (Dense)                (None, 10)                81930     \n",
      "=================================================================\n",
      "Total params: 4,514,314\n",
      "Trainable params: 4,512,522\n",
      "Non-trainable params: 1,792\n",
      "_________________________________________________________________\n"
     ]
    }
   ],
   "source": [
    "model = tf.keras.Sequential([\n",
    "    tf.keras.layers.Conv2D(128, 3, activation='relu', padding='same', input_shape=(32, 32, 3)),\n",
    "    tf.keras.layers.BatchNormalization(),  # Gradient Vanishing / Gradient Exploding 이 일어나지 않도록 하는 아이디어 중의 하나이다\n",
    "    tf.keras.layers.MaxPooling2D(),\n",
    "    tf.keras.layers.Conv2D(256, 3, activation='relu', padding='same'),\n",
    "    tf.keras.layers.Conv2D(256, 3, activation='relu', padding='same'),\n",
    "    tf.keras.layers.BatchNormalization(),\n",
    "    tf.keras.layers.MaxPooling2D(),\n",
    "    tf.keras.layers.Dropout(0.4),\n",
    "    tf.keras.layers.Conv2D(512, 3, activation='relu', padding='same'),\n",
    "    tf.keras.layers.Conv2D(512, 3, activation='relu', padding='same'),\n",
    "    tf.keras.layers.BatchNormalization(),\n",
    "    tf.keras.layers.MaxPooling2D(),\n",
    "    tf.keras.layers.Flatten(),\n",
    "    tf.keras.layers.Dropout(0.4),\n",
    "    tf.keras.layers.Dense(10, activation='softmax')\n",
    "    \n",
    "])\n",
    "model.summary()"
   ]
  },
  {
   "cell_type": "code",
   "execution_count": 6,
   "metadata": {},
   "outputs": [],
   "source": [
    "model.compile(optimizer='adam',\n",
    "              loss='sparse_categorical_crossentropy',\n",
    "              metrics=['accuracy'])"
   ]
  },
  {
   "cell_type": "code",
   "execution_count": 7,
   "metadata": {},
   "outputs": [],
   "source": [
    "def scale(image, label):\n",
    "    image = tf.cast(image, tf.float32)\n",
    "    image /= 255\n",
    "    return image, label\n",
    "\n",
    "train_data = train_data.map(scale).shuffle(50000).repeat(4).batch(64) \n",
    "valid_data = valid_data.map(scale).batch(64)\n",
    "test_data = test_data.map(scale).batch(64)"
   ]
  },
  {
   "cell_type": "code",
   "execution_count": 8,
   "metadata": {},
   "outputs": [],
   "source": [
    "dt = datetime.now().strftime('%Y%m%d-%H%M%S')\n",
    "\n",
    "cp_callback = tf.keras.callbacks.ModelCheckpoint(   \n",
    "    'checkpoints/{}.hdf5'.format(dt),\n",
    "    monitor='val_accuracy',\n",
    "    save_best_only=True)"
   ]
  },
  {
   "cell_type": "code",
   "execution_count": 9,
   "metadata": {},
   "outputs": [],
   "source": [
    "class MyCallback(tf.keras.callbacks.Callback):\n",
    "\n",
    "    def on_epoch_start(self, epoch, logs=None):\n",
    "        print('Epoch {} begins at {}: {}'.format(epoch, datetime.now().time(), logs))\n",
    "\n",
    "    def on_epoch_end(self, epoch, logs=None):\n",
    "        print('Epoch {} ends at {}: {}'.format(epoch, datetime.now().time(), logs))"
   ]
  },
  {
   "cell_type": "code",
   "execution_count": 10,
   "metadata": {},
   "outputs": [
    {
     "name": "stdout",
     "output_type": "stream",
     "text": [
      "Epoch 0 ends at 10:24:32.239490: {'loss': 1.8896847425937653, 'accuracy': 0.5135125, 'val_loss': 2.413166175602348, 'val_accuracy': 0.5371}\n",
      "Epoch 1 ends at 10:28:24.251229: {'loss': 0.8889042232871056, 'accuracy': 0.7130625, 'val_loss': 0.9406637021690417, 'val_accuracy': 0.7153}\n",
      "Epoch 2 ends at 10:32:24.983161: {'loss': 0.5067302008271217, 'accuracy': 0.82461876, 'val_loss': 0.8104464056765198, 'val_accuracy': 0.7601}\n",
      "Epoch 3 ends at 10:36:31.241278: {'loss': 0.3073736889064312, 'accuracy': 0.8910375, 'val_loss': 0.7781527868122052, 'val_accuracy': 0.7807}\n",
      "Epoch 4 ends at 10:40:41.474749: {'loss': 0.20795787562802434, 'accuracy': 0.9272938, 'val_loss': 0.8401508302825271, 'val_accuracy': 0.7761}\n",
      "Epoch 5 ends at 10:44:57.833445: {'loss': 0.1493697081591934, 'accuracy': 0.94720626, 'val_loss': 0.8536502274737996, 'val_accuracy': 0.7926}\n",
      "Epoch 6 ends at 10:49:16.221621: {'loss': 0.12629481075666846, 'accuracy': 0.956125, 'val_loss': 0.9171093778245768, 'val_accuracy': 0.7914}\n",
      "Epoch 7 ends at 10:53:29.759428: {'loss': 0.10231304476736114, 'accuracy': 0.96484375, 'val_loss': 1.1130146887272028, 'val_accuracy': 0.7766}\n",
      "Epoch 8 ends at 10:57:40.181121: {'loss': 0.09321141932145692, 'accuracy': 0.96831876, 'val_loss': 1.0250557402896274, 'val_accuracy': 0.7807}\n",
      "Epoch 9 ends at 11:01:51.354781: {'loss': 0.07948700588215142, 'accuracy': 0.97309375, 'val_loss': 1.0186782037115591, 'val_accuracy': 0.7892}\n",
      "Epoch 10 ends at 11:06:01.489715: {'loss': 0.0730253773246659, 'accuracy': 0.9752, 'val_loss': 0.989674286288061, 'val_accuracy': 0.8133}\n",
      "Epoch 11 ends at 11:10:11.129738: {'loss': 0.06578980967011303, 'accuracy': 0.9772, 'val_loss': 0.944585512967626, 'val_accuracy': 0.7985}\n",
      "Epoch 12 ends at 11:14:23.020432: {'loss': 0.05870975046397652, 'accuracy': 0.9801437, 'val_loss': 1.3379731436443936, 'val_accuracy': 0.7804}\n",
      "Epoch 13 ends at 11:18:36.582173: {'loss': 0.054628760435804724, 'accuracy': 0.98120624, 'val_loss': 1.0120695696514883, 'val_accuracy': 0.8037}\n",
      "Epoch 14 ends at 11:22:48.912742: {'loss': 0.05291625553497579, 'accuracy': 0.9822125, 'val_loss': 1.1294160777596152, 'val_accuracy': 0.7916}\n",
      "Epoch 15 ends at 11:27:01.343545: {'loss': 0.04852056948083919, 'accuracy': 0.98380625, 'val_loss': 1.0802978410083017, 'val_accuracy': 0.8006}\n",
      "Epoch 16 ends at 11:31:12.492460: {'loss': 0.0468902109099552, 'accuracy': 0.9847625, 'val_loss': 1.1469155519631258, 'val_accuracy': 0.7868}\n",
      "Epoch 17 ends at 11:35:24.192832: {'loss': 0.04342900919346139, 'accuracy': 0.985275, 'val_loss': 1.131122302323295, 'val_accuracy': 0.7951}\n",
      "Epoch 18 ends at 11:39:36.112399: {'loss': 0.04322934004953131, 'accuracy': 0.9855875, 'val_loss': 1.192852428005, 'val_accuracy': 0.8033}\n",
      "Epoch 19 ends at 11:43:53.415031: {'loss': 0.03673425132988777, 'accuracy': 0.987375, 'val_loss': 1.1547181718288713, 'val_accuracy': 0.798}\n",
      "Epoch 20 ends at 11:48:11.157803: {'loss': 0.03658880296223506, 'accuracy': 0.9877125, 'val_loss': 1.105384995413434, 'val_accuracy': 0.8023}\n",
      "Epoch 21 ends at 11:52:28.887640: {'loss': 0.0371350257474056, 'accuracy': 0.987525, 'val_loss': 1.0764669756980458, 'val_accuracy': 0.8119}\n",
      "Epoch 22 ends at 11:56:46.390076: {'loss': 0.03323678374696465, 'accuracy': 0.9888625, 'val_loss': 1.2216828036460148, 'val_accuracy': 0.7954}\n",
      "Epoch 23 ends at 12:01:03.787976: {'loss': 0.03256136446862365, 'accuracy': 0.9892, 'val_loss': 1.090830138724321, 'val_accuracy': 0.8206}\n",
      "Epoch 24 ends at 12:05:19.550045: {'loss': 0.03257440464659558, 'accuracy': 0.98929375, 'val_loss': 1.3774348244925214, 'val_accuracy': 0.8025}\n",
      "Epoch 25 ends at 12:09:33.691023: {'loss': 0.030724906489906424, 'accuracy': 0.990075, 'val_loss': 1.2704779147911982, 'val_accuracy': 0.8037}\n",
      "Epoch 26 ends at 12:13:51.780907: {'loss': 0.03124544307259348, 'accuracy': 0.9898875, 'val_loss': 1.3903692922774393, 'val_accuracy': 0.8002}\n",
      "Epoch 27 ends at 12:18:15.371876: {'loss': 0.028135820163734025, 'accuracy': 0.9905625, 'val_loss': 1.2022223833260264, 'val_accuracy': 0.8127}\n",
      "Epoch 28 ends at 12:22:28.127795: {'loss': 0.029454649728645744, 'accuracy': 0.99038124, 'val_loss': 1.2701517947160514, 'val_accuracy': 0.7807}\n",
      "Epoch 29 ends at 12:26:41.550240: {'loss': 0.028521093167897197, 'accuracy': 0.9908438, 'val_loss': 1.1942836997235657, 'val_accuracy': 0.8165}\n"
     ]
    }
   ],
   "source": [
    "history = model.fit(train_data,\n",
    "                    epochs=30,\n",
    "                    validation_data=valid_data,\n",
    "                    verbose=0,\n",
    "                    callbacks=[cp_callback, MyCallback()])"
   ]
  },
  {
   "cell_type": "code",
   "execution_count": 11,
   "metadata": {
    "scrolled": true
   },
   "outputs": [
    {
     "name": "stdout",
     "output_type": "stream",
     "text": [
      "157/157 [==============================]1.1560 - accuracy: 0.812 - 0s 83ms/step - loss: 1.1710 - accuracy: 0.812 - 0s 68ms/step - loss: 1.0797 - accuracy: 0.83 - 0s 61ms/step - loss: 1.0152 - accuracy: 0.83 - 0s 57ms/step - loss: 1.0417 - accuracy: 0.84 - 0s 54ms/step - loss: 0.9960 - accuracy: 0.83 - 0s 52ms/step - loss: 1.0145 - accuracy: 0.84 - 0s 51ms/step - loss: 1.1137 - accuracy: 0.82 - 0s 50ms/step - loss: 1.0983 - accuracy: 0.82 - 0s 49ms/step - loss: 1.1317 - accuracy: 0.82 - 1s 48ms/step - loss: 1.0679 - accuracy: 0.83 - 1s 48ms/step - loss: 1.0607 - accuracy: 0.83 - 1s 47ms/step - loss: 1.0683 - accuracy: 0.82 - 1s 46ms/step - loss: 1.0429 - accuracy: 0.83 - 1s 46ms/step - loss: 1.0296 - accuracy: 0.83 - 1s 46ms/step - loss: 1.1040 - accuracy: 0.83 - 1s 46ms/step - loss: 1.1124 - accuracy: 0.83 - 1s 45ms/step - loss: 1.1546 - accuracy: 0.82 - 1s 45ms/step - loss: 1.1522 - accuracy: 0.82 - 1s 45ms/step - loss: 1.1673 - accuracy: 0.82 - 1s 45ms/step - loss: 1.1513 - accuracy: 0.82 - 1s 44ms/step - loss: 1.1406 - accuracy: 0.82 - 1s 44ms/step - loss: 1.1550 - accuracy: 0.82 - 1s 44ms/step - loss: 1.1657 - accuracy: 0.81 - 1s 44ms/step - loss: 1.1596 - accuracy: 0.81 - 1s 44ms/step - loss: 1.1676 - accuracy: 0.81 - 1s 43ms/step - loss: 1.1597 - accuracy: 0.82 - 1s 43ms/step - loss: 1.1411 - accuracy: 0.82 - 1s 44ms/step - loss: 1.1528 - accuracy: 0.81 - 1s 43ms/step - loss: 1.1489 - accuracy: 0.81 - 1s 43ms/step - loss: 1.1445 - accuracy: 0.81 - 1s 43ms/step - loss: 1.1242 - accuracy: 0.82 - 1s 44ms/step - loss: 1.1569 - accuracy: 0.81 - 1s 44ms/step - loss: 1.1584 - accuracy: 0.81 - 2s 43ms/step - loss: 1.1637 - accuracy: 0.81 - 2s 43ms/step - loss: 1.1612 - accuracy: 0.81 - 2s 43ms/step - loss: 1.1587 - accuracy: 0.82 - 2s 43ms/step - loss: 1.1775 - accuracy: 0.82 - 2s 43ms/step - loss: 1.1690 - accuracy: 0.82 - 2s 43ms/step - loss: 1.1675 - accuracy: 0.82 - 2s 43ms/step - loss: 1.1801 - accuracy: 0.82 - 2s 43ms/step - loss: 1.1780 - accuracy: 0.82 - 2s 43ms/step - loss: 1.1944 - accuracy: 0.82 - 2s 43ms/step - loss: 1.1999 - accuracy: 0.82 - 2s 42ms/step - loss: 1.1899 - accuracy: 0.82 - 2s 42ms/step - loss: 1.1777 - accuracy: 0.82 - 2s 42ms/step - loss: 1.1889 - accuracy: 0.82 - 2s 42ms/step - loss: 1.1796 - accuracy: 0.82 - 2s 43ms/step - loss: 1.1856 - accuracy: 0.82 - 2s 42ms/step - loss: 1.1812 - accuracy: 0.82 - 2s 42ms/step - loss: 1.1938 - accuracy: 0.81 - 2s 42ms/step - loss: 1.1994 - accuracy: 0.81 - 2s 42ms/step - loss: 1.2070 - accuracy: 0.81 - 2s 42ms/step - loss: 1.2152 - accuracy: 0.81 - 2s 42ms/step - loss: 1.2111 - accuracy: 0.81 - 2s 42ms/step - loss: 1.2148 - accuracy: 0.81 - 2s 42ms/step - loss: 1.2183 - accuracy: 0.81 - 2s 42ms/step - loss: 1.2208 - accuracy: 0.81 - 2s 42ms/step - loss: 1.2245 - accuracy: 0.81 - 3s 42ms/step - loss: 1.2285 - accuracy: 0.81 - 3s 42ms/step - loss: 1.2236 - accuracy: 0.81 - 3s 42ms/step - loss: 1.2237 - accuracy: 0.81 - 3s 42ms/step - loss: 1.2201 - accuracy: 0.81 - 3s 42ms/step - loss: 1.2346 - accuracy: 0.81 - 3s 42ms/step - loss: 1.2496 - accuracy: 0.81 - 3s 42ms/step - loss: 1.2609 - accuracy: 0.81 - 3s 42ms/step - loss: 1.2612 - accuracy: 0.81 - 3s 42ms/step - loss: 1.2771 - accuracy: 0.81 - 3s 42ms/step - loss: 1.2715 - accuracy: 0.81 - 3s 42ms/step - loss: 1.2710 - accuracy: 0.81 - 3s 42ms/step - loss: 1.2765 - accuracy: 0.81 - 3s 42ms/step - loss: 1.2758 - accuracy: 0.81 - 3s 42ms/step - loss: 1.2788 - accuracy: 0.81 - 3s 42ms/step - loss: 1.2759 - accuracy: 0.81 - 3s 42ms/step - loss: 1.2751 - accuracy: 0.81 - 3s 42ms/step - loss: 1.2727 - accuracy: 0.81 - 3s 42ms/step - loss: 1.2646 - accuracy: 0.81 - 3s 42ms/step - loss: 1.2586 - accuracy: 0.81 - 3s 42ms/step - loss: 1.2552 - accuracy: 0.81 - 3s 42ms/step - loss: 1.2603 - accuracy: 0.81 - 3s 41ms/step - loss: 1.2630 - accuracy: 0.81 - 3s 41ms/step - loss: 1.2612 - accuracy: 0.81 - 3s 41ms/step - loss: 1.2638 - accuracy: 0.81 - 3s 41ms/step - loss: 1.2610 - accuracy: 0.81 - 4s 41ms/step - loss: 1.2564 - accuracy: 0.81 - 4s 41ms/step - loss: 1.2666 - accuracy: 0.81 - 4s 41ms/step - loss: 1.2636 - accuracy: 0.81 - 4s 41ms/step - loss: 1.2662 - accuracy: 0.81 - 4s 41ms/step - loss: 1.2678 - accuracy: 0.81 - 4s 41ms/step - loss: 1.2662 - accuracy: 0.81 - 4s 41ms/step - loss: 1.2612 - accuracy: 0.81 - 4s 41ms/step - loss: 1.2720 - accuracy: 0.81 - 4s 41ms/step - loss: 1.2668 - accuracy: 0.81 - 4s 41ms/step - loss: 1.2772 - accuracy: 0.81 - 4s 41ms/step - loss: 1.2804 - accuracy: 0.81 - 4s 41ms/step - loss: 1.2806 - accuracy: 0.81 - 4s 41ms/step - loss: 1.2910 - accuracy: 0.81 - 4s 41ms/step - loss: 1.2896 - accuracy: 0.81 - 4s 41ms/step - loss: 1.2889 - accuracy: 0.81 - 4s 41ms/step - loss: 1.2913 - accuracy: 0.81 - 4s 41ms/step - loss: 1.2951 - accuracy: 0.81 - 4s 41ms/step - loss: 1.2896 - accuracy: 0.81 - 4s 41ms/step - loss: 1.2853 - accuracy: 0.81 - 4s 41ms/step - loss: 1.2900 - accuracy: 0.81 - 4s 41ms/step - loss: 1.2915 - accuracy: 0.81 - 4s 41ms/step - loss: 1.2914 - accuracy: 0.81 - 4s 41ms/step - loss: 1.2984 - accuracy: 0.81 - 4s 41ms/step - loss: 1.3017 - accuracy: 0.81 - 4s 41ms/step - loss: 1.3056 - accuracy: 0.81 - 5s 41ms/step - loss: 1.3110 - accuracy: 0.81 - 5s 41ms/step - loss: 1.3040 - accuracy: 0.81 - 5s 41ms/step - loss: 1.3067 - accuracy: 0.81 - 5s 41ms/step - loss: 1.3071 - accuracy: 0.81 - 5s 41ms/step - loss: 1.3062 - accuracy: 0.81 - 5s 41ms/step - loss: 1.3038 - accuracy: 0.81 - 5s 41ms/step - loss: 1.3010 - accuracy: 0.81 - 5s 41ms/step - loss: 1.2986 - accuracy: 0.81 - 5s 41ms/step - loss: 1.3022 - accuracy: 0.81 - 5s 41ms/step - loss: 1.3019 - accuracy: 0.81 - 5s 41ms/step - loss: 1.3026 - accuracy: 0.81 - 5s 41ms/step - loss: 1.3030 - accuracy: 0.81 - 5s 41ms/step - loss: 1.3018 - accuracy: 0.81 - 5s 41ms/step - loss: 1.2951 - accuracy: 0.81 - 5s 41ms/step - loss: 1.2988 - accuracy: 0.81 - 5s 41ms/step - loss: 1.2948 - accuracy: 0.81 - 5s 41ms/step - loss: 1.2912 - accuracy: 0.81 - 5s 41ms/step - loss: 1.2935 - accuracy: 0.81 - 5s 41ms/step - loss: 1.2913 - accuracy: 0.81 - 5s 41ms/step - loss: 1.2900 - accuracy: 0.81 - 5s 41ms/step - loss: 1.2876 - accuracy: 0.81 - 5s 41ms/step - loss: 1.2861 - accuracy: 0.81 - 5s 41ms/step - loss: 1.2829 - accuracy: 0.81 - 5s 41ms/step - loss: 1.2823 - accuracy: 0.81 - 6s 41ms/step - loss: 1.2834 - accuracy: 0.81 - 6s 41ms/step - loss: 1.2816 - accuracy: 0.81 - 6s 41ms/step - loss: 1.2834 - accuracy: 0.81 - 6s 41ms/step - loss: 1.2844 - accuracy: 0.81 - 6s 41ms/step - loss: 1.2861 - accuracy: 0.81 - 6s 41ms/step - loss: 1.2872 - accuracy: 0.81 - 6s 41ms/step - loss: 1.2805 - accuracy: 0.81 - 6s 41ms/step - loss: 1.2788 - accuracy: 0.81 - 6s 41ms/step - loss: 1.2767 - accuracy: 0.81 - 6s 41ms/step - loss: 1.2749 - accuracy: 0.81 - 6s 41ms/step - loss: 1.2748 - accuracy: 0.81 - 6s 41ms/step - loss: 1.2715 - accuracy: 0.81 - 6s 41ms/step - loss: 1.2709 - accuracy: 0.81 - 6s 41ms/step - loss: 1.2716 - accuracy: 0.81 - 6s 41ms/step - loss: 1.2692 - accuracy: 0.81 - 6s 41ms/step - loss: 1.2697 - accuracy: 0.81 - 6s 41ms/step - loss: 1.2718 - accuracy: 0.81 - 6s 41ms/step - loss: 1.2668 - accuracy: 0.81 - 6s 41ms/step - loss: 1.2658 - accuracy: 0.81 - 6s 41ms/step - loss: 1.2648 - accuracy: 0.81 - 6s 41ms/step - loss: 1.2650 - accuracy: 0.81 - 6s 41ms/step - loss: 1.2610 - accuracy: 0.81 - 6s 41ms/step - loss: 1.2640 - accuracy: 0.81 - 6s 41ms/step - loss: 1.2632 - accuracy: 0.81 - 7s 42ms/step - loss: 1.2632 - accuracy: 0.8140\n"
     ]
    },
    {
     "data": {
      "text/plain": [
       "[1.2631675528872544, 0.814]"
      ]
     },
     "execution_count": 11,
     "metadata": {},
     "output_type": "execute_result"
    }
   ],
   "source": [
    "model.evaluate(test_data)"
   ]
  },
  {
   "cell_type": "code",
   "execution_count": 12,
   "metadata": {},
   "outputs": [],
   "source": [
    "m = tf.keras.models.load_model('checkpoints/{}.hdf5'.format(dt))"
   ]
  },
  {
   "cell_type": "code",
   "execution_count": null,
   "metadata": {},
   "outputs": [],
   "source": []
  }
 ],
 "metadata": {
  "kernelspec": {
   "display_name": "Python 3",
   "language": "python",
   "name": "python3"
  },
  "language_info": {
   "codemirror_mode": {
    "name": "ipython",
    "version": 3
   },
   "file_extension": ".py",
   "mimetype": "text/x-python",
   "name": "python",
   "nbconvert_exporter": "python",
   "pygments_lexer": "ipython3",
   "version": "3.6.9"
  }
 },
 "nbformat": 4,
 "nbformat_minor": 2
}
