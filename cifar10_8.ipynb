{
 "cells": [
  {
   "cell_type": "code",
   "execution_count": 1,
   "metadata": {},
   "outputs": [
    {
     "name": "stdout",
     "output_type": "stream",
     "text": [
      "Requirement already satisfied: tensorflow-datasets in c:\\users\\affinity\\anaconda3\\lib\\site-packages (1.3.0)\n",
      "Requirement already satisfied: numpy in c:\\users\\affinity\\anaconda3\\lib\\site-packages (from tensorflow-datasets) (1.16.5)\n",
      "Requirement already satisfied: requests>=2.19.0 in c:\\users\\affinity\\anaconda3\\lib\\site-packages (from tensorflow-datasets) (2.22.0)\n",
      "Requirement already satisfied: dill in c:\\users\\affinity\\anaconda3\\lib\\site-packages (from tensorflow-datasets) (0.3.1.1)\n",
      "Requirement already satisfied: attrs in c:\\users\\affinity\\anaconda3\\lib\\site-packages (from tensorflow-datasets) (19.3.0)\n",
      "Requirement already satisfied: promise in c:\\users\\affinity\\anaconda3\\lib\\site-packages (from tensorflow-datasets) (2.2.1)\n",
      "Requirement already satisfied: absl-py in c:\\users\\affinity\\anaconda3\\lib\\site-packages (from tensorflow-datasets) (0.8.0)\n",
      "Requirement already satisfied: protobuf>=3.6.1 in c:\\users\\affinity\\anaconda3\\lib\\site-packages (from tensorflow-datasets) (3.9.2)\n",
      "Requirement already satisfied: termcolor in c:\\users\\affinity\\anaconda3\\lib\\site-packages (from tensorflow-datasets) (1.1.0)\n",
      "Requirement already satisfied: wrapt in c:\\users\\affinity\\anaconda3\\lib\\site-packages (from tensorflow-datasets) (1.11.2)\n",
      "Requirement already satisfied: tqdm in c:\\users\\affinity\\anaconda3\\lib\\site-packages (from tensorflow-datasets) (4.36.1)\n",
      "Requirement already satisfied: tensorflow-metadata in c:\\users\\affinity\\anaconda3\\lib\\site-packages (from tensorflow-datasets) (0.15.0)\n",
      "Requirement already satisfied: six in c:\\users\\affinity\\anaconda3\\lib\\site-packages (from tensorflow-datasets) (1.12.0)\n",
      "Requirement already satisfied: future in c:\\users\\affinity\\anaconda3\\lib\\site-packages (from tensorflow-datasets) (0.17.1)\n",
      "Requirement already satisfied: urllib3!=1.25.0,!=1.25.1,<1.26,>=1.21.1 in c:\\users\\affinity\\anaconda3\\lib\\site-packages (from requests>=2.19.0->tensorflow-datasets) (1.24.2)\n",
      "Requirement already satisfied: idna<2.9,>=2.5 in c:\\users\\affinity\\anaconda3\\lib\\site-packages (from requests>=2.19.0->tensorflow-datasets) (2.8)\n",
      "Requirement already satisfied: certifi>=2017.4.17 in c:\\users\\affinity\\anaconda3\\lib\\site-packages (from requests>=2.19.0->tensorflow-datasets) (2019.9.11)\n",
      "Requirement already satisfied: chardet<3.1.0,>=3.0.2 in c:\\users\\affinity\\anaconda3\\lib\\site-packages (from requests>=2.19.0->tensorflow-datasets) (3.0.4)\n",
      "Requirement already satisfied: setuptools in c:\\users\\affinity\\anaconda3\\lib\\site-packages (from protobuf>=3.6.1->tensorflow-datasets) (41.4.0)\n",
      "Requirement already satisfied: googleapis-common-protos in c:\\users\\affinity\\anaconda3\\lib\\site-packages (from tensorflow-metadata->tensorflow-datasets) (1.6.0)\n"
     ]
    }
   ],
   "source": [
    "!pip install tensorflow-datasets"
   ]
  },
  {
   "cell_type": "code",
   "execution_count": 2,
   "metadata": {},
   "outputs": [
    {
     "name": "stdout",
     "output_type": "stream",
     "text": [
      "Requirement already up-to-date: pip in c:\\users\\affinity\\anaconda3\\lib\\site-packages (19.3.1)\n"
     ]
    }
   ],
   "source": [
    "!python -m pip install --upgrade pip"
   ]
  },
  {
   "cell_type": "code",
   "execution_count": 3,
   "metadata": {},
   "outputs": [
    {
     "name": "stderr",
     "output_type": "stream",
     "text": [
      "Using TensorFlow backend.\n"
     ]
    }
   ],
   "source": [
    "import tensorflow as tf\n",
    "import tensorflow_datasets as tfds\n",
    "from keras.models import load_model\n",
    "from datetime import datetime\n",
    "#tf.enable_eager_execution()"
   ]
  },
  {
   "cell_type": "code",
   "execution_count": 4,
   "metadata": {},
   "outputs": [],
   "source": [
    "train_data = tfds.load(name='cifar10:3.*.*', split='train[:80%]', as_supervised=True)\n",
    "valid_data = tfds.load(name='cifar10:3.*.*', split='train[80%:]', as_supervised=True)\n",
    "test_data = tfds.load(name='cifar10:3.*.*', split='test', as_supervised=True)"
   ]
  },
  {
   "cell_type": "code",
   "execution_count": 5,
   "metadata": {},
   "outputs": [
    {
     "name": "stdout",
     "output_type": "stream",
     "text": [
      "Model: \"sequential\"\n",
      "_________________________________________________________________\n",
      "Layer (type)                 Output Shape              Param #   \n",
      "=================================================================\n",
      "conv2d (Conv2D)              (None, 32, 32, 128)       3584      \n",
      "_________________________________________________________________\n",
      "batch_normalization (BatchNo (None, 32, 32, 128)       512       \n",
      "_________________________________________________________________\n",
      "max_pooling2d (MaxPooling2D) (None, 16, 16, 128)       0         \n",
      "_________________________________________________________________\n",
      "conv2d_1 (Conv2D)            (None, 16, 16, 64)        73792     \n",
      "_________________________________________________________________\n",
      "batch_normalization_1 (Batch (None, 16, 16, 64)        256       \n",
      "_________________________________________________________________\n",
      "max_pooling2d_1 (MaxPooling2 (None, 8, 8, 64)          0         \n",
      "_________________________________________________________________\n",
      "conv2d_2 (Conv2D)            (None, 8, 8, 32)          18464     \n",
      "_________________________________________________________________\n",
      "batch_normalization_2 (Batch (None, 8, 8, 32)          128       \n",
      "_________________________________________________________________\n",
      "max_pooling2d_2 (MaxPooling2 (None, 4, 4, 32)          0         \n",
      "_________________________________________________________________\n",
      "flatten (Flatten)            (None, 512)               0         \n",
      "_________________________________________________________________\n",
      "dropout (Dropout)            (None, 512)               0         \n",
      "_________________________________________________________________\n",
      "dense (Dense)                (None, 10)                5130      \n",
      "=================================================================\n",
      "Total params: 101,866\n",
      "Trainable params: 101,418\n",
      "Non-trainable params: 448\n",
      "_________________________________________________________________\n"
     ]
    }
   ],
   "source": [
    "model = tf.keras.Sequential([\n",
    "    tf.keras.layers.Conv2D(128, 3, activation='relu', padding='same', input_shape=(32, 32, 3)),\n",
    "    tf.keras.layers.BatchNormalization(),  # Gradient Vanishing / Gradient Exploding 이 일어나지 않도록 하는 아이디어 중의 하나이다\n",
    "    tf.keras.layers.MaxPooling2D(),\n",
    "    tf.keras.layers.Conv2D(64, 3, activation='relu', padding='same'),\n",
    "    tf.keras.layers.BatchNormalization(),  # Gradient Vanishing / Gradient Exploding 이 일어나지 않도록 하는 아이디어 중의 하나이다\n",
    "    tf.keras.layers.MaxPooling2D(),    \n",
    "    tf.keras.layers.Conv2D(32, 3, activation='relu', padding='same'),\n",
    "    tf.keras.layers.BatchNormalization(),  # Gradient Vanishing / Gradient Exploding 이 일어나지 않도록 하는 아이디어 중의 하나이다\n",
    "    tf.keras.layers.MaxPooling2D(),\n",
    "    tf.keras.layers.Flatten(),\n",
    "    tf.keras.layers.Dropout(0.4),\n",
    "    tf.keras.layers.Dense(10, activation='softmax')\n",
    "    \n",
    "])\n",
    "model.summary()"
   ]
  },
  {
   "cell_type": "code",
   "execution_count": 6,
   "metadata": {},
   "outputs": [],
   "source": [
    "model.compile(optimizer='adam',\n",
    "              loss='sparse_categorical_crossentropy',\n",
    "              metrics=['accuracy'])"
   ]
  },
  {
   "cell_type": "code",
   "execution_count": 7,
   "metadata": {},
   "outputs": [],
   "source": [
    "def scale(image, label):\n",
    "    image = tf.cast(image, tf.float32)\n",
    "    image /= 255\n",
    "    return image, label\n",
    "\n",
    "train_data = train_data.map(scale).shuffle(50000).batch(64) # \n",
    "valid_data = valid_data.map(scale).batch(64)\n",
    "test_data = test_data.map(scale).batch(64)"
   ]
  },
  {
   "cell_type": "code",
   "execution_count": 8,
   "metadata": {},
   "outputs": [],
   "source": [
    "dt = datetime.now().strftime('%Y%m%d-%H%M%S')\n",
    "\n",
    "cp_callback = tf.keras.callbacks.ModelCheckpoint(   \n",
    "    'checkpoints/{}.hdf5'.format(dt),\n",
    "    monitor='val_acc',\n",
    "    save_best_only=True)"
   ]
  },
  {
   "cell_type": "code",
   "execution_count": 9,
   "metadata": {},
   "outputs": [],
   "source": [
    "class MyCallback(tf.keras.callbacks.Callback):\n",
    "\n",
    "    def on_epoch_start(self, epoch, logs=None):\n",
    "        print('Epoch {} begins at {}: {}'.format(epoch, datetime.now().time(), logs))\n",
    "\n",
    "    def on_epoch_end(self, epoch, logs=None):\n",
    "        print('Epoch {} ends at {}: {}'.format(epoch, datetime.now().time(), logs))"
   ]
  },
  {
   "cell_type": "code",
   "execution_count": 10,
   "metadata": {},
   "outputs": [
    {
     "name": "stdout",
     "output_type": "stream",
     "text": [
      "WARNING:tensorflow:Can save best model only with val_acc available, skipping.\n"
     ]
    },
    {
     "name": "stderr",
     "output_type": "stream",
     "text": [
      "WARNING:tensorflow:Can save best model only with val_acc available, skipping.\n"
     ]
    },
    {
     "name": "stdout",
     "output_type": "stream",
     "text": [
      "Epoch 0 ends at 16:12:20.747305: {'loss': 1.767986340522766, 'accuracy': 0.415475, 'val_loss': 1.4432026163028304, 'val_accuracy': 0.4822}\n",
      "WARNING:tensorflow:Can save best model only with val_acc available, skipping.\n"
     ]
    },
    {
     "name": "stderr",
     "output_type": "stream",
     "text": [
      "WARNING:tensorflow:Can save best model only with val_acc available, skipping.\n"
     ]
    },
    {
     "name": "stdout",
     "output_type": "stream",
     "text": [
      "Epoch 1 ends at 16:12:41.907978: {'loss': 1.1952046412467956, 'accuracy': 0.57805, 'val_loss': 1.4438974162575546, 'val_accuracy': 0.5308}\n",
      "WARNING:tensorflow:Can save best model only with val_acc available, skipping.\n"
     ]
    },
    {
     "name": "stderr",
     "output_type": "stream",
     "text": [
      "WARNING:tensorflow:Can save best model only with val_acc available, skipping.\n"
     ]
    },
    {
     "name": "stdout",
     "output_type": "stream",
     "text": [
      "Epoch 2 ends at 16:13:05.268027: {'loss': 1.0252237257003785, 'accuracy': 0.643475, 'val_loss': 0.9370541253666969, 'val_accuracy': 0.6687}\n",
      "WARNING:tensorflow:Can save best model only with val_acc available, skipping.\n"
     ]
    },
    {
     "name": "stderr",
     "output_type": "stream",
     "text": [
      "WARNING:tensorflow:Can save best model only with val_acc available, skipping.\n"
     ]
    },
    {
     "name": "stdout",
     "output_type": "stream",
     "text": [
      "Epoch 3 ends at 16:13:31.095020: {'loss': 0.9356840694427491, 'accuracy': 0.67145, 'val_loss': 1.0256424360214524, 'val_accuracy': 0.6371}\n",
      "WARNING:tensorflow:Can save best model only with val_acc available, skipping.\n"
     ]
    },
    {
     "name": "stderr",
     "output_type": "stream",
     "text": [
      "WARNING:tensorflow:Can save best model only with val_acc available, skipping.\n"
     ]
    },
    {
     "name": "stdout",
     "output_type": "stream",
     "text": [
      "Epoch 4 ends at 16:13:57.651967: {'loss': 0.8749700545310974, 'accuracy': 0.693875, 'val_loss': 0.8725034021268225, 'val_accuracy': 0.6917}\n",
      "WARNING:tensorflow:Can save best model only with val_acc available, skipping.\n"
     ]
    },
    {
     "name": "stderr",
     "output_type": "stream",
     "text": [
      "WARNING:tensorflow:Can save best model only with val_acc available, skipping.\n"
     ]
    },
    {
     "name": "stdout",
     "output_type": "stream",
     "text": [
      "Epoch 5 ends at 16:14:24.654770: {'loss': 0.8352386516571045, 'accuracy': 0.707825, 'val_loss': 0.9144638347777592, 'val_accuracy': 0.6713}\n",
      "WARNING:tensorflow:Can save best model only with val_acc available, skipping.\n"
     ]
    },
    {
     "name": "stderr",
     "output_type": "stream",
     "text": [
      "WARNING:tensorflow:Can save best model only with val_acc available, skipping.\n"
     ]
    },
    {
     "name": "stdout",
     "output_type": "stream",
     "text": [
      "Epoch 6 ends at 16:14:51.302521: {'loss': 0.7943674642562866, 'accuracy': 0.721575, 'val_loss': 0.8548719427388185, 'val_accuracy': 0.7012}\n",
      "WARNING:tensorflow:Can save best model only with val_acc available, skipping.\n"
     ]
    },
    {
     "name": "stderr",
     "output_type": "stream",
     "text": [
      "WARNING:tensorflow:Can save best model only with val_acc available, skipping.\n"
     ]
    },
    {
     "name": "stdout",
     "output_type": "stream",
     "text": [
      "Epoch 7 ends at 16:15:17.998145: {'loss': 0.7623965565681458, 'accuracy': 0.73365, 'val_loss': 1.1474029710338374, 'val_accuracy': 0.6093}\n",
      "WARNING:tensorflow:Can save best model only with val_acc available, skipping.\n"
     ]
    },
    {
     "name": "stderr",
     "output_type": "stream",
     "text": [
      "WARNING:tensorflow:Can save best model only with val_acc available, skipping.\n"
     ]
    },
    {
     "name": "stdout",
     "output_type": "stream",
     "text": [
      "Epoch 8 ends at 16:15:45.211386: {'loss': 0.734721054315567, 'accuracy': 0.742225, 'val_loss': 0.85940014215032, 'val_accuracy': 0.6978}\n",
      "WARNING:tensorflow:Can save best model only with val_acc available, skipping.\n"
     ]
    },
    {
     "name": "stderr",
     "output_type": "stream",
     "text": [
      "WARNING:tensorflow:Can save best model only with val_acc available, skipping.\n"
     ]
    },
    {
     "name": "stdout",
     "output_type": "stream",
     "text": [
      "Epoch 9 ends at 16:16:14.528000: {'loss': 0.7089667148113251, 'accuracy': 0.7524, 'val_loss': 0.7865250767416255, 'val_accuracy': 0.7195}\n",
      "WARNING:tensorflow:Can save best model only with val_acc available, skipping.\n"
     ]
    },
    {
     "name": "stderr",
     "output_type": "stream",
     "text": [
      "WARNING:tensorflow:Can save best model only with val_acc available, skipping.\n"
     ]
    },
    {
     "name": "stdout",
     "output_type": "stream",
     "text": [
      "Epoch 10 ends at 16:16:40.945288: {'loss': 0.691570716047287, 'accuracy': 0.75505, 'val_loss': 0.7712517711007671, 'val_accuracy': 0.7335}\n",
      "WARNING:tensorflow:Can save best model only with val_acc available, skipping.\n"
     ]
    },
    {
     "name": "stderr",
     "output_type": "stream",
     "text": [
      "WARNING:tensorflow:Can save best model only with val_acc available, skipping.\n"
     ]
    },
    {
     "name": "stdout",
     "output_type": "stream",
     "text": [
      "Epoch 11 ends at 16:17:07.610985: {'loss': 0.6659863791942596, 'accuracy': 0.7678, 'val_loss': 0.7791692910680346, 'val_accuracy': 0.7254}\n",
      "WARNING:tensorflow:Can save best model only with val_acc available, skipping.\n"
     ]
    },
    {
     "name": "stderr",
     "output_type": "stream",
     "text": [
      "WARNING:tensorflow:Can save best model only with val_acc available, skipping.\n"
     ]
    },
    {
     "name": "stdout",
     "output_type": "stream",
     "text": [
      "Epoch 12 ends at 16:17:33.996118: {'loss': 0.6446363068580627, 'accuracy': 0.775425, 'val_loss': 0.7974955151035528, 'val_accuracy': 0.7216}\n",
      "WARNING:tensorflow:Can save best model only with val_acc available, skipping.\n"
     ]
    },
    {
     "name": "stderr",
     "output_type": "stream",
     "text": [
      "WARNING:tensorflow:Can save best model only with val_acc available, skipping.\n"
     ]
    },
    {
     "name": "stdout",
     "output_type": "stream",
     "text": [
      "Epoch 13 ends at 16:18:01.517429: {'loss': 0.627111363363266, 'accuracy': 0.7807, 'val_loss': 0.7086464449478562, 'val_accuracy': 0.7482}\n",
      "WARNING:tensorflow:Can save best model only with val_acc available, skipping.\n"
     ]
    },
    {
     "name": "stderr",
     "output_type": "stream",
     "text": [
      "WARNING:tensorflow:Can save best model only with val_acc available, skipping.\n"
     ]
    },
    {
     "name": "stdout",
     "output_type": "stream",
     "text": [
      "Epoch 14 ends at 16:18:28.893563: {'loss': 0.6174233106136322, 'accuracy': 0.78305, 'val_loss': 0.9638409098242499, 'val_accuracy': 0.6922}\n",
      "WARNING:tensorflow:Can save best model only with val_acc available, skipping.\n"
     ]
    },
    {
     "name": "stderr",
     "output_type": "stream",
     "text": [
      "WARNING:tensorflow:Can save best model only with val_acc available, skipping.\n"
     ]
    },
    {
     "name": "stdout",
     "output_type": "stream",
     "text": [
      "Epoch 15 ends at 16:18:56.179100: {'loss': 0.6007090929031372, 'accuracy': 0.789075, 'val_loss': 0.7129184842868975, 'val_accuracy': 0.7483}\n",
      "WARNING:tensorflow:Can save best model only with val_acc available, skipping.\n"
     ]
    },
    {
     "name": "stderr",
     "output_type": "stream",
     "text": [
      "WARNING:tensorflow:Can save best model only with val_acc available, skipping.\n"
     ]
    },
    {
     "name": "stdout",
     "output_type": "stream",
     "text": [
      "Epoch 16 ends at 16:19:22.869742: {'loss': 0.5814926646232605, 'accuracy': 0.7941, 'val_loss': 0.7933791828383306, 'val_accuracy': 0.7258}\n",
      "WARNING:tensorflow:Can save best model only with val_acc available, skipping.\n"
     ]
    },
    {
     "name": "stderr",
     "output_type": "stream",
     "text": [
      "WARNING:tensorflow:Can save best model only with val_acc available, skipping.\n"
     ]
    },
    {
     "name": "stdout",
     "output_type": "stream",
     "text": [
      "Epoch 17 ends at 16:19:50.049072: {'loss': 0.5704007154464722, 'accuracy': 0.798175, 'val_loss': 0.8008272469423379, 'val_accuracy': 0.7281}\n",
      "WARNING:tensorflow:Can save best model only with val_acc available, skipping.\n"
     ]
    },
    {
     "name": "stderr",
     "output_type": "stream",
     "text": [
      "WARNING:tensorflow:Can save best model only with val_acc available, skipping.\n"
     ]
    },
    {
     "name": "stdout",
     "output_type": "stream",
     "text": [
      "Epoch 18 ends at 16:20:16.463898: {'loss': 0.552785155749321, 'accuracy': 0.80505, 'val_loss': 0.7630909123238484, 'val_accuracy': 0.7388}\n",
      "WARNING:tensorflow:Can save best model only with val_acc available, skipping.\n"
     ]
    },
    {
     "name": "stderr",
     "output_type": "stream",
     "text": [
      "WARNING:tensorflow:Can save best model only with val_acc available, skipping.\n"
     ]
    },
    {
     "name": "stdout",
     "output_type": "stream",
     "text": [
      "Epoch 19 ends at 16:20:43.088534: {'loss': 0.543900013589859, 'accuracy': 0.8065, 'val_loss': 0.7713761654249423, 'val_accuracy': 0.7388}\n",
      "WARNING:tensorflow:Can save best model only with val_acc available, skipping.\n"
     ]
    },
    {
     "name": "stderr",
     "output_type": "stream",
     "text": [
      "WARNING:tensorflow:Can save best model only with val_acc available, skipping.\n"
     ]
    },
    {
     "name": "stdout",
     "output_type": "stream",
     "text": [
      "Epoch 20 ends at 16:21:09.984293: {'loss': 0.5311246675252914, 'accuracy': 0.81035, 'val_loss': 0.7676277373247086, 'val_accuracy': 0.7436}\n",
      "WARNING:tensorflow:Can save best model only with val_acc available, skipping.\n"
     ]
    },
    {
     "name": "stderr",
     "output_type": "stream",
     "text": [
      "WARNING:tensorflow:Can save best model only with val_acc available, skipping.\n"
     ]
    },
    {
     "name": "stdout",
     "output_type": "stream",
     "text": [
      "Epoch 21 ends at 16:21:37.138691: {'loss': 0.522402505493164, 'accuracy': 0.8157, 'val_loss': 0.7304424457489305, 'val_accuracy': 0.7472}\n",
      "WARNING:tensorflow:Can save best model only with val_acc available, skipping.\n"
     ]
    },
    {
     "name": "stderr",
     "output_type": "stream",
     "text": [
      "WARNING:tensorflow:Can save best model only with val_acc available, skipping.\n"
     ]
    },
    {
     "name": "stdout",
     "output_type": "stream",
     "text": [
      "Epoch 22 ends at 16:22:04.500536: {'loss': 0.508690730047226, 'accuracy': 0.8184, 'val_loss': 0.8765601062091293, 'val_accuracy': 0.7132}\n",
      "WARNING:tensorflow:Can save best model only with val_acc available, skipping.\n"
     ]
    },
    {
     "name": "stderr",
     "output_type": "stream",
     "text": [
      "WARNING:tensorflow:Can save best model only with val_acc available, skipping.\n"
     ]
    },
    {
     "name": "stdout",
     "output_type": "stream",
     "text": [
      "Epoch 23 ends at 16:22:32.535403: {'loss': 0.5017184149980545, 'accuracy': 0.8207, 'val_loss': 0.6959686808905025, 'val_accuracy': 0.7598}\n",
      "WARNING:tensorflow:Can save best model only with val_acc available, skipping.\n"
     ]
    },
    {
     "name": "stderr",
     "output_type": "stream",
     "text": [
      "WARNING:tensorflow:Can save best model only with val_acc available, skipping.\n"
     ]
    },
    {
     "name": "stdout",
     "output_type": "stream",
     "text": [
      "Epoch 24 ends at 16:22:59.721944: {'loss': 0.4870239912986755, 'accuracy': 0.826325, 'val_loss': 0.7023089678044532, 'val_accuracy': 0.7616}\n",
      "WARNING:tensorflow:Can save best model only with val_acc available, skipping.\n"
     ]
    },
    {
     "name": "stderr",
     "output_type": "stream",
     "text": [
      "WARNING:tensorflow:Can save best model only with val_acc available, skipping.\n"
     ]
    },
    {
     "name": "stdout",
     "output_type": "stream",
     "text": [
      "Epoch 25 ends at 16:23:26.369543: {'loss': 0.48409401552677156, 'accuracy': 0.82965, 'val_loss': 0.7588508632152703, 'val_accuracy': 0.7537}\n",
      "WARNING:tensorflow:Can save best model only with val_acc available, skipping.\n"
     ]
    },
    {
     "name": "stderr",
     "output_type": "stream",
     "text": [
      "WARNING:tensorflow:Can save best model only with val_acc available, skipping.\n"
     ]
    },
    {
     "name": "stdout",
     "output_type": "stream",
     "text": [
      "Epoch 26 ends at 16:23:53.514964: {'loss': 0.471638566160202, 'accuracy': 0.829175, 'val_loss': 0.8783077643175793, 'val_accuracy': 0.7193}\n",
      "WARNING:tensorflow:Can save best model only with val_acc available, skipping.\n"
     ]
    },
    {
     "name": "stderr",
     "output_type": "stream",
     "text": [
      "WARNING:tensorflow:Can save best model only with val_acc available, skipping.\n"
     ]
    },
    {
     "name": "stdout",
     "output_type": "stream",
     "text": [
      "Epoch 27 ends at 16:24:21.834326: {'loss': 0.4693270570516586, 'accuracy': 0.833725, 'val_loss': 0.8171133501514508, 'val_accuracy': 0.73}\n",
      "WARNING:tensorflow:Can save best model only with val_acc available, skipping.\n"
     ]
    },
    {
     "name": "stderr",
     "output_type": "stream",
     "text": [
      "WARNING:tensorflow:Can save best model only with val_acc available, skipping.\n"
     ]
    },
    {
     "name": "stdout",
     "output_type": "stream",
     "text": [
      "Epoch 28 ends at 16:24:49.239057: {'loss': 0.45182784223556516, 'accuracy': 0.83915, 'val_loss': 0.7249114642477339, 'val_accuracy': 0.7607}\n",
      "WARNING:tensorflow:Can save best model only with val_acc available, skipping.\n"
     ]
    },
    {
     "name": "stderr",
     "output_type": "stream",
     "text": [
      "WARNING:tensorflow:Can save best model only with val_acc available, skipping.\n"
     ]
    },
    {
     "name": "stdout",
     "output_type": "stream",
     "text": [
      "Epoch 29 ends at 16:25:18.142773: {'loss': 0.4492962384223938, 'accuracy': 0.8414, 'val_loss': 0.799418046595944, 'val_accuracy': 0.737}\n",
      "WARNING:tensorflow:Can save best model only with val_acc available, skipping.\n"
     ]
    },
    {
     "name": "stderr",
     "output_type": "stream",
     "text": [
      "WARNING:tensorflow:Can save best model only with val_acc available, skipping.\n"
     ]
    },
    {
     "name": "stdout",
     "output_type": "stream",
     "text": [
      "Epoch 30 ends at 16:25:46.275323: {'loss': 0.4436998182535172, 'accuracy': 0.843025, 'val_loss': 0.7903963623532824, 'val_accuracy': 0.7399}\n",
      "WARNING:tensorflow:Can save best model only with val_acc available, skipping.\n"
     ]
    },
    {
     "name": "stderr",
     "output_type": "stream",
     "text": [
      "WARNING:tensorflow:Can save best model only with val_acc available, skipping.\n"
     ]
    },
    {
     "name": "stdout",
     "output_type": "stream",
     "text": [
      "Epoch 31 ends at 16:26:15.492204: {'loss': 0.4332713426589966, 'accuracy': 0.844175, 'val_loss': 0.7947146588829672, 'val_accuracy': 0.7384}\n",
      "WARNING:tensorflow:Can save best model only with val_acc available, skipping.\n"
     ]
    },
    {
     "name": "stderr",
     "output_type": "stream",
     "text": [
      "WARNING:tensorflow:Can save best model only with val_acc available, skipping.\n"
     ]
    },
    {
     "name": "stdout",
     "output_type": "stream",
     "text": [
      "Epoch 32 ends at 16:26:43.504309: {'loss': 0.4319805359363556, 'accuracy': 0.8454, 'val_loss': 0.7874635471280214, 'val_accuracy': 0.7396}\n",
      "WARNING:tensorflow:Can save best model only with val_acc available, skipping.\n"
     ]
    },
    {
     "name": "stderr",
     "output_type": "stream",
     "text": [
      "WARNING:tensorflow:Can save best model only with val_acc available, skipping.\n"
     ]
    },
    {
     "name": "stdout",
     "output_type": "stream",
     "text": [
      "Epoch 33 ends at 16:27:11.872350: {'loss': 0.42071886796951297, 'accuracy': 0.84915, 'val_loss': 0.6998256634754739, 'val_accuracy': 0.77}\n",
      "WARNING:tensorflow:Can save best model only with val_acc available, skipping.\n"
     ]
    },
    {
     "name": "stderr",
     "output_type": "stream",
     "text": [
      "WARNING:tensorflow:Can save best model only with val_acc available, skipping.\n"
     ]
    },
    {
     "name": "stdout",
     "output_type": "stream",
     "text": [
      "Epoch 34 ends at 16:27:39.733856: {'loss': 0.4222107714653015, 'accuracy': 0.8486, 'val_loss': 0.8972533453421988, 'val_accuracy': 0.7254}\n",
      "WARNING:tensorflow:Can save best model only with val_acc available, skipping.\n"
     ]
    },
    {
     "name": "stderr",
     "output_type": "stream",
     "text": [
      "WARNING:tensorflow:Can save best model only with val_acc available, skipping.\n"
     ]
    },
    {
     "name": "stdout",
     "output_type": "stream",
     "text": [
      "Epoch 35 ends at 16:28:09.149659: {'loss': 0.4123349455595017, 'accuracy': 0.8519, 'val_loss': 0.8490338757349427, 'val_accuracy': 0.7313}\n",
      "WARNING:tensorflow:Can save best model only with val_acc available, skipping.\n"
     ]
    },
    {
     "name": "stderr",
     "output_type": "stream",
     "text": [
      "WARNING:tensorflow:Can save best model only with val_acc available, skipping.\n"
     ]
    },
    {
     "name": "stdout",
     "output_type": "stream",
     "text": [
      "Epoch 36 ends at 16:28:37.452359: {'loss': 0.3994648143291473, 'accuracy': 0.8564, 'val_loss': 0.760127864635674, 'val_accuracy': 0.7576}\n",
      "WARNING:tensorflow:Can save best model only with val_acc available, skipping.\n"
     ]
    },
    {
     "name": "stderr",
     "output_type": "stream",
     "text": [
      "WARNING:tensorflow:Can save best model only with val_acc available, skipping.\n"
     ]
    },
    {
     "name": "stdout",
     "output_type": "stream",
     "text": [
      "Epoch 37 ends at 16:29:06.294837: {'loss': 0.39672926170825956, 'accuracy': 0.8569, 'val_loss': 0.7251286117514227, 'val_accuracy': 0.7636}\n",
      "WARNING:tensorflow:Can save best model only with val_acc available, skipping.\n"
     ]
    },
    {
     "name": "stderr",
     "output_type": "stream",
     "text": [
      "WARNING:tensorflow:Can save best model only with val_acc available, skipping.\n"
     ]
    },
    {
     "name": "stdout",
     "output_type": "stream",
     "text": [
      "Epoch 38 ends at 16:29:33.386349: {'loss': 0.3945072152376175, 'accuracy': 0.85955, 'val_loss': 1.025323308956851, 'val_accuracy': 0.6862}\n",
      "WARNING:tensorflow:Can save best model only with val_acc available, skipping.\n"
     ]
    },
    {
     "name": "stderr",
     "output_type": "stream",
     "text": [
      "WARNING:tensorflow:Can save best model only with val_acc available, skipping.\n"
     ]
    },
    {
     "name": "stdout",
     "output_type": "stream",
     "text": [
      "Epoch 39 ends at 16:30:00.493825: {'loss': 0.38228899793624876, 'accuracy': 0.86125, 'val_loss': 0.7933459838579415, 'val_accuracy': 0.7439}\n",
      "WARNING:tensorflow:Can save best model only with val_acc available, skipping.\n"
     ]
    },
    {
     "name": "stderr",
     "output_type": "stream",
     "text": [
      "WARNING:tensorflow:Can save best model only with val_acc available, skipping.\n"
     ]
    },
    {
     "name": "stdout",
     "output_type": "stream",
     "text": [
      "Epoch 40 ends at 16:30:28.035092: {'loss': 0.38173152465820315, 'accuracy': 0.8635, 'val_loss': 0.6895446257226786, 'val_accuracy': 0.7773}\n",
      "WARNING:tensorflow:Can save best model only with val_acc available, skipping.\n"
     ]
    },
    {
     "name": "stderr",
     "output_type": "stream",
     "text": [
      "WARNING:tensorflow:Can save best model only with val_acc available, skipping.\n"
     ]
    },
    {
     "name": "stdout",
     "output_type": "stream",
     "text": [
      "Epoch 41 ends at 16:30:55.676249: {'loss': 0.37503803133964536, 'accuracy': 0.866925, 'val_loss': 0.7722029642314668, 'val_accuracy': 0.7536}\n",
      "WARNING:tensorflow:Can save best model only with val_acc available, skipping.\n"
     ]
    },
    {
     "name": "stderr",
     "output_type": "stream",
     "text": [
      "WARNING:tensorflow:Can save best model only with val_acc available, skipping.\n"
     ]
    },
    {
     "name": "stdout",
     "output_type": "stream",
     "text": [
      "Epoch 42 ends at 16:31:22.308044: {'loss': 0.3710387043237686, 'accuracy': 0.868625, 'val_loss': 0.8528861187066242, 'val_accuracy': 0.7335}\n",
      "WARNING:tensorflow:Can save best model only with val_acc available, skipping.\n"
     ]
    },
    {
     "name": "stderr",
     "output_type": "stream",
     "text": [
      "WARNING:tensorflow:Can save best model only with val_acc available, skipping.\n"
     ]
    },
    {
     "name": "stdout",
     "output_type": "stream",
     "text": [
      "Epoch 43 ends at 16:31:49.729727: {'loss': 0.37090939869880674, 'accuracy': 0.868075, 'val_loss': 0.8171864231680609, 'val_accuracy': 0.743}\n",
      "WARNING:tensorflow:Can save best model only with val_acc available, skipping.\n"
     ]
    },
    {
     "name": "stderr",
     "output_type": "stream",
     "text": [
      "WARNING:tensorflow:Can save best model only with val_acc available, skipping.\n"
     ]
    },
    {
     "name": "stdout",
     "output_type": "stream",
     "text": [
      "Epoch 44 ends at 16:32:16.419399: {'loss': 0.3617124212741852, 'accuracy': 0.869575, 'val_loss': 0.7825723837135704, 'val_accuracy': 0.7605}\n",
      "WARNING:tensorflow:Can save best model only with val_acc available, skipping.\n"
     ]
    },
    {
     "name": "stderr",
     "output_type": "stream",
     "text": [
      "WARNING:tensorflow:Can save best model only with val_acc available, skipping.\n"
     ]
    },
    {
     "name": "stdout",
     "output_type": "stream",
     "text": [
      "Epoch 45 ends at 16:32:43.897606: {'loss': 0.3607421886920929, 'accuracy': 0.8702, 'val_loss': 0.7949188643959677, 'val_accuracy': 0.7565}\n",
      "WARNING:tensorflow:Can save best model only with val_acc available, skipping.\n"
     ]
    },
    {
     "name": "stderr",
     "output_type": "stream",
     "text": [
      "WARNING:tensorflow:Can save best model only with val_acc available, skipping.\n"
     ]
    },
    {
     "name": "stdout",
     "output_type": "stream",
     "text": [
      "Epoch 46 ends at 16:33:10.595443: {'loss': 0.3542054751634598, 'accuracy': 0.87285, 'val_loss': 0.7364117892304803, 'val_accuracy': 0.7736}\n",
      "WARNING:tensorflow:Can save best model only with val_acc available, skipping.\n"
     ]
    },
    {
     "name": "stderr",
     "output_type": "stream",
     "text": [
      "WARNING:tensorflow:Can save best model only with val_acc available, skipping.\n"
     ]
    },
    {
     "name": "stdout",
     "output_type": "stream",
     "text": [
      "Epoch 47 ends at 16:33:40.123773: {'loss': 0.34499132046699527, 'accuracy': 0.876175, 'val_loss': 0.800954908891848, 'val_accuracy': 0.7507}\n",
      "WARNING:tensorflow:Can save best model only with val_acc available, skipping.\n"
     ]
    },
    {
     "name": "stderr",
     "output_type": "stream",
     "text": [
      "WARNING:tensorflow:Can save best model only with val_acc available, skipping.\n"
     ]
    },
    {
     "name": "stdout",
     "output_type": "stream",
     "text": [
      "Epoch 48 ends at 16:34:09.158138: {'loss': 0.35061975470781326, 'accuracy': 0.872825, 'val_loss': 0.759258722993219, 'val_accuracy': 0.7628}\n",
      "WARNING:tensorflow:Can save best model only with val_acc available, skipping.\n"
     ]
    },
    {
     "name": "stderr",
     "output_type": "stream",
     "text": [
      "WARNING:tensorflow:Can save best model only with val_acc available, skipping.\n"
     ]
    },
    {
     "name": "stdout",
     "output_type": "stream",
     "text": [
      "Epoch 49 ends at 16:34:38.030768: {'loss': 0.343457040309906, 'accuracy': 0.87565, 'val_loss': 0.8146588952298377, 'val_accuracy': 0.7575}\n",
      "WARNING:tensorflow:Can save best model only with val_acc available, skipping.\n"
     ]
    },
    {
     "name": "stderr",
     "output_type": "stream",
     "text": [
      "WARNING:tensorflow:Can save best model only with val_acc available, skipping.\n"
     ]
    },
    {
     "name": "stdout",
     "output_type": "stream",
     "text": [
      "Epoch 50 ends at 16:35:07.534881: {'loss': 0.3360266632556915, 'accuracy': 0.87915, 'val_loss': 0.7162602253400596, 'val_accuracy': 0.7755}\n",
      "WARNING:tensorflow:Can save best model only with val_acc available, skipping.\n"
     ]
    },
    {
     "name": "stderr",
     "output_type": "stream",
     "text": [
      "WARNING:tensorflow:Can save best model only with val_acc available, skipping.\n"
     ]
    },
    {
     "name": "stdout",
     "output_type": "stream",
     "text": [
      "Epoch 51 ends at 16:35:36.612530: {'loss': 0.33775337549448015, 'accuracy': 0.879125, 'val_loss': 1.1702239259033447, 'val_accuracy': 0.6876}\n",
      "WARNING:tensorflow:Can save best model only with val_acc available, skipping.\n"
     ]
    },
    {
     "name": "stderr",
     "output_type": "stream",
     "text": [
      "WARNING:tensorflow:Can save best model only with val_acc available, skipping.\n"
     ]
    },
    {
     "name": "stdout",
     "output_type": "stream",
     "text": [
      "Epoch 52 ends at 16:36:04.496980: {'loss': 0.32691479412317276, 'accuracy': 0.88075, 'val_loss': 0.6976886664985851, 'val_accuracy': 0.7824}\n",
      "WARNING:tensorflow:Can save best model only with val_acc available, skipping.\n"
     ]
    },
    {
     "name": "stderr",
     "output_type": "stream",
     "text": [
      "WARNING:tensorflow:Can save best model only with val_acc available, skipping.\n"
     ]
    },
    {
     "name": "stdout",
     "output_type": "stream",
     "text": [
      "Epoch 53 ends at 16:36:33.452116: {'loss': 0.32790532537698747, 'accuracy': 0.882175, 'val_loss': 0.8209065857586587, 'val_accuracy': 0.7537}\n",
      "WARNING:tensorflow:Can save best model only with val_acc available, skipping.\n"
     ]
    },
    {
     "name": "stderr",
     "output_type": "stream",
     "text": [
      "WARNING:tensorflow:Can save best model only with val_acc available, skipping.\n"
     ]
    },
    {
     "name": "stdout",
     "output_type": "stream",
     "text": [
      "Epoch 54 ends at 16:37:00.101315: {'loss': 0.3259109293103218, 'accuracy': 0.880825, 'val_loss': 0.768371859743337, 'val_accuracy': 0.767}\n",
      "WARNING:tensorflow:Can save best model only with val_acc available, skipping.\n"
     ]
    },
    {
     "name": "stderr",
     "output_type": "stream",
     "text": [
      "WARNING:tensorflow:Can save best model only with val_acc available, skipping.\n"
     ]
    },
    {
     "name": "stdout",
     "output_type": "stream",
     "text": [
      "Epoch 55 ends at 16:37:27.484406: {'loss': 0.3236934616565704, 'accuracy': 0.88255, 'val_loss': 0.7675807756982791, 'val_accuracy': 0.7657}\n",
      "WARNING:tensorflow:Can save best model only with val_acc available, skipping.\n"
     ]
    },
    {
     "name": "stderr",
     "output_type": "stream",
     "text": [
      "WARNING:tensorflow:Can save best model only with val_acc available, skipping.\n"
     ]
    },
    {
     "name": "stdout",
     "output_type": "stream",
     "text": [
      "Epoch 56 ends at 16:37:54.546240: {'loss': 0.3163196016550064, 'accuracy': 0.88575, 'val_loss': 0.7444654090009677, 'val_accuracy': 0.7687}\n",
      "WARNING:tensorflow:Can save best model only with val_acc available, skipping.\n"
     ]
    },
    {
     "name": "stderr",
     "output_type": "stream",
     "text": [
      "WARNING:tensorflow:Can save best model only with val_acc available, skipping.\n"
     ]
    },
    {
     "name": "stdout",
     "output_type": "stream",
     "text": [
      "Epoch 57 ends at 16:38:22.169149: {'loss': 0.3182823079228401, 'accuracy': 0.8847, 'val_loss': 0.8849372127253539, 'val_accuracy': 0.7427}\n",
      "WARNING:tensorflow:Can save best model only with val_acc available, skipping.\n"
     ]
    },
    {
     "name": "stderr",
     "output_type": "stream",
     "text": [
      "WARNING:tensorflow:Can save best model only with val_acc available, skipping.\n"
     ]
    },
    {
     "name": "stdout",
     "output_type": "stream",
     "text": [
      "Epoch 58 ends at 16:38:49.605188: {'loss': 0.3176436076283455, 'accuracy': 0.885, 'val_loss': 0.7967712195815554, 'val_accuracy': 0.767}\n",
      "WARNING:tensorflow:Can save best model only with val_acc available, skipping.\n"
     ]
    },
    {
     "name": "stderr",
     "output_type": "stream",
     "text": [
      "WARNING:tensorflow:Can save best model only with val_acc available, skipping.\n"
     ]
    },
    {
     "name": "stdout",
     "output_type": "stream",
     "text": [
      "Epoch 59 ends at 16:39:17.722160: {'loss': 0.30811338078975675, 'accuracy': 0.888375, 'val_loss': 0.9672266749819373, 'val_accuracy': 0.7258}\n",
      "WARNING:tensorflow:Can save best model only with val_acc available, skipping.\n"
     ]
    },
    {
     "name": "stderr",
     "output_type": "stream",
     "text": [
      "WARNING:tensorflow:Can save best model only with val_acc available, skipping.\n"
     ]
    },
    {
     "name": "stdout",
     "output_type": "stream",
     "text": [
      "Epoch 60 ends at 16:39:45.227638: {'loss': 0.3088562547326088, 'accuracy': 0.888375, 'val_loss': 0.9162278756214555, 'val_accuracy': 0.747}\n",
      "WARNING:tensorflow:Can save best model only with val_acc available, skipping.\n"
     ]
    },
    {
     "name": "stderr",
     "output_type": "stream",
     "text": [
      "WARNING:tensorflow:Can save best model only with val_acc available, skipping.\n"
     ]
    },
    {
     "name": "stdout",
     "output_type": "stream",
     "text": [
      "Epoch 61 ends at 16:40:12.759121: {'loss': 0.2964498287081718, 'accuracy': 0.89225, 'val_loss': 0.8141823329363659, 'val_accuracy': 0.7725}\n",
      "WARNING:tensorflow:Can save best model only with val_acc available, skipping.\n"
     ]
    },
    {
     "name": "stderr",
     "output_type": "stream",
     "text": [
      "WARNING:tensorflow:Can save best model only with val_acc available, skipping.\n"
     ]
    },
    {
     "name": "stdout",
     "output_type": "stream",
     "text": [
      "Epoch 62 ends at 16:40:39.800930: {'loss': 0.2988501392602921, 'accuracy': 0.8921, 'val_loss': 0.8396368036224584, 'val_accuracy': 0.7579}\n",
      "WARNING:tensorflow:Can save best model only with val_acc available, skipping.\n"
     ]
    },
    {
     "name": "stderr",
     "output_type": "stream",
     "text": [
      "WARNING:tensorflow:Can save best model only with val_acc available, skipping.\n"
     ]
    },
    {
     "name": "stdout",
     "output_type": "stream",
     "text": [
      "Epoch 63 ends at 16:41:07.790892: {'loss': 0.2979105459809303, 'accuracy': 0.891475, 'val_loss': 0.7470697306903304, 'val_accuracy': 0.7777}\n",
      "WARNING:tensorflow:Can save best model only with val_acc available, skipping.\n"
     ]
    },
    {
     "name": "stderr",
     "output_type": "stream",
     "text": [
      "WARNING:tensorflow:Can save best model only with val_acc available, skipping.\n"
     ]
    },
    {
     "name": "stdout",
     "output_type": "stream",
     "text": [
      "Epoch 64 ends at 16:41:35.148745: {'loss': 0.2997175708055496, 'accuracy': 0.89145, 'val_loss': 0.7441318775438199, 'val_accuracy': 0.7795}\n",
      "WARNING:tensorflow:Can save best model only with val_acc available, skipping.\n"
     ]
    },
    {
     "name": "stderr",
     "output_type": "stream",
     "text": [
      "WARNING:tensorflow:Can save best model only with val_acc available, skipping.\n"
     ]
    },
    {
     "name": "stdout",
     "output_type": "stream",
     "text": [
      "Epoch 65 ends at 16:42:06.122904: {'loss': 0.29019987782239914, 'accuracy': 0.89385, 'val_loss': 0.8516981690932232, 'val_accuracy': 0.7547}\n",
      "WARNING:tensorflow:Can save best model only with val_acc available, skipping.\n"
     ]
    },
    {
     "name": "stderr",
     "output_type": "stream",
     "text": [
      "WARNING:tensorflow:Can save best model only with val_acc available, skipping.\n"
     ]
    },
    {
     "name": "stdout",
     "output_type": "stream",
     "text": [
      "Epoch 66 ends at 16:42:34.417124: {'loss': 0.2860580410003662, 'accuracy': 0.897125, 'val_loss': 0.8005739866168635, 'val_accuracy': 0.7608}\n",
      "WARNING:tensorflow:Can save best model only with val_acc available, skipping.\n"
     ]
    },
    {
     "name": "stderr",
     "output_type": "stream",
     "text": [
      "WARNING:tensorflow:Can save best model only with val_acc available, skipping.\n"
     ]
    },
    {
     "name": "stdout",
     "output_type": "stream",
     "text": [
      "Epoch 67 ends at 16:43:03.807053: {'loss': 0.2893327834367752, 'accuracy': 0.89395, 'val_loss': 0.7893198419148755, 'val_accuracy': 0.767}\n",
      "WARNING:tensorflow:Can save best model only with val_acc available, skipping.\n"
     ]
    },
    {
     "name": "stderr",
     "output_type": "stream",
     "text": [
      "WARNING:tensorflow:Can save best model only with val_acc available, skipping.\n"
     ]
    },
    {
     "name": "stdout",
     "output_type": "stream",
     "text": [
      "Epoch 68 ends at 16:43:31.865594: {'loss': 0.2852192354798317, 'accuracy': 0.89725, 'val_loss': 0.855330224249773, 'val_accuracy': 0.7539}\n",
      "WARNING:tensorflow:Can save best model only with val_acc available, skipping.\n"
     ]
    },
    {
     "name": "stderr",
     "output_type": "stream",
     "text": [
      "WARNING:tensorflow:Can save best model only with val_acc available, skipping.\n"
     ]
    },
    {
     "name": "stdout",
     "output_type": "stream",
     "text": [
      "Epoch 69 ends at 16:44:00.396311: {'loss': 0.2814913011789322, 'accuracy': 0.897925, 'val_loss': 0.773439795348295, 'val_accuracy': 0.7706}\n",
      "WARNING:tensorflow:Can save best model only with val_acc available, skipping.\n"
     ]
    },
    {
     "name": "stderr",
     "output_type": "stream",
     "text": [
      "WARNING:tensorflow:Can save best model only with val_acc available, skipping.\n"
     ]
    },
    {
     "name": "stdout",
     "output_type": "stream",
     "text": [
      "Epoch 70 ends at 16:44:27.464231: {'loss': 0.28413424229621886, 'accuracy': 0.8964, 'val_loss': 0.8382100218040928, 'val_accuracy': 0.7546}\n",
      "WARNING:tensorflow:Can save best model only with val_acc available, skipping.\n"
     ]
    },
    {
     "name": "stderr",
     "output_type": "stream",
     "text": [
      "WARNING:tensorflow:Can save best model only with val_acc available, skipping.\n"
     ]
    },
    {
     "name": "stdout",
     "output_type": "stream",
     "text": [
      "Epoch 71 ends at 16:44:55.008467: {'loss': 0.28306244097948075, 'accuracy': 0.898325, 'val_loss': 0.861561125440962, 'val_accuracy': 0.756}\n",
      "WARNING:tensorflow:Can save best model only with val_acc available, skipping.\n"
     ]
    },
    {
     "name": "stderr",
     "output_type": "stream",
     "text": [
      "WARNING:tensorflow:Can save best model only with val_acc available, skipping.\n"
     ]
    },
    {
     "name": "stdout",
     "output_type": "stream",
     "text": [
      "Epoch 72 ends at 16:45:22.402613: {'loss': 0.2748541224837303, 'accuracy': 0.900325, 'val_loss': 0.7727493657048341, 'val_accuracy': 0.7763}\n",
      "WARNING:tensorflow:Can save best model only with val_acc available, skipping.\n"
     ]
    },
    {
     "name": "stderr",
     "output_type": "stream",
     "text": [
      "WARNING:tensorflow:Can save best model only with val_acc available, skipping.\n"
     ]
    },
    {
     "name": "stdout",
     "output_type": "stream",
     "text": [
      "Epoch 73 ends at 16:45:51.386121: {'loss': 0.2752245722532272, 'accuracy': 0.90115, 'val_loss': 0.7858031266813825, 'val_accuracy': 0.7658}\n",
      "WARNING:tensorflow:Can save best model only with val_acc available, skipping.\n"
     ]
    },
    {
     "name": "stderr",
     "output_type": "stream",
     "text": [
      "WARNING:tensorflow:Can save best model only with val_acc available, skipping.\n"
     ]
    },
    {
     "name": "stdout",
     "output_type": "stream",
     "text": [
      "Epoch 74 ends at 16:46:19.495341: {'loss': 0.27087313272953034, 'accuracy': 0.90165, 'val_loss': 0.7815415821257671, 'val_accuracy': 0.7731}\n",
      "WARNING:tensorflow:Can save best model only with val_acc available, skipping.\n"
     ]
    },
    {
     "name": "stderr",
     "output_type": "stream",
     "text": [
      "WARNING:tensorflow:Can save best model only with val_acc available, skipping.\n"
     ]
    },
    {
     "name": "stdout",
     "output_type": "stream",
     "text": [
      "Epoch 75 ends at 16:46:48.591433: {'loss': 0.2722012898206711, 'accuracy': 0.900975, 'val_loss': 0.8406642713364522, 'val_accuracy': 0.7639}\n",
      "WARNING:tensorflow:Can save best model only with val_acc available, skipping.\n"
     ]
    },
    {
     "name": "stderr",
     "output_type": "stream",
     "text": [
      "WARNING:tensorflow:Can save best model only with val_acc available, skipping.\n"
     ]
    },
    {
     "name": "stdout",
     "output_type": "stream",
     "text": [
      "Epoch 76 ends at 16:47:17.073059: {'loss': 0.27020555269122126, 'accuracy': 0.90315, 'val_loss': 0.8667297116510427, 'val_accuracy': 0.7549}\n",
      "WARNING:tensorflow:Can save best model only with val_acc available, skipping.\n"
     ]
    },
    {
     "name": "stderr",
     "output_type": "stream",
     "text": [
      "WARNING:tensorflow:Can save best model only with val_acc available, skipping.\n"
     ]
    },
    {
     "name": "stdout",
     "output_type": "stream",
     "text": [
      "Epoch 77 ends at 16:47:45.896003: {'loss': 0.2631460512638092, 'accuracy': 0.9049, 'val_loss': 0.807817159374808, 'val_accuracy': 0.7733}\n",
      "WARNING:tensorflow:Can save best model only with val_acc available, skipping.\n"
     ]
    },
    {
     "name": "stderr",
     "output_type": "stream",
     "text": [
      "WARNING:tensorflow:Can save best model only with val_acc available, skipping.\n"
     ]
    },
    {
     "name": "stdout",
     "output_type": "stream",
     "text": [
      "Epoch 78 ends at 16:48:13.465137: {'loss': 0.2669034168601036, 'accuracy': 0.902525, 'val_loss': 0.7683581047377009, 'val_accuracy': 0.7799}\n",
      "WARNING:tensorflow:Can save best model only with val_acc available, skipping.\n"
     ]
    },
    {
     "name": "stderr",
     "output_type": "stream",
     "text": [
      "WARNING:tensorflow:Can save best model only with val_acc available, skipping.\n"
     ]
    },
    {
     "name": "stdout",
     "output_type": "stream",
     "text": [
      "Epoch 79 ends at 16:48:42.053700: {'loss': 0.2678233012080193, 'accuracy': 0.9017, 'val_loss': 0.8350387917962044, 'val_accuracy': 0.7605}\n"
     ]
    }
   ],
   "source": [
    "history = model.fit(train_data,\n",
    "                    epochs=80,\n",
    "                    validation_data=valid_data,\n",
    "                    verbose=0,\n",
    "                    callbacks=[cp_callback, MyCallback()])"
   ]
  },
  {
   "cell_type": "code",
   "execution_count": 11,
   "metadata": {
    "scrolled": true
   },
   "outputs": [
    {
     "name": "stdout",
     "output_type": "stream",
     "text": [
      "157/157 [==============================].7654 - accuracy: 0.79 - 0s 52ms/step - loss: 0.7102 - accuracy: 0.78 - 0s 50ms/step - loss: 0.7013 - accuracy: 0.79 - 0s 47ms/step - loss: 0.7346 - accuracy: 0.78 - 0s 49ms/step - loss: 0.6722 - accuracy: 0.79 - 0s 47ms/step - loss: 0.6413 - accuracy: 0.81 - 0s 47ms/step - loss: 0.6629 - accuracy: 0.80 - 0s 46ms/step - loss: 0.7158 - accuracy: 0.78 - 0s 47ms/step - loss: 0.7268 - accuracy: 0.78 - 0s 47ms/step - loss: 0.7670 - accuracy: 0.78 - 0s 45ms/step - loss: 0.7604 - accuracy: 0.79 - 1s 45ms/step - loss: 0.7590 - accuracy: 0.78 - 1s 44ms/step - loss: 0.7588 - accuracy: 0.78 - 1s 44ms/step - loss: 0.7549 - accuracy: 0.78 - 1s 44ms/step - loss: 0.7646 - accuracy: 0.78 - 1s 43ms/step - loss: 0.8016 - accuracy: 0.77 - 1s 43ms/step - loss: 0.8145 - accuracy: 0.77 - 1s 43ms/step - loss: 0.8230 - accuracy: 0.77 - 1s 43ms/step - loss: 0.8227 - accuracy: 0.76 - 1s 42ms/step - loss: 0.8329 - accuracy: 0.76 - 1s 42ms/step - loss: 0.8150 - accuracy: 0.76 - 1s 42ms/step - loss: 0.8038 - accuracy: 0.77 - 1s 42ms/step - loss: 0.7971 - accuracy: 0.77 - 1s 42ms/step - loss: 0.7875 - accuracy: 0.77 - 1s 42ms/step - loss: 0.7856 - accuracy: 0.77 - 1s 41ms/step - loss: 0.7828 - accuracy: 0.77 - 1s 41ms/step - loss: 0.7806 - accuracy: 0.77 - 1s 41ms/step - loss: 0.7772 - accuracy: 0.77 - 1s 41ms/step - loss: 0.7778 - accuracy: 0.77 - 1s 41ms/step - loss: 0.7795 - accuracy: 0.77 - 1s 41ms/step - loss: 0.7725 - accuracy: 0.77 - 1s 41ms/step - loss: 0.7681 - accuracy: 0.77 - 1s 41ms/step - loss: 0.7796 - accuracy: 0.77 - 1s 41ms/step - loss: 0.7828 - accuracy: 0.77 - 1s 41ms/step - loss: 0.7833 - accuracy: 0.77 - 1s 41ms/step - loss: 0.7845 - accuracy: 0.77 - 2s 41ms/step - loss: 0.7953 - accuracy: 0.76 - 2s 41ms/step - loss: 0.7898 - accuracy: 0.77 - 2s 41ms/step - loss: 0.7915 - accuracy: 0.77 - 2s 40ms/step - loss: 0.7930 - accuracy: 0.77 - 2s 40ms/step - loss: 0.7984 - accuracy: 0.77 - 2s 40ms/step - loss: 0.7979 - accuracy: 0.77 - 2s 40ms/step - loss: 0.7982 - accuracy: 0.77 - 2s 40ms/step - loss: 0.8159 - accuracy: 0.76 - 2s 40ms/step - loss: 0.8119 - accuracy: 0.76 - 2s 40ms/step - loss: 0.8137 - accuracy: 0.76 - 2s 40ms/step - loss: 0.8088 - accuracy: 0.77 - 2s 40ms/step - loss: 0.8046 - accuracy: 0.77 - 2s 40ms/step - loss: 0.8084 - accuracy: 0.77 - 2s 40ms/step - loss: 0.8021 - accuracy: 0.77 - 2s 39ms/step - loss: 0.7969 - accuracy: 0.77 - 2s 39ms/step - loss: 0.8027 - accuracy: 0.77 - 2s 39ms/step - loss: 0.8139 - accuracy: 0.76 - 2s 39ms/step - loss: 0.8178 - accuracy: 0.76 - 2s 39ms/step - loss: 0.8163 - accuracy: 0.76 - 2s 39ms/step - loss: 0.8134 - accuracy: 0.76 - 2s 39ms/step - loss: 0.8124 - accuracy: 0.76 - 2s 39ms/step - loss: 0.8126 - accuracy: 0.76 - 2s 39ms/step - loss: 0.8163 - accuracy: 0.76 - 2s 39ms/step - loss: 0.8199 - accuracy: 0.76 - 2s 39ms/step - loss: 0.8132 - accuracy: 0.76 - 2s 39ms/step - loss: 0.8159 - accuracy: 0.76 - 2s 38ms/step - loss: 0.8150 - accuracy: 0.76 - 2s 39ms/step - loss: 0.8207 - accuracy: 0.76 - 3s 38ms/step - loss: 0.8227 - accuracy: 0.76 - 3s 38ms/step - loss: 0.8250 - accuracy: 0.76 - 3s 38ms/step - loss: 0.8287 - accuracy: 0.76 - 3s 38ms/step - loss: 0.8344 - accuracy: 0.76 - 3s 38ms/step - loss: 0.8290 - accuracy: 0.76 - 3s 38ms/step - loss: 0.8342 - accuracy: 0.76 - 3s 38ms/step - loss: 0.8395 - accuracy: 0.76 - 3s 38ms/step - loss: 0.8404 - accuracy: 0.76 - 3s 38ms/step - loss: 0.8481 - accuracy: 0.76 - 3s 38ms/step - loss: 0.8459 - accuracy: 0.76 - 3s 38ms/step - loss: 0.8475 - accuracy: 0.76 - 3s 38ms/step - loss: 0.8456 - accuracy: 0.76 - 3s 38ms/step - loss: 0.8429 - accuracy: 0.76 - 3s 38ms/step - loss: 0.8396 - accuracy: 0.76 - 3s 37ms/step - loss: 0.8398 - accuracy: 0.76 - 3s 38ms/step - loss: 0.8384 - accuracy: 0.76 - 3s 38ms/step - loss: 0.8383 - accuracy: 0.76 - 3s 37ms/step - loss: 0.8377 - accuracy: 0.76 - 3s 37ms/step - loss: 0.8374 - accuracy: 0.76 - 3s 37ms/step - loss: 0.8347 - accuracy: 0.76 - 3s 37ms/step - loss: 0.8354 - accuracy: 0.76 - 3s 37ms/step - loss: 0.8372 - accuracy: 0.76 - 3s 37ms/step - loss: 0.8385 - accuracy: 0.76 - 3s 37ms/step - loss: 0.8408 - accuracy: 0.76 - 3s 37ms/step - loss: 0.8397 - accuracy: 0.76 - 3s 37ms/step - loss: 0.8410 - accuracy: 0.76 - 3s 37ms/step - loss: 0.8403 - accuracy: 0.76 - 3s 37ms/step - loss: 0.8397 - accuracy: 0.76 - 3s 37ms/step - loss: 0.8380 - accuracy: 0.76 - 3s 37ms/step - loss: 0.8408 - accuracy: 0.76 - 4s 37ms/step - loss: 0.8426 - accuracy: 0.76 - 4s 37ms/step - loss: 0.8438 - accuracy: 0.76 - 4s 37ms/step - loss: 0.8454 - accuracy: 0.75 - 4s 37ms/step - loss: 0.8439 - accuracy: 0.76 - 4s 37ms/step - loss: 0.8432 - accuracy: 0.76 - 4s 37ms/step - loss: 0.8448 - accuracy: 0.76 - 4s 37ms/step - loss: 0.8461 - accuracy: 0.76 - 4s 37ms/step - loss: 0.8435 - accuracy: 0.76 - 4s 37ms/step - loss: 0.8446 - accuracy: 0.76 - 4s 37ms/step - loss: 0.8475 - accuracy: 0.76 - 4s 37ms/step - loss: 0.8480 - accuracy: 0.75 - 4s 37ms/step - loss: 0.8511 - accuracy: 0.75 - 4s 37ms/step - loss: 0.8539 - accuracy: 0.75 - 4s 37ms/step - loss: 0.8551 - accuracy: 0.75 - 4s 37ms/step - loss: 0.8574 - accuracy: 0.75 - 4s 37ms/step - loss: 0.8621 - accuracy: 0.75 - 4s 37ms/step - loss: 0.8618 - accuracy: 0.75 - 4s 37ms/step - loss: 0.8646 - accuracy: 0.75 - 4s 37ms/step - loss: 0.8684 - accuracy: 0.75 - 4s 37ms/step - loss: 0.8666 - accuracy: 0.75 - 4s 37ms/step - loss: 0.8690 - accuracy: 0.75 - 4s 37ms/step - loss: 0.8700 - accuracy: 0.75 - 4s 37ms/step - loss: 0.8690 - accuracy: 0.75 - 4s 37ms/step - loss: 0.8711 - accuracy: 0.75 - 4s 37ms/step - loss: 0.8696 - accuracy: 0.75 - 4s 37ms/step - loss: 0.8704 - accuracy: 0.75 - 4s 37ms/step - loss: 0.8709 - accuracy: 0.75 - 4s 37ms/step - loss: 0.8693 - accuracy: 0.75 - 4s 37ms/step - loss: 0.8679 - accuracy: 0.75 - 5s 36ms/step - loss: 0.8674 - accuracy: 0.75 - 5s 36ms/step - loss: 0.8650 - accuracy: 0.75 - 5s 36ms/step - loss: 0.8643 - accuracy: 0.75 - 5s 36ms/step - loss: 0.8659 - accuracy: 0.75 - 5s 36ms/step - loss: 0.8656 - accuracy: 0.75 - 5s 36ms/step - loss: 0.8641 - accuracy: 0.75 - 5s 36ms/step - loss: 0.8645 - accuracy: 0.75 - 5s 36ms/step - loss: 0.8630 - accuracy: 0.75 - 5s 36ms/step - loss: 0.8611 - accuracy: 0.75 - 5s 36ms/step - loss: 0.8608 - accuracy: 0.75 - 5s 36ms/step - loss: 0.8621 - accuracy: 0.75 - 5s 36ms/step - loss: 0.8613 - accuracy: 0.75 - 5s 36ms/step - loss: 0.8629 - accuracy: 0.75 - 5s 36ms/step - loss: 0.8630 - accuracy: 0.75 - 5s 36ms/step - loss: 0.8631 - accuracy: 0.75 - 5s 36ms/step - loss: 0.8663 - accuracy: 0.75 - 5s 36ms/step - loss: 0.8639 - accuracy: 0.75 - 5s 36ms/step - loss: 0.8648 - accuracy: 0.75 - 5s 36ms/step - loss: 0.8638 - accuracy: 0.75 - 5s 36ms/step - loss: 0.8642 - accuracy: 0.75 - 5s 36ms/step - loss: 0.8625 - accuracy: 0.75 - 5s 36ms/step - loss: 0.8614 - accuracy: 0.75 - 5s 36ms/step - loss: 0.8614 - accuracy: 0.75 - 5s 36ms/step - loss: 0.8612 - accuracy: 0.75 - 5s 36ms/step - loss: 0.8619 - accuracy: 0.75 - 5s 36ms/step - loss: 0.8609 - accuracy: 0.75 - 5s 36ms/step - loss: 0.8625 - accuracy: 0.75 - 5s 36ms/step - loss: 0.8617 - accuracy: 0.75 - 5s 36ms/step - loss: 0.8613 - accuracy: 0.75 - 5s 36ms/step - loss: 0.8592 - accuracy: 0.75 - 5s 36ms/step - loss: 0.8592 - accuracy: 0.75 - 6s 36ms/step - loss: 0.8597 - accuracy: 0.75 - 6s 35ms/step - loss: 0.8616 - accuracy: 0.75 - 6s 35ms/step - loss: 0.8591 - accuracy: 0.75 - 6s 37ms/step - loss: 0.8591 - accuracy: 0.7573\n"
     ]
    },
    {
     "data": {
      "text/plain": [
       "[0.8590663565192252, 0.7573]"
      ]
     },
     "execution_count": 11,
     "metadata": {},
     "output_type": "execute_result"
    }
   ],
   "source": [
    "model.evaluate(test_data)"
   ]
  },
  {
   "cell_type": "code",
   "execution_count": 12,
   "metadata": {},
   "outputs": [
    {
     "ename": "OSError",
     "evalue": "SavedModel file does not exist at: checkpoints/20191028-161157.hdf5/{saved_model.pbtxt|saved_model.pb}",
     "output_type": "error",
     "traceback": [
      "\u001b[1;31m---------------------------------------------------------------------------\u001b[0m",
      "\u001b[1;31mOSError\u001b[0m                                   Traceback (most recent call last)",
      "\u001b[1;32m<ipython-input-12-aea2af40ecff>\u001b[0m in \u001b[0;36m<module>\u001b[1;34m\u001b[0m\n\u001b[1;32m----> 1\u001b[1;33m \u001b[0mm\u001b[0m \u001b[1;33m=\u001b[0m \u001b[0mtf\u001b[0m\u001b[1;33m.\u001b[0m\u001b[0mkeras\u001b[0m\u001b[1;33m.\u001b[0m\u001b[0mmodels\u001b[0m\u001b[1;33m.\u001b[0m\u001b[0mload_model\u001b[0m\u001b[1;33m(\u001b[0m\u001b[1;34m'checkpoints/{}.hdf5'\u001b[0m\u001b[1;33m.\u001b[0m\u001b[0mformat\u001b[0m\u001b[1;33m(\u001b[0m\u001b[0mdt\u001b[0m\u001b[1;33m)\u001b[0m\u001b[1;33m)\u001b[0m\u001b[1;33m\u001b[0m\u001b[1;33m\u001b[0m\u001b[0m\n\u001b[0m",
      "\u001b[1;32m~\\Anaconda3\\lib\\site-packages\\tensorflow_core\\python\\keras\\saving\\save.py\u001b[0m in \u001b[0;36mload_model\u001b[1;34m(filepath, custom_objects, compile)\u001b[0m\n\u001b[0;32m    147\u001b[0m \u001b[1;33m\u001b[0m\u001b[0m\n\u001b[0;32m    148\u001b[0m   \u001b[1;32mif\u001b[0m \u001b[0misinstance\u001b[0m\u001b[1;33m(\u001b[0m\u001b[0mfilepath\u001b[0m\u001b[1;33m,\u001b[0m \u001b[0msix\u001b[0m\u001b[1;33m.\u001b[0m\u001b[0mstring_types\u001b[0m\u001b[1;33m)\u001b[0m\u001b[1;33m:\u001b[0m\u001b[1;33m\u001b[0m\u001b[1;33m\u001b[0m\u001b[0m\n\u001b[1;32m--> 149\u001b[1;33m     \u001b[0mloader_impl\u001b[0m\u001b[1;33m.\u001b[0m\u001b[0mparse_saved_model\u001b[0m\u001b[1;33m(\u001b[0m\u001b[0mfilepath\u001b[0m\u001b[1;33m)\u001b[0m\u001b[1;33m\u001b[0m\u001b[1;33m\u001b[0m\u001b[0m\n\u001b[0m\u001b[0;32m    150\u001b[0m     \u001b[1;32mreturn\u001b[0m \u001b[0msaved_model_load\u001b[0m\u001b[1;33m.\u001b[0m\u001b[0mload\u001b[0m\u001b[1;33m(\u001b[0m\u001b[0mfilepath\u001b[0m\u001b[1;33m,\u001b[0m \u001b[0mcompile\u001b[0m\u001b[1;33m)\u001b[0m\u001b[1;33m\u001b[0m\u001b[1;33m\u001b[0m\u001b[0m\n\u001b[0;32m    151\u001b[0m \u001b[1;33m\u001b[0m\u001b[0m\n",
      "\u001b[1;32m~\\Anaconda3\\lib\\site-packages\\tensorflow_core\\python\\saved_model\\loader_impl.py\u001b[0m in \u001b[0;36mparse_saved_model\u001b[1;34m(export_dir)\u001b[0m\n\u001b[0;32m     81\u001b[0m                   (export_dir,\n\u001b[0;32m     82\u001b[0m                    \u001b[0mconstants\u001b[0m\u001b[1;33m.\u001b[0m\u001b[0mSAVED_MODEL_FILENAME_PBTXT\u001b[0m\u001b[1;33m,\u001b[0m\u001b[1;33m\u001b[0m\u001b[1;33m\u001b[0m\u001b[0m\n\u001b[1;32m---> 83\u001b[1;33m                    constants.SAVED_MODEL_FILENAME_PB))\n\u001b[0m\u001b[0;32m     84\u001b[0m \u001b[1;33m\u001b[0m\u001b[0m\n\u001b[0;32m     85\u001b[0m \u001b[1;33m\u001b[0m\u001b[0m\n",
      "\u001b[1;31mOSError\u001b[0m: SavedModel file does not exist at: checkpoints/20191028-161157.hdf5/{saved_model.pbtxt|saved_model.pb}"
     ]
    }
   ],
   "source": [
    "m = tf.keras.models.load_model('checkpoints/{}.hdf5'.format(dt))"
   ]
  },
  {
   "cell_type": "code",
   "execution_count": null,
   "metadata": {},
   "outputs": [],
   "source": []
  }
 ],
 "metadata": {
  "kernelspec": {
   "display_name": "Python 3",
   "language": "python",
   "name": "python3"
  },
  "language_info": {
   "codemirror_mode": {
    "name": "ipython",
    "version": 3
   },
   "file_extension": ".py",
   "mimetype": "text/x-python",
   "name": "python",
   "nbconvert_exporter": "python",
   "pygments_lexer": "ipython3",
   "version": "3.6.9"
  }
 },
 "nbformat": 4,
 "nbformat_minor": 2
}
