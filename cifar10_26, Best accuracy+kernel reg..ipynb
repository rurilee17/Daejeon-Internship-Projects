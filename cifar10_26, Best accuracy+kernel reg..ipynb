{
 "cells": [
  {
   "cell_type": "code",
   "execution_count": 1,
   "metadata": {},
   "outputs": [
    {
     "name": "stdout",
     "output_type": "stream",
     "text": [
      "Requirement already satisfied: tensorflow-datasets in c:\\users\\affinity\\anaconda3\\lib\\site-packages (1.3.0)\n",
      "Requirement already satisfied: requests>=2.19.0 in c:\\users\\affinity\\anaconda3\\lib\\site-packages (from tensorflow-datasets) (2.22.0)\n",
      "Requirement already satisfied: tensorflow-metadata in c:\\users\\affinity\\anaconda3\\lib\\site-packages (from tensorflow-datasets) (0.15.0)\n",
      "Requirement already satisfied: promise in c:\\users\\affinity\\anaconda3\\lib\\site-packages (from tensorflow-datasets) (2.2.1)\n",
      "Requirement already satisfied: attrs in c:\\users\\affinity\\anaconda3\\lib\\site-packages (from tensorflow-datasets) (19.3.0)\n",
      "Requirement already satisfied: wrapt in c:\\users\\affinity\\anaconda3\\lib\\site-packages (from tensorflow-datasets) (1.11.2)\n",
      "Requirement already satisfied: six in c:\\users\\affinity\\anaconda3\\lib\\site-packages (from tensorflow-datasets) (1.12.0)\n",
      "Requirement already satisfied: numpy in c:\\users\\affinity\\anaconda3\\lib\\site-packages (from tensorflow-datasets) (1.16.5)\n",
      "Requirement already satisfied: protobuf>=3.6.1 in c:\\users\\affinity\\anaconda3\\lib\\site-packages (from tensorflow-datasets) (3.9.2)\n",
      "Requirement already satisfied: absl-py in c:\\users\\affinity\\anaconda3\\lib\\site-packages (from tensorflow-datasets) (0.8.0)\n",
      "Requirement already satisfied: tqdm in c:\\users\\affinity\\anaconda3\\lib\\site-packages (from tensorflow-datasets) (4.36.1)\n",
      "Requirement already satisfied: dill in c:\\users\\affinity\\anaconda3\\lib\\site-packages (from tensorflow-datasets) (0.3.1.1)\n",
      "Requirement already satisfied: termcolor in c:\\users\\affinity\\anaconda3\\lib\\site-packages (from tensorflow-datasets) (1.1.0)\n",
      "Requirement already satisfied: future in c:\\users\\affinity\\anaconda3\\lib\\site-packages (from tensorflow-datasets) (0.17.1)\n",
      "Requirement already satisfied: urllib3!=1.25.0,!=1.25.1,<1.26,>=1.21.1 in c:\\users\\affinity\\anaconda3\\lib\\site-packages (from requests>=2.19.0->tensorflow-datasets) (1.24.2)\n",
      "Requirement already satisfied: certifi>=2017.4.17 in c:\\users\\affinity\\anaconda3\\lib\\site-packages (from requests>=2.19.0->tensorflow-datasets) (2019.9.11)\n",
      "Requirement already satisfied: chardet<3.1.0,>=3.0.2 in c:\\users\\affinity\\anaconda3\\lib\\site-packages (from requests>=2.19.0->tensorflow-datasets) (3.0.4)\n",
      "Requirement already satisfied: idna<2.9,>=2.5 in c:\\users\\affinity\\anaconda3\\lib\\site-packages (from requests>=2.19.0->tensorflow-datasets) (2.8)\n",
      "Requirement already satisfied: googleapis-common-protos in c:\\users\\affinity\\anaconda3\\lib\\site-packages (from tensorflow-metadata->tensorflow-datasets) (1.6.0)\n",
      "Requirement already satisfied: setuptools in c:\\users\\affinity\\anaconda3\\lib\\site-packages (from protobuf>=3.6.1->tensorflow-datasets) (41.4.0)\n"
     ]
    }
   ],
   "source": [
    "!pip install tensorflow-datasets"
   ]
  },
  {
   "cell_type": "code",
   "execution_count": 2,
   "metadata": {},
   "outputs": [
    {
     "name": "stdout",
     "output_type": "stream",
     "text": [
      "Requirement already up-to-date: pip in c:\\users\\affinity\\anaconda3\\lib\\site-packages (19.3.1)\n"
     ]
    }
   ],
   "source": [
    "!python -m pip install --upgrade pip"
   ]
  },
  {
   "cell_type": "code",
   "execution_count": 3,
   "metadata": {},
   "outputs": [
    {
     "name": "stderr",
     "output_type": "stream",
     "text": [
      "Using TensorFlow backend.\n"
     ]
    }
   ],
   "source": [
    "import tensorflow as tf\n",
    "import tensorflow_datasets as tfds\n",
    "from keras.models import load_model\n",
    "from datetime import datetime\n",
    "from keras import regularizers\n",
    "#tf.enable_eager_execution()"
   ]
  },
  {
   "cell_type": "code",
   "execution_count": 4,
   "metadata": {},
   "outputs": [],
   "source": [
    "train_data = tfds.load(name='cifar10:3.*.*', split='train[:80%]', as_supervised=True)\n",
    "valid_data = tfds.load(name='cifar10:3.*.*', split='train[80%:]', as_supervised=True)\n",
    "test_data = tfds.load(name='cifar10:3.*.*', split='test', as_supervised=True)"
   ]
  },
  {
   "cell_type": "code",
   "execution_count": 5,
   "metadata": {},
   "outputs": [],
   "source": [
    "def scale(image, label):\n",
    "    image = tf.cast(image, tf.float32)\n",
    "    image /= 255\n",
    "    image = tf.image.random_contrast(image, lower=2.0, upper=2.0)\n",
    "    image = tf.image.random_flip_left_right(image)\n",
    "    image = tf.image.random_hue(image, max_delta = 0.8)\n",
    "    image = tf.image.random_saturation(image, lower=2.0, upper=2.0)\n",
    "    return image, label"
   ]
  },
  {
   "cell_type": "code",
   "execution_count": 6,
   "metadata": {},
   "outputs": [
    {
     "name": "stdout",
     "output_type": "stream",
     "text": [
      "Model: \"sequential\"\n",
      "_________________________________________________________________\n",
      "Layer (type)                 Output Shape              Param #   \n",
      "=================================================================\n",
      "conv2d (Conv2D)              (None, 32, 32, 128)       3584      \n",
      "_________________________________________________________________\n",
      "batch_normalization (BatchNo (None, 32, 32, 128)       512       \n",
      "_________________________________________________________________\n",
      "max_pooling2d (MaxPooling2D) (None, 16, 16, 128)       0         \n",
      "_________________________________________________________________\n",
      "conv2d_1 (Conv2D)            (None, 16, 16, 256)       295168    \n",
      "_________________________________________________________________\n",
      "conv2d_2 (Conv2D)            (None, 16, 16, 256)       590080    \n",
      "_________________________________________________________________\n",
      "batch_normalization_1 (Batch (None, 16, 16, 256)       1024      \n",
      "_________________________________________________________________\n",
      "max_pooling2d_1 (MaxPooling2 (None, 8, 8, 256)         0         \n",
      "_________________________________________________________________\n",
      "dropout (Dropout)            (None, 8, 8, 256)         0         \n",
      "_________________________________________________________________\n",
      "conv2d_3 (Conv2D)            (None, 8, 8, 256)         590080    \n",
      "_________________________________________________________________\n",
      "conv2d_4 (Conv2D)            (None, 8, 8, 256)         590080    \n",
      "_________________________________________________________________\n",
      "batch_normalization_2 (Batch (None, 8, 8, 256)         1024      \n",
      "_________________________________________________________________\n",
      "max_pooling2d_2 (MaxPooling2 (None, 4, 4, 256)         0         \n",
      "_________________________________________________________________\n",
      "dropout_1 (Dropout)          (None, 4, 4, 256)         0         \n",
      "_________________________________________________________________\n",
      "conv2d_5 (Conv2D)            (None, 4, 4, 512)         1180160   \n",
      "_________________________________________________________________\n",
      "conv2d_6 (Conv2D)            (None, 4, 4, 512)         2359808   \n",
      "_________________________________________________________________\n",
      "batch_normalization_3 (Batch (None, 4, 4, 512)         2048      \n",
      "_________________________________________________________________\n",
      "max_pooling2d_3 (MaxPooling2 (None, 2, 2, 512)         0         \n",
      "_________________________________________________________________\n",
      "flatten (Flatten)            (None, 2048)              0         \n",
      "_________________________________________________________________\n",
      "dropout_2 (Dropout)          (None, 2048)              0         \n",
      "_________________________________________________________________\n",
      "dense (Dense)                (None, 10)                20490     \n",
      "=================================================================\n",
      "Total params: 5,634,058\n",
      "Trainable params: 5,631,754\n",
      "Non-trainable params: 2,304\n",
      "_________________________________________________________________\n"
     ]
    }
   ],
   "source": [
    "model = tf.keras.Sequential([\n",
    "    tf.keras.layers.Conv2D(128, 3, kernel_regularizer=regularizers.l2(0.001), activation='relu', padding='same', input_shape=(32, 32, 3)),\n",
    "    tf.keras.layers.BatchNormalization(),  # Gradient Vanishing / Gradient Exploding 이 일어나지 않도록 하는 아이디어 중의 하나이다\n",
    "    tf.keras.layers.MaxPooling2D(),\n",
    "    tf.keras.layers.Conv2D(256, 3, kernel_regularizer=regularizers.l2(0.001),activation='relu', padding='same'),\n",
    "    tf.keras.layers.Conv2D(256, 3,kernel_regularizer=regularizers.l2(0.001), activation='relu', padding='same'),\n",
    "    tf.keras.layers.BatchNormalization(),\n",
    "    tf.keras.layers.MaxPooling2D(),\n",
    "    tf.keras.layers.Dropout(0.4),\n",
    "    tf.keras.layers.Conv2D(256, 3,kernel_regularizer=regularizers.l2(0.001), activation='relu', padding='same'),\n",
    "    tf.keras.layers.Conv2D(256, 3, kernel_regularizer=regularizers.l2(0.001),activation='relu', padding='same'),\n",
    "    tf.keras.layers.BatchNormalization(),\n",
    "    tf.keras.layers.MaxPooling2D(),\n",
    "    tf.keras.layers.Dropout(0.4),\n",
    "    tf.keras.layers.Conv2D(512, 3,kernel_regularizer=regularizers.l2(0.001), activation='relu', padding='same'),\n",
    "    tf.keras.layers.Conv2D(512, 3, kernel_regularizer=regularizers.l2(0.001),activation='relu', padding='same'),\n",
    "    tf.keras.layers.BatchNormalization(),\n",
    "    tf.keras.layers.MaxPooling2D(),\n",
    "    tf.keras.layers.Flatten(),\n",
    "    tf.keras.layers.Dropout(0.4),\n",
    "    tf.keras.layers.Dense(10, activation='softmax')\n",
    "    \n",
    "])\n",
    "model.summary()"
   ]
  },
  {
   "cell_type": "code",
   "execution_count": 7,
   "metadata": {},
   "outputs": [],
   "source": [
    "model.compile(optimizer='adam',\n",
    "              loss='sparse_categorical_crossentropy',\n",
    "              metrics=['accuracy'])"
   ]
  },
  {
   "cell_type": "code",
   "execution_count": 8,
   "metadata": {},
   "outputs": [],
   "source": [
    "def scale(image, label):\n",
    "    image = tf.cast(image, tf.float32)\n",
    "    image /= 255\n",
    "    return image, label\n",
    "\n",
    "train_data = train_data.map(scale).shuffle(50000).repeat(4).batch(64) \n",
    "valid_data = valid_data.map(scale).batch(64)\n",
    "test_data = test_data.map(scale).batch(64)"
   ]
  },
  {
   "cell_type": "code",
   "execution_count": 9,
   "metadata": {},
   "outputs": [],
   "source": [
    "dt = datetime.now().strftime('%Y%m%d-%H%M%S')\n",
    "\n",
    "cp_callback = tf.keras.callbacks.ModelCheckpoint(   \n",
    "    'checkpoints/{}.hdf5'.format(dt),\n",
    "    monitor='val_accuracy',\n",
    "    save_best_only=True)"
   ]
  },
  {
   "cell_type": "code",
   "execution_count": 10,
   "metadata": {},
   "outputs": [],
   "source": [
    "class MyCallback(tf.keras.callbacks.Callback):\n",
    "\n",
    "    def on_epoch_start(self, epoch, logs=None):\n",
    "        print('Epoch {} begins at {}: {}'.format(epoch, datetime.now().time(), logs))\n",
    "\n",
    "    def on_epoch_end(self, epoch, logs=None):\n",
    "        print('Epoch {} ends at {}: {}'.format(epoch, datetime.now().time(), logs))"
   ]
  },
  {
   "cell_type": "code",
   "execution_count": 11,
   "metadata": {},
   "outputs": [
    {
     "name": "stdout",
     "output_type": "stream",
     "text": [
      "Epoch 0 ends at 16:15:12.093907: {'loss': 3.0550675556182862, 'accuracy': 0.4583625, 'val_loss': 18.845792284437046, 'val_accuracy': 0.3203}\n",
      "Epoch 1 ends at 16:19:46.106354: {'loss': 2.0074566781044005, 'accuracy': 0.5946875, 'val_loss': 1.7870584210013127, 'val_accuracy': 0.5873}\n",
      "Epoch 2 ends at 16:24:29.631514: {'loss': 1.464357743024826, 'accuracy': 0.68518126, 'val_loss': 1.486431313168471, 'val_accuracy': 0.6571}\n",
      "Epoch 3 ends at 16:29:02.530321: {'loss': 1.2397050529241562, 'accuracy': 0.73244375, 'val_loss': 1.2138441751717002, 'val_accuracy': 0.7329}\n",
      "Epoch 4 ends at 16:33:30.565408: {'loss': 1.1078958471059799, 'accuracy': 0.76259375, 'val_loss': 1.2304117907384398, 'val_accuracy': 0.7221}\n",
      "Epoch 5 ends at 16:38:06.008965: {'loss': 1.0271761696338653, 'accuracy': 0.78361875, 'val_loss': 1.0313146034623408, 'val_accuracy': 0.7794}\n",
      "Epoch 6 ends at 16:42:53.275781: {'loss': 0.9805133419990539, 'accuracy': 0.7969813, 'val_loss': 0.9990640464861682, 'val_accuracy': 0.7907}\n",
      "Epoch 7 ends at 16:47:42.674323: {'loss': 0.9480930145740509, 'accuracy': 0.8068625, 'val_loss': 1.0045452129309345, 'val_accuracy': 0.792}\n",
      "Epoch 8 ends at 16:52:25.948114: {'loss': 0.9252557471513748, 'accuracy': 0.8132188, 'val_loss': 1.084571219173966, 'val_accuracy': 0.7672}\n",
      "Epoch 9 ends at 16:57:14.083857: {'loss': 0.9050828604459763, 'accuracy': 0.81891876, 'val_loss': 0.9632502877788179, 'val_accuracy': 0.7982}\n",
      "Epoch 10 ends at 17:01:57.730204: {'loss': 0.8923291851997376, 'accuracy': 0.8218125, 'val_loss': 1.0430163593049262, 'val_accuracy': 0.7694}\n",
      "Epoch 11 ends at 17:06:52.915351: {'loss': 0.8798913180589676, 'accuracy': 0.82623124, 'val_loss': 1.030870050381703, 'val_accuracy': 0.7758}\n",
      "Epoch 12 ends at 17:11:40.703446: {'loss': 0.8709957235574722, 'accuracy': 0.8280125, 'val_loss': 1.0715222525748478, 'val_accuracy': 0.765}\n",
      "Epoch 13 ends at 17:16:15.796997: {'loss': 0.8623235726356506, 'accuracy': 0.83085626, 'val_loss': 0.9160325933413901, 'val_accuracy': 0.8179}\n",
      "Epoch 14 ends at 17:20:57.962033: {'loss': 0.8543994280338287, 'accuracy': 0.83353126, 'val_loss': 0.9871614340004647, 'val_accuracy': 0.7888}\n",
      "Epoch 15 ends at 17:25:32.244228: {'loss': 0.8470889925956726, 'accuracy': 0.8363875, 'val_loss': 1.0088122339005683, 'val_accuracy': 0.7809}\n",
      "Epoch 16 ends at 17:30:13.148080: {'loss': 0.8420652329444885, 'accuracy': 0.8360438, 'val_loss': 0.9892281487489202, 'val_accuracy': 0.7914}\n",
      "Epoch 17 ends at 17:34:43.168119: {'loss': 0.8371731923103333, 'accuracy': 0.83931875, 'val_loss': 0.8995830921610449, 'val_accuracy': 0.8173}\n",
      "Epoch 18 ends at 17:39:13.211948: {'loss': 0.8327626563310623, 'accuracy': 0.83985627, 'val_loss': 1.0456532072869076, 'val_accuracy': 0.7745}\n",
      "Epoch 19 ends at 17:43:45.726908: {'loss': 0.8310059008121491, 'accuracy': 0.83941877, 'val_loss': 1.1768130565145214, 'val_accuracy': 0.7358}\n",
      "Epoch 20 ends at 17:48:17.957029: {'loss': 0.8279977653264999, 'accuracy': 0.84093124, 'val_loss': 0.9764920556621187, 'val_accuracy': 0.7954}\n",
      "Epoch 21 ends at 17:52:45.068010: {'loss': 0.8229254621267319, 'accuracy': 0.84203124, 'val_loss': 0.9477837393238286, 'val_accuracy': 0.8013}\n",
      "Epoch 22 ends at 17:57:16.351982: {'loss': 0.8212125706195831, 'accuracy': 0.84314376, 'val_loss': 1.1228418448928055, 'val_accuracy': 0.7529}\n",
      "Epoch 23 ends at 18:01:48.909316: {'loss': 0.8151657557249069, 'accuracy': 0.8437688, 'val_loss': 0.9942783667783069, 'val_accuracy': 0.7836}\n",
      "Epoch 24 ends at 18:06:27.065160: {'loss': 0.8106397368788719, 'accuracy': 0.845975, 'val_loss': 0.9845965967816153, 'val_accuracy': 0.7875}\n"
     ]
    }
   ],
   "source": [
    "history = model.fit(train_data,\n",
    "                    epochs=25,\n",
    "                    validation_data=valid_data,\n",
    "                    verbose=0,\n",
    "                    callbacks=[cp_callback, MyCallback()])"
   ]
  },
  {
   "cell_type": "code",
   "execution_count": 12,
   "metadata": {
    "scrolled": true
   },
   "outputs": [
    {
     "name": "stdout",
     "output_type": "stream",
     "text": [
      "157/157 [==============================].9231 - accuracy: 0.76 - 0s 66ms/step - loss: 0.9691 - accuracy: 0.81 - 0s 60ms/step - loss: 0.9679 - accuracy: 0.81 - 0s 57ms/step - loss: 0.9299 - accuracy: 0.82 - 0s 55ms/step - loss: 0.9359 - accuracy: 0.80 - 0s 53ms/step - loss: 0.9170 - accuracy: 0.80 - 0s 51ms/step - loss: 0.9215 - accuracy: 0.81 - 0s 50ms/step - loss: 0.9561 - accuracy: 0.80 - 0s 49ms/step - loss: 0.9474 - accuracy: 0.80 - 0s 48ms/step - loss: 0.9503 - accuracy: 0.81 - 1s 47ms/step - loss: 0.9418 - accuracy: 0.81 - 1s 46ms/step - loss: 0.9495 - accuracy: 0.80 - 1s 45ms/step - loss: 0.9684 - accuracy: 0.80 - 1s 45ms/step - loss: 0.9682 - accuracy: 0.80 - 1s 45ms/step - loss: 0.9704 - accuracy: 0.80 - 1s 45ms/step - loss: 0.9744 - accuracy: 0.80 - 1s 45ms/step - loss: 0.9945 - accuracy: 0.79 - 1s 45ms/step - loss: 0.9986 - accuracy: 0.79 - 1s 44ms/step - loss: 0.9978 - accuracy: 0.79 - 1s 44ms/step - loss: 1.0105 - accuracy: 0.79 - 1s 44ms/step - loss: 0.9999 - accuracy: 0.79 - 1s 44ms/step - loss: 0.9896 - accuracy: 0.79 - 1s 44ms/step - loss: 0.9953 - accuracy: 0.79 - 1s 44ms/step - loss: 0.9952 - accuracy: 0.79 - 1s 43ms/step - loss: 1.0000 - accuracy: 0.79 - 1s 44ms/step - loss: 1.0022 - accuracy: 0.79 - 1s 44ms/step - loss: 1.0032 - accuracy: 0.79 - 1s 44ms/step - loss: 0.9990 - accuracy: 0.79 - 1s 44ms/step - loss: 1.0005 - accuracy: 0.79 - 1s 44ms/step - loss: 1.0006 - accuracy: 0.79 - 1s 44ms/step - loss: 0.9995 - accuracy: 0.79 - 1s 44ms/step - loss: 0.9987 - accuracy: 0.79 - 1s 44ms/step - loss: 0.9995 - accuracy: 0.79 - 1s 44ms/step - loss: 1.0075 - accuracy: 0.78 - 2s 44ms/step - loss: 1.0032 - accuracy: 0.78 - 2s 44ms/step - loss: 1.0001 - accuracy: 0.78 - 2s 44ms/step - loss: 1.0044 - accuracy: 0.78 - 2s 44ms/step - loss: 1.0019 - accuracy: 0.78 - 2s 44ms/step - loss: 1.0011 - accuracy: 0.78 - 2s 44ms/step - loss: 1.0006 - accuracy: 0.78 - 2s 43ms/step - loss: 1.0040 - accuracy: 0.78 - 2s 43ms/step - loss: 0.9994 - accuracy: 0.78 - 2s 43ms/step - loss: 1.0017 - accuracy: 0.78 - 2s 43ms/step - loss: 1.0006 - accuracy: 0.78 - 2s 43ms/step - loss: 0.9980 - accuracy: 0.78 - 2s 43ms/step - loss: 0.9953 - accuracy: 0.78 - 2s 43ms/step - loss: 0.9967 - accuracy: 0.78 - 2s 43ms/step - loss: 0.9939 - accuracy: 0.78 - 2s 43ms/step - loss: 0.9978 - accuracy: 0.78 - 2s 43ms/step - loss: 0.9917 - accuracy: 0.78 - 2s 43ms/step - loss: 0.9892 - accuracy: 0.78 - 2s 43ms/step - loss: 0.9934 - accuracy: 0.78 - 2s 43ms/step - loss: 0.9990 - accuracy: 0.78 - 2s 43ms/step - loss: 0.9997 - accuracy: 0.78 - 2s 43ms/step - loss: 0.9996 - accuracy: 0.78 - 2s 43ms/step - loss: 1.0010 - accuracy: 0.78 - 2s 43ms/step - loss: 1.0006 - accuracy: 0.78 - 2s 43ms/step - loss: 0.9984 - accuracy: 0.78 - 3s 43ms/step - loss: 0.9997 - accuracy: 0.78 - 3s 43ms/step - loss: 1.0046 - accuracy: 0.78 - 3s 43ms/step - loss: 1.0042 - accuracy: 0.78 - 3s 43ms/step - loss: 1.0050 - accuracy: 0.78 - 3s 43ms/step - loss: 1.0068 - accuracy: 0.78 - 3s 43ms/step - loss: 1.0075 - accuracy: 0.78 - 3s 43ms/step - loss: 1.0060 - accuracy: 0.78 - 3s 44ms/step - loss: 1.0083 - accuracy: 0.78 - 3s 44ms/step - loss: 1.0101 - accuracy: 0.78 - 3s 44ms/step - loss: 1.0147 - accuracy: 0.78 - 3s 44ms/step - loss: 1.0115 - accuracy: 0.78 - 3s 44ms/step - loss: 1.0110 - accuracy: 0.78 - 3s 44ms/step - loss: 1.0146 - accuracy: 0.78 - 3s 44ms/step - loss: 1.0145 - accuracy: 0.78 - 3s 44ms/step - loss: 1.0160 - accuracy: 0.78 - 3s 44ms/step - loss: 1.0120 - accuracy: 0.78 - 3s 44ms/step - loss: 1.0131 - accuracy: 0.78 - 3s 44ms/step - loss: 1.0136 - accuracy: 0.78 - 3s 44ms/step - loss: 1.0121 - accuracy: 0.78 - 3s 44ms/step - loss: 1.0119 - accuracy: 0.78 - 3s 44ms/step - loss: 1.0090 - accuracy: 0.78 - 4s 44ms/step - loss: 1.0073 - accuracy: 0.78 - 4s 44ms/step - loss: 1.0072 - accuracy: 0.78 - 4s 44ms/step - loss: 1.0074 - accuracy: 0.78 - 4s 44ms/step - loss: 1.0087 - accuracy: 0.78 - 4s 44ms/step - loss: 1.0089 - accuracy: 0.78 - 4s 44ms/step - loss: 1.0079 - accuracy: 0.78 - 4s 44ms/step - loss: 1.0084 - accuracy: 0.78 - 4s 44ms/step - loss: 1.0070 - accuracy: 0.78 - 4s 44ms/step - loss: 1.0089 - accuracy: 0.78 - 4s 44ms/step - loss: 1.0097 - accuracy: 0.78 - 4s 44ms/step - loss: 1.0087 - accuracy: 0.78 - 4s 44ms/step - loss: 1.0074 - accuracy: 0.78 - 4s 44ms/step - loss: 1.0066 - accuracy: 0.78 - 4s 44ms/step - loss: 1.0034 - accuracy: 0.78 - 4s 44ms/step - loss: 1.0041 - accuracy: 0.78 - 4s 44ms/step - loss: 1.0039 - accuracy: 0.78 - 4s 44ms/step - loss: 1.0050 - accuracy: 0.78 - 4s 44ms/step - loss: 1.0065 - accuracy: 0.78 - 4s 44ms/step - loss: 1.0050 - accuracy: 0.78 - 4s 44ms/step - loss: 1.0052 - accuracy: 0.78 - 4s 44ms/step - loss: 1.0046 - accuracy: 0.78 - 4s 44ms/step - loss: 1.0048 - accuracy: 0.78 - 4s 44ms/step - loss: 1.0017 - accuracy: 0.78 - 4s 44ms/step - loss: 1.0011 - accuracy: 0.78 - 5s 44ms/step - loss: 1.0025 - accuracy: 0.78 - 5s 44ms/step - loss: 1.0029 - accuracy: 0.78 - 5s 44ms/step - loss: 1.0029 - accuracy: 0.78 - 5s 43ms/step - loss: 1.0037 - accuracy: 0.78 - 5s 43ms/step - loss: 1.0048 - accuracy: 0.78 - 5s 43ms/step - loss: 1.0055 - accuracy: 0.78 - 5s 43ms/step - loss: 1.0076 - accuracy: 0.78 - 5s 43ms/step - loss: 1.0064 - accuracy: 0.78 - 5s 43ms/step - loss: 1.0079 - accuracy: 0.78 - 5s 43ms/step - loss: 1.0092 - accuracy: 0.78 - 5s 43ms/step - loss: 1.0087 - accuracy: 0.78 - 5s 43ms/step - loss: 1.0087 - accuracy: 0.78 - 5s 43ms/step - loss: 1.0093 - accuracy: 0.78 - 5s 43ms/step - loss: 1.0089 - accuracy: 0.78 - 5s 43ms/step - loss: 1.0080 - accuracy: 0.78 - 5s 43ms/step - loss: 1.0071 - accuracy: 0.78 - 5s 43ms/step - loss: 1.0064 - accuracy: 0.78 - 5s 43ms/step - loss: 1.0046 - accuracy: 0.78 - 5s 43ms/step - loss: 1.0027 - accuracy: 0.78 - 5s 43ms/step - loss: 1.0010 - accuracy: 0.78 - 5s 43ms/step - loss: 1.0021 - accuracy: 0.78 - 5s 43ms/step - loss: 1.0011 - accuracy: 0.78 - 5s 43ms/step - loss: 1.0000 - accuracy: 0.78 - 6s 43ms/step - loss: 1.0012 - accuracy: 0.78 - 6s 43ms/step - loss: 1.0004 - accuracy: 0.78 - 6s 43ms/step - loss: 1.0007 - accuracy: 0.78 - 6s 43ms/step - loss: 0.9997 - accuracy: 0.78 - 6s 43ms/step - loss: 0.9989 - accuracy: 0.78 - 6s 43ms/step - loss: 0.9983 - accuracy: 0.78 - 6s 43ms/step - loss: 0.9977 - accuracy: 0.78 - 6s 43ms/step - loss: 0.9975 - accuracy: 0.78 - 6s 43ms/step - loss: 0.9965 - accuracy: 0.78 - 6s 43ms/step - loss: 0.9985 - accuracy: 0.78 - 6s 43ms/step - loss: 0.9987 - accuracy: 0.78 - 6s 43ms/step - loss: 0.9990 - accuracy: 0.78 - 6s 43ms/step - loss: 0.9996 - accuracy: 0.78 - 6s 43ms/step - loss: 0.9993 - accuracy: 0.78 - 6s 43ms/step - loss: 1.0007 - accuracy: 0.78 - 6s 43ms/step - loss: 1.0009 - accuracy: 0.78 - 6s 43ms/step - loss: 1.0002 - accuracy: 0.78 - 6s 43ms/step - loss: 1.0011 - accuracy: 0.78 - 6s 43ms/step - loss: 1.0014 - accuracy: 0.78 - 6s 43ms/step - loss: 1.0025 - accuracy: 0.78 - 6s 43ms/step - loss: 1.0029 - accuracy: 0.78 - 6s 43ms/step - loss: 1.0018 - accuracy: 0.78 - 6s 43ms/step - loss: 1.0007 - accuracy: 0.78 - 6s 43ms/step - loss: 1.0015 - accuracy: 0.78 - 7s 43ms/step - loss: 1.0004 - accuracy: 0.78 - 7s 43ms/step - loss: 1.0006 - accuracy: 0.78 - 7s 43ms/step - loss: 0.9995 - accuracy: 0.78 - 7s 43ms/step - loss: 0.9994 - accuracy: 0.78 - 7s 43ms/step - loss: 0.9983 - accuracy: 0.78 - 7s 43ms/step - loss: 0.9988 - accuracy: 0.78 - 7s 43ms/step - loss: 0.9990 - accuracy: 0.78 - 7s 45ms/step - loss: 0.9990 - accuracy: 0.7878\n"
     ]
    },
    {
     "data": {
      "text/plain": [
       "[0.998979410548119, 0.7878]"
      ]
     },
     "execution_count": 12,
     "metadata": {},
     "output_type": "execute_result"
    }
   ],
   "source": [
    "model.evaluate(test_data)"
   ]
  },
  {
   "cell_type": "code",
   "execution_count": 13,
   "metadata": {},
   "outputs": [],
   "source": [
    "m = tf.keras.models.load_model('checkpoints/{}.hdf5'.format(dt))"
   ]
  },
  {
   "cell_type": "code",
   "execution_count": null,
   "metadata": {},
   "outputs": [],
   "source": []
  }
 ],
 "metadata": {
  "kernelspec": {
   "display_name": "Python 3",
   "language": "python",
   "name": "python3"
  },
  "language_info": {
   "codemirror_mode": {
    "name": "ipython",
    "version": 3
   },
   "file_extension": ".py",
   "mimetype": "text/x-python",
   "name": "python",
   "nbconvert_exporter": "python",
   "pygments_lexer": "ipython3",
   "version": "3.6.9"
  }
 },
 "nbformat": 4,
 "nbformat_minor": 2
}
