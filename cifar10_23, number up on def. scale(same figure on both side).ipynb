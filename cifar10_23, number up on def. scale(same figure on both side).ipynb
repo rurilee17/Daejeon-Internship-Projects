{
 "cells": [
  {
   "cell_type": "code",
   "execution_count": 1,
   "metadata": {},
   "outputs": [
    {
     "name": "stdout",
     "output_type": "stream",
     "text": [
      "Requirement already satisfied: tensorflow-datasets in c:\\users\\affinity\\anaconda3\\lib\\site-packages (1.3.0)\n",
      "Requirement already satisfied: future in c:\\users\\affinity\\anaconda3\\lib\\site-packages (from tensorflow-datasets) (0.17.1)\n",
      "Requirement already satisfied: termcolor in c:\\users\\affinity\\anaconda3\\lib\\site-packages (from tensorflow-datasets) (1.1.0)\n",
      "Requirement already satisfied: attrs in c:\\users\\affinity\\anaconda3\\lib\\site-packages (from tensorflow-datasets) (19.3.0)\n",
      "Requirement already satisfied: numpy in c:\\users\\affinity\\anaconda3\\lib\\site-packages (from tensorflow-datasets) (1.16.5)\n",
      "Requirement already satisfied: tensorflow-metadata in c:\\users\\affinity\\anaconda3\\lib\\site-packages (from tensorflow-datasets) (0.15.0)\n",
      "Requirement already satisfied: requests>=2.19.0 in c:\\users\\affinity\\anaconda3\\lib\\site-packages (from tensorflow-datasets) (2.22.0)\n",
      "Requirement already satisfied: protobuf>=3.6.1 in c:\\users\\affinity\\anaconda3\\lib\\site-packages (from tensorflow-datasets) (3.9.2)\n",
      "Requirement already satisfied: wrapt in c:\\users\\affinity\\anaconda3\\lib\\site-packages (from tensorflow-datasets) (1.11.2)\n",
      "Requirement already satisfied: tqdm in c:\\users\\affinity\\anaconda3\\lib\\site-packages (from tensorflow-datasets) (4.36.1)\n",
      "Requirement already satisfied: dill in c:\\users\\affinity\\anaconda3\\lib\\site-packages (from tensorflow-datasets) (0.3.1.1)\n",
      "Requirement already satisfied: absl-py in c:\\users\\affinity\\anaconda3\\lib\\site-packages (from tensorflow-datasets) (0.8.0)\n",
      "Requirement already satisfied: six in c:\\users\\affinity\\anaconda3\\lib\\site-packages (from tensorflow-datasets) (1.12.0)\n",
      "Requirement already satisfied: promise in c:\\users\\affinity\\anaconda3\\lib\\site-packages (from tensorflow-datasets) (2.2.1)\n",
      "Requirement already satisfied: googleapis-common-protos in c:\\users\\affinity\\anaconda3\\lib\\site-packages (from tensorflow-metadata->tensorflow-datasets) (1.6.0)\n",
      "Requirement already satisfied: chardet<3.1.0,>=3.0.2 in c:\\users\\affinity\\anaconda3\\lib\\site-packages (from requests>=2.19.0->tensorflow-datasets) (3.0.4)\n",
      "Requirement already satisfied: urllib3!=1.25.0,!=1.25.1,<1.26,>=1.21.1 in c:\\users\\affinity\\anaconda3\\lib\\site-packages (from requests>=2.19.0->tensorflow-datasets) (1.24.2)\n",
      "Requirement already satisfied: idna<2.9,>=2.5 in c:\\users\\affinity\\anaconda3\\lib\\site-packages (from requests>=2.19.0->tensorflow-datasets) (2.8)\n",
      "Requirement already satisfied: certifi>=2017.4.17 in c:\\users\\affinity\\anaconda3\\lib\\site-packages (from requests>=2.19.0->tensorflow-datasets) (2019.9.11)\n",
      "Requirement already satisfied: setuptools in c:\\users\\affinity\\anaconda3\\lib\\site-packages (from protobuf>=3.6.1->tensorflow-datasets) (41.4.0)\n"
     ]
    }
   ],
   "source": [
    "!pip install tensorflow-datasets"
   ]
  },
  {
   "cell_type": "code",
   "execution_count": 2,
   "metadata": {},
   "outputs": [
    {
     "name": "stdout",
     "output_type": "stream",
     "text": [
      "Requirement already up-to-date: pip in c:\\users\\affinity\\anaconda3\\lib\\site-packages (19.3.1)\n"
     ]
    }
   ],
   "source": [
    "!python -m pip install --upgrade pip"
   ]
  },
  {
   "cell_type": "code",
   "execution_count": 3,
   "metadata": {},
   "outputs": [
    {
     "name": "stderr",
     "output_type": "stream",
     "text": [
      "Using TensorFlow backend.\n"
     ]
    }
   ],
   "source": [
    "import tensorflow as tf\n",
    "import tensorflow_datasets as tfds\n",
    "from keras.models import load_model\n",
    "from datetime import datetime\n",
    "#tf.enable_eager_execution()"
   ]
  },
  {
   "cell_type": "code",
   "execution_count": 4,
   "metadata": {},
   "outputs": [],
   "source": [
    "train_data = tfds.load(name='cifar10:3.*.*', split='train[:80%]', as_supervised=True)\n",
    "valid_data = tfds.load(name='cifar10:3.*.*', split='train[80%:]', as_supervised=True)\n",
    "test_data = tfds.load(name='cifar10:3.*.*', split='test', as_supervised=True)"
   ]
  },
  {
   "cell_type": "code",
   "execution_count": 5,
   "metadata": {},
   "outputs": [],
   "source": [
    "def scale(image, label):\n",
    "    image = tf.cast(image, tf.float32)\n",
    "    image /= 255\n",
    "    image = tf.image.random_contrast(image, lower=8.0, upper=8.0)\n",
    "    image = tf.image.random_flip_left_right(image)\n",
    "    image = tf.image.random_contrast(image, lower=8.0, upper = 8.0)\n",
    "    image = tf.image.random_hue(image, max_delta = 8.0)\n",
    "    image = tf.image.random_saturation(image, lower=8.0, upper=8.0)\n",
    "    return image, label"
   ]
  },
  {
   "cell_type": "code",
   "execution_count": 6,
   "metadata": {},
   "outputs": [
    {
     "name": "stdout",
     "output_type": "stream",
     "text": [
      "Model: \"sequential\"\n",
      "_________________________________________________________________\n",
      "Layer (type)                 Output Shape              Param #   \n",
      "=================================================================\n",
      "conv2d (Conv2D)              (None, 32, 32, 128)       3584      \n",
      "_________________________________________________________________\n",
      "batch_normalization (BatchNo (None, 32, 32, 128)       512       \n",
      "_________________________________________________________________\n",
      "max_pooling2d (MaxPooling2D) (None, 16, 16, 128)       0         \n",
      "_________________________________________________________________\n",
      "conv2d_1 (Conv2D)            (None, 16, 16, 256)       295168    \n",
      "_________________________________________________________________\n",
      "conv2d_2 (Conv2D)            (None, 16, 16, 256)       590080    \n",
      "_________________________________________________________________\n",
      "batch_normalization_1 (Batch (None, 16, 16, 256)       1024      \n",
      "_________________________________________________________________\n",
      "max_pooling2d_1 (MaxPooling2 (None, 8, 8, 256)         0         \n",
      "_________________________________________________________________\n",
      "dropout (Dropout)            (None, 8, 8, 256)         0         \n",
      "_________________________________________________________________\n",
      "conv2d_3 (Conv2D)            (None, 8, 8, 256)         590080    \n",
      "_________________________________________________________________\n",
      "conv2d_4 (Conv2D)            (None, 8, 8, 256)         590080    \n",
      "_________________________________________________________________\n",
      "max_pooling2d_2 (MaxPooling2 (None, 4, 4, 256)         0         \n",
      "_________________________________________________________________\n",
      "dropout_1 (Dropout)          (None, 4, 4, 256)         0         \n",
      "_________________________________________________________________\n",
      "conv2d_5 (Conv2D)            (None, 4, 4, 512)         1180160   \n",
      "_________________________________________________________________\n",
      "conv2d_6 (Conv2D)            (None, 4, 4, 512)         2359808   \n",
      "_________________________________________________________________\n",
      "batch_normalization_2 (Batch (None, 4, 4, 512)         2048      \n",
      "_________________________________________________________________\n",
      "max_pooling2d_3 (MaxPooling2 (None, 2, 2, 512)         0         \n",
      "_________________________________________________________________\n",
      "flatten (Flatten)            (None, 2048)              0         \n",
      "_________________________________________________________________\n",
      "dropout_2 (Dropout)          (None, 2048)              0         \n",
      "_________________________________________________________________\n",
      "dense (Dense)                (None, 10)                20490     \n",
      "=================================================================\n",
      "Total params: 5,633,034\n",
      "Trainable params: 5,631,242\n",
      "Non-trainable params: 1,792\n",
      "_________________________________________________________________\n"
     ]
    }
   ],
   "source": [
    "model = tf.keras.Sequential([\n",
    "    tf.keras.layers.Conv2D(128, 3, activation='relu', padding='same', input_shape=(32, 32, 3)),\n",
    "    tf.keras.layers.BatchNormalization(),  # Gradient Vanishing / Gradient Exploding 이 일어나지 않도록 하는 아이디어 중의 하나이다\n",
    "    tf.keras.layers.MaxPooling2D(),\n",
    "    tf.keras.layers.Conv2D(256, 3, activation='relu', padding='same'),\n",
    "    tf.keras.layers.Conv2D(256, 3, activation='relu', padding='same'),\n",
    "    tf.keras.layers.BatchNormalization(),\n",
    "    tf.keras.layers.MaxPooling2D(),\n",
    "    tf.keras.layers.Dropout(0.4),\n",
    "    tf.keras.layers.Conv2D(256, 3, activation='relu', padding='same'),\n",
    "    tf.keras.layers.Conv2D(256, 3, activation='relu', padding='same'),\n",
    "    tf.keras.layers.MaxPooling2D(),\n",
    "    tf.keras.layers.Dropout(0.4),\n",
    "    tf.keras.layers.Conv2D(512, 3, activation='relu', padding='same'),\n",
    "    tf.keras.layers.Conv2D(512, 3, activation='relu', padding='same'),\n",
    "    tf.keras.layers.BatchNormalization(),\n",
    "    tf.keras.layers.MaxPooling2D(),\n",
    "    tf.keras.layers.Flatten(),\n",
    "    tf.keras.layers.Dropout(0.4),\n",
    "    tf.keras.layers.Dense(10, activation='softmax')\n",
    "    \n",
    "])\n",
    "model.summary()"
   ]
  },
  {
   "cell_type": "code",
   "execution_count": 7,
   "metadata": {},
   "outputs": [],
   "source": [
    "model.compile(optimizer='adam',\n",
    "              loss='sparse_categorical_crossentropy',\n",
    "              metrics=['accuracy'])"
   ]
  },
  {
   "cell_type": "code",
   "execution_count": 8,
   "metadata": {},
   "outputs": [],
   "source": [
    "def scale(image, label):\n",
    "    image = tf.cast(image, tf.float32)\n",
    "    image /= 255\n",
    "    return image, label\n",
    "\n",
    "train_data = train_data.map(scale).shuffle(50000).repeat(4).batch(64) \n",
    "valid_data = valid_data.map(scale).batch(64)\n",
    "test_data = test_data.map(scale).batch(64)"
   ]
  },
  {
   "cell_type": "code",
   "execution_count": 9,
   "metadata": {},
   "outputs": [],
   "source": [
    "dt = datetime.now().strftime('%Y%m%d-%H%M%S')\n",
    "\n",
    "cp_callback = tf.keras.callbacks.ModelCheckpoint(   \n",
    "    'checkpoints/{}.hdf5'.format(dt),\n",
    "    monitor='val_accuracy',\n",
    "    save_best_only=True)"
   ]
  },
  {
   "cell_type": "code",
   "execution_count": 10,
   "metadata": {},
   "outputs": [],
   "source": [
    "class MyCallback(tf.keras.callbacks.Callback):\n",
    "\n",
    "    def on_epoch_start(self, epoch, logs=None):\n",
    "        print('Epoch {} begins at {}: {}'.format(epoch, datetime.now().time(), logs))\n",
    "\n",
    "    def on_epoch_end(self, epoch, logs=None):\n",
    "        print('Epoch {} ends at {}: {}'.format(epoch, datetime.now().time(), logs))"
   ]
  },
  {
   "cell_type": "code",
   "execution_count": 11,
   "metadata": {},
   "outputs": [
    {
     "name": "stdout",
     "output_type": "stream",
     "text": [
      "Epoch 0 ends at 14:44:54.389561: {'loss': 1.768230608010292, 'accuracy': 0.45221874, 'val_loss': 2.231731803553879, 'val_accuracy': 0.2695}\n",
      "Epoch 1 ends at 14:49:09.425743: {'loss': 0.8955073623895645, 'accuracy': 0.6974875, 'val_loss': 0.7892652446297324, 'val_accuracy': 0.7236}\n",
      "Epoch 2 ends at 14:53:37.429453: {'loss': 0.5853237542152405, 'accuracy': 0.7998125, 'val_loss': 0.6652675561464516, 'val_accuracy': 0.7738}\n",
      "Epoch 3 ends at 14:58:04.962555: {'loss': 0.4018213194310665, 'accuracy': 0.86134374, 'val_loss': 0.61259407754157, 'val_accuracy': 0.803}\n",
      "Epoch 4 ends at 15:02:30.885906: {'loss': 0.28038163009658457, 'accuracy': 0.9030875, 'val_loss': 0.6519152954885155, 'val_accuracy': 0.7978}\n",
      "Epoch 5 ends at 15:07:05.573655: {'loss': 0.2111654236845672, 'accuracy': 0.92725, 'val_loss': 0.7919054792565146, 'val_accuracy': 0.7838}\n",
      "Epoch 6 ends at 15:11:36.643460: {'loss': 0.16636683169305325, 'accuracy': 0.94290626, 'val_loss': 0.7293842630401538, 'val_accuracy': 0.8078}\n",
      "Epoch 7 ends at 15:16:05.811887: {'loss': 0.13202122949175538, 'accuracy': 0.954725, 'val_loss': 0.8855701415402115, 'val_accuracy': 0.7879}\n",
      "Epoch 8 ends at 15:20:35.346240: {'loss': 0.11768927370365709, 'accuracy': 0.9603375, 'val_loss': 0.7237730576733875, 'val_accuracy': 0.8136}\n",
      "Epoch 9 ends at 15:25:06.161338: {'loss': 0.0997739007323049, 'accuracy': 0.966275, 'val_loss': 0.7246443043658688, 'val_accuracy': 0.8133}\n"
     ]
    }
   ],
   "source": [
    "history = model.fit(train_data,\n",
    "                    epochs=10,\n",
    "                    validation_data=valid_data,\n",
    "                    verbose=0,\n",
    "                    callbacks=[cp_callback, MyCallback()])"
   ]
  },
  {
   "cell_type": "code",
   "execution_count": 12,
   "metadata": {
    "scrolled": true
   },
   "outputs": [
    {
     "name": "stdout",
     "output_type": "stream",
     "text": [
      "157/157 [==============================].4243 - accuracy: 0.89 - 0s 68ms/step - loss: 0.5417 - accuracy: 0.85 - 0s 63ms/step - loss: 0.7401 - accuracy: 0.82 - 0s 62ms/step - loss: 0.6990 - accuracy: 0.83 - 0s 62ms/step - loss: 0.6547 - accuracy: 0.84 - 0s 59ms/step - loss: 0.5967 - accuracy: 0.84 - 0s 57ms/step - loss: 0.5902 - accuracy: 0.85 - 0s 54ms/step - loss: 0.6311 - accuracy: 0.84 - 0s 53ms/step - loss: 0.6254 - accuracy: 0.84 - 1s 52ms/step - loss: 0.6340 - accuracy: 0.83 - 1s 51ms/step - loss: 0.6180 - accuracy: 0.84 - 1s 50ms/step - loss: 0.6274 - accuracy: 0.83 - 1s 49ms/step - loss: 0.6317 - accuracy: 0.83 - 1s 48ms/step - loss: 0.6371 - accuracy: 0.83 - 1s 48ms/step - loss: 0.6468 - accuracy: 0.83 - 1s 47ms/step - loss: 0.6864 - accuracy: 0.83 - 1s 47ms/step - loss: 0.6834 - accuracy: 0.83 - 1s 46ms/step - loss: 0.7022 - accuracy: 0.82 - 1s 46ms/step - loss: 0.6979 - accuracy: 0.82 - 1s 46ms/step - loss: 0.6962 - accuracy: 0.82 - 1s 46ms/step - loss: 0.6764 - accuracy: 0.82 - 1s 45ms/step - loss: 0.6637 - accuracy: 0.82 - 1s 45ms/step - loss: 0.6509 - accuracy: 0.83 - 1s 45ms/step - loss: 0.6602 - accuracy: 0.82 - 1s 45ms/step - loss: 0.6565 - accuracy: 0.82 - 1s 45ms/step - loss: 0.6617 - accuracy: 0.82 - 1s 45ms/step - loss: 0.6585 - accuracy: 0.82 - 1s 45ms/step - loss: 0.6554 - accuracy: 0.82 - 1s 45ms/step - loss: 0.6767 - accuracy: 0.82 - 1s 45ms/step - loss: 0.6769 - accuracy: 0.82 - 1s 45ms/step - loss: 0.6641 - accuracy: 0.83 - 1s 45ms/step - loss: 0.6580 - accuracy: 0.83 - 1s 45ms/step - loss: 0.6828 - accuracy: 0.82 - 2s 45ms/step - loss: 0.6883 - accuracy: 0.82 - 2s 44ms/step - loss: 0.6890 - accuracy: 0.82 - 2s 44ms/step - loss: 0.6814 - accuracy: 0.82 - 2s 44ms/step - loss: 0.6918 - accuracy: 0.82 - 2s 44ms/step - loss: 0.6912 - accuracy: 0.82 - 2s 44ms/step - loss: 0.6921 - accuracy: 0.82 - 2s 44ms/step - loss: 0.6947 - accuracy: 0.82 - 2s 44ms/step - loss: 0.6971 - accuracy: 0.82 - 2s 44ms/step - loss: 0.7026 - accuracy: 0.82 - 2s 44ms/step - loss: 0.7078 - accuracy: 0.82 - 2s 44ms/step - loss: 0.7100 - accuracy: 0.82 - 2s 44ms/step - loss: 0.7036 - accuracy: 0.82 - 2s 44ms/step - loss: 0.6983 - accuracy: 0.82 - 2s 44ms/step - loss: 0.7019 - accuracy: 0.82 - 2s 44ms/step - loss: 0.6985 - accuracy: 0.82 - 2s 44ms/step - loss: 0.7058 - accuracy: 0.82 - 2s 43ms/step - loss: 0.7048 - accuracy: 0.82 - 2s 43ms/step - loss: 0.7077 - accuracy: 0.82 - 2s 43ms/step - loss: 0.7050 - accuracy: 0.82 - 2s 44ms/step - loss: 0.7118 - accuracy: 0.81 - 2s 44ms/step - loss: 0.7134 - accuracy: 0.81 - 2s 44ms/step - loss: 0.7123 - accuracy: 0.81 - 2s 44ms/step - loss: 0.7120 - accuracy: 0.81 - 2s 44ms/step - loss: 0.7088 - accuracy: 0.81 - 3s 44ms/step - loss: 0.7042 - accuracy: 0.82 - 3s 43ms/step - loss: 0.7068 - accuracy: 0.81 - 3s 43ms/step - loss: 0.7068 - accuracy: 0.81 - 3s 44ms/step - loss: 0.7081 - accuracy: 0.81 - 3s 44ms/step - loss: 0.7122 - accuracy: 0.81 - 3s 43ms/step - loss: 0.7105 - accuracy: 0.81 - 3s 43ms/step - loss: 0.7181 - accuracy: 0.81 - 3s 43ms/step - loss: 0.7203 - accuracy: 0.81 - 3s 44ms/step - loss: 0.7191 - accuracy: 0.81 - 3s 44ms/step - loss: 0.7173 - accuracy: 0.81 - 3s 44ms/step - loss: 0.7252 - accuracy: 0.81 - 3s 44ms/step - loss: 0.7255 - accuracy: 0.81 - 3s 44ms/step - loss: 0.7267 - accuracy: 0.81 - 3s 44ms/step - loss: 0.7281 - accuracy: 0.81 - 3s 43ms/step - loss: 0.7334 - accuracy: 0.81 - 3s 44ms/step - loss: 0.7369 - accuracy: 0.81 - 3s 44ms/step - loss: 0.7352 - accuracy: 0.81 - 3s 44ms/step - loss: 0.7380 - accuracy: 0.81 - 3s 44ms/step - loss: 0.7379 - accuracy: 0.81 - 3s 43ms/step - loss: 0.7397 - accuracy: 0.81 - 3s 43ms/step - loss: 0.7367 - accuracy: 0.81 - 3s 43ms/step - loss: 0.7329 - accuracy: 0.81 - 3s 43ms/step - loss: 0.7328 - accuracy: 0.81 - 4s 43ms/step - loss: 0.7335 - accuracy: 0.81 - 4s 43ms/step - loss: 0.7352 - accuracy: 0.81 - 4s 43ms/step - loss: 0.7342 - accuracy: 0.81 - 4s 43ms/step - loss: 0.7329 - accuracy: 0.81 - 4s 43ms/step - loss: 0.7370 - accuracy: 0.81 - 4s 43ms/step - loss: 0.7450 - accuracy: 0.81 - 4s 43ms/step - loss: 0.7470 - accuracy: 0.81 - 4s 43ms/step - loss: 0.7451 - accuracy: 0.81 - 4s 43ms/step - loss: 0.7449 - accuracy: 0.81 - 4s 43ms/step - loss: 0.7462 - accuracy: 0.81 - 4s 43ms/step - loss: 0.7459 - accuracy: 0.81 - 4s 43ms/step - loss: 0.7478 - accuracy: 0.81 - 4s 43ms/step - loss: 0.7474 - accuracy: 0.81 - 4s 43ms/step - loss: 0.7494 - accuracy: 0.81 - 4s 43ms/step - loss: 0.7525 - accuracy: 0.81 - 4s 43ms/step - loss: 0.7522 - accuracy: 0.81 - 4s 43ms/step - loss: 0.7577 - accuracy: 0.81 - 4s 43ms/step - loss: 0.7589 - accuracy: 0.81 - 4s 43ms/step - loss: 0.7605 - accuracy: 0.81 - 4s 43ms/step - loss: 0.7646 - accuracy: 0.80 - 4s 43ms/step - loss: 0.7668 - accuracy: 0.80 - 4s 43ms/step - loss: 0.7627 - accuracy: 0.80 - 4s 43ms/step - loss: 0.7643 - accuracy: 0.80 - 4s 43ms/step - loss: 0.7665 - accuracy: 0.80 - 5s 43ms/step - loss: 0.7672 - accuracy: 0.80 - 5s 43ms/step - loss: 0.7665 - accuracy: 0.80 - 5s 43ms/step - loss: 0.7666 - accuracy: 0.80 - 5s 43ms/step - loss: 0.7666 - accuracy: 0.80 - 5s 43ms/step - loss: 0.7666 - accuracy: 0.80 - 5s 43ms/step - loss: 0.7686 - accuracy: 0.80 - 5s 43ms/step - loss: 0.7661 - accuracy: 0.80 - 5s 43ms/step - loss: 0.7700 - accuracy: 0.80 - 5s 43ms/step - loss: 0.7749 - accuracy: 0.80 - 5s 43ms/step - loss: 0.7718 - accuracy: 0.80 - 5s 43ms/step - loss: 0.7701 - accuracy: 0.80 - 5s 43ms/step - loss: 0.7706 - accuracy: 0.80 - 5s 43ms/step - loss: 0.7684 - accuracy: 0.80 - 5s 43ms/step - loss: 0.7687 - accuracy: 0.80 - 5s 43ms/step - loss: 0.7676 - accuracy: 0.80 - 5s 43ms/step - loss: 0.7755 - accuracy: 0.80 - 5s 43ms/step - loss: 0.7763 - accuracy: 0.80 - 5s 43ms/step - loss: 0.7749 - accuracy: 0.80 - 5s 43ms/step - loss: 0.7728 - accuracy: 0.80 - 5s 43ms/step - loss: 0.7718 - accuracy: 0.80 - 5s 43ms/step - loss: 0.7713 - accuracy: 0.80 - 5s 43ms/step - loss: 0.7704 - accuracy: 0.80 - 5s 43ms/step - loss: 0.7707 - accuracy: 0.80 - 5s 43ms/step - loss: 0.7705 - accuracy: 0.80 - 6s 43ms/step - loss: 0.7708 - accuracy: 0.80 - 6s 43ms/step - loss: 0.7673 - accuracy: 0.80 - 6s 43ms/step - loss: 0.7658 - accuracy: 0.80 - 6s 43ms/step - loss: 0.7645 - accuracy: 0.80 - 6s 43ms/step - loss: 0.7640 - accuracy: 0.80 - 6s 43ms/step - loss: 0.7611 - accuracy: 0.80 - 6s 43ms/step - loss: 0.7608 - accuracy: 0.80 - 6s 43ms/step - loss: 0.7626 - accuracy: 0.80 - 6s 43ms/step - loss: 0.7614 - accuracy: 0.80 - 6s 43ms/step - loss: 0.7616 - accuracy: 0.80 - 6s 43ms/step - loss: 0.7652 - accuracy: 0.80 - 6s 43ms/step - loss: 0.7621 - accuracy: 0.80 - 6s 43ms/step - loss: 0.7633 - accuracy: 0.80 - 6s 43ms/step - loss: 0.7624 - accuracy: 0.80 - 6s 43ms/step - loss: 0.7629 - accuracy: 0.80 - 6s 43ms/step - loss: 0.7654 - accuracy: 0.80 - 6s 43ms/step - loss: 0.7631 - accuracy: 0.80 - 6s 43ms/step - loss: 0.7627 - accuracy: 0.80 - 6s 43ms/step - loss: 0.7609 - accuracy: 0.80 - 6s 43ms/step - loss: 0.7619 - accuracy: 0.80 - 6s 43ms/step - loss: 0.7624 - accuracy: 0.80 - 6s 43ms/step - loss: 0.7639 - accuracy: 0.80 - 6s 43ms/step - loss: 0.7610 - accuracy: 0.80 - 7s 43ms/step - loss: 0.7602 - accuracy: 0.80 - 7s 43ms/step - loss: 0.7592 - accuracy: 0.80 - 7s 43ms/step - loss: 0.7603 - accuracy: 0.80 - 7s 43ms/step - loss: 0.7580 - accuracy: 0.80 - 7s 43ms/step - loss: 0.7584 - accuracy: 0.80 - 7s 43ms/step - loss: 0.7599 - accuracy: 0.80 - 7s 44ms/step - loss: 0.7599 - accuracy: 0.8096\n"
     ]
    },
    {
     "data": {
      "text/plain": [
       "[0.7598808333752262, 0.8096]"
      ]
     },
     "execution_count": 12,
     "metadata": {},
     "output_type": "execute_result"
    }
   ],
   "source": [
    "model.evaluate(test_data)"
   ]
  },
  {
   "cell_type": "code",
   "execution_count": 13,
   "metadata": {},
   "outputs": [],
   "source": [
    "m = tf.keras.models.load_model('checkpoints/{}.hdf5'.format(dt))"
   ]
  },
  {
   "cell_type": "code",
   "execution_count": null,
   "metadata": {},
   "outputs": [],
   "source": []
  }
 ],
 "metadata": {
  "kernelspec": {
   "display_name": "Python 3",
   "language": "python",
   "name": "python3"
  },
  "language_info": {
   "codemirror_mode": {
    "name": "ipython",
    "version": 3
   },
   "file_extension": ".py",
   "mimetype": "text/x-python",
   "name": "python",
   "nbconvert_exporter": "python",
   "pygments_lexer": "ipython3",
   "version": "3.6.9"
  }
 },
 "nbformat": 4,
 "nbformat_minor": 2
}
