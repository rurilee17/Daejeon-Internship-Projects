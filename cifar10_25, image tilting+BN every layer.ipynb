{
 "cells": [
  {
   "cell_type": "code",
   "execution_count": 1,
   "metadata": {},
   "outputs": [
    {
     "name": "stdout",
     "output_type": "stream",
     "text": [
      "Requirement already satisfied: tensorflow-datasets in c:\\users\\affinity\\anaconda3\\lib\\site-packages (1.3.0)\n",
      "Requirement already satisfied: tqdm in c:\\users\\affinity\\anaconda3\\lib\\site-packages (from tensorflow-datasets) (4.36.1)\n",
      "Requirement already satisfied: numpy in c:\\users\\affinity\\anaconda3\\lib\\site-packages (from tensorflow-datasets) (1.16.5)\n",
      "Requirement already satisfied: six in c:\\users\\affinity\\anaconda3\\lib\\site-packages (from tensorflow-datasets) (1.12.0)\n",
      "Requirement already satisfied: tensorflow-metadata in c:\\users\\affinity\\anaconda3\\lib\\site-packages (from tensorflow-datasets) (0.15.0)\n",
      "Requirement already satisfied: promise in c:\\users\\affinity\\anaconda3\\lib\\site-packages (from tensorflow-datasets) (2.2.1)\n",
      "Requirement already satisfied: protobuf>=3.6.1 in c:\\users\\affinity\\anaconda3\\lib\\site-packages (from tensorflow-datasets) (3.9.2)\n",
      "Requirement already satisfied: future in c:\\users\\affinity\\anaconda3\\lib\\site-packages (from tensorflow-datasets) (0.17.1)\n",
      "Requirement already satisfied: requests>=2.19.0 in c:\\users\\affinity\\anaconda3\\lib\\site-packages (from tensorflow-datasets) (2.22.0)\n",
      "Requirement already satisfied: attrs in c:\\users\\affinity\\anaconda3\\lib\\site-packages (from tensorflow-datasets) (19.3.0)\n",
      "Requirement already satisfied: absl-py in c:\\users\\affinity\\anaconda3\\lib\\site-packages (from tensorflow-datasets) (0.8.0)\n",
      "Requirement already satisfied: wrapt in c:\\users\\affinity\\anaconda3\\lib\\site-packages (from tensorflow-datasets) (1.11.2)\n",
      "Requirement already satisfied: dill in c:\\users\\affinity\\anaconda3\\lib\\site-packages (from tensorflow-datasets) (0.3.1.1)\n",
      "Requirement already satisfied: termcolor in c:\\users\\affinity\\anaconda3\\lib\\site-packages (from tensorflow-datasets) (1.1.0)\n",
      "Requirement already satisfied: googleapis-common-protos in c:\\users\\affinity\\anaconda3\\lib\\site-packages (from tensorflow-metadata->tensorflow-datasets) (1.6.0)\n",
      "Requirement already satisfied: setuptools in c:\\users\\affinity\\anaconda3\\lib\\site-packages (from protobuf>=3.6.1->tensorflow-datasets) (41.4.0)\n",
      "Requirement already satisfied: urllib3!=1.25.0,!=1.25.1,<1.26,>=1.21.1 in c:\\users\\affinity\\anaconda3\\lib\\site-packages (from requests>=2.19.0->tensorflow-datasets) (1.24.2)\n",
      "Requirement already satisfied: chardet<3.1.0,>=3.0.2 in c:\\users\\affinity\\anaconda3\\lib\\site-packages (from requests>=2.19.0->tensorflow-datasets) (3.0.4)\n",
      "Requirement already satisfied: certifi>=2017.4.17 in c:\\users\\affinity\\anaconda3\\lib\\site-packages (from requests>=2.19.0->tensorflow-datasets) (2019.9.11)\n",
      "Requirement already satisfied: idna<2.9,>=2.5 in c:\\users\\affinity\\anaconda3\\lib\\site-packages (from requests>=2.19.0->tensorflow-datasets) (2.8)\n"
     ]
    }
   ],
   "source": [
    "!pip install tensorflow-datasets"
   ]
  },
  {
   "cell_type": "code",
   "execution_count": 2,
   "metadata": {},
   "outputs": [
    {
     "name": "stdout",
     "output_type": "stream",
     "text": [
      "Requirement already up-to-date: pip in c:\\users\\affinity\\anaconda3\\lib\\site-packages (19.3.1)\n"
     ]
    }
   ],
   "source": [
    "!python -m pip install --upgrade pip"
   ]
  },
  {
   "cell_type": "code",
   "execution_count": 3,
   "metadata": {},
   "outputs": [
    {
     "name": "stderr",
     "output_type": "stream",
     "text": [
      "Using TensorFlow backend.\n"
     ]
    }
   ],
   "source": [
    "import tensorflow as tf\n",
    "import tensorflow_datasets as tfds\n",
    "from keras.models import load_model\n",
    "from datetime import datetime\n",
    "from keras import regularizers\n",
    "#tf.enable_eager_execution()"
   ]
  },
  {
   "cell_type": "code",
   "execution_count": 4,
   "metadata": {},
   "outputs": [],
   "source": [
    "train_data = tfds.load(name='cifar10:3.*.*', split='train[:80%]', as_supervised=True)\n",
    "valid_data = tfds.load(name='cifar10:3.*.*', split='train[80%:]', as_supervised=True)\n",
    "test_data = tfds.load(name='cifar10:3.*.*', split='test', as_supervised=True)"
   ]
  },
  {
   "cell_type": "code",
   "execution_count": 5,
   "metadata": {},
   "outputs": [],
   "source": [
    "def scale(image, label):\n",
    "    image = tf.cast(image, tf.float32)\n",
    "    image /= 255\n",
    "    image = tf.image.random_contrast(image, lower=2.0, upper=1.0)\n",
    "    image = tf.image.random_flip_left_right(image)\n",
    "    image = tf.image.random_hue(image, max_delta = 2.0)\n",
    "    image = tf.image.random_saturation(image, lower=4.0, upper=2.0)\n",
    "    return image, label"
   ]
  },
  {
   "cell_type": "code",
   "execution_count": 6,
   "metadata": {},
   "outputs": [
    {
     "name": "stdout",
     "output_type": "stream",
     "text": [
      "Model: \"sequential\"\n",
      "_________________________________________________________________\n",
      "Layer (type)                 Output Shape              Param #   \n",
      "=================================================================\n",
      "conv2d (Conv2D)              (None, 32, 32, 128)       3584      \n",
      "_________________________________________________________________\n",
      "batch_normalization (BatchNo (None, 32, 32, 128)       512       \n",
      "_________________________________________________________________\n",
      "max_pooling2d (MaxPooling2D) (None, 16, 16, 128)       0         \n",
      "_________________________________________________________________\n",
      "conv2d_1 (Conv2D)            (None, 16, 16, 256)       295168    \n",
      "_________________________________________________________________\n",
      "batch_normalization_1 (Batch (None, 16, 16, 256)       1024      \n",
      "_________________________________________________________________\n",
      "conv2d_2 (Conv2D)            (None, 16, 16, 256)       590080    \n",
      "_________________________________________________________________\n",
      "batch_normalization_2 (Batch (None, 16, 16, 256)       1024      \n",
      "_________________________________________________________________\n",
      "max_pooling2d_1 (MaxPooling2 (None, 8, 8, 256)         0         \n",
      "_________________________________________________________________\n",
      "dropout (Dropout)            (None, 8, 8, 256)         0         \n",
      "_________________________________________________________________\n",
      "conv2d_3 (Conv2D)            (None, 8, 8, 256)         590080    \n",
      "_________________________________________________________________\n",
      "batch_normalization_3 (Batch (None, 8, 8, 256)         1024      \n",
      "_________________________________________________________________\n",
      "conv2d_4 (Conv2D)            (None, 8, 8, 256)         590080    \n",
      "_________________________________________________________________\n",
      "batch_normalization_4 (Batch (None, 8, 8, 256)         1024      \n",
      "_________________________________________________________________\n",
      "max_pooling2d_2 (MaxPooling2 (None, 4, 4, 256)         0         \n",
      "_________________________________________________________________\n",
      "dropout_1 (Dropout)          (None, 4, 4, 256)         0         \n",
      "_________________________________________________________________\n",
      "conv2d_5 (Conv2D)            (None, 4, 4, 512)         1180160   \n",
      "_________________________________________________________________\n",
      "batch_normalization_5 (Batch (None, 4, 4, 512)         2048      \n",
      "_________________________________________________________________\n",
      "conv2d_6 (Conv2D)            (None, 4, 4, 512)         2359808   \n",
      "_________________________________________________________________\n",
      "batch_normalization_6 (Batch (None, 4, 4, 512)         2048      \n",
      "_________________________________________________________________\n",
      "max_pooling2d_3 (MaxPooling2 (None, 2, 2, 512)         0         \n",
      "_________________________________________________________________\n",
      "flatten (Flatten)            (None, 2048)              0         \n",
      "_________________________________________________________________\n",
      "dropout_2 (Dropout)          (None, 2048)              0         \n",
      "_________________________________________________________________\n",
      "dense (Dense)                (None, 10)                20490     \n",
      "=================================================================\n",
      "Total params: 5,638,154\n",
      "Trainable params: 5,633,802\n",
      "Non-trainable params: 4,352\n",
      "_________________________________________________________________\n"
     ]
    }
   ],
   "source": [
    "model = tf.keras.Sequential([\n",
    "    tf.keras.layers.Conv2D(128, 3, kernel_regularizer=regularizers.l2(0.001), activation='relu', padding='same', input_shape=(32, 32, 3)),\n",
    "    tf.keras.layers.BatchNormalization(),  # Gradient Vanishing / Gradient Exploding 이 일어나지 않도록 하는 아이디어 중의 하나이다\n",
    "    tf.keras.layers.MaxPooling2D(),\n",
    "    tf.keras.layers.Conv2D(256, 3, kernel_regularizer=regularizers.l2(0.001),activation='relu', padding='same'),\n",
    "    tf.keras.layers.BatchNormalization(),\n",
    "    tf.keras.layers.Conv2D(256, 3,kernel_regularizer=regularizers.l2(0.001), activation='relu', padding='same'),\n",
    "    tf.keras.layers.BatchNormalization(),\n",
    "    tf.keras.layers.MaxPooling2D(),\n",
    "    tf.keras.layers.Dropout(0.4),\n",
    "    tf.keras.layers.Conv2D(256, 3,kernel_regularizer=regularizers.l2(0.001), activation='relu', padding='same'),\n",
    "    tf.keras.layers.BatchNormalization(),\n",
    "    tf.keras.layers.Conv2D(256, 3, kernel_regularizer=regularizers.l2(0.001),activation='relu', padding='same'),\n",
    "    tf.keras.layers.BatchNormalization(),\n",
    "    tf.keras.layers.MaxPooling2D(),\n",
    "    tf.keras.layers.Dropout(0.4),\n",
    "    tf.keras.layers.Conv2D(512, 3,kernel_regularizer=regularizers.l2(0.001), activation='relu', padding='same'),\n",
    "    tf.keras.layers.BatchNormalization(),\n",
    "    tf.keras.layers.Conv2D(512, 3, kernel_regularizer=regularizers.l2(0.001),activation='relu', padding='same'),\n",
    "    tf.keras.layers.BatchNormalization(),\n",
    "    tf.keras.layers.MaxPooling2D(),\n",
    "    tf.keras.layers.Flatten(),\n",
    "    tf.keras.layers.Dropout(0.4),\n",
    "    tf.keras.layers.Dense(10, activation='softmax')\n",
    "    \n",
    "])\n",
    "model.summary()"
   ]
  },
  {
   "cell_type": "code",
   "execution_count": 7,
   "metadata": {},
   "outputs": [],
   "source": [
    "model.compile(optimizer='adam',\n",
    "              loss='sparse_categorical_crossentropy',\n",
    "              metrics=['accuracy'])"
   ]
  },
  {
   "cell_type": "code",
   "execution_count": 8,
   "metadata": {},
   "outputs": [],
   "source": [
    "def scale(image, label):\n",
    "    image = tf.cast(image, tf.float32)\n",
    "    image /= 255\n",
    "    return image, label\n",
    "\n",
    "train_data = train_data.map(scale).shuffle(50000).repeat(4).batch(64) \n",
    "valid_data = valid_data.map(scale).batch(64)\n",
    "test_data = test_data.map(scale).batch(64)"
   ]
  },
  {
   "cell_type": "code",
   "execution_count": 9,
   "metadata": {},
   "outputs": [],
   "source": [
    "dt = datetime.now().strftime('%Y%m%d-%H%M%S')\n",
    "\n",
    "cp_callback = tf.keras.callbacks.ModelCheckpoint(   \n",
    "    'checkpoints/{}.hdf5'.format(dt),\n",
    "    monitor='val_accuracy',\n",
    "    save_best_only=True)"
   ]
  },
  {
   "cell_type": "code",
   "execution_count": 10,
   "metadata": {},
   "outputs": [],
   "source": [
    "class MyCallback(tf.keras.callbacks.Callback):\n",
    "\n",
    "    def on_epoch_start(self, epoch, logs=None):\n",
    "        print('Epoch {} begins at {}: {}'.format(epoch, datetime.now().time(), logs))\n",
    "\n",
    "    def on_epoch_end(self, epoch, logs=None):\n",
    "        print('Epoch {} ends at {}: {}'.format(epoch, datetime.now().time(), logs))"
   ]
  },
  {
   "cell_type": "code",
   "execution_count": 11,
   "metadata": {},
   "outputs": [
    {
     "name": "stdout",
     "output_type": "stream",
     "text": [
      "Epoch 0 ends at 14:35:02.716730: {'loss': 2.9953521738529205, 'accuracy': 0.5368438, 'val_loss': 2.882177706736668, 'val_accuracy': 0.4735}\n",
      "Epoch 1 ends at 14:39:31.542627: {'loss': 2.44198793053627, 'accuracy': 0.6484875, 'val_loss': 2.32695483857659, 'val_accuracy': 0.5948}\n",
      "Epoch 2 ends at 14:44:13.825130: {'loss': 2.062612639570236, 'accuracy': 0.69944376, 'val_loss': 2.23206564119667, 'val_accuracy': 0.6359}\n",
      "Epoch 3 ends at 14:48:59.281428: {'loss': 1.770569336605072, 'accuracy': 0.7385125, 'val_loss': 2.769532773145445, 'val_accuracy': 0.4259}\n",
      "Epoch 4 ends at 14:53:44.249501: {'loss': 1.4614338208198547, 'accuracy': 0.7731562, 'val_loss': 1.6303976599577885, 'val_accuracy': 0.6882}\n",
      "Epoch 5 ends at 14:58:31.429775: {'loss': 1.2774457633256913, 'accuracy': 0.798225, 'val_loss': 1.8461781428877715, 'val_accuracy': 0.6299}\n",
      "Epoch 6 ends at 15:03:16.142416: {'loss': 1.1597538635253906, 'accuracy': 0.8136687, 'val_loss': 1.2992298242392812, 'val_accuracy': 0.7548}\n",
      "Epoch 7 ends at 15:08:02.671318: {'loss': 1.092289261817932, 'accuracy': 0.8228625, 'val_loss': 1.1437728245546863, 'val_accuracy': 0.7989}\n",
      "Epoch 8 ends at 15:12:59.913964: {'loss': 1.0441736690044403, 'accuracy': 0.83044374, 'val_loss': 1.2646376949966334, 'val_accuracy': 0.7656}\n",
      "Epoch 9 ends at 15:17:52.706728: {'loss': 1.019695423746109, 'accuracy': 0.83358127, 'val_loss': 1.1132218116407941, 'val_accuracy': 0.8061}\n",
      "Epoch 10 ends at 15:22:52.183089: {'loss': 0.9967277462482452, 'accuracy': 0.83834374, 'val_loss': 1.2370314002037048, 'val_accuracy': 0.7626}\n",
      "Epoch 11 ends at 15:27:39.863479: {'loss': 0.9749843684196472, 'accuracy': 0.8421062, 'val_loss': 1.1828162484108262, 'val_accuracy': 0.7766}\n",
      "Epoch 12 ends at 15:32:30.825196: {'loss': 0.955904379272461, 'accuracy': 0.84549373, 'val_loss': 1.1628725016193024, 'val_accuracy': 0.7904}\n",
      "Epoch 13 ends at 15:37:09.971985: {'loss': 0.9495895833015442, 'accuracy': 0.8462625, 'val_loss': 1.1763117958785623, 'val_accuracy': 0.7791}\n",
      "Epoch 14 ends at 15:41:49.223749: {'loss': 0.9312189947366715, 'accuracy': 0.84959376, 'val_loss': 1.1263328771682302, 'val_accuracy': 0.7927}\n",
      "Epoch 15 ends at 15:46:33.179590: {'loss': 0.9224898858308792, 'accuracy': 0.84998125, 'val_loss': 1.1624068595041894, 'val_accuracy': 0.7772}\n",
      "Epoch 16 ends at 15:51:15.986817: {'loss': 0.9139803496837616, 'accuracy': 0.851175, 'val_loss': 1.1569523500029448, 'val_accuracy': 0.7757}\n",
      "Epoch 17 ends at 15:55:58.797881: {'loss': 0.90074479637146, 'accuracy': 0.8549, 'val_loss': 0.9955732488328484, 'val_accuracy': 0.8267}\n",
      "Epoch 18 ends at 16:00:40.962230: {'loss': 0.8952681421279908, 'accuracy': 0.85505, 'val_loss': 1.035866318234972, 'val_accuracy': 0.8107}\n",
      "Epoch 19 ends at 16:05:26.086405: {'loss': 0.8939823672294617, 'accuracy': 0.85536873, 'val_loss': 1.1386306593372564, 'val_accuracy': 0.779}\n"
     ]
    }
   ],
   "source": [
    "history = model.fit(train_data,\n",
    "                    epochs=20,\n",
    "                    validation_data=valid_data,\n",
    "                    verbose=0,\n",
    "                    callbacks=[cp_callback, MyCallback()])"
   ]
  },
  {
   "cell_type": "code",
   "execution_count": 12,
   "metadata": {
    "scrolled": true
   },
   "outputs": [
    {
     "name": "stdout",
     "output_type": "stream",
     "text": [
      "157/157 [==============================].9735 - accuracy: 0.81 - 0s 57ms/step - loss: 1.0618 - accuracy: 0.82 - 0s 52ms/step - loss: 1.0639 - accuracy: 0.81 - 0s 50ms/step - loss: 1.0946 - accuracy: 0.79 - 0s 48ms/step - loss: 1.0550 - accuracy: 0.80 - 0s 47ms/step - loss: 1.0192 - accuracy: 0.81 - 0s 46ms/step - loss: 1.0256 - accuracy: 0.80 - 0s 45ms/step - loss: 1.0572 - accuracy: 0.80 - 0s 44ms/step - loss: 1.0468 - accuracy: 0.80 - 0s 44ms/step - loss: 1.0716 - accuracy: 0.80 - 0s 44ms/step - loss: 1.0693 - accuracy: 0.80 - 1s 44ms/step - loss: 1.0782 - accuracy: 0.80 - 1s 44ms/step - loss: 1.0836 - accuracy: 0.80 - 1s 44ms/step - loss: 1.0938 - accuracy: 0.80 - 1s 44ms/step - loss: 1.0932 - accuracy: 0.79 - 1s 44ms/step - loss: 1.0982 - accuracy: 0.79 - 1s 44ms/step - loss: 1.1014 - accuracy: 0.79 - 1s 44ms/step - loss: 1.1158 - accuracy: 0.79 - 1s 44ms/step - loss: 1.1047 - accuracy: 0.79 - 1s 44ms/step - loss: 1.1125 - accuracy: 0.78 - 1s 44ms/step - loss: 1.0992 - accuracy: 0.79 - 1s 45ms/step - loss: 1.0958 - accuracy: 0.79 - 1s 44ms/step - loss: 1.0920 - accuracy: 0.79 - 1s 45ms/step - loss: 1.0948 - accuracy: 0.79 - 1s 45ms/step - loss: 1.0918 - accuracy: 0.80 - 1s 45ms/step - loss: 1.1011 - accuracy: 0.79 - 1s 45ms/step - loss: 1.1008 - accuracy: 0.79 - 1s 45ms/step - loss: 1.0965 - accuracy: 0.80 - 1s 45ms/step - loss: 1.0996 - accuracy: 0.79 - 1s 45ms/step - loss: 1.0970 - accuracy: 0.79 - 1s 46ms/step - loss: 1.0931 - accuracy: 0.80 - 1s 46ms/step - loss: 1.0916 - accuracy: 0.80 - 2s 46ms/step - loss: 1.0958 - accuracy: 0.79 - 2s 46ms/step - loss: 1.0958 - accuracy: 0.80 - 2s 46ms/step - loss: 1.0930 - accuracy: 0.80 - 2s 47ms/step - loss: 1.0933 - accuracy: 0.80 - 2s 47ms/step - loss: 1.0961 - accuracy: 0.80 - 2s 47ms/step - loss: 1.0948 - accuracy: 0.79 - 2s 47ms/step - loss: 1.0917 - accuracy: 0.80 - 2s 47ms/step - loss: 1.0911 - accuracy: 0.79 - 2s 47ms/step - loss: 1.0984 - accuracy: 0.79 - 2s 47ms/step - loss: 1.0968 - accuracy: 0.79 - 2s 47ms/step - loss: 1.1004 - accuracy: 0.79 - 2s 46ms/step - loss: 1.1070 - accuracy: 0.79 - 2s 46ms/step - loss: 1.1005 - accuracy: 0.79 - 2s 47ms/step - loss: 1.1012 - accuracy: 0.79 - 2s 47ms/step - loss: 1.1037 - accuracy: 0.79 - 2s 47ms/step - loss: 1.1005 - accuracy: 0.79 - 2s 47ms/step - loss: 1.1045 - accuracy: 0.79 - 2s 47ms/step - loss: 1.1046 - accuracy: 0.79 - 2s 47ms/step - loss: 1.1052 - accuracy: 0.79 - 2s 47ms/step - loss: 1.1053 - accuracy: 0.79 - 2s 47ms/step - loss: 1.1060 - accuracy: 0.79 - 3s 47ms/step - loss: 1.1115 - accuracy: 0.79 - 3s 47ms/step - loss: 1.1110 - accuracy: 0.79 - 3s 47ms/step - loss: 1.1166 - accuracy: 0.79 - 3s 47ms/step - loss: 1.1163 - accuracy: 0.79 - 3s 47ms/step - loss: 1.1180 - accuracy: 0.79 - 3s 47ms/step - loss: 1.1166 - accuracy: 0.79 - 3s 47ms/step - loss: 1.1191 - accuracy: 0.79 - 3s 47ms/step - loss: 1.1165 - accuracy: 0.79 - 3s 47ms/step - loss: 1.1204 - accuracy: 0.79 - 3s 47ms/step - loss: 1.1192 - accuracy: 0.79 - 3s 47ms/step - loss: 1.1228 - accuracy: 0.79 - 3s 47ms/step - loss: 1.1228 - accuracy: 0.79 - 3s 47ms/step - loss: 1.1303 - accuracy: 0.78 - 3s 47ms/step - loss: 1.1347 - accuracy: 0.78 - 3s 47ms/step - loss: 1.1384 - accuracy: 0.78 - 3s 47ms/step - loss: 1.1391 - accuracy: 0.78 - 3s 47ms/step - loss: 1.1387 - accuracy: 0.78 - 3s 47ms/step - loss: 1.1383 - accuracy: 0.78 - 3s 47ms/step - loss: 1.1399 - accuracy: 0.78 - 3s 47ms/step - loss: 1.1420 - accuracy: 0.78 - 3s 47ms/step - loss: 1.1397 - accuracy: 0.78 - 4s 47ms/step - loss: 1.1424 - accuracy: 0.78 - 4s 47ms/step - loss: 1.1399 - accuracy: 0.78 - 4s 47ms/step - loss: 1.1409 - accuracy: 0.78 - 4s 47ms/step - loss: 1.1390 - accuracy: 0.78 - 4s 47ms/step - loss: 1.1382 - accuracy: 0.78 - 4s 47ms/step - loss: 1.1386 - accuracy: 0.78 - 4s 47ms/step - loss: 1.1402 - accuracy: 0.78 - 4s 47ms/step - loss: 1.1388 - accuracy: 0.78 - 4s 47ms/step - loss: 1.1404 - accuracy: 0.78 - 4s 47ms/step - loss: 1.1395 - accuracy: 0.78 - 4s 47ms/step - loss: 1.1368 - accuracy: 0.78 - 4s 47ms/step - loss: 1.1382 - accuracy: 0.78 - 4s 47ms/step - loss: 1.1372 - accuracy: 0.78 - 4s 47ms/step - loss: 1.1384 - accuracy: 0.78 - 4s 47ms/step - loss: 1.1389 - accuracy: 0.78 - 4s 47ms/step - loss: 1.1401 - accuracy: 0.78 - 4s 47ms/step - loss: 1.1406 - accuracy: 0.78 - 4s 47ms/step - loss: 1.1405 - accuracy: 0.78 - 4s 47ms/step - loss: 1.1386 - accuracy: 0.78 - 4s 47ms/step - loss: 1.1407 - accuracy: 0.78 - 4s 47ms/step - loss: 1.1430 - accuracy: 0.78 - 5s 47ms/step - loss: 1.1430 - accuracy: 0.78 - 5s 47ms/step - loss: 1.1474 - accuracy: 0.78 - 5s 47ms/step - loss: 1.1462 - accuracy: 0.78 - 5s 47ms/step - loss: 1.1464 - accuracy: 0.78 - 5s 47ms/step - loss: 1.1476 - accuracy: 0.78 - 5s 47ms/step - loss: 1.1487 - accuracy: 0.77 - 5s 47ms/step - loss: 1.1457 - accuracy: 0.78 - 5s 47ms/step - loss: 1.1455 - accuracy: 0.78 - 5s 47ms/step - loss: 1.1490 - accuracy: 0.77 - 5s 47ms/step - loss: 1.1513 - accuracy: 0.77 - 5s 47ms/step - loss: 1.1544 - accuracy: 0.77 - 5s 47ms/step - loss: 1.1558 - accuracy: 0.77 - 5s 47ms/step - loss: 1.1561 - accuracy: 0.77 - 5s 47ms/step - loss: 1.1566 - accuracy: 0.77 - 5s 47ms/step - loss: 1.1572 - accuracy: 0.77 - 5s 47ms/step - loss: 1.1567 - accuracy: 0.77 - 5s 47ms/step - loss: 1.1597 - accuracy: 0.77 - 5s 47ms/step - loss: 1.1612 - accuracy: 0.77 - 5s 47ms/step - loss: 1.1589 - accuracy: 0.77 - 5s 47ms/step - loss: 1.1589 - accuracy: 0.77 - 5s 47ms/step - loss: 1.1607 - accuracy: 0.77 - 5s 47ms/step - loss: 1.1594 - accuracy: 0.77 - 6s 47ms/step - loss: 1.1592 - accuracy: 0.77 - 6s 47ms/step - loss: 1.1593 - accuracy: 0.77 - 6s 47ms/step - loss: 1.1584 - accuracy: 0.77 - 6s 47ms/step - loss: 1.1578 - accuracy: 0.77 - 6s 47ms/step - loss: 1.1567 - accuracy: 0.77 - 6s 47ms/step - loss: 1.1563 - accuracy: 0.77 - 6s 47ms/step - loss: 1.1561 - accuracy: 0.77 - 6s 47ms/step - loss: 1.1543 - accuracy: 0.77 - 6s 47ms/step - loss: 1.1536 - accuracy: 0.77 - 6s 47ms/step - loss: 1.1534 - accuracy: 0.77 - 6s 47ms/step - loss: 1.1535 - accuracy: 0.77 - 6s 47ms/step - loss: 1.1534 - accuracy: 0.77 - 6s 47ms/step - loss: 1.1539 - accuracy: 0.77 - 6s 47ms/step - loss: 1.1530 - accuracy: 0.77 - 6s 47ms/step - loss: 1.1509 - accuracy: 0.77 - 6s 47ms/step - loss: 1.1495 - accuracy: 0.77 - 6s 47ms/step - loss: 1.1481 - accuracy: 0.77 - 6s 47ms/step - loss: 1.1475 - accuracy: 0.77 - 6s 47ms/step - loss: 1.1486 - accuracy: 0.77 - 6s 47ms/step - loss: 1.1483 - accuracy: 0.77 - 6s 47ms/step - loss: 1.1491 - accuracy: 0.77 - 7s 47ms/step - loss: 1.1483 - accuracy: 0.77 - 7s 47ms/step - loss: 1.1464 - accuracy: 0.77 - 7s 47ms/step - loss: 1.1462 - accuracy: 0.77 - 7s 47ms/step - loss: 1.1463 - accuracy: 0.77 - 7s 47ms/step - loss: 1.1458 - accuracy: 0.77 - 7s 47ms/step - loss: 1.1459 - accuracy: 0.77 - 7s 47ms/step - loss: 1.1449 - accuracy: 0.77 - 7s 47ms/step - loss: 1.1446 - accuracy: 0.77 - 7s 47ms/step - loss: 1.1441 - accuracy: 0.77 - 7s 47ms/step - loss: 1.1439 - accuracy: 0.77 - 7s 47ms/step - loss: 1.1443 - accuracy: 0.77 - 7s 47ms/step - loss: 1.1455 - accuracy: 0.77 - 7s 47ms/step - loss: 1.1447 - accuracy: 0.77 - 7s 47ms/step - loss: 1.1451 - accuracy: 0.77 - 7s 47ms/step - loss: 1.1457 - accuracy: 0.77 - 7s 47ms/step - loss: 1.1468 - accuracy: 0.77 - 7s 47ms/step - loss: 1.1452 - accuracy: 0.77 - 7s 47ms/step - loss: 1.1459 - accuracy: 0.77 - 7s 47ms/step - loss: 1.1454 - accuracy: 0.77 - 8s 49ms/step - loss: 1.1454 - accuracy: 0.7784\n"
     ]
    },
    {
     "data": {
      "text/plain": [
       "[1.14541045191941, 0.7784]"
      ]
     },
     "execution_count": 12,
     "metadata": {},
     "output_type": "execute_result"
    }
   ],
   "source": [
    "model.evaluate(test_data)"
   ]
  },
  {
   "cell_type": "code",
   "execution_count": 13,
   "metadata": {},
   "outputs": [],
   "source": [
    "m = tf.keras.models.load_model('checkpoints/{}.hdf5'.format(dt))"
   ]
  },
  {
   "cell_type": "code",
   "execution_count": null,
   "metadata": {},
   "outputs": [],
   "source": []
  }
 ],
 "metadata": {
  "kernelspec": {
   "display_name": "Python 3",
   "language": "python",
   "name": "python3"
  },
  "language_info": {
   "codemirror_mode": {
    "name": "ipython",
    "version": 3
   },
   "file_extension": ".py",
   "mimetype": "text/x-python",
   "name": "python",
   "nbconvert_exporter": "python",
   "pygments_lexer": "ipython3",
   "version": "3.6.9"
  }
 },
 "nbformat": 4,
 "nbformat_minor": 2
}
