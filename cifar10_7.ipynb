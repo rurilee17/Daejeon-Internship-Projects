{
 "cells": [
  {
   "cell_type": "code",
   "execution_count": 1,
   "metadata": {},
   "outputs": [
    {
     "name": "stdout",
     "output_type": "stream",
     "text": [
      "Requirement already satisfied: tensorflow-datasets in c:\\users\\affinity\\anaconda3\\lib\\site-packages (1.3.0)\n",
      "Requirement already satisfied: absl-py in c:\\users\\affinity\\anaconda3\\lib\\site-packages (from tensorflow-datasets) (0.8.0)\n",
      "Requirement already satisfied: numpy in c:\\users\\affinity\\anaconda3\\lib\\site-packages (from tensorflow-datasets) (1.16.5)\n",
      "Requirement already satisfied: dill in c:\\users\\affinity\\anaconda3\\lib\\site-packages (from tensorflow-datasets) (0.3.1.1)\n",
      "Requirement already satisfied: termcolor in c:\\users\\affinity\\anaconda3\\lib\\site-packages (from tensorflow-datasets) (1.1.0)\n",
      "Requirement already satisfied: attrs in c:\\users\\affinity\\anaconda3\\lib\\site-packages (from tensorflow-datasets) (19.3.0)\n",
      "Requirement already satisfied: requests>=2.19.0 in c:\\users\\affinity\\anaconda3\\lib\\site-packages (from tensorflow-datasets) (2.22.0)\n",
      "Requirement already satisfied: protobuf>=3.6.1 in c:\\users\\affinity\\anaconda3\\lib\\site-packages (from tensorflow-datasets) (3.9.2)\n",
      "Requirement already satisfied: tqdm in c:\\users\\affinity\\anaconda3\\lib\\site-packages (from tensorflow-datasets) (4.36.1)\n",
      "Requirement already satisfied: future in c:\\users\\affinity\\anaconda3\\lib\\site-packages (from tensorflow-datasets) (0.17.1)\n",
      "Requirement already satisfied: promise in c:\\users\\affinity\\anaconda3\\lib\\site-packages (from tensorflow-datasets) (2.2.1)\n",
      "Requirement already satisfied: wrapt in c:\\users\\affinity\\anaconda3\\lib\\site-packages (from tensorflow-datasets) (1.11.2)\n",
      "Requirement already satisfied: six in c:\\users\\affinity\\anaconda3\\lib\\site-packages (from tensorflow-datasets) (1.12.0)\n",
      "Requirement already satisfied: tensorflow-metadata in c:\\users\\affinity\\anaconda3\\lib\\site-packages (from tensorflow-datasets) (0.15.0)\n",
      "Requirement already satisfied: certifi>=2017.4.17 in c:\\users\\affinity\\anaconda3\\lib\\site-packages (from requests>=2.19.0->tensorflow-datasets) (2019.9.11)\n",
      "Requirement already satisfied: idna<2.9,>=2.5 in c:\\users\\affinity\\anaconda3\\lib\\site-packages (from requests>=2.19.0->tensorflow-datasets) (2.8)\n",
      "Requirement already satisfied: urllib3!=1.25.0,!=1.25.1,<1.26,>=1.21.1 in c:\\users\\affinity\\anaconda3\\lib\\site-packages (from requests>=2.19.0->tensorflow-datasets) (1.24.2)\n",
      "Requirement already satisfied: chardet<3.1.0,>=3.0.2 in c:\\users\\affinity\\anaconda3\\lib\\site-packages (from requests>=2.19.0->tensorflow-datasets) (3.0.4)\n",
      "Requirement already satisfied: setuptools in c:\\users\\affinity\\anaconda3\\lib\\site-packages (from protobuf>=3.6.1->tensorflow-datasets) (41.4.0)\n",
      "Requirement already satisfied: googleapis-common-protos in c:\\users\\affinity\\anaconda3\\lib\\site-packages (from tensorflow-metadata->tensorflow-datasets) (1.6.0)\n"
     ]
    }
   ],
   "source": [
    "!pip install tensorflow-datasets"
   ]
  },
  {
   "cell_type": "code",
   "execution_count": 2,
   "metadata": {},
   "outputs": [
    {
     "name": "stdout",
     "output_type": "stream",
     "text": [
      "Requirement already up-to-date: pip in c:\\users\\affinity\\anaconda3\\lib\\site-packages (19.3.1)\n"
     ]
    }
   ],
   "source": [
    "!python -m pip install --upgrade pip"
   ]
  },
  {
   "cell_type": "code",
   "execution_count": 4,
   "metadata": {},
   "outputs": [],
   "source": [
    "import tensorflow as tf\n",
    "import tensorflow_datasets as tfds\n",
    "from keras.models import load_model\n",
    "from datetime import datetime\n",
    "#tf.enable_eager_execution()"
   ]
  },
  {
   "cell_type": "code",
   "execution_count": 5,
   "metadata": {},
   "outputs": [],
   "source": [
    "train_data = tfds.load(name='cifar10:3.*.*', split='train[:80%]', as_supervised=True)\n",
    "valid_data = tfds.load(name='cifar10:3.*.*', split='train[80%:]', as_supervised=True)\n",
    "test_data = tfds.load(name='cifar10:3.*.*', split='test', as_supervised=True)"
   ]
  },
  {
   "cell_type": "code",
   "execution_count": 6,
   "metadata": {},
   "outputs": [
    {
     "name": "stdout",
     "output_type": "stream",
     "text": [
      "Model: \"sequential\"\n",
      "_________________________________________________________________\n",
      "Layer (type)                 Output Shape              Param #   \n",
      "=================================================================\n",
      "conv2d (Conv2D)              (None, 32, 32, 128)       3584      \n",
      "_________________________________________________________________\n",
      "batch_normalization (BatchNo (None, 32, 32, 128)       512       \n",
      "_________________________________________________________________\n",
      "max_pooling2d (MaxPooling2D) (None, 16, 16, 128)       0         \n",
      "_________________________________________________________________\n",
      "conv2d_1 (Conv2D)            (None, 16, 16, 64)        73792     \n",
      "_________________________________________________________________\n",
      "batch_normalization_1 (Batch (None, 16, 16, 64)        256       \n",
      "_________________________________________________________________\n",
      "max_pooling2d_1 (MaxPooling2 (None, 8, 8, 64)          0         \n",
      "_________________________________________________________________\n",
      "conv2d_2 (Conv2D)            (None, 8, 8, 32)          18464     \n",
      "_________________________________________________________________\n",
      "batch_normalization_2 (Batch (None, 8, 8, 32)          128       \n",
      "_________________________________________________________________\n",
      "max_pooling2d_2 (MaxPooling2 (None, 4, 4, 32)          0         \n",
      "_________________________________________________________________\n",
      "flatten (Flatten)            (None, 512)               0         \n",
      "_________________________________________________________________\n",
      "dropout (Dropout)            (None, 512)               0         \n",
      "_________________________________________________________________\n",
      "dense (Dense)                (None, 10)                5130      \n",
      "=================================================================\n",
      "Total params: 101,866\n",
      "Trainable params: 101,418\n",
      "Non-trainable params: 448\n",
      "_________________________________________________________________\n"
     ]
    }
   ],
   "source": [
    "model = tf.keras.Sequential([\n",
    "    tf.keras.layers.Conv2D(128, 3, activation='relu', padding='same', input_shape=(32, 32, 3)),\n",
    "    tf.keras.layers.BatchNormalization(),  # Gradient Vanishing / Gradient Exploding 이 일어나지 않도록 하는 아이디어 중의 하나이다\n",
    "    tf.keras.layers.MaxPooling2D(),\n",
    "    tf.keras.layers.Conv2D(64, 3, activation='relu', padding='same'),\n",
    "    tf.keras.layers.BatchNormalization(),  # Gradient Vanishing / Gradient Exploding 이 일어나지 않도록 하는 아이디어 중의 하나이다\n",
    "    tf.keras.layers.MaxPooling2D(),    \n",
    "    tf.keras.layers.Conv2D(32, 3, activation='relu', padding='same'),\n",
    "    tf.keras.layers.BatchNormalization(),  # Gradient Vanishing / Gradient Exploding 이 일어나지 않도록 하는 아이디어 중의 하나이다\n",
    "    tf.keras.layers.MaxPooling2D(),\n",
    "    tf.keras.layers.Flatten(),\n",
    "    tf.keras.layers.Dropout(0.4),\n",
    "    tf.keras.layers.Dense(10, activation='softmax')\n",
    "    \n",
    "])\n",
    "model.summary()"
   ]
  },
  {
   "cell_type": "code",
   "execution_count": 7,
   "metadata": {},
   "outputs": [],
   "source": [
    "model.compile(optimizer='adam',\n",
    "              loss='sparse_categorical_crossentropy',\n",
    "              metrics=['accuracy'])"
   ]
  },
  {
   "cell_type": "code",
   "execution_count": 8,
   "metadata": {},
   "outputs": [],
   "source": [
    "def scale(image, label):\n",
    "    image = tf.cast(image, tf.float32)\n",
    "    image /= 255\n",
    "    return image, label\n",
    "\n",
    "train_data = train_data.map(scale).shuffle(50000).batch(64) # \n",
    "valid_data = valid_data.map(scale).batch(64)\n",
    "test_data = test_data.map(scale).batch(64)"
   ]
  },
  {
   "cell_type": "code",
   "execution_count": 9,
   "metadata": {},
   "outputs": [],
   "source": [
    "dt = datetime.now().strftime('%Y%m%d-%H%M%S')\n",
    "\n",
    "cp_callback = tf.keras.callbacks.ModelCheckpoint(   \n",
    "    'checkpoints/{}.hdf5'.format(dt),\n",
    "    monitor='val_acc',\n",
    "    save_best_only=True)"
   ]
  },
  {
   "cell_type": "code",
   "execution_count": 10,
   "metadata": {},
   "outputs": [],
   "source": [
    "class MyCallback(tf.keras.callbacks.Callback):\n",
    "\n",
    "    def on_epoch_start(self, epoch, logs=None):\n",
    "        print('Epoch {} begins at {}: {}'.format(epoch, datetime.now().time(), logs))\n",
    "\n",
    "    def on_epoch_end(self, epoch, logs=None):\n",
    "        print('Epoch {} ends at {}: {}'.format(epoch, datetime.now().time(), logs))"
   ]
  },
  {
   "cell_type": "code",
   "execution_count": 11,
   "metadata": {},
   "outputs": [
    {
     "name": "stdout",
     "output_type": "stream",
     "text": [
      "WARNING:tensorflow:Can save best model only with val_acc available, skipping.\n"
     ]
    },
    {
     "name": "stderr",
     "output_type": "stream",
     "text": [
      "WARNING:tensorflow:Can save best model only with val_acc available, skipping.\n"
     ]
    },
    {
     "name": "stdout",
     "output_type": "stream",
     "text": [
      "Epoch 0 ends at 15:50:53.054154: {'loss': 1.7689715034484863, 'accuracy': 0.413275, 'val_loss': 1.6467225285852032, 'val_accuracy': 0.4023}\n",
      "WARNING:tensorflow:Can save best model only with val_acc available, skipping.\n"
     ]
    },
    {
     "name": "stderr",
     "output_type": "stream",
     "text": [
      "WARNING:tensorflow:Can save best model only with val_acc available, skipping.\n"
     ]
    },
    {
     "name": "stdout",
     "output_type": "stream",
     "text": [
      "Epoch 1 ends at 15:51:12.920479: {'loss': 1.1931104391098022, 'accuracy': 0.5794, 'val_loss': 1.6188946605487993, 'val_accuracy': 0.4721}\n",
      "WARNING:tensorflow:Can save best model only with val_acc available, skipping.\n"
     ]
    },
    {
     "name": "stderr",
     "output_type": "stream",
     "text": [
      "WARNING:tensorflow:Can save best model only with val_acc available, skipping.\n"
     ]
    },
    {
     "name": "stdout",
     "output_type": "stream",
     "text": [
      "Epoch 2 ends at 15:51:33.312337: {'loss': 1.022985613155365, 'accuracy': 0.639775, 'val_loss': 1.0590684026669546, 'val_accuracy': 0.6244}\n",
      "WARNING:tensorflow:Can save best model only with val_acc available, skipping.\n"
     ]
    },
    {
     "name": "stderr",
     "output_type": "stream",
     "text": [
      "WARNING:tensorflow:Can save best model only with val_acc available, skipping.\n"
     ]
    },
    {
     "name": "stdout",
     "output_type": "stream",
     "text": [
      "Epoch 3 ends at 15:51:54.570498: {'loss': 0.9311705169677734, 'accuracy': 0.67215, 'val_loss': 1.0052817870097555, 'val_accuracy': 0.6538}\n",
      "WARNING:tensorflow:Can save best model only with val_acc available, skipping.\n"
     ]
    },
    {
     "name": "stderr",
     "output_type": "stream",
     "text": [
      "WARNING:tensorflow:Can save best model only with val_acc available, skipping.\n"
     ]
    },
    {
     "name": "stdout",
     "output_type": "stream",
     "text": [
      "Epoch 4 ends at 15:52:16.664424: {'loss': 0.8754433826446533, 'accuracy': 0.6957, 'val_loss': 1.0436692146738624, 'val_accuracy': 0.6357}\n",
      "WARNING:tensorflow:Can save best model only with val_acc available, skipping.\n"
     ]
    },
    {
     "name": "stderr",
     "output_type": "stream",
     "text": [
      "WARNING:tensorflow:Can save best model only with val_acc available, skipping.\n"
     ]
    },
    {
     "name": "stdout",
     "output_type": "stream",
     "text": [
      "Epoch 5 ends at 15:52:39.292924: {'loss': 0.8316231523036957, 'accuracy': 0.709575, 'val_loss': 0.9286333470587518, 'val_accuracy': 0.677}\n",
      "WARNING:tensorflow:Can save best model only with val_acc available, skipping.\n"
     ]
    },
    {
     "name": "stderr",
     "output_type": "stream",
     "text": [
      "WARNING:tensorflow:Can save best model only with val_acc available, skipping.\n"
     ]
    },
    {
     "name": "stdout",
     "output_type": "stream",
     "text": [
      "Epoch 6 ends at 15:53:03.279789: {'loss': 0.7929330541610717, 'accuracy': 0.721975, 'val_loss': 0.8504993930743758, 'val_accuracy': 0.7097}\n",
      "WARNING:tensorflow:Can save best model only with val_acc available, skipping.\n"
     ]
    },
    {
     "name": "stderr",
     "output_type": "stream",
     "text": [
      "WARNING:tensorflow:Can save best model only with val_acc available, skipping.\n"
     ]
    },
    {
     "name": "stdout",
     "output_type": "stream",
     "text": [
      "Epoch 7 ends at 15:53:27.378307: {'loss': 0.7658525544643402, 'accuracy': 0.731075, 'val_loss': 0.8233960699883236, 'val_accuracy': 0.7166}\n",
      "WARNING:tensorflow:Can save best model only with val_acc available, skipping.\n"
     ]
    },
    {
     "name": "stderr",
     "output_type": "stream",
     "text": [
      "WARNING:tensorflow:Can save best model only with val_acc available, skipping.\n"
     ]
    },
    {
     "name": "stdout",
     "output_type": "stream",
     "text": [
      "Epoch 8 ends at 15:53:51.995492: {'loss': 0.7348902534961701, 'accuracy': 0.7437, 'val_loss': 0.8138584566723769, 'val_accuracy': 0.7211}\n",
      "WARNING:tensorflow:Can save best model only with val_acc available, skipping.\n"
     ]
    },
    {
     "name": "stderr",
     "output_type": "stream",
     "text": [
      "WARNING:tensorflow:Can save best model only with val_acc available, skipping.\n"
     ]
    },
    {
     "name": "stdout",
     "output_type": "stream",
     "text": [
      "Epoch 9 ends at 15:54:18.998292: {'loss': 0.7104840789318084, 'accuracy': 0.7524, 'val_loss': 0.8826328791250848, 'val_accuracy': 0.7069}\n",
      "WARNING:tensorflow:Can save best model only with val_acc available, skipping.\n"
     ]
    },
    {
     "name": "stderr",
     "output_type": "stream",
     "text": [
      "WARNING:tensorflow:Can save best model only with val_acc available, skipping.\n"
     ]
    },
    {
     "name": "stdout",
     "output_type": "stream",
     "text": [
      "Epoch 10 ends at 15:54:44.863485: {'loss': 0.6895324115276337, 'accuracy': 0.75805, 'val_loss': 0.969791527766331, 'val_accuracy': 0.6704}\n",
      "WARNING:tensorflow:Can save best model only with val_acc available, skipping.\n"
     ]
    },
    {
     "name": "stderr",
     "output_type": "stream",
     "text": [
      "WARNING:tensorflow:Can save best model only with val_acc available, skipping.\n"
     ]
    },
    {
     "name": "stdout",
     "output_type": "stream",
     "text": [
      "Epoch 11 ends at 15:55:11.105598: {'loss': 0.6650478998184204, 'accuracy': 0.7677, 'val_loss': 0.6915324702384366, 'val_accuracy': 0.7587}\n",
      "WARNING:tensorflow:Can save best model only with val_acc available, skipping.\n"
     ]
    },
    {
     "name": "stderr",
     "output_type": "stream",
     "text": [
      "WARNING:tensorflow:Can save best model only with val_acc available, skipping.\n"
     ]
    },
    {
     "name": "stdout",
     "output_type": "stream",
     "text": [
      "Epoch 12 ends at 15:55:36.699165: {'loss': 0.6440331793308258, 'accuracy': 0.775525, 'val_loss': 1.0836279240383464, 'val_accuracy': 0.6416}\n",
      "WARNING:tensorflow:Can save best model only with val_acc available, skipping.\n"
     ]
    },
    {
     "name": "stderr",
     "output_type": "stream",
     "text": [
      "WARNING:tensorflow:Can save best model only with val_acc available, skipping.\n"
     ]
    },
    {
     "name": "stdout",
     "output_type": "stream",
     "text": [
      "Epoch 13 ends at 15:56:03.753359: {'loss': 0.6315800234794616, 'accuracy': 0.7773, 'val_loss': 0.7542359046875291, 'val_accuracy': 0.7405}\n",
      "WARNING:tensorflow:Can save best model only with val_acc available, skipping.\n"
     ]
    },
    {
     "name": "stderr",
     "output_type": "stream",
     "text": [
      "WARNING:tensorflow:Can save best model only with val_acc available, skipping.\n"
     ]
    },
    {
     "name": "stdout",
     "output_type": "stream",
     "text": [
      "Epoch 14 ends at 15:56:30.180790: {'loss': 0.6219465176582336, 'accuracy': 0.7835, 'val_loss': 0.8279198840924888, 'val_accuracy': 0.719}\n",
      "WARNING:tensorflow:Can save best model only with val_acc available, skipping.\n"
     ]
    },
    {
     "name": "stderr",
     "output_type": "stream",
     "text": [
      "WARNING:tensorflow:Can save best model only with val_acc available, skipping.\n"
     ]
    },
    {
     "name": "stdout",
     "output_type": "stream",
     "text": [
      "Epoch 15 ends at 15:56:56.574858: {'loss': 0.6001309733867646, 'accuracy': 0.7877, 'val_loss': 0.8477290882046815, 'val_accuracy': 0.7179}\n",
      "WARNING:tensorflow:Can save best model only with val_acc available, skipping.\n"
     ]
    },
    {
     "name": "stderr",
     "output_type": "stream",
     "text": [
      "WARNING:tensorflow:Can save best model only with val_acc available, skipping.\n"
     ]
    },
    {
     "name": "stdout",
     "output_type": "stream",
     "text": [
      "Epoch 16 ends at 15:57:23.338199: {'loss': 0.5838827550888062, 'accuracy': 0.79435, 'val_loss': 0.7430221043574582, 'val_accuracy': 0.7463}\n",
      "WARNING:tensorflow:Can save best model only with val_acc available, skipping.\n"
     ]
    },
    {
     "name": "stderr",
     "output_type": "stream",
     "text": [
      "WARNING:tensorflow:Can save best model only with val_acc available, skipping.\n"
     ]
    },
    {
     "name": "stdout",
     "output_type": "stream",
     "text": [
      "Epoch 17 ends at 15:57:50.816782: {'loss': 0.5762107311487198, 'accuracy': 0.79745, 'val_loss': 1.1370982914973216, 'val_accuracy': 0.6528}\n",
      "WARNING:tensorflow:Can save best model only with val_acc available, skipping.\n"
     ]
    },
    {
     "name": "stderr",
     "output_type": "stream",
     "text": [
      "WARNING:tensorflow:Can save best model only with val_acc available, skipping.\n"
     ]
    },
    {
     "name": "stdout",
     "output_type": "stream",
     "text": [
      "Epoch 18 ends at 15:58:18.318059: {'loss': 0.5587650902748108, 'accuracy': 0.803575, 'val_loss': 0.9185875938956145, 'val_accuracy': 0.689}\n",
      "WARNING:tensorflow:Can save best model only with val_acc available, skipping.\n"
     ]
    },
    {
     "name": "stderr",
     "output_type": "stream",
     "text": [
      "WARNING:tensorflow:Can save best model only with val_acc available, skipping.\n"
     ]
    },
    {
     "name": "stdout",
     "output_type": "stream",
     "text": [
      "Epoch 19 ends at 15:58:45.923338: {'loss': 0.5498907092094422, 'accuracy': 0.8081, 'val_loss': 0.9793595664060799, 'val_accuracy': 0.6783}\n",
      "WARNING:tensorflow:Can save best model only with val_acc available, skipping.\n"
     ]
    },
    {
     "name": "stderr",
     "output_type": "stream",
     "text": [
      "WARNING:tensorflow:Can save best model only with val_acc available, skipping.\n"
     ]
    },
    {
     "name": "stdout",
     "output_type": "stream",
     "text": [
      "Epoch 20 ends at 15:59:13.184702: {'loss': 0.5410766117095948, 'accuracy': 0.811175, 'val_loss': 0.721146878163526, 'val_accuracy': 0.7541}\n",
      "WARNING:tensorflow:Can save best model only with val_acc available, skipping.\n"
     ]
    },
    {
     "name": "stderr",
     "output_type": "stream",
     "text": [
      "WARNING:tensorflow:Can save best model only with val_acc available, skipping.\n"
     ]
    },
    {
     "name": "stdout",
     "output_type": "stream",
     "text": [
      "Epoch 21 ends at 15:59:40.777927: {'loss': 0.5309709169387817, 'accuracy': 0.8126, 'val_loss': 0.854536031461825, 'val_accuracy': 0.7146}\n",
      "WARNING:tensorflow:Can save best model only with val_acc available, skipping.\n"
     ]
    },
    {
     "name": "stderr",
     "output_type": "stream",
     "text": [
      "WARNING:tensorflow:Can save best model only with val_acc available, skipping.\n"
     ]
    },
    {
     "name": "stdout",
     "output_type": "stream",
     "text": [
      "Epoch 22 ends at 16:00:08.067959: {'loss': 0.5158392645359039, 'accuracy': 0.81945, 'val_loss': 0.7809239680979662, 'val_accuracy': 0.7399}\n",
      "WARNING:tensorflow:Can save best model only with val_acc available, skipping.\n"
     ]
    },
    {
     "name": "stderr",
     "output_type": "stream",
     "text": [
      "WARNING:tensorflow:Can save best model only with val_acc available, skipping.\n"
     ]
    },
    {
     "name": "stdout",
     "output_type": "stream",
     "text": [
      "Epoch 23 ends at 16:00:34.999953: {'loss': 0.5123612599849701, 'accuracy': 0.817775, 'val_loss': 0.7198265301194161, 'val_accuracy': 0.7555}\n",
      "WARNING:tensorflow:Can save best model only with val_acc available, skipping.\n"
     ]
    },
    {
     "name": "stderr",
     "output_type": "stream",
     "text": [
      "WARNING:tensorflow:Can save best model only with val_acc available, skipping.\n"
     ]
    },
    {
     "name": "stdout",
     "output_type": "stream",
     "text": [
      "Epoch 24 ends at 16:01:01.620416: {'loss': 0.4961793461561203, 'accuracy': 0.824225, 'val_loss': 0.6601199014171674, 'val_accuracy': 0.776}\n",
      "WARNING:tensorflow:Can save best model only with val_acc available, skipping.\n"
     ]
    },
    {
     "name": "stderr",
     "output_type": "stream",
     "text": [
      "WARNING:tensorflow:Can save best model only with val_acc available, skipping.\n"
     ]
    },
    {
     "name": "stdout",
     "output_type": "stream",
     "text": [
      "Epoch 25 ends at 16:01:29.828968: {'loss': 0.4861770125865936, 'accuracy': 0.8293, 'val_loss': 1.0490756222776547, 'val_accuracy': 0.677}\n",
      "WARNING:tensorflow:Can save best model only with val_acc available, skipping.\n"
     ]
    },
    {
     "name": "stderr",
     "output_type": "stream",
     "text": [
      "WARNING:tensorflow:Can save best model only with val_acc available, skipping.\n"
     ]
    },
    {
     "name": "stdout",
     "output_type": "stream",
     "text": [
      "Epoch 26 ends at 16:01:56.649614: {'loss': 0.4813686074733734, 'accuracy': 0.8289, 'val_loss': 0.7686380595917914, 'val_accuracy': 0.7493}\n",
      "WARNING:tensorflow:Can save best model only with val_acc available, skipping.\n"
     ]
    },
    {
     "name": "stderr",
     "output_type": "stream",
     "text": [
      "WARNING:tensorflow:Can save best model only with val_acc available, skipping.\n"
     ]
    },
    {
     "name": "stdout",
     "output_type": "stream",
     "text": [
      "Epoch 27 ends at 16:02:24.017295: {'loss': 0.46714330394268033, 'accuracy': 0.835675, 'val_loss': 0.6982128014610072, 'val_accuracy': 0.7684}\n",
      "WARNING:tensorflow:Can save best model only with val_acc available, skipping.\n"
     ]
    },
    {
     "name": "stderr",
     "output_type": "stream",
     "text": [
      "WARNING:tensorflow:Can save best model only with val_acc available, skipping.\n"
     ]
    },
    {
     "name": "stdout",
     "output_type": "stream",
     "text": [
      "Epoch 28 ends at 16:02:52.080265: {'loss': 0.4565208065032959, 'accuracy': 0.838325, 'val_loss': 0.7123516630974545, 'val_accuracy': 0.7657}\n",
      "WARNING:tensorflow:Can save best model only with val_acc available, skipping.\n"
     ]
    },
    {
     "name": "stderr",
     "output_type": "stream",
     "text": [
      "WARNING:tensorflow:Can save best model only with val_acc available, skipping.\n"
     ]
    },
    {
     "name": "stdout",
     "output_type": "stream",
     "text": [
      "Epoch 29 ends at 16:03:24.173459: {'loss': 0.4550545465707779, 'accuracy': 0.8382, 'val_loss': 0.6963554920664259, 'val_accuracy': 0.7726}\n",
      "WARNING:tensorflow:Can save best model only with val_acc available, skipping.\n"
     ]
    },
    {
     "name": "stderr",
     "output_type": "stream",
     "text": [
      "WARNING:tensorflow:Can save best model only with val_acc available, skipping.\n"
     ]
    },
    {
     "name": "stdout",
     "output_type": "stream",
     "text": [
      "Epoch 30 ends at 16:03:54.652964: {'loss': 0.44859443747997285, 'accuracy': 0.8404, 'val_loss': 0.7640309605249174, 'val_accuracy': 0.7489}\n",
      "WARNING:tensorflow:Can save best model only with val_acc available, skipping.\n"
     ]
    },
    {
     "name": "stderr",
     "output_type": "stream",
     "text": [
      "WARNING:tensorflow:Can save best model only with val_acc available, skipping.\n"
     ]
    },
    {
     "name": "stdout",
     "output_type": "stream",
     "text": [
      "Epoch 31 ends at 16:04:25.127498: {'loss': 0.4441228989839554, 'accuracy': 0.840775, 'val_loss': 0.8395156697103172, 'val_accuracy': 0.7293}\n",
      "WARNING:tensorflow:Can save best model only with val_acc available, skipping.\n"
     ]
    },
    {
     "name": "stderr",
     "output_type": "stream",
     "text": [
      "WARNING:tensorflow:Can save best model only with val_acc available, skipping.\n"
     ]
    },
    {
     "name": "stdout",
     "output_type": "stream",
     "text": [
      "Epoch 32 ends at 16:04:55.498632: {'loss': 0.43807936768531797, 'accuracy': 0.842325, 'val_loss': 0.8138557664907662, 'val_accuracy': 0.7408}\n",
      "WARNING:tensorflow:Can save best model only with val_acc available, skipping.\n"
     ]
    },
    {
     "name": "stderr",
     "output_type": "stream",
     "text": [
      "WARNING:tensorflow:Can save best model only with val_acc available, skipping.\n"
     ]
    },
    {
     "name": "stdout",
     "output_type": "stream",
     "text": [
      "Epoch 33 ends at 16:05:26.188482: {'loss': 0.4306246089696884, 'accuracy': 0.84485, 'val_loss': 0.8431273455832414, 'val_accuracy': 0.7348}\n",
      "WARNING:tensorflow:Can save best model only with val_acc available, skipping.\n"
     ]
    },
    {
     "name": "stderr",
     "output_type": "stream",
     "text": [
      "WARNING:tensorflow:Can save best model only with val_acc available, skipping.\n"
     ]
    },
    {
     "name": "stdout",
     "output_type": "stream",
     "text": [
      "Epoch 34 ends at 16:05:56.561275: {'loss': 0.4273587245464325, 'accuracy': 0.845675, 'val_loss': 0.7572459608885893, 'val_accuracy': 0.7498}\n",
      "WARNING:tensorflow:Can save best model only with val_acc available, skipping.\n"
     ]
    },
    {
     "name": "stderr",
     "output_type": "stream",
     "text": [
      "WARNING:tensorflow:Can save best model only with val_acc available, skipping.\n"
     ]
    },
    {
     "name": "stdout",
     "output_type": "stream",
     "text": [
      "Epoch 35 ends at 16:06:28.514840: {'loss': 0.4231377313375473, 'accuracy': 0.847825, 'val_loss': 0.7607798874378204, 'val_accuracy': 0.7611}\n",
      "WARNING:tensorflow:Can save best model only with val_acc available, skipping.\n"
     ]
    },
    {
     "name": "stderr",
     "output_type": "stream",
     "text": [
      "WARNING:tensorflow:Can save best model only with val_acc available, skipping.\n"
     ]
    },
    {
     "name": "stdout",
     "output_type": "stream",
     "text": [
      "Epoch 36 ends at 16:06:59.451125: {'loss': 0.41387437760829926, 'accuracy': 0.85155, 'val_loss': 0.8068094667355725, 'val_accuracy': 0.7442}\n",
      "WARNING:tensorflow:Can save best model only with val_acc available, skipping.\n"
     ]
    },
    {
     "name": "stderr",
     "output_type": "stream",
     "text": [
      "WARNING:tensorflow:Can save best model only with val_acc available, skipping.\n"
     ]
    },
    {
     "name": "stdout",
     "output_type": "stream",
     "text": [
      "Epoch 37 ends at 16:07:32.179621: {'loss': 0.40672331132888795, 'accuracy': 0.853875, 'val_loss': 0.7775436863777744, 'val_accuracy': 0.7512}\n",
      "WARNING:tensorflow:Can save best model only with val_acc available, skipping.\n"
     ]
    },
    {
     "name": "stderr",
     "output_type": "stream",
     "text": [
      "WARNING:tensorflow:Can save best model only with val_acc available, skipping.\n"
     ]
    },
    {
     "name": "stdout",
     "output_type": "stream",
     "text": [
      "Epoch 38 ends at 16:08:04.944020: {'loss': 0.400910808634758, 'accuracy': 0.856, 'val_loss': 0.7520571986960757, 'val_accuracy': 0.7606}\n",
      "WARNING:tensorflow:Can save best model only with val_acc available, skipping.\n"
     ]
    },
    {
     "name": "stderr",
     "output_type": "stream",
     "text": [
      "WARNING:tensorflow:Can save best model only with val_acc available, skipping.\n"
     ]
    },
    {
     "name": "stdout",
     "output_type": "stream",
     "text": [
      "Epoch 39 ends at 16:08:40.524224: {'loss': 0.39829282822608947, 'accuracy': 0.858925, 'val_loss': 0.730420480678036, 'val_accuracy': 0.7662}\n"
     ]
    }
   ],
   "source": [
    "history = model.fit(train_data,\n",
    "                    epochs=40,\n",
    "                    validation_data=valid_data,\n",
    "                    verbose=0,\n",
    "                    callbacks=[cp_callback, MyCallback()])"
   ]
  },
  {
   "cell_type": "code",
   "execution_count": 12,
   "metadata": {
    "scrolled": true
   },
   "outputs": [
    {
     "name": "stdout",
     "output_type": "stream",
     "text": [
      "157/157 [==============================].7717 - accuracy: 0.76 - 0s 64ms/step - loss: 0.7664 - accuracy: 0.76 - 0s 57ms/step - loss: 0.7502 - accuracy: 0.78 - 0s 55ms/step - loss: 0.7453 - accuracy: 0.76 - 0s 57ms/step - loss: 0.7033 - accuracy: 0.78 - 0s 54ms/step - loss: 0.6801 - accuracy: 0.78 - 0s 53ms/step - loss: 0.6759 - accuracy: 0.78 - 0s 51ms/step - loss: 0.7019 - accuracy: 0.78 - 0s 49ms/step - loss: 0.6965 - accuracy: 0.77 - 0s 49ms/step - loss: 0.6960 - accuracy: 0.77 - 1s 48ms/step - loss: 0.6779 - accuracy: 0.77 - 1s 49ms/step - loss: 0.6871 - accuracy: 0.77 - 1s 48ms/step - loss: 0.6804 - accuracy: 0.77 - 1s 47ms/step - loss: 0.6905 - accuracy: 0.77 - 1s 47ms/step - loss: 0.6940 - accuracy: 0.77 - 1s 47ms/step - loss: 0.7208 - accuracy: 0.76 - 1s 47ms/step - loss: 0.7116 - accuracy: 0.76 - 1s 46ms/step - loss: 0.7108 - accuracy: 0.77 - 1s 45ms/step - loss: 0.7088 - accuracy: 0.77 - 1s 45ms/step - loss: 0.7127 - accuracy: 0.76 - 1s 45ms/step - loss: 0.7021 - accuracy: 0.77 - 1s 45ms/step - loss: 0.7014 - accuracy: 0.76 - 1s 44ms/step - loss: 0.7121 - accuracy: 0.76 - 1s 45ms/step - loss: 0.7213 - accuracy: 0.76 - 1s 44ms/step - loss: 0.7156 - accuracy: 0.76 - 1s 43ms/step - loss: 0.7130 - accuracy: 0.77 - 1s 44ms/step - loss: 0.7066 - accuracy: 0.77 - 1s 44ms/step - loss: 0.6976 - accuracy: 0.77 - 1s 45ms/step - loss: 0.6988 - accuracy: 0.77 - 1s 45ms/step - loss: 0.7107 - accuracy: 0.76 - 1s 45ms/step - loss: 0.7109 - accuracy: 0.76 - 1s 44ms/step - loss: 0.7027 - accuracy: 0.76 - 1s 45ms/step - loss: 0.7113 - accuracy: 0.76 - 2s 45ms/step - loss: 0.7095 - accuracy: 0.76 - 2s 45ms/step - loss: 0.7073 - accuracy: 0.76 - 2s 45ms/step - loss: 0.7075 - accuracy: 0.76 - 2s 45ms/step - loss: 0.7084 - accuracy: 0.76 - 2s 45ms/step - loss: 0.7085 - accuracy: 0.76 - 2s 45ms/step - loss: 0.7110 - accuracy: 0.76 - 2s 45ms/step - loss: 0.7183 - accuracy: 0.76 - 2s 45ms/step - loss: 0.7230 - accuracy: 0.76 - 2s 45ms/step - loss: 0.7182 - accuracy: 0.76 - 2s 45ms/step - loss: 0.7196 - accuracy: 0.76 - 2s 45ms/step - loss: 0.7276 - accuracy: 0.76 - 2s 45ms/step - loss: 0.7265 - accuracy: 0.76 - 2s 45ms/step - loss: 0.7206 - accuracy: 0.76 - 2s 45ms/step - loss: 0.7190 - accuracy: 0.76 - 2s 45ms/step - loss: 0.7199 - accuracy: 0.76 - 2s 45ms/step - loss: 0.7225 - accuracy: 0.76 - 2s 44ms/step - loss: 0.7208 - accuracy: 0.76 - 2s 44ms/step - loss: 0.7176 - accuracy: 0.76 - 2s 44ms/step - loss: 0.7243 - accuracy: 0.76 - 2s 44ms/step - loss: 0.7307 - accuracy: 0.76 - 2s 44ms/step - loss: 0.7279 - accuracy: 0.76 - 2s 44ms/step - loss: 0.7269 - accuracy: 0.76 - 2s 43ms/step - loss: 0.7263 - accuracy: 0.76 - 2s 43ms/step - loss: 0.7239 - accuracy: 0.76 - 3s 43ms/step - loss: 0.7239 - accuracy: 0.76 - 3s 43ms/step - loss: 0.7285 - accuracy: 0.76 - 3s 43ms/step - loss: 0.7324 - accuracy: 0.76 - 3s 43ms/step - loss: 0.7327 - accuracy: 0.76 - 3s 43ms/step - loss: 0.7347 - accuracy: 0.76 - 3s 43ms/step - loss: 0.7313 - accuracy: 0.76 - 3s 43ms/step - loss: 0.7373 - accuracy: 0.76 - 3s 43ms/step - loss: 0.7406 - accuracy: 0.76 - 3s 43ms/step - loss: 0.7398 - accuracy: 0.75 - 3s 42ms/step - loss: 0.7401 - accuracy: 0.75 - 3s 42ms/step - loss: 0.7439 - accuracy: 0.75 - 3s 42ms/step - loss: 0.7384 - accuracy: 0.75 - 3s 42ms/step - loss: 0.7383 - accuracy: 0.75 - 3s 42ms/step - loss: 0.7427 - accuracy: 0.75 - 3s 42ms/step - loss: 0.7446 - accuracy: 0.75 - 3s 42ms/step - loss: 0.7488 - accuracy: 0.75 - 3s 41ms/step - loss: 0.7473 - accuracy: 0.75 - 3s 41ms/step - loss: 0.7491 - accuracy: 0.75 - 3s 41ms/step - loss: 0.7473 - accuracy: 0.75 - 3s 41ms/step - loss: 0.7446 - accuracy: 0.75 - 3s 41ms/step - loss: 0.7415 - accuracy: 0.75 - 3s 41ms/step - loss: 0.7418 - accuracy: 0.75 - 3s 41ms/step - loss: 0.7408 - accuracy: 0.75 - 3s 41ms/step - loss: 0.7408 - accuracy: 0.75 - 3s 41ms/step - loss: 0.7406 - accuracy: 0.75 - 3s 40ms/step - loss: 0.7406 - accuracy: 0.75 - 3s 40ms/step - loss: 0.7403 - accuracy: 0.75 - 3s 40ms/step - loss: 0.7407 - accuracy: 0.75 - 3s 40ms/step - loss: 0.7428 - accuracy: 0.75 - 3s 40ms/step - loss: 0.7414 - accuracy: 0.75 - 4s 40ms/step - loss: 0.7407 - accuracy: 0.75 - 4s 40ms/step - loss: 0.7412 - accuracy: 0.75 - 4s 40ms/step - loss: 0.7400 - accuracy: 0.75 - 4s 40ms/step - loss: 0.7383 - accuracy: 0.75 - 4s 40ms/step - loss: 0.7364 - accuracy: 0.75 - 4s 40ms/step - loss: 0.7351 - accuracy: 0.76 - 4s 40ms/step - loss: 0.7362 - accuracy: 0.75 - 4s 40ms/step - loss: 0.7368 - accuracy: 0.75 - 4s 40ms/step - loss: 0.7388 - accuracy: 0.75 - 4s 40ms/step - loss: 0.7409 - accuracy: 0.75 - 4s 40ms/step - loss: 0.7401 - accuracy: 0.75 - 4s 40ms/step - loss: 0.7406 - accuracy: 0.75 - 4s 39ms/step - loss: 0.7396 - accuracy: 0.75 - 4s 39ms/step - loss: 0.7407 - accuracy: 0.75 - 4s 39ms/step - loss: 0.7375 - accuracy: 0.76 - 4s 39ms/step - loss: 0.7366 - accuracy: 0.76 - 4s 39ms/step - loss: 0.7382 - accuracy: 0.76 - 4s 39ms/step - loss: 0.7378 - accuracy: 0.76 - 4s 39ms/step - loss: 0.7395 - accuracy: 0.75 - 4s 39ms/step - loss: 0.7406 - accuracy: 0.75 - 4s 39ms/step - loss: 0.7410 - accuracy: 0.75 - 4s 39ms/step - loss: 0.7425 - accuracy: 0.75 - 4s 39ms/step - loss: 0.7457 - accuracy: 0.75 - 4s 39ms/step - loss: 0.7448 - accuracy: 0.75 - 4s 39ms/step - loss: 0.7459 - accuracy: 0.75 - 4s 39ms/step - loss: 0.7470 - accuracy: 0.75 - 4s 39ms/step - loss: 0.7457 - accuracy: 0.75 - 5s 39ms/step - loss: 0.7463 - accuracy: 0.75 - 5s 39ms/step - loss: 0.7470 - accuracy: 0.75 - 5s 39ms/step - loss: 0.7478 - accuracy: 0.75 - 5s 39ms/step - loss: 0.7500 - accuracy: 0.75 - 5s 39ms/step - loss: 0.7484 - accuracy: 0.75 - 5s 39ms/step - loss: 0.7487 - accuracy: 0.75 - 5s 39ms/step - loss: 0.7490 - accuracy: 0.75 - 5s 39ms/step - loss: 0.7476 - accuracy: 0.75 - 5s 39ms/step - loss: 0.7457 - accuracy: 0.75 - 5s 39ms/step - loss: 0.7450 - accuracy: 0.75 - 5s 39ms/step - loss: 0.7446 - accuracy: 0.75 - 5s 39ms/step - loss: 0.7451 - accuracy: 0.75 - 5s 39ms/step - loss: 0.7455 - accuracy: 0.75 - 5s 39ms/step - loss: 0.7451 - accuracy: 0.75 - 5s 39ms/step - loss: 0.7459 - accuracy: 0.75 - 5s 39ms/step - loss: 0.7449 - accuracy: 0.75 - 5s 39ms/step - loss: 0.7441 - accuracy: 0.75 - 5s 39ms/step - loss: 0.7432 - accuracy: 0.75 - 5s 39ms/step - loss: 0.7434 - accuracy: 0.75 - 5s 38ms/step - loss: 0.7435 - accuracy: 0.75 - 5s 39ms/step - loss: 0.7438 - accuracy: 0.76 - 5s 39ms/step - loss: 0.7460 - accuracy: 0.75 - 5s 38ms/step - loss: 0.7465 - accuracy: 0.75 - 5s 38ms/step - loss: 0.7474 - accuracy: 0.75 - 5s 38ms/step - loss: 0.7491 - accuracy: 0.75 - 5s 38ms/step - loss: 0.7482 - accuracy: 0.76 - 5s 38ms/step - loss: 0.7488 - accuracy: 0.75 - 5s 38ms/step - loss: 0.7485 - accuracy: 0.76 - 5s 38ms/step - loss: 0.7475 - accuracy: 0.76 - 6s 38ms/step - loss: 0.7478 - accuracy: 0.76 - 6s 38ms/step - loss: 0.7465 - accuracy: 0.76 - 6s 38ms/step - loss: 0.7460 - accuracy: 0.76 - 6s 38ms/step - loss: 0.7453 - accuracy: 0.76 - 6s 38ms/step - loss: 0.7464 - accuracy: 0.76 - 6s 38ms/step - loss: 0.7460 - accuracy: 0.76 - 6s 38ms/step - loss: 0.7464 - accuracy: 0.76 - 6s 38ms/step - loss: 0.7456 - accuracy: 0.76 - 6s 38ms/step - loss: 0.7442 - accuracy: 0.76 - 6s 38ms/step - loss: 0.7441 - accuracy: 0.76 - 6s 38ms/step - loss: 0.7429 - accuracy: 0.76 - 6s 38ms/step - loss: 0.7425 - accuracy: 0.76 - 6s 38ms/step - loss: 0.7447 - accuracy: 0.76 - 6s 37ms/step - loss: 0.7440 - accuracy: 0.75 - 6s 39ms/step - loss: 0.7440 - accuracy: 0.7598\n"
     ]
    },
    {
     "data": {
      "text/plain": [
       "[0.7439867550400412, 0.7598]"
      ]
     },
     "execution_count": 12,
     "metadata": {},
     "output_type": "execute_result"
    }
   ],
   "source": [
    "model.evaluate(test_data)"
   ]
  },
  {
   "cell_type": "code",
   "execution_count": 13,
   "metadata": {},
   "outputs": [
    {
     "ename": "OSError",
     "evalue": "SavedModel file does not exist at: checkpoints/20191028-155031.hdf5/{saved_model.pbtxt|saved_model.pb}",
     "output_type": "error",
     "traceback": [
      "\u001b[1;31m---------------------------------------------------------------------------\u001b[0m",
      "\u001b[1;31mOSError\u001b[0m                                   Traceback (most recent call last)",
      "\u001b[1;32m<ipython-input-13-aea2af40ecff>\u001b[0m in \u001b[0;36m<module>\u001b[1;34m\u001b[0m\n\u001b[1;32m----> 1\u001b[1;33m \u001b[0mm\u001b[0m \u001b[1;33m=\u001b[0m \u001b[0mtf\u001b[0m\u001b[1;33m.\u001b[0m\u001b[0mkeras\u001b[0m\u001b[1;33m.\u001b[0m\u001b[0mmodels\u001b[0m\u001b[1;33m.\u001b[0m\u001b[0mload_model\u001b[0m\u001b[1;33m(\u001b[0m\u001b[1;34m'checkpoints/{}.hdf5'\u001b[0m\u001b[1;33m.\u001b[0m\u001b[0mformat\u001b[0m\u001b[1;33m(\u001b[0m\u001b[0mdt\u001b[0m\u001b[1;33m)\u001b[0m\u001b[1;33m)\u001b[0m\u001b[1;33m\u001b[0m\u001b[1;33m\u001b[0m\u001b[0m\n\u001b[0m",
      "\u001b[1;32m~\\Anaconda3\\lib\\site-packages\\tensorflow_core\\python\\keras\\saving\\save.py\u001b[0m in \u001b[0;36mload_model\u001b[1;34m(filepath, custom_objects, compile)\u001b[0m\n\u001b[0;32m    147\u001b[0m \u001b[1;33m\u001b[0m\u001b[0m\n\u001b[0;32m    148\u001b[0m   \u001b[1;32mif\u001b[0m \u001b[0misinstance\u001b[0m\u001b[1;33m(\u001b[0m\u001b[0mfilepath\u001b[0m\u001b[1;33m,\u001b[0m \u001b[0msix\u001b[0m\u001b[1;33m.\u001b[0m\u001b[0mstring_types\u001b[0m\u001b[1;33m)\u001b[0m\u001b[1;33m:\u001b[0m\u001b[1;33m\u001b[0m\u001b[1;33m\u001b[0m\u001b[0m\n\u001b[1;32m--> 149\u001b[1;33m     \u001b[0mloader_impl\u001b[0m\u001b[1;33m.\u001b[0m\u001b[0mparse_saved_model\u001b[0m\u001b[1;33m(\u001b[0m\u001b[0mfilepath\u001b[0m\u001b[1;33m)\u001b[0m\u001b[1;33m\u001b[0m\u001b[1;33m\u001b[0m\u001b[0m\n\u001b[0m\u001b[0;32m    150\u001b[0m     \u001b[1;32mreturn\u001b[0m \u001b[0msaved_model_load\u001b[0m\u001b[1;33m.\u001b[0m\u001b[0mload\u001b[0m\u001b[1;33m(\u001b[0m\u001b[0mfilepath\u001b[0m\u001b[1;33m,\u001b[0m \u001b[0mcompile\u001b[0m\u001b[1;33m)\u001b[0m\u001b[1;33m\u001b[0m\u001b[1;33m\u001b[0m\u001b[0m\n\u001b[0;32m    151\u001b[0m \u001b[1;33m\u001b[0m\u001b[0m\n",
      "\u001b[1;32m~\\Anaconda3\\lib\\site-packages\\tensorflow_core\\python\\saved_model\\loader_impl.py\u001b[0m in \u001b[0;36mparse_saved_model\u001b[1;34m(export_dir)\u001b[0m\n\u001b[0;32m     81\u001b[0m                   (export_dir,\n\u001b[0;32m     82\u001b[0m                    \u001b[0mconstants\u001b[0m\u001b[1;33m.\u001b[0m\u001b[0mSAVED_MODEL_FILENAME_PBTXT\u001b[0m\u001b[1;33m,\u001b[0m\u001b[1;33m\u001b[0m\u001b[1;33m\u001b[0m\u001b[0m\n\u001b[1;32m---> 83\u001b[1;33m                    constants.SAVED_MODEL_FILENAME_PB))\n\u001b[0m\u001b[0;32m     84\u001b[0m \u001b[1;33m\u001b[0m\u001b[0m\n\u001b[0;32m     85\u001b[0m \u001b[1;33m\u001b[0m\u001b[0m\n",
      "\u001b[1;31mOSError\u001b[0m: SavedModel file does not exist at: checkpoints/20191028-155031.hdf5/{saved_model.pbtxt|saved_model.pb}"
     ]
    }
   ],
   "source": [
    "m = tf.keras.models.load_model('checkpoints/{}.hdf5'.format(dt))"
   ]
  },
  {
   "cell_type": "code",
   "execution_count": null,
   "metadata": {},
   "outputs": [],
   "source": []
  }
 ],
 "metadata": {
  "kernelspec": {
   "display_name": "Python 3",
   "language": "python",
   "name": "python3"
  },
  "language_info": {
   "codemirror_mode": {
    "name": "ipython",
    "version": 3
   },
   "file_extension": ".py",
   "mimetype": "text/x-python",
   "name": "python",
   "nbconvert_exporter": "python",
   "pygments_lexer": "ipython3",
   "version": "3.6.9"
  }
 },
 "nbformat": 4,
 "nbformat_minor": 2
}
