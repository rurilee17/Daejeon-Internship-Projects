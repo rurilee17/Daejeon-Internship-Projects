{
 "cells": [
  {
   "cell_type": "code",
   "execution_count": 1,
   "metadata": {},
   "outputs": [
    {
     "name": "stdout",
     "output_type": "stream",
     "text": [
      "Requirement already satisfied: tensorflow-datasets in c:\\users\\affinity\\anaconda3\\lib\\site-packages (1.3.0)\n",
      "Requirement already satisfied: attrs in c:\\users\\affinity\\anaconda3\\lib\\site-packages (from tensorflow-datasets) (19.3.0)\n",
      "Requirement already satisfied: six in c:\\users\\affinity\\anaconda3\\lib\\site-packages (from tensorflow-datasets) (1.12.0)\n",
      "Requirement already satisfied: termcolor in c:\\users\\affinity\\anaconda3\\lib\\site-packages (from tensorflow-datasets) (1.1.0)\n",
      "Requirement already satisfied: tqdm in c:\\users\\affinity\\anaconda3\\lib\\site-packages (from tensorflow-datasets) (4.36.1)\n",
      "Requirement already satisfied: numpy in c:\\users\\affinity\\anaconda3\\lib\\site-packages (from tensorflow-datasets) (1.16.5)\n",
      "Requirement already satisfied: requests>=2.19.0 in c:\\users\\affinity\\anaconda3\\lib\\site-packages (from tensorflow-datasets) (2.22.0)\n",
      "Requirement already satisfied: tensorflow-metadata in c:\\users\\affinity\\anaconda3\\lib\\site-packages (from tensorflow-datasets) (0.15.0)\n",
      "Requirement already satisfied: future in c:\\users\\affinity\\anaconda3\\lib\\site-packages (from tensorflow-datasets) (0.17.1)\n",
      "Requirement already satisfied: promise in c:\\users\\affinity\\anaconda3\\lib\\site-packages (from tensorflow-datasets) (2.2.1)\n",
      "Requirement already satisfied: protobuf>=3.6.1 in c:\\users\\affinity\\anaconda3\\lib\\site-packages (from tensorflow-datasets) (3.9.2)\n",
      "Requirement already satisfied: dill in c:\\users\\affinity\\anaconda3\\lib\\site-packages (from tensorflow-datasets) (0.3.1.1)\n",
      "Requirement already satisfied: wrapt in c:\\users\\affinity\\anaconda3\\lib\\site-packages (from tensorflow-datasets) (1.11.2)\n",
      "Requirement already satisfied: absl-py in c:\\users\\affinity\\anaconda3\\lib\\site-packages (from tensorflow-datasets) (0.8.0)\n",
      "Requirement already satisfied: urllib3!=1.25.0,!=1.25.1,<1.26,>=1.21.1 in c:\\users\\affinity\\anaconda3\\lib\\site-packages (from requests>=2.19.0->tensorflow-datasets) (1.24.2)\n",
      "Requirement already satisfied: certifi>=2017.4.17 in c:\\users\\affinity\\anaconda3\\lib\\site-packages (from requests>=2.19.0->tensorflow-datasets) (2019.9.11)\n",
      "Requirement already satisfied: idna<2.9,>=2.5 in c:\\users\\affinity\\anaconda3\\lib\\site-packages (from requests>=2.19.0->tensorflow-datasets) (2.8)\n",
      "Requirement already satisfied: chardet<3.1.0,>=3.0.2 in c:\\users\\affinity\\anaconda3\\lib\\site-packages (from requests>=2.19.0->tensorflow-datasets) (3.0.4)\n",
      "Requirement already satisfied: googleapis-common-protos in c:\\users\\affinity\\anaconda3\\lib\\site-packages (from tensorflow-metadata->tensorflow-datasets) (1.6.0)\n",
      "Requirement already satisfied: setuptools in c:\\users\\affinity\\anaconda3\\lib\\site-packages (from protobuf>=3.6.1->tensorflow-datasets) (41.4.0)\n"
     ]
    }
   ],
   "source": [
    "!pip install tensorflow-datasets"
   ]
  },
  {
   "cell_type": "code",
   "execution_count": 2,
   "metadata": {},
   "outputs": [
    {
     "name": "stdout",
     "output_type": "stream",
     "text": [
      "Requirement already up-to-date: pip in c:\\users\\affinity\\anaconda3\\lib\\site-packages (19.3.1)\n"
     ]
    }
   ],
   "source": [
    "!python -m pip install --upgrade pip"
   ]
  },
  {
   "cell_type": "code",
   "execution_count": 3,
   "metadata": {},
   "outputs": [
    {
     "name": "stderr",
     "output_type": "stream",
     "text": [
      "Using TensorFlow backend.\n"
     ]
    }
   ],
   "source": [
    "import tensorflow as tf\n",
    "import tensorflow_datasets as tfds\n",
    "from keras.models import load_model\n",
    "from datetime import datetime\n",
    "#tf.enable_eager_execution()"
   ]
  },
  {
   "cell_type": "code",
   "execution_count": 4,
   "metadata": {},
   "outputs": [],
   "source": [
    "train_data = tfds.load(name='cifar10:3.*.*', split='train[:80%]', as_supervised=True)\n",
    "valid_data = tfds.load(name='cifar10:3.*.*', split='train[80%:]', as_supervised=True)\n",
    "test_data = tfds.load(name='cifar10:3.*.*', split='test', as_supervised=True)"
   ]
  },
  {
   "cell_type": "code",
   "execution_count": 5,
   "metadata": {},
   "outputs": [],
   "source": [
    "def scale(image, label):\n",
    "    image = tf.cast(image, tf.float32)\n",
    "    image /= 255\n",
    "    image = tf.image.random_contrast(image, lower=0.2, upper=2.0)\n",
    "    image = tf.image.random_flip_left_right(image)\n",
    "    image = tf.image.random_contrast(image, lower=0.2, upper = 0.2)\n",
    "    image = tf.image.random_hue(image, max_delta = 0.08)\n",
    "    image = tf.image.random_saturation(image, lower=0.2, upper=0.2)\n",
    "    return image, label"
   ]
  },
  {
   "cell_type": "code",
   "execution_count": 6,
   "metadata": {},
   "outputs": [
    {
     "name": "stdout",
     "output_type": "stream",
     "text": [
      "Model: \"sequential\"\n",
      "_________________________________________________________________\n",
      "Layer (type)                 Output Shape              Param #   \n",
      "=================================================================\n",
      "conv2d (Conv2D)              (None, 32, 32, 128)       3584      \n",
      "_________________________________________________________________\n",
      "batch_normalization (BatchNo (None, 32, 32, 128)       512       \n",
      "_________________________________________________________________\n",
      "max_pooling2d (MaxPooling2D) (None, 16, 16, 128)       0         \n",
      "_________________________________________________________________\n",
      "conv2d_1 (Conv2D)            (None, 16, 16, 256)       295168    \n",
      "_________________________________________________________________\n",
      "conv2d_2 (Conv2D)            (None, 16, 16, 256)       590080    \n",
      "_________________________________________________________________\n",
      "batch_normalization_1 (Batch (None, 16, 16, 256)       1024      \n",
      "_________________________________________________________________\n",
      "max_pooling2d_1 (MaxPooling2 (None, 8, 8, 256)         0         \n",
      "_________________________________________________________________\n",
      "dropout (Dropout)            (None, 8, 8, 256)         0         \n",
      "_________________________________________________________________\n",
      "conv2d_3 (Conv2D)            (None, 8, 8, 512)         1180160   \n",
      "_________________________________________________________________\n",
      "conv2d_4 (Conv2D)            (None, 8, 8, 512)         2359808   \n",
      "_________________________________________________________________\n",
      "batch_normalization_2 (Batch (None, 8, 8, 512)         2048      \n",
      "_________________________________________________________________\n",
      "max_pooling2d_2 (MaxPooling2 (None, 4, 4, 512)         0         \n",
      "_________________________________________________________________\n",
      "flatten (Flatten)            (None, 8192)              0         \n",
      "_________________________________________________________________\n",
      "dropout_1 (Dropout)          (None, 8192)              0         \n",
      "_________________________________________________________________\n",
      "dense (Dense)                (None, 10)                81930     \n",
      "=================================================================\n",
      "Total params: 4,514,314\n",
      "Trainable params: 4,512,522\n",
      "Non-trainable params: 1,792\n",
      "_________________________________________________________________\n"
     ]
    }
   ],
   "source": [
    "model = tf.keras.Sequential([\n",
    "    tf.keras.layers.Conv2D(128, 3, activation='relu', padding='same', input_shape=(32, 32, 3)),\n",
    "    tf.keras.layers.BatchNormalization(),  # Gradient Vanishing / Gradient Exploding 이 일어나지 않도록 하는 아이디어 중의 하나이다\n",
    "    tf.keras.layers.MaxPooling2D(),\n",
    "    tf.keras.layers.Conv2D(256, 3, activation='relu', padding='same'),\n",
    "    tf.keras.layers.Conv2D(256, 3, activation='relu', padding='same'),\n",
    "    tf.keras.layers.BatchNormalization(),\n",
    "    tf.keras.layers.MaxPooling2D(),\n",
    "    tf.keras.layers.Dropout(0.4),\n",
    "    tf.keras.layers.Conv2D(512, 3, activation='relu', padding='same'),\n",
    "    tf.keras.layers.Conv2D(512, 3, activation='relu', padding='same'),\n",
    "    tf.keras.layers.BatchNormalization(),\n",
    "    tf.keras.layers.MaxPooling2D(),\n",
    "    tf.keras.layers.Flatten(),\n",
    "    tf.keras.layers.Dropout(0.4),\n",
    "    tf.keras.layers.Dense(10, activation='softmax')\n",
    "    \n",
    "])\n",
    "model.summary()"
   ]
  },
  {
   "cell_type": "code",
   "execution_count": 7,
   "metadata": {},
   "outputs": [],
   "source": [
    "model.compile(optimizer='adam',\n",
    "              loss='sparse_categorical_crossentropy',\n",
    "              metrics=['accuracy'])"
   ]
  },
  {
   "cell_type": "code",
   "execution_count": 8,
   "metadata": {},
   "outputs": [],
   "source": [
    "def scale(image, label):\n",
    "    image = tf.cast(image, tf.float32)\n",
    "    image /= 255\n",
    "    return image, label\n",
    "\n",
    "train_data = train_data.map(scale).shuffle(50000).repeat(4).batch(64) \n",
    "valid_data = valid_data.map(scale).batch(64)\n",
    "test_data = test_data.map(scale).batch(64)"
   ]
  },
  {
   "cell_type": "code",
   "execution_count": 9,
   "metadata": {},
   "outputs": [],
   "source": [
    "dt = datetime.now().strftime('%Y%m%d-%H%M%S')\n",
    "\n",
    "cp_callback = tf.keras.callbacks.ModelCheckpoint(   \n",
    "    'checkpoints/{}.hdf5'.format(dt),\n",
    "    monitor='val_accuracy',\n",
    "    save_best_only=True)"
   ]
  },
  {
   "cell_type": "code",
   "execution_count": 10,
   "metadata": {},
   "outputs": [],
   "source": [
    "class MyCallback(tf.keras.callbacks.Callback):\n",
    "\n",
    "    def on_epoch_start(self, epoch, logs=None):\n",
    "        print('Epoch {} begins at {}: {}'.format(epoch, datetime.now().time(), logs))\n",
    "\n",
    "    def on_epoch_end(self, epoch, logs=None):\n",
    "        print('Epoch {} ends at {}: {}'.format(epoch, datetime.now().time(), logs))"
   ]
  },
  {
   "cell_type": "code",
   "execution_count": 11,
   "metadata": {},
   "outputs": [
    {
     "name": "stdout",
     "output_type": "stream",
     "text": [
      "Epoch 0 ends at 11:46:02.330075: {'loss': 1.8981878023386, 'accuracy': 0.5562125, 'val_loss': 1.3884707488072145, 'val_accuracy': 0.6239}\n",
      "Epoch 1 ends at 11:50:38.762453: {'loss': 0.8964221838653088, 'accuracy': 0.73758125, 'val_loss': 0.754434406567531, 'val_accuracy': 0.7523}\n",
      "Epoch 2 ends at 11:55:06.937367: {'loss': 0.462691828417778, 'accuracy': 0.8450438, 'val_loss': 0.7746104207008507, 'val_accuracy': 0.7621}\n",
      "Epoch 3 ends at 11:59:38.571821: {'loss': 0.27020333376079797, 'accuracy': 0.90651876, 'val_loss': 0.7700450530477391, 'val_accuracy': 0.788}\n",
      "Epoch 4 ends at 12:04:14.627420: {'loss': 0.1721088802497834, 'accuracy': 0.940025, 'val_loss': 0.963523471241544, 'val_accuracy': 0.7613}\n",
      "Epoch 5 ends at 12:09:06.069114: {'loss': 0.13144642582051455, 'accuracy': 0.95489377, 'val_loss': 1.1291822033702947, 'val_accuracy': 0.7472}\n",
      "Epoch 6 ends at 12:13:44.335537: {'loss': 0.10832988434750587, 'accuracy': 0.96300626, 'val_loss': 0.80517285673102, 'val_accuracy': 0.8194}\n",
      "Epoch 7 ends at 12:18:18.855029: {'loss': 0.08987686088271439, 'accuracy': 0.968975, 'val_loss': 1.8345826264399632, 'val_accuracy': 0.7464}\n",
      "Epoch 8 ends at 12:22:54.725796: {'loss': 0.07818324181445642, 'accuracy': 0.9732625, 'val_loss': 1.131113163604858, 'val_accuracy': 0.7667}\n",
      "Epoch 9 ends at 12:27:29.062483: {'loss': 0.07181910371612757, 'accuracy': 0.97591877, 'val_loss': 0.8677906711010417, 'val_accuracy': 0.8183}\n",
      "Epoch 10 ends at 12:31:57.562555: {'loss': 0.06281774070046377, 'accuracy': 0.9786438, 'val_loss': 1.317165810211449, 'val_accuracy': 0.7485}\n",
      "Epoch 11 ends at 12:36:29.154531: {'loss': 0.0543800100769382, 'accuracy': 0.9816313, 'val_loss': 1.0612617524186516, 'val_accuracy': 0.8105}\n",
      "Epoch 12 ends at 12:40:56.397470: {'loss': 0.054603526429482734, 'accuracy': 0.9818375, 'val_loss': 0.9484873858227092, 'val_accuracy': 0.8122}\n",
      "Epoch 13 ends at 12:45:24.829402: {'loss': 0.046989186507521666, 'accuracy': 0.98441875, 'val_loss': 0.8548237347299126, 'val_accuracy': 0.8273}\n",
      "Epoch 14 ends at 12:49:51.916300: {'loss': 0.04501151809508447, 'accuracy': 0.984625, 'val_loss': 0.9566437881084005, 'val_accuracy': 0.8226}\n",
      "Epoch 15 ends at 12:54:16.397633: {'loss': 0.04240539291951573, 'accuracy': 0.986325, 'val_loss': 1.0904531847139833, 'val_accuracy': 0.8097}\n",
      "Epoch 16 ends at 12:58:40.855649: {'loss': 0.03939549344222469, 'accuracy': 0.9869875, 'val_loss': 0.9553826109618898, 'val_accuracy': 0.8283}\n",
      "Epoch 17 ends at 13:03:05.699426: {'loss': 0.039126551334894615, 'accuracy': 0.9871375, 'val_loss': 1.1279573254524522, 'val_accuracy': 0.8002}\n",
      "Epoch 18 ends at 13:07:29.432657: {'loss': 0.03639526651849737, 'accuracy': 0.98775, 'val_loss': 1.3264004104076677, 'val_accuracy': 0.805}\n",
      "Epoch 19 ends at 13:34:27.411363: {'loss': 0.03339327537509962, 'accuracy': 0.9885625, 'val_loss': 1.2367665382327548, 'val_accuracy': 0.801}\n",
      "Epoch 20 ends at 13:38:33.092142: {'loss': 0.03326721779744257, 'accuracy': 0.98925626, 'val_loss': 1.129125166850485, 'val_accuracy': 0.8271}\n",
      "Epoch 21 ends at 13:42:46.466600: {'loss': 0.03351665536083747, 'accuracy': 0.9890562, 'val_loss': 1.013238873831026, 'val_accuracy': 0.8326}\n",
      "Epoch 22 ends at 13:47:04.722365: {'loss': 0.028990330146622726, 'accuracy': 0.990425, 'val_loss': 1.0581255184996659, 'val_accuracy': 0.8296}\n",
      "Epoch 23 ends at 13:51:24.634221: {'loss': 0.02998591695791838, 'accuracy': 0.99005, 'val_loss': 1.0152968913316727, 'val_accuracy': 0.8307}\n",
      "Epoch 24 ends at 13:55:45.115655: {'loss': 0.029609760029586322, 'accuracy': 0.99065, 'val_loss': 1.1006582411611157, 'val_accuracy': 0.8295}\n"
     ]
    }
   ],
   "source": [
    "history = model.fit(train_data,\n",
    "                    epochs=25,\n",
    "                    validation_data=valid_data,\n",
    "                    verbose=0,\n",
    "                    callbacks=[cp_callback, MyCallback()])"
   ]
  },
  {
   "cell_type": "code",
   "execution_count": 12,
   "metadata": {
    "scrolled": true
   },
   "outputs": [
    {
     "name": "stdout",
     "output_type": "stream",
     "text": [
      "157/157 [==============================].3289 - accuracy: 0.82 - 0s 66ms/step - loss: 1.6641 - accuracy: 0.82 - 0s 60ms/step - loss: 1.6199 - accuracy: 0.82 - 0s 57ms/step - loss: 1.3384 - accuracy: 0.84 - 0s 54ms/step - loss: 1.1963 - accuracy: 0.86 - 0s 53ms/step - loss: 1.1213 - accuracy: 0.86 - 0s 53ms/step - loss: 1.0699 - accuracy: 0.86 - 0s 52ms/step - loss: 1.2086 - accuracy: 0.85 - 0s 51ms/step - loss: 1.1472 - accuracy: 0.85 - 0s 50ms/step - loss: 1.1093 - accuracy: 0.85 - 1s 49ms/step - loss: 1.0630 - accuracy: 0.85 - 1s 48ms/step - loss: 1.0787 - accuracy: 0.85 - 1s 47ms/step - loss: 1.0853 - accuracy: 0.84 - 1s 47ms/step - loss: 1.0805 - accuracy: 0.84 - 1s 47ms/step - loss: 1.0723 - accuracy: 0.84 - 1s 47ms/step - loss: 1.1262 - accuracy: 0.84 - 1s 47ms/step - loss: 1.1062 - accuracy: 0.84 - 1s 47ms/step - loss: 1.1230 - accuracy: 0.84 - 1s 46ms/step - loss: 1.1066 - accuracy: 0.84 - 1s 46ms/step - loss: 1.1127 - accuracy: 0.84 - 1s 46ms/step - loss: 1.0721 - accuracy: 0.84 - 1s 45ms/step - loss: 1.0738 - accuracy: 0.84 - 1s 45ms/step - loss: 1.0773 - accuracy: 0.84 - 1s 45ms/step - loss: 1.0864 - accuracy: 0.84 - 1s 45ms/step - loss: 1.0839 - accuracy: 0.84 - 1s 45ms/step - loss: 1.1051 - accuracy: 0.84 - 1s 45ms/step - loss: 1.0970 - accuracy: 0.84 - 1s 45ms/step - loss: 1.0794 - accuracy: 0.84 - 1s 45ms/step - loss: 1.0802 - accuracy: 0.84 - 1s 45ms/step - loss: 1.0677 - accuracy: 0.84 - 1s 45ms/step - loss: 1.0663 - accuracy: 0.84 - 1s 45ms/step - loss: 1.0521 - accuracy: 0.84 - 1s 45ms/step - loss: 1.0884 - accuracy: 0.83 - 2s 45ms/step - loss: 1.0875 - accuracy: 0.83 - 2s 45ms/step - loss: 1.0835 - accuracy: 0.84 - 2s 45ms/step - loss: 1.0844 - accuracy: 0.84 - 2s 45ms/step - loss: 1.1068 - accuracy: 0.84 - 2s 45ms/step - loss: 1.1084 - accuracy: 0.84 - 2s 45ms/step - loss: 1.1129 - accuracy: 0.84 - 2s 45ms/step - loss: 1.1155 - accuracy: 0.84 - 2s 45ms/step - loss: 1.1288 - accuracy: 0.83 - 2s 45ms/step - loss: 1.1289 - accuracy: 0.83 - 2s 45ms/step - loss: 1.1407 - accuracy: 0.83 - 2s 45ms/step - loss: 1.1532 - accuracy: 0.83 - 2s 45ms/step - loss: 1.1451 - accuracy: 0.83 - 2s 44ms/step - loss: 1.1400 - accuracy: 0.83 - 2s 44ms/step - loss: 1.1386 - accuracy: 0.83 - 2s 44ms/step - loss: 1.1328 - accuracy: 0.83 - 2s 44ms/step - loss: 1.1428 - accuracy: 0.83 - 2s 44ms/step - loss: 1.1411 - accuracy: 0.83 - 2s 44ms/step - loss: 1.1336 - accuracy: 0.83 - 2s 44ms/step - loss: 1.1495 - accuracy: 0.83 - 2s 44ms/step - loss: 1.1569 - accuracy: 0.83 - 2s 44ms/step - loss: 1.1550 - accuracy: 0.83 - 2s 44ms/step - loss: 1.1530 - accuracy: 0.83 - 2s 44ms/step - loss: 1.1620 - accuracy: 0.82 - 3s 44ms/step - loss: 1.1574 - accuracy: 0.82 - 3s 44ms/step - loss: 1.1566 - accuracy: 0.83 - 3s 44ms/step - loss: 1.1557 - accuracy: 0.83 - 3s 44ms/step - loss: 1.1657 - accuracy: 0.82 - 3s 44ms/step - loss: 1.1621 - accuracy: 0.82 - 3s 44ms/step - loss: 1.1660 - accuracy: 0.82 - 3s 44ms/step - loss: 1.1754 - accuracy: 0.82 - 3s 44ms/step - loss: 1.1852 - accuracy: 0.82 - 3s 44ms/step - loss: 1.1804 - accuracy: 0.82 - 3s 44ms/step - loss: 1.1829 - accuracy: 0.82 - 3s 44ms/step - loss: 1.1814 - accuracy: 0.82 - 3s 44ms/step - loss: 1.1854 - accuracy: 0.82 - 3s 44ms/step - loss: 1.1783 - accuracy: 0.82 - 3s 44ms/step - loss: 1.1755 - accuracy: 0.82 - 3s 44ms/step - loss: 1.1797 - accuracy: 0.82 - 3s 44ms/step - loss: 1.1878 - accuracy: 0.82 - 3s 44ms/step - loss: 1.2016 - accuracy: 0.82 - 3s 44ms/step - loss: 1.1935 - accuracy: 0.82 - 3s 44ms/step - loss: 1.1969 - accuracy: 0.82 - 3s 44ms/step - loss: 1.1945 - accuracy: 0.82 - 3s 44ms/step - loss: 1.1999 - accuracy: 0.82 - 3s 44ms/step - loss: 1.1943 - accuracy: 0.82 - 3s 44ms/step - loss: 1.1837 - accuracy: 0.82 - 4s 44ms/step - loss: 1.1853 - accuracy: 0.82 - 4s 44ms/step - loss: 1.1901 - accuracy: 0.82 - 4s 44ms/step - loss: 1.1888 - accuracy: 0.82 - 4s 44ms/step - loss: 1.1892 - accuracy: 0.82 - 4s 44ms/step - loss: 1.1885 - accuracy: 0.82 - 4s 44ms/step - loss: 1.1850 - accuracy: 0.82 - 4s 44ms/step - loss: 1.1894 - accuracy: 0.82 - 4s 44ms/step - loss: 1.1907 - accuracy: 0.82 - 4s 44ms/step - loss: 1.1915 - accuracy: 0.82 - 4s 44ms/step - loss: 1.1909 - accuracy: 0.82 - 4s 44ms/step - loss: 1.1906 - accuracy: 0.82 - 4s 44ms/step - loss: 1.1873 - accuracy: 0.82 - 4s 44ms/step - loss: 1.1828 - accuracy: 0.82 - 4s 44ms/step - loss: 1.1780 - accuracy: 0.82 - 4s 44ms/step - loss: 1.1777 - accuracy: 0.82 - 4s 44ms/step - loss: 1.1828 - accuracy: 0.82 - 4s 44ms/step - loss: 1.1833 - accuracy: 0.82 - 4s 44ms/step - loss: 1.1910 - accuracy: 0.82 - 4s 44ms/step - loss: 1.1888 - accuracy: 0.82 - 4s 44ms/step - loss: 1.1877 - accuracy: 0.82 - 4s 44ms/step - loss: 1.1913 - accuracy: 0.82 - 4s 44ms/step - loss: 1.1932 - accuracy: 0.82 - 4s 44ms/step - loss: 1.1888 - accuracy: 0.82 - 5s 44ms/step - loss: 1.1839 - accuracy: 0.82 - 5s 44ms/step - loss: 1.1907 - accuracy: 0.82 - 5s 44ms/step - loss: 1.1897 - accuracy: 0.82 - 5s 44ms/step - loss: 1.1874 - accuracy: 0.82 - 5s 44ms/step - loss: 1.1946 - accuracy: 0.82 - 5s 44ms/step - loss: 1.1939 - accuracy: 0.82 - 5s 44ms/step - loss: 1.1937 - accuracy: 0.82 - 5s 44ms/step - loss: 1.2013 - accuracy: 0.82 - 5s 44ms/step - loss: 1.1976 - accuracy: 0.82 - 5s 44ms/step - loss: 1.2037 - accuracy: 0.82 - 5s 44ms/step - loss: 1.2048 - accuracy: 0.82 - 5s 44ms/step - loss: 1.2029 - accuracy: 0.82 - 5s 44ms/step - loss: 1.2014 - accuracy: 0.82 - 5s 44ms/step - loss: 1.1964 - accuracy: 0.82 - 5s 44ms/step - loss: 1.1969 - accuracy: 0.82 - 5s 44ms/step - loss: 1.2007 - accuracy: 0.82 - 5s 44ms/step - loss: 1.1963 - accuracy: 0.82 - 5s 44ms/step - loss: 1.2004 - accuracy: 0.82 - 5s 44ms/step - loss: 1.2007 - accuracy: 0.82 - 5s 44ms/step - loss: 1.1997 - accuracy: 0.82 - 5s 44ms/step - loss: 1.1945 - accuracy: 0.82 - 5s 44ms/step - loss: 1.1954 - accuracy: 0.82 - 6s 44ms/step - loss: 1.1927 - accuracy: 0.82 - 6s 44ms/step - loss: 1.1880 - accuracy: 0.82 - 6s 44ms/step - loss: 1.1946 - accuracy: 0.82 - 6s 44ms/step - loss: 1.1962 - accuracy: 0.82 - 6s 44ms/step - loss: 1.1960 - accuracy: 0.82 - 6s 44ms/step - loss: 1.1909 - accuracy: 0.82 - 6s 44ms/step - loss: 1.1884 - accuracy: 0.82 - 6s 44ms/step - loss: 1.1838 - accuracy: 0.82 - 6s 44ms/step - loss: 1.1799 - accuracy: 0.82 - 6s 44ms/step - loss: 1.1782 - accuracy: 0.82 - 6s 44ms/step - loss: 1.1753 - accuracy: 0.82 - 6s 44ms/step - loss: 1.1801 - accuracy: 0.82 - 6s 44ms/step - loss: 1.1825 - accuracy: 0.82 - 6s 44ms/step - loss: 1.1811 - accuracy: 0.82 - 6s 44ms/step - loss: 1.1823 - accuracy: 0.82 - 6s 44ms/step - loss: 1.1754 - accuracy: 0.82 - 6s 44ms/step - loss: 1.1787 - accuracy: 0.82 - 6s 44ms/step - loss: 1.1761 - accuracy: 0.82 - 6s 44ms/step - loss: 1.1753 - accuracy: 0.82 - 6s 44ms/step - loss: 1.1769 - accuracy: 0.82 - 6s 44ms/step - loss: 1.1730 - accuracy: 0.82 - 6s 44ms/step - loss: 1.1731 - accuracy: 0.82 - 6s 44ms/step - loss: 1.1729 - accuracy: 0.82 - 7s 44ms/step - loss: 1.1708 - accuracy: 0.82 - 7s 44ms/step - loss: 1.1725 - accuracy: 0.82 - 7s 44ms/step - loss: 1.1717 - accuracy: 0.82 - 7s 44ms/step - loss: 1.1676 - accuracy: 0.82 - 7s 44ms/step - loss: 1.1658 - accuracy: 0.82 - 7s 44ms/step - loss: 1.1660 - accuracy: 0.82 - 7s 44ms/step - loss: 1.1625 - accuracy: 0.82 - 7s 44ms/step - loss: 1.1587 - accuracy: 0.82 - 7s 44ms/step - loss: 1.1577 - accuracy: 0.82 - 7s 44ms/step - loss: 1.1554 - accuracy: 0.82 - 7s 45ms/step - loss: 1.1554 - accuracy: 0.8252\n"
     ]
    },
    {
     "data": {
      "text/plain": [
       "[1.1554142274674337, 0.8252]"
      ]
     },
     "execution_count": 12,
     "metadata": {},
     "output_type": "execute_result"
    }
   ],
   "source": [
    "model.evaluate(test_data)"
   ]
  },
  {
   "cell_type": "code",
   "execution_count": 13,
   "metadata": {},
   "outputs": [],
   "source": [
    "m = tf.keras.models.load_model('checkpoints/{}.hdf5'.format(dt))"
   ]
  },
  {
   "cell_type": "code",
   "execution_count": null,
   "metadata": {},
   "outputs": [],
   "source": []
  }
 ],
 "metadata": {
  "kernelspec": {
   "display_name": "Python 3",
   "language": "python",
   "name": "python3"
  },
  "language_info": {
   "codemirror_mode": {
    "name": "ipython",
    "version": 3
   },
   "file_extension": ".py",
   "mimetype": "text/x-python",
   "name": "python",
   "nbconvert_exporter": "python",
   "pygments_lexer": "ipython3",
   "version": "3.6.9"
  }
 },
 "nbformat": 4,
 "nbformat_minor": 2
}
