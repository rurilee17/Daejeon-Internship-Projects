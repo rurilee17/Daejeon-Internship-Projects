{
 "cells": [
  {
   "cell_type": "code",
   "execution_count": 1,
   "metadata": {},
   "outputs": [
    {
     "name": "stdout",
     "output_type": "stream",
     "text": [
      "Requirement already satisfied: tensorflow-datasets in c:\\users\\affinity\\anaconda3\\lib\\site-packages (1.3.0)\n",
      "Requirement already satisfied: tqdm in c:\\users\\affinity\\anaconda3\\lib\\site-packages (from tensorflow-datasets) (4.36.1)\n",
      "Requirement already satisfied: attrs in c:\\users\\affinity\\anaconda3\\lib\\site-packages (from tensorflow-datasets) (19.3.0)\n",
      "Requirement already satisfied: wrapt in c:\\users\\affinity\\anaconda3\\lib\\site-packages (from tensorflow-datasets) (1.11.2)\n",
      "Requirement already satisfied: future in c:\\users\\affinity\\anaconda3\\lib\\site-packages (from tensorflow-datasets) (0.17.1)\n",
      "Requirement already satisfied: promise in c:\\users\\affinity\\anaconda3\\lib\\site-packages (from tensorflow-datasets) (2.2.1)\n",
      "Requirement already satisfied: requests>=2.19.0 in c:\\users\\affinity\\anaconda3\\lib\\site-packages (from tensorflow-datasets) (2.22.0)\n",
      "Requirement already satisfied: termcolor in c:\\users\\affinity\\anaconda3\\lib\\site-packages (from tensorflow-datasets) (1.1.0)\n",
      "Requirement already satisfied: tensorflow-metadata in c:\\users\\affinity\\anaconda3\\lib\\site-packages (from tensorflow-datasets) (0.15.0)\n",
      "Requirement already satisfied: protobuf>=3.6.1 in c:\\users\\affinity\\anaconda3\\lib\\site-packages (from tensorflow-datasets) (3.9.2)\n",
      "Requirement already satisfied: absl-py in c:\\users\\affinity\\anaconda3\\lib\\site-packages (from tensorflow-datasets) (0.8.0)\n",
      "Requirement already satisfied: six in c:\\users\\affinity\\anaconda3\\lib\\site-packages (from tensorflow-datasets) (1.12.0)\n",
      "Requirement already satisfied: dill in c:\\users\\affinity\\anaconda3\\lib\\site-packages (from tensorflow-datasets) (0.3.1.1)\n",
      "Requirement already satisfied: numpy in c:\\users\\affinity\\anaconda3\\lib\\site-packages (from tensorflow-datasets) (1.16.5)\n",
      "Requirement already satisfied: urllib3!=1.25.0,!=1.25.1,<1.26,>=1.21.1 in c:\\users\\affinity\\anaconda3\\lib\\site-packages (from requests>=2.19.0->tensorflow-datasets) (1.24.2)\n",
      "Requirement already satisfied: certifi>=2017.4.17 in c:\\users\\affinity\\anaconda3\\lib\\site-packages (from requests>=2.19.0->tensorflow-datasets) (2019.9.11)\n",
      "Requirement already satisfied: chardet<3.1.0,>=3.0.2 in c:\\users\\affinity\\anaconda3\\lib\\site-packages (from requests>=2.19.0->tensorflow-datasets) (3.0.4)\n",
      "Requirement already satisfied: idna<2.9,>=2.5 in c:\\users\\affinity\\anaconda3\\lib\\site-packages (from requests>=2.19.0->tensorflow-datasets) (2.8)\n",
      "Requirement already satisfied: googleapis-common-protos in c:\\users\\affinity\\anaconda3\\lib\\site-packages (from tensorflow-metadata->tensorflow-datasets) (1.6.0)\n",
      "Requirement already satisfied: setuptools in c:\\users\\affinity\\anaconda3\\lib\\site-packages (from protobuf>=3.6.1->tensorflow-datasets) (41.4.0)\n"
     ]
    }
   ],
   "source": [
    "!pip install tensorflow-datasets"
   ]
  },
  {
   "cell_type": "code",
   "execution_count": 2,
   "metadata": {},
   "outputs": [
    {
     "name": "stdout",
     "output_type": "stream",
     "text": [
      "Requirement already up-to-date: pip in c:\\users\\affinity\\anaconda3\\lib\\site-packages (19.3.1)\n"
     ]
    }
   ],
   "source": [
    "!python -m pip install --upgrade pip"
   ]
  },
  {
   "cell_type": "code",
   "execution_count": 3,
   "metadata": {},
   "outputs": [
    {
     "name": "stderr",
     "output_type": "stream",
     "text": [
      "Using TensorFlow backend.\n"
     ]
    }
   ],
   "source": [
    "import tensorflow as tf\n",
    "import tensorflow_datasets as tfds\n",
    "from keras.models import load_model\n",
    "from datetime import datetime\n",
    "#tf.enable_eager_execution()"
   ]
  },
  {
   "cell_type": "code",
   "execution_count": 4,
   "metadata": {},
   "outputs": [],
   "source": [
    "train_data = tfds.load(name='cifar10:3.*.*', split='train[:80%]', as_supervised=True)\n",
    "valid_data = tfds.load(name='cifar10:3.*.*', split='train[80%:]', as_supervised=True)\n",
    "test_data = tfds.load(name='cifar10:3.*.*', split='test', as_supervised=True)"
   ]
  },
  {
   "cell_type": "code",
   "execution_count": 5,
   "metadata": {},
   "outputs": [
    {
     "name": "stdout",
     "output_type": "stream",
     "text": [
      "Model: \"sequential\"\n",
      "_________________________________________________________________\n",
      "Layer (type)                 Output Shape              Param #   \n",
      "=================================================================\n",
      "conv2d (Conv2D)              (None, 32, 32, 128)       3584      \n",
      "_________________________________________________________________\n",
      "batch_normalization (BatchNo (None, 32, 32, 128)       512       \n",
      "_________________________________________________________________\n",
      "max_pooling2d (MaxPooling2D) (None, 16, 16, 128)       0         \n",
      "_________________________________________________________________\n",
      "conv2d_1 (Conv2D)            (None, 16, 16, 256)       295168    \n",
      "_________________________________________________________________\n",
      "conv2d_2 (Conv2D)            (None, 16, 16, 256)       590080    \n",
      "_________________________________________________________________\n",
      "batch_normalization_1 (Batch (None, 16, 16, 256)       1024      \n",
      "_________________________________________________________________\n",
      "max_pooling2d_1 (MaxPooling2 (None, 8, 8, 256)         0         \n",
      "_________________________________________________________________\n",
      "dropout (Dropout)            (None, 8, 8, 256)         0         \n",
      "_________________________________________________________________\n",
      "conv2d_3 (Conv2D)            (None, 8, 8, 512)         1180160   \n",
      "_________________________________________________________________\n",
      "conv2d_4 (Conv2D)            (None, 8, 8, 512)         2359808   \n",
      "_________________________________________________________________\n",
      "batch_normalization_2 (Batch (None, 8, 8, 512)         2048      \n",
      "_________________________________________________________________\n",
      "max_pooling2d_2 (MaxPooling2 (None, 4, 4, 512)         0         \n",
      "_________________________________________________________________\n",
      "flatten (Flatten)            (None, 8192)              0         \n",
      "_________________________________________________________________\n",
      "dropout_1 (Dropout)          (None, 8192)              0         \n",
      "_________________________________________________________________\n",
      "dense (Dense)                (None, 10)                81930     \n",
      "=================================================================\n",
      "Total params: 4,514,314\n",
      "Trainable params: 4,512,522\n",
      "Non-trainable params: 1,792\n",
      "_________________________________________________________________\n"
     ]
    }
   ],
   "source": [
    "model = tf.keras.Sequential([\n",
    "    tf.keras.layers.Conv2D(128, 3, activation='relu', padding='same', input_shape=(32, 32, 3)),\n",
    "    tf.keras.layers.BatchNormalization(),  # Gradient Vanishing / Gradient Exploding 이 일어나지 않도록 하는 아이디어 중의 하나이다\n",
    "    tf.keras.layers.MaxPooling2D(),\n",
    "    tf.keras.layers.Conv2D(256, 3, activation='relu', padding='same'),\n",
    "    tf.keras.layers.Conv2D(256, 3, activation='relu', padding='same'),\n",
    "    tf.keras.layers.BatchNormalization(),\n",
    "    tf.keras.layers.MaxPooling2D(),\n",
    "    tf.keras.layers.Dropout(0.4),\n",
    "    tf.keras.layers.Conv2D(512, 3, activation='relu', padding='same'),\n",
    "    tf.keras.layers.Conv2D(512, 3, activation='relu', padding='same'),\n",
    "    tf.keras.layers.BatchNormalization(),\n",
    "    tf.keras.layers.MaxPooling2D(),\n",
    "    tf.keras.layers.Flatten(),\n",
    "    tf.keras.layers.Dropout(0.4),\n",
    "    tf.keras.layers.Dense(10, activation='softmax')\n",
    "    \n",
    "])\n",
    "model.summary()"
   ]
  },
  {
   "cell_type": "code",
   "execution_count": 6,
   "metadata": {},
   "outputs": [],
   "source": [
    "model.compile(optimizer='adam',\n",
    "              loss='sparse_categorical_crossentropy',\n",
    "              metrics=['accuracy'])"
   ]
  },
  {
   "cell_type": "code",
   "execution_count": 7,
   "metadata": {},
   "outputs": [],
   "source": [
    "def scale(image, label):\n",
    "    image = tf.cast(image, tf.float32)\n",
    "    image /= 255\n",
    "    return image, label\n",
    "\n",
    "train_data = train_data.map(scale).shuffle(50000).repeat(3).batch(64) \n",
    "valid_data = valid_data.map(scale).batch(64)\n",
    "test_data = test_data.map(scale).batch(64)"
   ]
  },
  {
   "cell_type": "code",
   "execution_count": 8,
   "metadata": {},
   "outputs": [],
   "source": [
    "dt = datetime.now().strftime('%Y%m%d-%H%M%S')\n",
    "\n",
    "cp_callback = tf.keras.callbacks.ModelCheckpoint(   \n",
    "    'checkpoints/{}.hdf5'.format(dt),\n",
    "    monitor='val_accuracy',\n",
    "    save_best_only=True)"
   ]
  },
  {
   "cell_type": "code",
   "execution_count": 9,
   "metadata": {},
   "outputs": [],
   "source": [
    "class MyCallback(tf.keras.callbacks.Callback):\n",
    "\n",
    "    def on_epoch_start(self, epoch, logs=None):\n",
    "        print('Epoch {} begins at {}: {}'.format(epoch, datetime.now().time(), logs))\n",
    "\n",
    "    def on_epoch_end(self, epoch, logs=None):\n",
    "        print('Epoch {} ends at {}: {}'.format(epoch, datetime.now().time(), logs))"
   ]
  },
  {
   "cell_type": "code",
   "execution_count": 10,
   "metadata": {},
   "outputs": [
    {
     "name": "stdout",
     "output_type": "stream",
     "text": [
      "Epoch 0 ends at 10:56:31.959747: {'loss': 2.070271674378713, 'accuracy': 0.47959167, 'val_loss': 8.244375947174753, 'val_accuracy': 0.3748}\n",
      "Epoch 1 ends at 10:59:23.289843: {'loss': 1.0668118411699932, 'accuracy': 0.6682917, 'val_loss': 0.8808854036270433, 'val_accuracy': 0.706}\n",
      "Epoch 2 ends at 11:02:19.281338: {'loss': 0.661705203962326, 'accuracy': 0.77391666, 'val_loss': 0.7410448930066103, 'val_accuracy': 0.7564}\n",
      "Epoch 3 ends at 11:05:21.429058: {'loss': 0.4523838563323021, 'accuracy': 0.8408167, 'val_loss': 0.7208153119512425, 'val_accuracy': 0.7736}\n",
      "Epoch 4 ends at 11:08:28.874187: {'loss': 0.3150237764557203, 'accuracy': 0.8886333, 'val_loss': 0.9760374100344955, 'val_accuracy': 0.7524}\n",
      "Epoch 5 ends at 11:11:36.963089: {'loss': 0.2182220031698545, 'accuracy': 0.92385, 'val_loss': 0.8356989789160953, 'val_accuracy': 0.7955}\n",
      "Epoch 6 ends at 11:14:44.863552: {'loss': 0.17213616901536782, 'accuracy': 0.93934166, 'val_loss': 0.9421750396300274, 'val_accuracy': 0.7559}\n",
      "Epoch 7 ends at 11:17:55.959995: {'loss': 0.14487512541214626, 'accuracy': 0.94970834, 'val_loss': 0.9287207063975608, 'val_accuracy': 0.7882}\n",
      "Epoch 8 ends at 11:21:12.055718: {'loss': 0.11998452462827167, 'accuracy': 0.95800835, 'val_loss': 0.9098916087940241, 'val_accuracy': 0.7988}\n",
      "Epoch 9 ends at 11:24:25.252288: {'loss': 0.10516064733167489, 'accuracy': 0.963625, 'val_loss': 0.996481968149258, 'val_accuracy': 0.7757}\n",
      "Epoch 10 ends at 11:27:39.367006: {'loss': 0.09713847636431455, 'accuracy': 0.967075, 'val_loss': 1.058543323141754, 'val_accuracy': 0.7729}\n",
      "Epoch 11 ends at 11:30:52.141029: {'loss': 0.08559788656334082, 'accuracy': 0.9706, 'val_loss': 0.9885303560335925, 'val_accuracy': 0.7935}\n",
      "Epoch 12 ends at 11:34:05.337646: {'loss': 0.07649044212394704, 'accuracy': 0.9736417, 'val_loss': 1.0713466054694667, 'val_accuracy': 0.7843}\n",
      "Epoch 13 ends at 11:37:15.820310: {'loss': 0.07352028744822989, 'accuracy': 0.97465, 'val_loss': 0.9705489566371699, 'val_accuracy': 0.806}\n",
      "Epoch 14 ends at 11:40:25.256607: {'loss': 0.06841568513379122, 'accuracy': 0.97651666, 'val_loss': 0.9408780499628395, 'val_accuracy': 0.8105}\n",
      "Epoch 15 ends at 11:43:36.274976: {'loss': 0.0600879232174096, 'accuracy': 0.97975, 'val_loss': 0.9540778121371178, 'val_accuracy': 0.8112}\n",
      "Epoch 16 ends at 11:46:45.580032: {'loss': 0.05771546502728015, 'accuracy': 0.9802833, 'val_loss': 1.0219576808677358, 'val_accuracy': 0.8153}\n",
      "Epoch 17 ends at 11:49:57.258827: {'loss': 0.05464687602125729, 'accuracy': 0.98165, 'val_loss': 1.1183438517485456, 'val_accuracy': 0.7841}\n",
      "Epoch 18 ends at 11:53:09.671822: {'loss': 0.052774910726957024, 'accuracy': 0.9824167, 'val_loss': 0.9954978104229946, 'val_accuracy': 0.8156}\n",
      "Epoch 19 ends at 11:56:21.947826: {'loss': 0.04913313183352972, 'accuracy': 0.983625, 'val_loss': 1.1314309751911529, 'val_accuracy': 0.792}\n",
      "Epoch 20 ends at 11:59:30.963622: {'loss': 0.047074611365236343, 'accuracy': 0.98431665, 'val_loss': 0.9910931317669571, 'val_accuracy': 0.819}\n",
      "Epoch 21 ends at 12:02:36.734184: {'loss': 0.042579909793256474, 'accuracy': 0.98578334, 'val_loss': 1.2057020138403414, 'val_accuracy': 0.7902}\n",
      "Epoch 22 ends at 12:05:43.053270: {'loss': 0.04398839632124485, 'accuracy': 0.98564166, 'val_loss': 1.078540398246923, 'val_accuracy': 0.8125}\n",
      "Epoch 23 ends at 12:08:52.561296: {'loss': 0.04195764741349267, 'accuracy': 0.98605, 'val_loss': 1.1171336025948737, 'val_accuracy': 0.8191}\n",
      "Epoch 24 ends at 12:12:02.891402: {'loss': 0.04156006196811795, 'accuracy': 0.9859083, 'val_loss': 1.0647217957836808, 'val_accuracy': 0.8184}\n"
     ]
    }
   ],
   "source": [
    "history = model.fit(train_data,\n",
    "                    epochs=25,\n",
    "                    validation_data=valid_data,\n",
    "                    verbose=0,\n",
    "                    callbacks=[cp_callback, MyCallback()])"
   ]
  },
  {
   "cell_type": "code",
   "execution_count": 11,
   "metadata": {
    "scrolled": true
   },
   "outputs": [
    {
     "name": "stdout",
     "output_type": "stream",
     "text": [
      "157/157 [==============================]1.1396 - accuracy: 0.828 - 0s 81ms/step - loss: 1.1606 - accuracy: 0.804 - 0s 70ms/step - loss: 1.2450 - accuracy: 0.81 - 0s 64ms/step - loss: 1.1202 - accuracy: 0.82 - 0s 60ms/step - loss: 1.0218 - accuracy: 0.82 - 0s 57ms/step - loss: 1.0419 - accuracy: 0.83 - 0s 58ms/step - loss: 1.0473 - accuracy: 0.83 - 0s 55ms/step - loss: 1.1477 - accuracy: 0.81 - 0s 53ms/step - loss: 1.0762 - accuracy: 0.82 - 1s 53ms/step - loss: 1.1242 - accuracy: 0.81 - 1s 52ms/step - loss: 1.0555 - accuracy: 0.82 - 1s 51ms/step - loss: 1.0374 - accuracy: 0.82 - 1s 51ms/step - loss: 1.0324 - accuracy: 0.82 - 1s 50ms/step - loss: 1.0378 - accuracy: 0.82 - 1s 50ms/step - loss: 1.0236 - accuracy: 0.82 - 1s 49ms/step - loss: 1.0568 - accuracy: 0.82 - 1s 49ms/step - loss: 1.0517 - accuracy: 0.82 - 1s 49ms/step - loss: 1.0766 - accuracy: 0.81 - 1s 48ms/step - loss: 1.0650 - accuracy: 0.81 - 1s 48ms/step - loss: 1.0866 - accuracy: 0.81 - 1s 48ms/step - loss: 1.0589 - accuracy: 0.81 - 1s 48ms/step - loss: 1.0303 - accuracy: 0.82 - 1s 48ms/step - loss: 1.0354 - accuracy: 0.82 - 1s 48ms/step - loss: 1.0393 - accuracy: 0.82 - 1s 48ms/step - loss: 1.0491 - accuracy: 0.82 - 1s 48ms/step - loss: 1.0550 - accuracy: 0.82 - 1s 48ms/step - loss: 1.0463 - accuracy: 0.81 - 1s 48ms/step - loss: 1.0270 - accuracy: 0.82 - 1s 47ms/step - loss: 1.0379 - accuracy: 0.82 - 1s 47ms/step - loss: 1.0317 - accuracy: 0.82 - 1s 47ms/step - loss: 1.0229 - accuracy: 0.82 - 1s 47ms/step - loss: 1.0057 - accuracy: 0.82 - 2s 47ms/step - loss: 1.0283 - accuracy: 0.82 - 2s 47ms/step - loss: 1.0396 - accuracy: 0.81 - 2s 47ms/step - loss: 1.0399 - accuracy: 0.81 - 2s 47ms/step - loss: 1.0318 - accuracy: 0.81 - 2s 47ms/step - loss: 1.0340 - accuracy: 0.81 - 2s 46ms/step - loss: 1.0338 - accuracy: 0.81 - 2s 46ms/step - loss: 1.0340 - accuracy: 0.82 - 2s 46ms/step - loss: 1.0397 - accuracy: 0.81 - 2s 46ms/step - loss: 1.0375 - accuracy: 0.81 - 2s 46ms/step - loss: 1.0455 - accuracy: 0.81 - 2s 46ms/step - loss: 1.0715 - accuracy: 0.81 - 2s 46ms/step - loss: 1.0767 - accuracy: 0.81 - 2s 46ms/step - loss: 1.0716 - accuracy: 0.81 - 2s 45ms/step - loss: 1.0719 - accuracy: 0.81 - 2s 45ms/step - loss: 1.0658 - accuracy: 0.81 - 2s 45ms/step - loss: 1.0562 - accuracy: 0.81 - 2s 45ms/step - loss: 1.0669 - accuracy: 0.81 - 2s 45ms/step - loss: 1.0677 - accuracy: 0.81 - 2s 45ms/step - loss: 1.0733 - accuracy: 0.81 - 2s 45ms/step - loss: 1.0797 - accuracy: 0.81 - 2s 45ms/step - loss: 1.0864 - accuracy: 0.81 - 2s 45ms/step - loss: 1.0904 - accuracy: 0.81 - 2s 45ms/step - loss: 1.0932 - accuracy: 0.81 - 3s 45ms/step - loss: 1.0983 - accuracy: 0.81 - 3s 45ms/step - loss: 1.1073 - accuracy: 0.81 - 3s 45ms/step - loss: 1.1158 - accuracy: 0.81 - 3s 45ms/step - loss: 1.1221 - accuracy: 0.81 - 3s 45ms/step - loss: 1.1317 - accuracy: 0.81 - 3s 45ms/step - loss: 1.1287 - accuracy: 0.81 - 3s 45ms/step - loss: 1.1376 - accuracy: 0.81 - 3s 45ms/step - loss: 1.1399 - accuracy: 0.81 - 3s 45ms/step - loss: 1.1472 - accuracy: 0.81 - 3s 45ms/step - loss: 1.1483 - accuracy: 0.81 - 3s 45ms/step - loss: 1.1478 - accuracy: 0.80 - 3s 45ms/step - loss: 1.1499 - accuracy: 0.80 - 3s 45ms/step - loss: 1.1629 - accuracy: 0.80 - 3s 45ms/step - loss: 1.1542 - accuracy: 0.80 - 3s 45ms/step - loss: 1.1578 - accuracy: 0.80 - 3s 45ms/step - loss: 1.1614 - accuracy: 0.80 - 3s 45ms/step - loss: 1.1697 - accuracy: 0.80 - 3s 45ms/step - loss: 1.1848 - accuracy: 0.80 - 3s 45ms/step - loss: 1.1803 - accuracy: 0.80 - 3s 45ms/step - loss: 1.1811 - accuracy: 0.80 - 3s 45ms/step - loss: 1.1790 - accuracy: 0.80 - 3s 45ms/step - loss: 1.1710 - accuracy: 0.80 - 3s 44ms/step - loss: 1.1724 - accuracy: 0.80 - 4s 44ms/step - loss: 1.1638 - accuracy: 0.80 - 4s 44ms/step - loss: 1.1600 - accuracy: 0.80 - 4s 44ms/step - loss: 1.1653 - accuracy: 0.80 - 4s 44ms/step - loss: 1.1666 - accuracy: 0.80 - 4s 44ms/step - loss: 1.1671 - accuracy: 0.80 - 4s 44ms/step - loss: 1.1681 - accuracy: 0.80 - 4s 44ms/step - loss: 1.1697 - accuracy: 0.80 - 4s 44ms/step - loss: 1.1817 - accuracy: 0.80 - 4s 44ms/step - loss: 1.1802 - accuracy: 0.80 - 4s 44ms/step - loss: 1.1765 - accuracy: 0.80 - 4s 44ms/step - loss: 1.1727 - accuracy: 0.80 - 4s 44ms/step - loss: 1.1688 - accuracy: 0.80 - 4s 44ms/step - loss: 1.1671 - accuracy: 0.80 - 4s 44ms/step - loss: 1.1682 - accuracy: 0.80 - 4s 44ms/step - loss: 1.1650 - accuracy: 0.81 - 4s 44ms/step - loss: 1.1707 - accuracy: 0.80 - 4s 44ms/step - loss: 1.1715 - accuracy: 0.81 - 4s 44ms/step - loss: 1.1694 - accuracy: 0.81 - 4s 44ms/step - loss: 1.1688 - accuracy: 0.81 - 4s 44ms/step - loss: 1.1664 - accuracy: 0.81 - 4s 44ms/step - loss: 1.1644 - accuracy: 0.81 - 4s 44ms/step - loss: 1.1660 - accuracy: 0.81 - 4s 44ms/step - loss: 1.1697 - accuracy: 0.81 - 5s 44ms/step - loss: 1.1658 - accuracy: 0.81 - 5s 44ms/step - loss: 1.1650 - accuracy: 0.81 - 5s 44ms/step - loss: 1.1704 - accuracy: 0.81 - 5s 44ms/step - loss: 1.1693 - accuracy: 0.81 - 5s 44ms/step - loss: 1.1681 - accuracy: 0.81 - 5s 44ms/step - loss: 1.1731 - accuracy: 0.81 - 5s 44ms/step - loss: 1.1734 - accuracy: 0.81 - 5s 44ms/step - loss: 1.1724 - accuracy: 0.81 - 5s 44ms/step - loss: 1.1730 - accuracy: 0.81 - 5s 44ms/step - loss: 1.1678 - accuracy: 0.81 - 5s 44ms/step - loss: 1.1753 - accuracy: 0.80 - 5s 44ms/step - loss: 1.1756 - accuracy: 0.80 - 5s 44ms/step - loss: 1.1730 - accuracy: 0.81 - 5s 44ms/step - loss: 1.1686 - accuracy: 0.81 - 5s 44ms/step - loss: 1.1667 - accuracy: 0.81 - 5s 44ms/step - loss: 1.1630 - accuracy: 0.81 - 5s 44ms/step - loss: 1.1638 - accuracy: 0.81 - 5s 44ms/step - loss: 1.1606 - accuracy: 0.81 - 5s 44ms/step - loss: 1.1619 - accuracy: 0.81 - 5s 44ms/step - loss: 1.1598 - accuracy: 0.81 - 5s 44ms/step - loss: 1.1601 - accuracy: 0.81 - 5s 44ms/step - loss: 1.1581 - accuracy: 0.81 - 5s 44ms/step - loss: 1.1604 - accuracy: 0.81 - 5s 44ms/step - loss: 1.1575 - accuracy: 0.81 - 6s 44ms/step - loss: 1.1578 - accuracy: 0.81 - 6s 44ms/step - loss: 1.1602 - accuracy: 0.81 - 6s 44ms/step - loss: 1.1593 - accuracy: 0.81 - 6s 44ms/step - loss: 1.1597 - accuracy: 0.81 - 6s 44ms/step - loss: 1.1556 - accuracy: 0.81 - 6s 44ms/step - loss: 1.1542 - accuracy: 0.81 - 6s 44ms/step - loss: 1.1531 - accuracy: 0.81 - 6s 44ms/step - loss: 1.1520 - accuracy: 0.81 - 6s 44ms/step - loss: 1.1523 - accuracy: 0.81 - 6s 44ms/step - loss: 1.1514 - accuracy: 0.81 - 6s 44ms/step - loss: 1.1533 - accuracy: 0.81 - 6s 44ms/step - loss: 1.1531 - accuracy: 0.81 - 6s 44ms/step - loss: 1.1526 - accuracy: 0.81 - 6s 44ms/step - loss: 1.1519 - accuracy: 0.81 - 6s 44ms/step - loss: 1.1460 - accuracy: 0.81 - 6s 44ms/step - loss: 1.1449 - accuracy: 0.81 - 6s 44ms/step - loss: 1.1426 - accuracy: 0.81 - 6s 44ms/step - loss: 1.1430 - accuracy: 0.81 - 6s 44ms/step - loss: 1.1459 - accuracy: 0.81 - 6s 44ms/step - loss: 1.1412 - accuracy: 0.81 - 6s 44ms/step - loss: 1.1421 - accuracy: 0.81 - 6s 44ms/step - loss: 1.1385 - accuracy: 0.81 - 6s 44ms/step - loss: 1.1367 - accuracy: 0.81 - 7s 44ms/step - loss: 1.1357 - accuracy: 0.81 - 7s 44ms/step - loss: 1.1349 - accuracy: 0.81 - 7s 44ms/step - loss: 1.1334 - accuracy: 0.81 - 7s 44ms/step - loss: 1.1317 - accuracy: 0.81 - 7s 44ms/step - loss: 1.1299 - accuracy: 0.81 - 7s 44ms/step - loss: 1.1288 - accuracy: 0.81 - 7s 44ms/step - loss: 1.1258 - accuracy: 0.81 - 7s 44ms/step - loss: 1.1244 - accuracy: 0.81 - 7s 44ms/step - loss: 1.1202 - accuracy: 0.81 - 7s 46ms/step - loss: 1.1202 - accuracy: 0.8130\n"
     ]
    },
    {
     "data": {
      "text/plain": [
       "[1.1201782190495995, 0.813]"
      ]
     },
     "execution_count": 11,
     "metadata": {},
     "output_type": "execute_result"
    }
   ],
   "source": [
    "model.evaluate(test_data)"
   ]
  },
  {
   "cell_type": "code",
   "execution_count": 12,
   "metadata": {},
   "outputs": [],
   "source": [
    "m = tf.keras.models.load_model('checkpoints/{}.hdf5'.format(dt))"
   ]
  },
  {
   "cell_type": "code",
   "execution_count": null,
   "metadata": {},
   "outputs": [],
   "source": []
  }
 ],
 "metadata": {
  "kernelspec": {
   "display_name": "Python 3",
   "language": "python",
   "name": "python3"
  },
  "language_info": {
   "codemirror_mode": {
    "name": "ipython",
    "version": 3
   },
   "file_extension": ".py",
   "mimetype": "text/x-python",
   "name": "python",
   "nbconvert_exporter": "python",
   "pygments_lexer": "ipython3",
   "version": "3.6.9"
  }
 },
 "nbformat": 4,
 "nbformat_minor": 2
}
