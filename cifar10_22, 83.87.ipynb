{
 "cells": [
  {
   "cell_type": "code",
   "execution_count": 12,
   "metadata": {},
   "outputs": [
    {
     "name": "stdout",
     "output_type": "stream",
     "text": [
      "Requirement already satisfied: tensorflow-datasets in c:\\users\\affinity\\anaconda3\\lib\\site-packages (1.3.0)\n",
      "Requirement already satisfied: dill in c:\\users\\affinity\\anaconda3\\lib\\site-packages (from tensorflow-datasets) (0.3.1.1)\n",
      "Requirement already satisfied: tqdm in c:\\users\\affinity\\anaconda3\\lib\\site-packages (from tensorflow-datasets) (4.36.1)\n",
      "Requirement already satisfied: promise in c:\\users\\affinity\\anaconda3\\lib\\site-packages (from tensorflow-datasets) (2.2.1)\n",
      "Requirement already satisfied: protobuf>=3.6.1 in c:\\users\\affinity\\anaconda3\\lib\\site-packages (from tensorflow-datasets) (3.9.2)\n",
      "Requirement already satisfied: termcolor in c:\\users\\affinity\\anaconda3\\lib\\site-packages (from tensorflow-datasets) (1.1.0)\n",
      "Requirement already satisfied: wrapt in c:\\users\\affinity\\anaconda3\\lib\\site-packages (from tensorflow-datasets) (1.11.2)\n",
      "Requirement already satisfied: tensorflow-metadata in c:\\users\\affinity\\anaconda3\\lib\\site-packages (from tensorflow-datasets) (0.15.0)\n",
      "Requirement already satisfied: six in c:\\users\\affinity\\anaconda3\\lib\\site-packages (from tensorflow-datasets) (1.12.0)\n",
      "Requirement already satisfied: absl-py in c:\\users\\affinity\\anaconda3\\lib\\site-packages (from tensorflow-datasets) (0.8.0)\n",
      "Requirement already satisfied: requests>=2.19.0 in c:\\users\\affinity\\anaconda3\\lib\\site-packages (from tensorflow-datasets) (2.22.0)\n",
      "Requirement already satisfied: attrs in c:\\users\\affinity\\anaconda3\\lib\\site-packages (from tensorflow-datasets) (19.3.0)\n",
      "Requirement already satisfied: numpy in c:\\users\\affinity\\anaconda3\\lib\\site-packages (from tensorflow-datasets) (1.16.5)\n",
      "Requirement already satisfied: future in c:\\users\\affinity\\anaconda3\\lib\\site-packages (from tensorflow-datasets) (0.17.1)\n",
      "Requirement already satisfied: setuptools in c:\\users\\affinity\\anaconda3\\lib\\site-packages (from protobuf>=3.6.1->tensorflow-datasets) (41.4.0)\n",
      "Requirement already satisfied: googleapis-common-protos in c:\\users\\affinity\\anaconda3\\lib\\site-packages (from tensorflow-metadata->tensorflow-datasets) (1.6.0)\n",
      "Requirement already satisfied: idna<2.9,>=2.5 in c:\\users\\affinity\\anaconda3\\lib\\site-packages (from requests>=2.19.0->tensorflow-datasets) (2.8)\n",
      "Requirement already satisfied: certifi>=2017.4.17 in c:\\users\\affinity\\anaconda3\\lib\\site-packages (from requests>=2.19.0->tensorflow-datasets) (2019.9.11)\n",
      "Requirement already satisfied: chardet<3.1.0,>=3.0.2 in c:\\users\\affinity\\anaconda3\\lib\\site-packages (from requests>=2.19.0->tensorflow-datasets) (3.0.4)\n",
      "Requirement already satisfied: urllib3!=1.25.0,!=1.25.1,<1.26,>=1.21.1 in c:\\users\\affinity\\anaconda3\\lib\\site-packages (from requests>=2.19.0->tensorflow-datasets) (1.24.2)\n"
     ]
    }
   ],
   "source": [
    "!pip install tensorflow-datasets"
   ]
  },
  {
   "cell_type": "code",
   "execution_count": 13,
   "metadata": {},
   "outputs": [
    {
     "name": "stdout",
     "output_type": "stream",
     "text": [
      "Requirement already up-to-date: pip in c:\\users\\affinity\\anaconda3\\lib\\site-packages (19.3.1)\n"
     ]
    }
   ],
   "source": [
    "!python -m pip install --upgrade pip"
   ]
  },
  {
   "cell_type": "code",
   "execution_count": 14,
   "metadata": {},
   "outputs": [],
   "source": [
    "import tensorflow as tf\n",
    "import tensorflow_datasets as tfds\n",
    "from keras.models import load_model\n",
    "from datetime import datetime\n",
    "#tf.enable_eager_execution()"
   ]
  },
  {
   "cell_type": "code",
   "execution_count": 15,
   "metadata": {},
   "outputs": [],
   "source": [
    "train_data = tfds.load(name='cifar10:3.*.*', split='train[:80%]', as_supervised=True)\n",
    "valid_data = tfds.load(name='cifar10:3.*.*', split='train[80%:]', as_supervised=True)\n",
    "test_data = tfds.load(name='cifar10:3.*.*', split='test', as_supervised=True)"
   ]
  },
  {
   "cell_type": "code",
   "execution_count": 16,
   "metadata": {},
   "outputs": [],
   "source": [
    "def scale(image, label):\n",
    "    image = tf.cast(image, tf.float32)\n",
    "    image /= 255\n",
    "    image = tf.image.random_contrast(image, lower=4.0, upper=4.0)\n",
    "    image = tf.image.random_flip_left_right(image)\n",
    "    image = tf.image.random_contrast(image, lower=4.0, upper = 4.0)\n",
    "    image = tf.image.random_hue(image, max_delta = 0.8)\n",
    "    image = tf.image.random_saturation(image, lower=4.0, upper=4.0)\n",
    "    return image, label"
   ]
  },
  {
   "cell_type": "code",
   "execution_count": 17,
   "metadata": {},
   "outputs": [
    {
     "name": "stdout",
     "output_type": "stream",
     "text": [
      "Model: \"sequential_1\"\n",
      "_________________________________________________________________\n",
      "Layer (type)                 Output Shape              Param #   \n",
      "=================================================================\n",
      "conv2d_7 (Conv2D)            (None, 32, 32, 128)       3584      \n",
      "_________________________________________________________________\n",
      "batch_normalization_3 (Batch (None, 32, 32, 128)       512       \n",
      "_________________________________________________________________\n",
      "max_pooling2d_4 (MaxPooling2 (None, 16, 16, 128)       0         \n",
      "_________________________________________________________________\n",
      "conv2d_8 (Conv2D)            (None, 16, 16, 256)       295168    \n",
      "_________________________________________________________________\n",
      "conv2d_9 (Conv2D)            (None, 16, 16, 256)       590080    \n",
      "_________________________________________________________________\n",
      "batch_normalization_4 (Batch (None, 16, 16, 256)       1024      \n",
      "_________________________________________________________________\n",
      "max_pooling2d_5 (MaxPooling2 (None, 8, 8, 256)         0         \n",
      "_________________________________________________________________\n",
      "dropout_3 (Dropout)          (None, 8, 8, 256)         0         \n",
      "_________________________________________________________________\n",
      "conv2d_10 (Conv2D)           (None, 8, 8, 256)         590080    \n",
      "_________________________________________________________________\n",
      "conv2d_11 (Conv2D)           (None, 8, 8, 256)         590080    \n",
      "_________________________________________________________________\n",
      "max_pooling2d_6 (MaxPooling2 (None, 4, 4, 256)         0         \n",
      "_________________________________________________________________\n",
      "dropout_4 (Dropout)          (None, 4, 4, 256)         0         \n",
      "_________________________________________________________________\n",
      "conv2d_12 (Conv2D)           (None, 4, 4, 512)         1180160   \n",
      "_________________________________________________________________\n",
      "conv2d_13 (Conv2D)           (None, 4, 4, 512)         2359808   \n",
      "_________________________________________________________________\n",
      "batch_normalization_5 (Batch (None, 4, 4, 512)         2048      \n",
      "_________________________________________________________________\n",
      "max_pooling2d_7 (MaxPooling2 (None, 2, 2, 512)         0         \n",
      "_________________________________________________________________\n",
      "flatten_1 (Flatten)          (None, 2048)              0         \n",
      "_________________________________________________________________\n",
      "dropout_5 (Dropout)          (None, 2048)              0         \n",
      "_________________________________________________________________\n",
      "dense_1 (Dense)              (None, 10)                20490     \n",
      "=================================================================\n",
      "Total params: 5,633,034\n",
      "Trainable params: 5,631,242\n",
      "Non-trainable params: 1,792\n",
      "_________________________________________________________________\n"
     ]
    }
   ],
   "source": [
    "model = tf.keras.Sequential([\n",
    "    tf.keras.layers.Conv2D(128, 3, activation='relu', padding='same', input_shape=(32, 32, 3)),\n",
    "    tf.keras.layers.BatchNormalization(),  # Gradient Vanishing / Gradient Exploding 이 일어나지 않도록 하는 아이디어 중의 하나이다\n",
    "    tf.keras.layers.MaxPooling2D(),\n",
    "    tf.keras.layers.Conv2D(256, 3, activation='relu', padding='same'),\n",
    "    tf.keras.layers.Conv2D(256, 3, activation='relu', padding='same'),\n",
    "    tf.keras.layers.BatchNormalization(),\n",
    "    tf.keras.layers.MaxPooling2D(),\n",
    "    tf.keras.layers.Dropout(0.4),\n",
    "    tf.keras.layers.Conv2D(256, 3, activation='relu', padding='same'),\n",
    "    tf.keras.layers.Conv2D(256, 3, activation='relu', padding='same'),\n",
    "    tf.keras.layers.MaxPooling2D(),\n",
    "    tf.keras.layers.Dropout(0.4),\n",
    "    tf.keras.layers.Conv2D(512, 3, activation='relu', padding='same'),\n",
    "    tf.keras.layers.Conv2D(512, 3, activation='relu', padding='same'),\n",
    "    tf.keras.layers.BatchNormalization(),\n",
    "    tf.keras.layers.MaxPooling2D(),\n",
    "    tf.keras.layers.Flatten(),\n",
    "    tf.keras.layers.Dropout(0.4),\n",
    "    tf.keras.layers.Dense(10, activation='softmax')\n",
    "    \n",
    "])\n",
    "model.summary()"
   ]
  },
  {
   "cell_type": "code",
   "execution_count": 18,
   "metadata": {},
   "outputs": [],
   "source": [
    "model.compile(optimizer='adam',\n",
    "              loss='sparse_categorical_crossentropy',\n",
    "              metrics=['accuracy'])"
   ]
  },
  {
   "cell_type": "code",
   "execution_count": 19,
   "metadata": {},
   "outputs": [],
   "source": [
    "def scale(image, label):\n",
    "    image = tf.cast(image, tf.float32)\n",
    "    image /= 255\n",
    "    return image, label\n",
    "\n",
    "train_data = train_data.map(scale).shuffle(50000).repeat(4).batch(64) \n",
    "valid_data = valid_data.map(scale).batch(64)\n",
    "test_data = test_data.map(scale).batch(64)"
   ]
  },
  {
   "cell_type": "code",
   "execution_count": 20,
   "metadata": {},
   "outputs": [],
   "source": [
    "dt = datetime.now().strftime('%Y%m%d-%H%M%S')\n",
    "\n",
    "cp_callback = tf.keras.callbacks.ModelCheckpoint(   \n",
    "    'checkpoints/{}.hdf5'.format(dt),\n",
    "    monitor='val_accuracy',\n",
    "    save_best_only=True)"
   ]
  },
  {
   "cell_type": "code",
   "execution_count": 21,
   "metadata": {},
   "outputs": [],
   "source": [
    "class MyCallback(tf.keras.callbacks.Callback):\n",
    "\n",
    "    def on_epoch_start(self, epoch, logs=None):\n",
    "        print('Epoch {} begins at {}: {}'.format(epoch, datetime.now().time(), logs))\n",
    "\n",
    "    def on_epoch_end(self, epoch, logs=None):\n",
    "        print('Epoch {} ends at {}: {}'.format(epoch, datetime.now().time(), logs))"
   ]
  },
  {
   "cell_type": "code",
   "execution_count": 22,
   "metadata": {},
   "outputs": [
    {
     "name": "stdout",
     "output_type": "stream",
     "text": [
      "Epoch 0 ends at 11:46:50.233588: {'loss': 1.7680089641094208, 'accuracy': 0.45494375, 'val_loss': 1.0890888560349774, 'val_accuracy': 0.6257}\n",
      "Epoch 1 ends at 11:51:12.784043: {'loss': 0.8983060778975487, 'accuracy': 0.69785, 'val_loss': 0.9865294041906952, 'val_accuracy': 0.6551}\n",
      "Epoch 2 ends at 11:55:41.699296: {'loss': 0.5828083561897278, 'accuracy': 0.7997438, 'val_loss': 0.6379766122550722, 'val_accuracy': 0.7816}\n",
      "Epoch 3 ends at 12:00:11.243132: {'loss': 0.3985716642558575, 'accuracy': 0.8629562, 'val_loss': 0.6952773025081416, 'val_accuracy': 0.7838}\n",
      "Epoch 4 ends at 12:04:43.756873: {'loss': 0.27522402993142603, 'accuracy': 0.9050375, 'val_loss': 0.6274679491094722, 'val_accuracy': 0.8083}\n",
      "Epoch 5 ends at 12:09:17.718063: {'loss': 0.20175488320812582, 'accuracy': 0.9304, 'val_loss': 0.6684894033108547, 'val_accuracy': 0.8205}\n",
      "Epoch 6 ends at 12:13:52.869033: {'loss': 0.15470677706450223, 'accuracy': 0.94685, 'val_loss': 0.7030883520651775, 'val_accuracy': 0.806}\n",
      "Epoch 7 ends at 12:18:32.514574: {'loss': 0.12986548746209592, 'accuracy': 0.95585626, 'val_loss': 0.6848311270498166, 'val_accuracy': 0.8216}\n",
      "Epoch 8 ends at 12:23:07.814854: {'loss': 0.11139985691681505, 'accuracy': 0.96256876, 'val_loss': 0.7463061648189642, 'val_accuracy': 0.7999}\n",
      "Epoch 9 ends at 12:27:37.614641: {'loss': 0.09581384604405611, 'accuracy': 0.96775, 'val_loss': 0.6988564050121672, 'val_accuracy': 0.8278}\n",
      "Epoch 10 ends at 12:31:59.801619: {'loss': 0.08516270597279071, 'accuracy': 0.9710125, 'val_loss': 0.6599209645561351, 'val_accuracy': 0.834}\n",
      "Epoch 11 ends at 12:36:18.926513: {'loss': 0.0757676404277794, 'accuracy': 0.97476876, 'val_loss': 0.7603299978432382, 'val_accuracy': 0.8237}\n",
      "Epoch 12 ends at 12:40:38.319377: {'loss': 0.07009846027512104, 'accuracy': 0.97653127, 'val_loss': 0.7134922746640102, 'val_accuracy': 0.8244}\n",
      "Epoch 13 ends at 12:44:57.132123: {'loss': 0.06333912073213141, 'accuracy': 0.97915, 'val_loss': 0.7310841700453667, 'val_accuracy': 0.8358}\n",
      "Epoch 14 ends at 12:49:17.668768: {'loss': 0.05897304988247343, 'accuracy': 0.9803875, 'val_loss': 0.7537939960409881, 'val_accuracy': 0.8248}\n",
      "Epoch 15 ends at 12:53:39.532286: {'loss': 0.054005024464451705, 'accuracy': 0.98195, 'val_loss': 0.7922535005268777, 'val_accuracy': 0.8356}\n",
      "Epoch 16 ends at 12:58:00.443792: {'loss': 0.05022508272000123, 'accuracy': 0.9829937, 'val_loss': 0.7798813958266738, 'val_accuracy': 0.8187}\n",
      "Epoch 17 ends at 13:29:49.629575: {'loss': 0.048238274436286886, 'accuracy': 0.9840937, 'val_loss': 0.9316157899844418, 'val_accuracy': 0.8219}\n",
      "Epoch 18 ends at 13:33:33.977190: {'loss': 0.04466653650910594, 'accuracy': 0.9849375, 'val_loss': 0.8426276499488551, 'val_accuracy': 0.8331}\n",
      "Epoch 19 ends at 13:37:39.132909: {'loss': 0.040816126438538776, 'accuracy': 0.98666877, 'val_loss': 0.7911640660018678, 'val_accuracy': 0.8342}\n",
      "Epoch 20 ends at 13:41:56.981738: {'loss': 0.039981008904613556, 'accuracy': 0.9862875, 'val_loss': 0.7033174421377243, 'val_accuracy': 0.8421}\n",
      "Epoch 21 ends at 13:46:17.431364: {'loss': 0.03702110754044843, 'accuracy': 0.98755, 'val_loss': 0.7524770519156365, 'val_accuracy': 0.8384}\n",
      "Epoch 22 ends at 13:50:39.915640: {'loss': 0.0363290218054317, 'accuracy': 0.988175, 'val_loss': 0.7094376843636203, 'val_accuracy': 0.8444}\n",
      "Epoch 23 ends at 13:54:59.752936: {'loss': 0.03497789078614442, 'accuracy': 0.9885875, 'val_loss': 0.7981290251586088, 'val_accuracy': 0.8184}\n",
      "Epoch 24 ends at 13:59:16.134776: {'loss': 0.03328058392899693, 'accuracy': 0.98885, 'val_loss': 0.7787955983239374, 'val_accuracy': 0.8373}\n",
      "Epoch 25 ends at 14:03:38.599023: {'loss': 0.031498528843952225, 'accuracy': 0.9896, 'val_loss': 0.8059946924068366, 'val_accuracy': 0.8318}\n",
      "Epoch 26 ends at 14:08:06.315234: {'loss': 0.029965975048218386, 'accuracy': 0.98999375, 'val_loss': 0.9300455733848985, 'val_accuracy': 0.8221}\n",
      "Epoch 27 ends at 14:12:34.473160: {'loss': 0.03012424163078831, 'accuracy': 0.99, 'val_loss': 0.8611654551925173, 'val_accuracy': 0.8339}\n",
      "Epoch 28 ends at 14:17:05.100703: {'loss': 0.02709104340588674, 'accuracy': 0.99081874, 'val_loss': 0.7727948692004392, 'val_accuracy': 0.8457}\n",
      "Epoch 29 ends at 14:21:31.656962: {'loss': 0.026665034509496765, 'accuracy': 0.9914, 'val_loss': 0.8164536230693198, 'val_accuracy': 0.8439}\n"
     ]
    }
   ],
   "source": [
    "history = model.fit(train_data,\n",
    "                    epochs=30,\n",
    "                    validation_data=valid_data,\n",
    "                    verbose=0,\n",
    "                    callbacks=[cp_callback, MyCallback()])"
   ]
  },
  {
   "cell_type": "code",
   "execution_count": 23,
   "metadata": {
    "scrolled": true
   },
   "outputs": [
    {
     "name": "stdout",
     "output_type": "stream",
     "text": [
      "157/157 [==============================].9878 - accuracy: 0.81 - 0s 63ms/step - loss: 0.9377 - accuracy: 0.82 - 0s 58ms/step - loss: 0.7540 - accuracy: 0.85 - 0s 58ms/step - loss: 0.7451 - accuracy: 0.86 - 0s 57ms/step - loss: 0.7091 - accuracy: 0.87 - 0s 55ms/step - loss: 0.6764 - accuracy: 0.87 - 0s 53ms/step - loss: 0.6699 - accuracy: 0.87 - 0s 51ms/step - loss: 0.8803 - accuracy: 0.86 - 0s 49ms/step - loss: 0.8354 - accuracy: 0.86 - 0s 48ms/step - loss: 0.8536 - accuracy: 0.86 - 1s 48ms/step - loss: 0.8237 - accuracy: 0.86 - 1s 48ms/step - loss: 0.7964 - accuracy: 0.86 - 1s 47ms/step - loss: 0.8030 - accuracy: 0.86 - 1s 48ms/step - loss: 0.7929 - accuracy: 0.86 - 1s 48ms/step - loss: 0.8052 - accuracy: 0.86 - 1s 48ms/step - loss: 0.8462 - accuracy: 0.85 - 1s 47ms/step - loss: 0.8512 - accuracy: 0.85 - 1s 47ms/step - loss: 0.8768 - accuracy: 0.84 - 1s 47ms/step - loss: 0.8580 - accuracy: 0.85 - 1s 46ms/step - loss: 0.8503 - accuracy: 0.85 - 1s 46ms/step - loss: 0.8189 - accuracy: 0.85 - 1s 47ms/step - loss: 0.8063 - accuracy: 0.85 - 1s 46ms/step - loss: 0.8133 - accuracy: 0.85 - 1s 46ms/step - loss: 0.8062 - accuracy: 0.85 - 1s 46ms/step - loss: 0.8063 - accuracy: 0.86 - 1s 46ms/step - loss: 0.8139 - accuracy: 0.85 - 1s 46ms/step - loss: 0.8178 - accuracy: 0.85 - 1s 46ms/step - loss: 0.7972 - accuracy: 0.85 - 1s 46ms/step - loss: 0.8084 - accuracy: 0.85 - 1s 46ms/step - loss: 0.8008 - accuracy: 0.85 - 1s 45ms/step - loss: 0.7970 - accuracy: 0.85 - 1s 45ms/step - loss: 0.7896 - accuracy: 0.85 - 1s 45ms/step - loss: 0.8050 - accuracy: 0.85 - 2s 45ms/step - loss: 0.8128 - accuracy: 0.85 - 2s 45ms/step - loss: 0.8099 - accuracy: 0.85 - 2s 45ms/step - loss: 0.8074 - accuracy: 0.85 - 2s 45ms/step - loss: 0.8131 - accuracy: 0.85 - 2s 45ms/step - loss: 0.8258 - accuracy: 0.85 - 2s 45ms/step - loss: 0.8260 - accuracy: 0.85 - 2s 45ms/step - loss: 0.8358 - accuracy: 0.85 - 2s 45ms/step - loss: 0.8444 - accuracy: 0.85 - 2s 45ms/step - loss: 0.8420 - accuracy: 0.85 - 2s 45ms/step - loss: 0.8378 - accuracy: 0.85 - 2s 45ms/step - loss: 0.8409 - accuracy: 0.84 - 2s 45ms/step - loss: 0.8318 - accuracy: 0.85 - 2s 45ms/step - loss: 0.8316 - accuracy: 0.84 - 2s 45ms/step - loss: 0.8333 - accuracy: 0.85 - 2s 45ms/step - loss: 0.8314 - accuracy: 0.84 - 2s 45ms/step - loss: 0.8365 - accuracy: 0.84 - 2s 45ms/step - loss: 0.8293 - accuracy: 0.84 - 2s 45ms/step - loss: 0.8242 - accuracy: 0.84 - 2s 45ms/step - loss: 0.8267 - accuracy: 0.84 - 2s 45ms/step - loss: 0.8359 - accuracy: 0.84 - 2s 45ms/step - loss: 0.8384 - accuracy: 0.84 - 2s 45ms/step - loss: 0.8338 - accuracy: 0.84 - 2s 45ms/step - loss: 0.8406 - accuracy: 0.84 - 3s 45ms/step - loss: 0.8416 - accuracy: 0.84 - 3s 45ms/step - loss: 0.8450 - accuracy: 0.84 - 3s 45ms/step - loss: 0.8433 - accuracy: 0.84 - 3s 45ms/step - loss: 0.8401 - accuracy: 0.84 - 3s 45ms/step - loss: 0.8356 - accuracy: 0.84 - 3s 45ms/step - loss: 0.8468 - accuracy: 0.84 - 3s 45ms/step - loss: 0.8458 - accuracy: 0.84 - 3s 45ms/step - loss: 0.8517 - accuracy: 0.84 - 3s 45ms/step - loss: 0.8516 - accuracy: 0.84 - 3s 44ms/step - loss: 0.8496 - accuracy: 0.84 - 3s 45ms/step - loss: 0.8503 - accuracy: 0.84 - 3s 44ms/step - loss: 0.8566 - accuracy: 0.84 - 3s 45ms/step - loss: 0.8545 - accuracy: 0.84 - 3s 45ms/step - loss: 0.8632 - accuracy: 0.84 - 3s 45ms/step - loss: 0.8618 - accuracy: 0.84 - 3s 45ms/step - loss: 0.8677 - accuracy: 0.84 - 3s 45ms/step - loss: 0.8737 - accuracy: 0.83 - 3s 45ms/step - loss: 0.8695 - accuracy: 0.83 - 3s 44ms/step - loss: 0.8679 - accuracy: 0.83 - 3s 44ms/step - loss: 0.8657 - accuracy: 0.84 - 3s 44ms/step - loss: 0.8736 - accuracy: 0.83 - 3s 44ms/step - loss: 0.8695 - accuracy: 0.84 - 4s 44ms/step - loss: 0.8624 - accuracy: 0.84 - 4s 44ms/step - loss: 0.8624 - accuracy: 0.84 - 4s 44ms/step - loss: 0.8639 - accuracy: 0.84 - 4s 44ms/step - loss: 0.8640 - accuracy: 0.84 - 4s 44ms/step - loss: 0.8648 - accuracy: 0.84 - 4s 44ms/step - loss: 0.8667 - accuracy: 0.84 - 4s 44ms/step - loss: 0.8685 - accuracy: 0.84 - 4s 44ms/step - loss: 0.8737 - accuracy: 0.84 - 4s 44ms/step - loss: 0.8688 - accuracy: 0.84 - 4s 44ms/step - loss: 0.8643 - accuracy: 0.84 - 4s 44ms/step - loss: 0.8610 - accuracy: 0.84 - 4s 44ms/step - loss: 0.8625 - accuracy: 0.84 - 4s 44ms/step - loss: 0.8657 - accuracy: 0.84 - 4s 44ms/step - loss: 0.8625 - accuracy: 0.84 - 4s 44ms/step - loss: 0.8622 - accuracy: 0.84 - 4s 44ms/step - loss: 0.8675 - accuracy: 0.84 - 4s 44ms/step - loss: 0.8733 - accuracy: 0.84 - 4s 44ms/step - loss: 0.8712 - accuracy: 0.84 - 4s 44ms/step - loss: 0.8788 - accuracy: 0.83 - 4s 44ms/step - loss: 0.8766 - accuracy: 0.83 - 4s 44ms/step - loss: 0.8757 - accuracy: 0.83 - 4s 44ms/step - loss: 0.8768 - accuracy: 0.83 - 4s 44ms/step - loss: 0.8841 - accuracy: 0.83 - 4s 44ms/step - loss: 0.8796 - accuracy: 0.83 - 5s 44ms/step - loss: 0.8792 - accuracy: 0.83 - 5s 44ms/step - loss: 0.8819 - accuracy: 0.83 - 5s 44ms/step - loss: 0.8832 - accuracy: 0.83 - 5s 44ms/step - loss: 0.8833 - accuracy: 0.83 - 5s 44ms/step - loss: 0.8867 - accuracy: 0.83 - 5s 44ms/step - loss: 0.8903 - accuracy: 0.83 - 5s 44ms/step - loss: 0.8938 - accuracy: 0.83 - 5s 44ms/step - loss: 0.8953 - accuracy: 0.83 - 5s 44ms/step - loss: 0.8918 - accuracy: 0.83 - 5s 44ms/step - loss: 0.8988 - accuracy: 0.83 - 5s 44ms/step - loss: 0.8996 - accuracy: 0.83 - 5s 44ms/step - loss: 0.8971 - accuracy: 0.83 - 5s 43ms/step - loss: 0.8936 - accuracy: 0.83 - 5s 44ms/step - loss: 0.8925 - accuracy: 0.83 - 5s 43ms/step - loss: 0.8900 - accuracy: 0.83 - 5s 43ms/step - loss: 0.8878 - accuracy: 0.83 - 5s 43ms/step - loss: 0.8832 - accuracy: 0.83 - 5s 43ms/step - loss: 0.8855 - accuracy: 0.83 - 5s 43ms/step - loss: 0.8853 - accuracy: 0.83 - 5s 43ms/step - loss: 0.8851 - accuracy: 0.83 - 5s 43ms/step - loss: 0.8862 - accuracy: 0.83 - 5s 43ms/step - loss: 0.8895 - accuracy: 0.83 - 5s 43ms/step - loss: 0.8860 - accuracy: 0.83 - 5s 43ms/step - loss: 0.8841 - accuracy: 0.83 - 5s 43ms/step - loss: 0.8883 - accuracy: 0.83 - 6s 43ms/step - loss: 0.8845 - accuracy: 0.83 - 6s 43ms/step - loss: 0.8852 - accuracy: 0.83 - 6s 43ms/step - loss: 0.8827 - accuracy: 0.83 - 6s 43ms/step - loss: 0.8794 - accuracy: 0.83 - 6s 43ms/step - loss: 0.8766 - accuracy: 0.83 - 6s 43ms/step - loss: 0.8758 - accuracy: 0.83 - 6s 43ms/step - loss: 0.8762 - accuracy: 0.83 - 6s 43ms/step - loss: 0.8763 - accuracy: 0.83 - 6s 43ms/step - loss: 0.8776 - accuracy: 0.83 - 6s 43ms/step - loss: 0.8777 - accuracy: 0.83 - 6s 43ms/step - loss: 0.8772 - accuracy: 0.83 - 6s 43ms/step - loss: 0.8768 - accuracy: 0.83 - 6s 43ms/step - loss: 0.8735 - accuracy: 0.83 - 6s 43ms/step - loss: 0.8751 - accuracy: 0.83 - 6s 43ms/step - loss: 0.8741 - accuracy: 0.83 - 6s 43ms/step - loss: 0.8741 - accuracy: 0.83 - 6s 43ms/step - loss: 0.8776 - accuracy: 0.83 - 6s 43ms/step - loss: 0.8751 - accuracy: 0.83 - 6s 43ms/step - loss: 0.8764 - accuracy: 0.83 - 6s 43ms/step - loss: 0.8773 - accuracy: 0.83 - 6s 43ms/step - loss: 0.8760 - accuracy: 0.83 - 6s 43ms/step - loss: 0.8745 - accuracy: 0.83 - 6s 43ms/step - loss: 0.8744 - accuracy: 0.83 - 7s 43ms/step - loss: 0.8725 - accuracy: 0.83 - 7s 43ms/step - loss: 0.8712 - accuracy: 0.83 - 7s 43ms/step - loss: 0.8705 - accuracy: 0.83 - 7s 43ms/step - loss: 0.8707 - accuracy: 0.83 - 7s 43ms/step - loss: 0.8691 - accuracy: 0.83 - 7s 43ms/step - loss: 0.8695 - accuracy: 0.83 - 7s 43ms/step - loss: 0.8697 - accuracy: 0.83 - 7s 45ms/step - loss: 0.8697 - accuracy: 0.8387\n"
     ]
    },
    {
     "data": {
      "text/plain": [
       "[0.8697326290569488, 0.8387]"
      ]
     },
     "execution_count": 23,
     "metadata": {},
     "output_type": "execute_result"
    }
   ],
   "source": [
    "model.evaluate(test_data)"
   ]
  },
  {
   "cell_type": "code",
   "execution_count": 24,
   "metadata": {},
   "outputs": [],
   "source": [
    "m = tf.keras.models.load_model('checkpoints/{}.hdf5'.format(dt))"
   ]
  },
  {
   "cell_type": "code",
   "execution_count": null,
   "metadata": {},
   "outputs": [],
   "source": []
  }
 ],
 "metadata": {
  "kernelspec": {
   "display_name": "Python 3",
   "language": "python",
   "name": "python3"
  },
  "language_info": {
   "codemirror_mode": {
    "name": "ipython",
    "version": 3
   },
   "file_extension": ".py",
   "mimetype": "text/x-python",
   "name": "python",
   "nbconvert_exporter": "python",
   "pygments_lexer": "ipython3",
   "version": "3.6.9"
  }
 },
 "nbformat": 4,
 "nbformat_minor": 2
}
