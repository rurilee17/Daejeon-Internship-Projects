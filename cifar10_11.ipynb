{
 "cells": [
  {
   "cell_type": "code",
   "execution_count": 1,
   "metadata": {},
   "outputs": [
    {
     "name": "stdout",
     "output_type": "stream",
     "text": [
      "Requirement already satisfied: tensorflow-datasets in c:\\users\\affinity\\anaconda3\\lib\\site-packages (1.3.0)\n",
      "Requirement already satisfied: future in c:\\users\\affinity\\anaconda3\\lib\\site-packages (from tensorflow-datasets) (0.17.1)\n",
      "Requirement already satisfied: six in c:\\users\\affinity\\anaconda3\\lib\\site-packages (from tensorflow-datasets) (1.12.0)\n",
      "Requirement already satisfied: termcolor in c:\\users\\affinity\\anaconda3\\lib\\site-packages (from tensorflow-datasets) (1.1.0)\n",
      "Requirement already satisfied: tensorflow-metadata in c:\\users\\affinity\\anaconda3\\lib\\site-packages (from tensorflow-datasets) (0.15.0)\n",
      "Requirement already satisfied: attrs in c:\\users\\affinity\\anaconda3\\lib\\site-packages (from tensorflow-datasets) (19.3.0)\n",
      "Requirement already satisfied: wrapt in c:\\users\\affinity\\anaconda3\\lib\\site-packages (from tensorflow-datasets) (1.11.2)\n",
      "Requirement already satisfied: absl-py in c:\\users\\affinity\\anaconda3\\lib\\site-packages (from tensorflow-datasets) (0.8.0)\n",
      "Requirement already satisfied: promise in c:\\users\\affinity\\anaconda3\\lib\\site-packages (from tensorflow-datasets) (2.2.1)\n",
      "Requirement already satisfied: dill in c:\\users\\affinity\\anaconda3\\lib\\site-packages (from tensorflow-datasets) (0.3.1.1)\n",
      "Requirement already satisfied: protobuf>=3.6.1 in c:\\users\\affinity\\anaconda3\\lib\\site-packages (from tensorflow-datasets) (3.9.2)\n",
      "Requirement already satisfied: requests>=2.19.0 in c:\\users\\affinity\\anaconda3\\lib\\site-packages (from tensorflow-datasets) (2.22.0)\n",
      "Requirement already satisfied: numpy in c:\\users\\affinity\\anaconda3\\lib\\site-packages (from tensorflow-datasets) (1.16.5)\n",
      "Requirement already satisfied: tqdm in c:\\users\\affinity\\anaconda3\\lib\\site-packages (from tensorflow-datasets) (4.36.1)\n",
      "Requirement already satisfied: googleapis-common-protos in c:\\users\\affinity\\anaconda3\\lib\\site-packages (from tensorflow-metadata->tensorflow-datasets) (1.6.0)\n",
      "Requirement already satisfied: setuptools in c:\\users\\affinity\\anaconda3\\lib\\site-packages (from protobuf>=3.6.1->tensorflow-datasets) (41.4.0)\n",
      "Requirement already satisfied: chardet<3.1.0,>=3.0.2 in c:\\users\\affinity\\anaconda3\\lib\\site-packages (from requests>=2.19.0->tensorflow-datasets) (3.0.4)\n",
      "Requirement already satisfied: idna<2.9,>=2.5 in c:\\users\\affinity\\anaconda3\\lib\\site-packages (from requests>=2.19.0->tensorflow-datasets) (2.8)\n",
      "Requirement already satisfied: urllib3!=1.25.0,!=1.25.1,<1.26,>=1.21.1 in c:\\users\\affinity\\anaconda3\\lib\\site-packages (from requests>=2.19.0->tensorflow-datasets) (1.24.2)\n",
      "Requirement already satisfied: certifi>=2017.4.17 in c:\\users\\affinity\\anaconda3\\lib\\site-packages (from requests>=2.19.0->tensorflow-datasets) (2019.9.11)\n"
     ]
    }
   ],
   "source": [
    "!pip install tensorflow-datasets"
   ]
  },
  {
   "cell_type": "code",
   "execution_count": 2,
   "metadata": {},
   "outputs": [
    {
     "name": "stdout",
     "output_type": "stream",
     "text": [
      "Requirement already up-to-date: pip in c:\\users\\affinity\\anaconda3\\lib\\site-packages (19.3.1)\n"
     ]
    }
   ],
   "source": [
    "!python -m pip install --upgrade pip"
   ]
  },
  {
   "cell_type": "code",
   "execution_count": 3,
   "metadata": {},
   "outputs": [
    {
     "name": "stderr",
     "output_type": "stream",
     "text": [
      "Using TensorFlow backend.\n"
     ]
    }
   ],
   "source": [
    "import tensorflow as tf\n",
    "import tensorflow_datasets as tfds\n",
    "from keras.models import load_model\n",
    "from datetime import datetime\n",
    "#tf.enable_eager_execution()"
   ]
  },
  {
   "cell_type": "code",
   "execution_count": 4,
   "metadata": {},
   "outputs": [],
   "source": [
    "train_data = tfds.load(name='cifar10:3.*.*', split='train[:80%]', as_supervised=True)\n",
    "valid_data = tfds.load(name='cifar10:3.*.*', split='train[80%:]', as_supervised=True)\n",
    "test_data = tfds.load(name='cifar10:3.*.*', split='test', as_supervised=True)"
   ]
  },
  {
   "cell_type": "code",
   "execution_count": 5,
   "metadata": {},
   "outputs": [
    {
     "name": "stdout",
     "output_type": "stream",
     "text": [
      "Model: \"sequential\"\n",
      "_________________________________________________________________\n",
      "Layer (type)                 Output Shape              Param #   \n",
      "=================================================================\n",
      "conv2d (Conv2D)              (None, 32, 32, 128)       3584      \n",
      "_________________________________________________________________\n",
      "batch_normalization (BatchNo (None, 32, 32, 128)       512       \n",
      "_________________________________________________________________\n",
      "max_pooling2d (MaxPooling2D) (None, 16, 16, 128)       0         \n",
      "_________________________________________________________________\n",
      "conv2d_1 (Conv2D)            (None, 16, 16, 256)       295168    \n",
      "_________________________________________________________________\n",
      "conv2d_2 (Conv2D)            (None, 16, 16, 256)       590080    \n",
      "_________________________________________________________________\n",
      "batch_normalization_1 (Batch (None, 16, 16, 256)       1024      \n",
      "_________________________________________________________________\n",
      "max_pooling2d_1 (MaxPooling2 (None, 8, 8, 256)         0         \n",
      "_________________________________________________________________\n",
      "dropout (Dropout)            (None, 8, 8, 256)         0         \n",
      "_________________________________________________________________\n",
      "conv2d_3 (Conv2D)            (None, 8, 8, 512)         1180160   \n",
      "_________________________________________________________________\n",
      "conv2d_4 (Conv2D)            (None, 8, 8, 512)         2359808   \n",
      "_________________________________________________________________\n",
      "batch_normalization_2 (Batch (None, 8, 8, 512)         2048      \n",
      "_________________________________________________________________\n",
      "max_pooling2d_2 (MaxPooling2 (None, 4, 4, 512)         0         \n",
      "_________________________________________________________________\n",
      "flatten (Flatten)            (None, 8192)              0         \n",
      "_________________________________________________________________\n",
      "dropout_1 (Dropout)          (None, 8192)              0         \n",
      "_________________________________________________________________\n",
      "dense (Dense)                (None, 10)                81930     \n",
      "=================================================================\n",
      "Total params: 4,514,314\n",
      "Trainable params: 4,512,522\n",
      "Non-trainable params: 1,792\n",
      "_________________________________________________________________\n"
     ]
    }
   ],
   "source": [
    "model = tf.keras.Sequential([\n",
    "    tf.keras.layers.Conv2D(128, 3, activation='relu', padding='same', input_shape=(32, 32, 3)),\n",
    "    tf.keras.layers.BatchNormalization(),  # Gradient Vanishing / Gradient Exploding 이 일어나지 않도록 하는 아이디어 중의 하나이다\n",
    "    tf.keras.layers.MaxPooling2D(),\n",
    "    tf.keras.layers.Conv2D(256, 3, activation='relu', padding='same'),\n",
    "    tf.keras.layers.Conv2D(256, 3, activation='relu', padding='same'),\n",
    "    tf.keras.layers.BatchNormalization(),\n",
    "    tf.keras.layers.MaxPooling2D(),\n",
    "    tf.keras.layers.Dropout(0.4),\n",
    "    tf.keras.layers.Conv2D(512, 3, activation='relu', padding='same'),\n",
    "    tf.keras.layers.Conv2D(512, 3, activation='relu', padding='same'),\n",
    "    tf.keras.layers.BatchNormalization(),\n",
    "    tf.keras.layers.MaxPooling2D(),\n",
    "    tf.keras.layers.Flatten(),\n",
    "    tf.keras.layers.Dropout(0.4),\n",
    "    tf.keras.layers.Dense(10, activation='softmax')\n",
    "    \n",
    "])\n",
    "model.summary()"
   ]
  },
  {
   "cell_type": "code",
   "execution_count": 6,
   "metadata": {},
   "outputs": [],
   "source": [
    "model.compile(optimizer='adam',\n",
    "              loss='sparse_categorical_crossentropy',\n",
    "              metrics=['accuracy'])"
   ]
  },
  {
   "cell_type": "code",
   "execution_count": 7,
   "metadata": {},
   "outputs": [],
   "source": [
    "def scale(image, label):\n",
    "    image = tf.cast(image, tf.float32)\n",
    "    image /= 255\n",
    "    return image, label\n",
    "\n",
    "train_data = train_data.map(scale).shuffle(50000).repeat(2).batch(64) \n",
    "valid_data = valid_data.map(scale).batch(64)\n",
    "test_data = test_data.map(scale).batch(64)"
   ]
  },
  {
   "cell_type": "code",
   "execution_count": 8,
   "metadata": {},
   "outputs": [],
   "source": [
    "dt = datetime.now().strftime('%Y%m%d-%H%M%S')\n",
    "\n",
    "cp_callback = tf.keras.callbacks.ModelCheckpoint(   \n",
    "    'checkpoints/{}.hdf5'.format(dt),\n",
    "    monitor='val_accuracy',\n",
    "    save_best_only=True)"
   ]
  },
  {
   "cell_type": "code",
   "execution_count": 9,
   "metadata": {},
   "outputs": [],
   "source": [
    "class MyCallback(tf.keras.callbacks.Callback):\n",
    "\n",
    "    def on_epoch_start(self, epoch, logs=None):\n",
    "        print('Epoch {} begins at {}: {}'.format(epoch, datetime.now().time(), logs))\n",
    "\n",
    "    def on_epoch_end(self, epoch, logs=None):\n",
    "        print('Epoch {} ends at {}: {}'.format(epoch, datetime.now().time(), logs))"
   ]
  },
  {
   "cell_type": "code",
   "execution_count": 10,
   "metadata": {},
   "outputs": [
    {
     "name": "stdout",
     "output_type": "stream",
     "text": [
      "Epoch 0 ends at 14:59:03.791560: {'loss': 2.2424725415229796, 'accuracy': 0.4693375, 'val_loss': 1.5933529810540994, 'val_accuracy': 0.5259}\n",
      "Epoch 1 ends at 15:01:00.132993: {'loss': 1.6416354302883147, 'accuracy': 0.6219, 'val_loss': 2.048162074605371, 'val_accuracy': 0.475}\n",
      "Epoch 2 ends at 15:03:01.021586: {'loss': 1.1950815812826157, 'accuracy': 0.683, 'val_loss': 1.0784382744199912, 'val_accuracy': 0.7088}\n",
      "Epoch 3 ends at 15:05:03.332844: {'loss': 0.8296974552631378, 'accuracy': 0.7527375, 'val_loss': 0.854839674416621, 'val_accuracy': 0.727}\n",
      "Epoch 4 ends at 15:07:06.897081: {'loss': 0.5881182085990906, 'accuracy': 0.807225, 'val_loss': 0.9539957843768369, 'val_accuracy': 0.7024}\n",
      "Epoch 5 ends at 15:09:15.271034: {'loss': 0.4238888278543949, 'accuracy': 0.8546125, 'val_loss': 0.7556287970892184, 'val_accuracy': 0.7665}\n",
      "Epoch 6 ends at 15:11:26.228374: {'loss': 0.31840539776086807, 'accuracy': 0.8894875, 'val_loss': 0.7997205697806777, 'val_accuracy': 0.7675}\n",
      "Epoch 7 ends at 15:13:35.204910: {'loss': 0.24283930542469023, 'accuracy': 0.9146375, 'val_loss': 0.8513972334041717, 'val_accuracy': 0.7785}\n",
      "Epoch 8 ends at 15:15:43.008736: {'loss': 0.2007749275073409, 'accuracy': 0.93085, 'val_loss': 0.9481602800879508, 'val_accuracy': 0.771}\n",
      "Epoch 9 ends at 15:17:52.684374: {'loss': 0.17575013177543877, 'accuracy': 0.9393625, 'val_loss': 0.9020461852003814, 'val_accuracy': 0.7798}\n",
      "Epoch 10 ends at 15:20:02.838976: {'loss': 0.14770519599467516, 'accuracy': 0.9487, 'val_loss': 0.8278105408902381, 'val_accuracy': 0.807}\n",
      "Epoch 11 ends at 15:22:13.524864: {'loss': 0.12600274617820978, 'accuracy': 0.9567875, 'val_loss': 0.8249250336247644, 'val_accuracy': 0.8126}\n",
      "Epoch 12 ends at 15:24:24.175932: {'loss': 0.11493868602514266, 'accuracy': 0.9606625, 'val_loss': 0.9568208941988124, 'val_accuracy': 0.7926}\n",
      "Epoch 13 ends at 15:26:35.281823: {'loss': 0.09951619084328413, 'accuracy': 0.9662625, 'val_loss': 0.9387061389008905, 'val_accuracy': 0.8105}\n",
      "Epoch 14 ends at 15:28:47.203221: {'loss': 0.09541620288826526, 'accuracy': 0.9674375, 'val_loss': 1.0944787869407873, 'val_accuracy': 0.7799}\n",
      "Epoch 15 ends at 15:30:59.644348: {'loss': 0.09501177876591682, 'accuracy': 0.9676875, 'val_loss': 1.0048030825557224, 'val_accuracy': 0.7898}\n",
      "Epoch 16 ends at 15:33:12.312327: {'loss': 0.08154696668370161, 'accuracy': 0.9721, 'val_loss': 0.8783682220301051, 'val_accuracy': 0.8146}\n",
      "Epoch 17 ends at 15:35:24.428323: {'loss': 0.0792620111502707, 'accuracy': 0.9734125, 'val_loss': 0.8394238364164996, 'val_accuracy': 0.8104}\n",
      "Epoch 18 ends at 15:37:36.554115: {'loss': 0.07342133330665529, 'accuracy': 0.9749125, 'val_loss': 0.9627902775433412, 'val_accuracy': 0.8082}\n",
      "Epoch 19 ends at 15:39:48.950503: {'loss': 0.06579998664138839, 'accuracy': 0.9772875, 'val_loss': 1.040432912908542, 'val_accuracy': 0.8026}\n"
     ]
    }
   ],
   "source": [
    "history = model.fit(train_data,\n",
    "                    epochs=20,\n",
    "                    validation_data=valid_data,\n",
    "                    verbose=0,\n",
    "                    callbacks=[cp_callback, MyCallback()])"
   ]
  },
  {
   "cell_type": "code",
   "execution_count": 11,
   "metadata": {
    "scrolled": true
   },
   "outputs": [
    {
     "name": "stdout",
     "output_type": "stream",
     "text": [
      "157/157 [==============================].4107 - accuracy: 0.87 - 0s 62ms/step - loss: 0.7575 - accuracy: 0.85 - 0s 59ms/step - loss: 0.9407 - accuracy: 0.83 - 0s 56ms/step - loss: 0.9192 - accuracy: 0.85 - 0s 54ms/step - loss: 0.8695 - accuracy: 0.85 - 0s 53ms/step - loss: 0.8296 - accuracy: 0.85 - 0s 51ms/step - loss: 0.8344 - accuracy: 0.85 - 0s 49ms/step - loss: 0.8747 - accuracy: 0.84 - 0s 48ms/step - loss: 0.8661 - accuracy: 0.83 - 0s 48ms/step - loss: 0.8709 - accuracy: 0.83 - 1s 48ms/step - loss: 0.8356 - accuracy: 0.83 - 1s 48ms/step - loss: 0.8566 - accuracy: 0.82 - 1s 47ms/step - loss: 0.8879 - accuracy: 0.81 - 1s 48ms/step - loss: 0.8783 - accuracy: 0.81 - 1s 48ms/step - loss: 0.8705 - accuracy: 0.81 - 1s 48ms/step - loss: 0.8979 - accuracy: 0.81 - 1s 47ms/step - loss: 0.8942 - accuracy: 0.81 - 1s 47ms/step - loss: 0.9330 - accuracy: 0.80 - 1s 47ms/step - loss: 0.9085 - accuracy: 0.81 - 1s 46ms/step - loss: 0.9175 - accuracy: 0.81 - 1s 46ms/step - loss: 0.9083 - accuracy: 0.81 - 1s 46ms/step - loss: 0.9137 - accuracy: 0.81 - 1s 46ms/step - loss: 0.8995 - accuracy: 0.81 - 1s 46ms/step - loss: 0.9115 - accuracy: 0.81 - 1s 45ms/step - loss: 0.9047 - accuracy: 0.81 - 1s 45ms/step - loss: 0.9103 - accuracy: 0.81 - 1s 45ms/step - loss: 0.9220 - accuracy: 0.81 - 1s 45ms/step - loss: 0.9168 - accuracy: 0.81 - 1s 45ms/step - loss: 0.9146 - accuracy: 0.80 - 1s 45ms/step - loss: 0.9152 - accuracy: 0.80 - 1s 45ms/step - loss: 0.9086 - accuracy: 0.81 - 1s 44ms/step - loss: 0.8956 - accuracy: 0.81 - 1s 44ms/step - loss: 0.9213 - accuracy: 0.81 - 2s 45ms/step - loss: 0.9166 - accuracy: 0.81 - 2s 45ms/step - loss: 0.9187 - accuracy: 0.81 - 2s 45ms/step - loss: 0.9136 - accuracy: 0.81 - 2s 45ms/step - loss: 0.9137 - accuracy: 0.81 - 2s 45ms/step - loss: 0.9369 - accuracy: 0.81 - 2s 45ms/step - loss: 0.9392 - accuracy: 0.81 - 2s 45ms/step - loss: 0.9459 - accuracy: 0.81 - 2s 45ms/step - loss: 0.9532 - accuracy: 0.81 - 2s 45ms/step - loss: 0.9561 - accuracy: 0.81 - 2s 45ms/step - loss: 0.9639 - accuracy: 0.81 - 2s 45ms/step - loss: 0.9758 - accuracy: 0.81 - 2s 45ms/step - loss: 0.9656 - accuracy: 0.81 - 2s 45ms/step - loss: 0.9635 - accuracy: 0.81 - 2s 45ms/step - loss: 0.9631 - accuracy: 0.81 - 2s 44ms/step - loss: 0.9580 - accuracy: 0.81 - 2s 44ms/step - loss: 0.9667 - accuracy: 0.81 - 2s 44ms/step - loss: 0.9630 - accuracy: 0.81 - 2s 44ms/step - loss: 0.9702 - accuracy: 0.81 - 2s 44ms/step - loss: 0.9816 - accuracy: 0.81 - 2s 44ms/step - loss: 0.9923 - accuracy: 0.81 - 2s 44ms/step - loss: 0.9953 - accuracy: 0.81 - 2s 44ms/step - loss: 0.9957 - accuracy: 0.80 - 2s 44ms/step - loss: 0.9991 - accuracy: 0.80 - 3s 44ms/step - loss: 0.9945 - accuracy: 0.80 - 3s 44ms/step - loss: 0.9922 - accuracy: 0.80 - 3s 44ms/step - loss: 0.9864 - accuracy: 0.81 - 3s 44ms/step - loss: 0.9852 - accuracy: 0.80 - 3s 44ms/step - loss: 0.9802 - accuracy: 0.81 - 3s 44ms/step - loss: 0.9862 - accuracy: 0.80 - 3s 44ms/step - loss: 0.9887 - accuracy: 0.80 - 3s 44ms/step - loss: 0.9929 - accuracy: 0.80 - 3s 44ms/step - loss: 1.0017 - accuracy: 0.80 - 3s 44ms/step - loss: 1.0083 - accuracy: 0.80 - 3s 44ms/step - loss: 1.0173 - accuracy: 0.80 - 3s 44ms/step - loss: 1.0276 - accuracy: 0.80 - 3s 44ms/step - loss: 1.0276 - accuracy: 0.80 - 3s 44ms/step - loss: 1.0240 - accuracy: 0.80 - 3s 44ms/step - loss: 1.0260 - accuracy: 0.80 - 3s 44ms/step - loss: 1.0364 - accuracy: 0.80 - 3s 44ms/step - loss: 1.0423 - accuracy: 0.80 - 3s 44ms/step - loss: 1.0404 - accuracy: 0.80 - 3s 44ms/step - loss: 1.0392 - accuracy: 0.80 - 3s 44ms/step - loss: 1.0346 - accuracy: 0.80 - 3s 44ms/step - loss: 1.0334 - accuracy: 0.80 - 3s 44ms/step - loss: 1.0321 - accuracy: 0.80 - 3s 44ms/step - loss: 1.0264 - accuracy: 0.80 - 4s 44ms/step - loss: 1.0280 - accuracy: 0.80 - 4s 44ms/step - loss: 1.0311 - accuracy: 0.80 - 4s 44ms/step - loss: 1.0284 - accuracy: 0.80 - 4s 44ms/step - loss: 1.0275 - accuracy: 0.80 - 4s 44ms/step - loss: 1.0248 - accuracy: 0.80 - 4s 44ms/step - loss: 1.0322 - accuracy: 0.80 - 4s 44ms/step - loss: 1.0366 - accuracy: 0.80 - 4s 44ms/step - loss: 1.0346 - accuracy: 0.80 - 4s 44ms/step - loss: 1.0320 - accuracy: 0.80 - 4s 44ms/step - loss: 1.0295 - accuracy: 0.80 - 4s 44ms/step - loss: 1.0324 - accuracy: 0.80 - 4s 44ms/step - loss: 1.0299 - accuracy: 0.80 - 4s 44ms/step - loss: 1.0361 - accuracy: 0.80 - 4s 44ms/step - loss: 1.0369 - accuracy: 0.80 - 4s 44ms/step - loss: 1.0420 - accuracy: 0.80 - 4s 44ms/step - loss: 1.0476 - accuracy: 0.80 - 4s 44ms/step - loss: 1.0528 - accuracy: 0.80 - 4s 44ms/step - loss: 1.0599 - accuracy: 0.80 - 4s 44ms/step - loss: 1.0602 - accuracy: 0.80 - 4s 44ms/step - loss: 1.0548 - accuracy: 0.80 - 4s 44ms/step - loss: 1.0560 - accuracy: 0.80 - 4s 44ms/step - loss: 1.0614 - accuracy: 0.80 - 5s 44ms/step - loss: 1.0591 - accuracy: 0.80 - 5s 44ms/step - loss: 1.0590 - accuracy: 0.80 - 5s 44ms/step - loss: 1.0617 - accuracy: 0.80 - 5s 44ms/step - loss: 1.0610 - accuracy: 0.80 - 5s 44ms/step - loss: 1.0586 - accuracy: 0.80 - 5s 44ms/step - loss: 1.0609 - accuracy: 0.79 - 5s 44ms/step - loss: 1.0602 - accuracy: 0.79 - 5s 44ms/step - loss: 1.0653 - accuracy: 0.79 - 5s 44ms/step - loss: 1.0699 - accuracy: 0.79 - 5s 44ms/step - loss: 1.0660 - accuracy: 0.79 - 5s 44ms/step - loss: 1.0669 - accuracy: 0.79 - 5s 44ms/step - loss: 1.0690 - accuracy: 0.79 - 5s 44ms/step - loss: 1.0663 - accuracy: 0.79 - 5s 44ms/step - loss: 1.0662 - accuracy: 0.79 - 5s 44ms/step - loss: 1.0663 - accuracy: 0.79 - 5s 44ms/step - loss: 1.0641 - accuracy: 0.79 - 5s 44ms/step - loss: 1.0671 - accuracy: 0.79 - 5s 44ms/step - loss: 1.0636 - accuracy: 0.79 - 5s 44ms/step - loss: 1.0664 - accuracy: 0.79 - 5s 44ms/step - loss: 1.0661 - accuracy: 0.79 - 5s 44ms/step - loss: 1.0640 - accuracy: 0.79 - 5s 44ms/step - loss: 1.0615 - accuracy: 0.79 - 5s 44ms/step - loss: 1.0604 - accuracy: 0.79 - 6s 44ms/step - loss: 1.0595 - accuracy: 0.79 - 6s 44ms/step - loss: 1.0581 - accuracy: 0.79 - 6s 44ms/step - loss: 1.0594 - accuracy: 0.79 - 6s 44ms/step - loss: 1.0582 - accuracy: 0.79 - 6s 44ms/step - loss: 1.0620 - accuracy: 0.79 - 6s 44ms/step - loss: 1.0570 - accuracy: 0.79 - 6s 44ms/step - loss: 1.0529 - accuracy: 0.79 - 6s 44ms/step - loss: 1.0514 - accuracy: 0.79 - 6s 44ms/step - loss: 1.0487 - accuracy: 0.80 - 6s 44ms/step - loss: 1.0502 - accuracy: 0.80 - 6s 44ms/step - loss: 1.0492 - accuracy: 0.80 - 6s 44ms/step - loss: 1.0513 - accuracy: 0.80 - 6s 44ms/step - loss: 1.0506 - accuracy: 0.79 - 6s 44ms/step - loss: 1.0507 - accuracy: 0.80 - 6s 44ms/step - loss: 1.0531 - accuracy: 0.80 - 6s 44ms/step - loss: 1.0492 - accuracy: 0.80 - 6s 44ms/step - loss: 1.0495 - accuracy: 0.80 - 6s 44ms/step - loss: 1.0506 - accuracy: 0.80 - 6s 44ms/step - loss: 1.0493 - accuracy: 0.80 - 6s 44ms/step - loss: 1.0472 - accuracy: 0.80 - 6s 44ms/step - loss: 1.0446 - accuracy: 0.80 - 6s 44ms/step - loss: 1.0456 - accuracy: 0.80 - 6s 44ms/step - loss: 1.0449 - accuracy: 0.80 - 7s 44ms/step - loss: 1.0427 - accuracy: 0.80 - 7s 44ms/step - loss: 1.0461 - accuracy: 0.79 - 7s 44ms/step - loss: 1.0462 - accuracy: 0.79 - 7s 44ms/step - loss: 1.0444 - accuracy: 0.79 - 7s 44ms/step - loss: 1.0433 - accuracy: 0.80 - 7s 44ms/step - loss: 1.0450 - accuracy: 0.79 - 7s 44ms/step - loss: 1.0470 - accuracy: 0.79 - 7s 44ms/step - loss: 1.0451 - accuracy: 0.80 - 7s 44ms/step - loss: 1.0496 - accuracy: 0.80 - 7s 44ms/step - loss: 1.0498 - accuracy: 0.80 - 7s 46ms/step - loss: 1.0498 - accuracy: 0.8001\n"
     ]
    },
    {
     "data": {
      "text/plain": [
       "[1.0497843628856027, 0.8001]"
      ]
     },
     "execution_count": 11,
     "metadata": {},
     "output_type": "execute_result"
    }
   ],
   "source": [
    "model.evaluate(test_data)"
   ]
  },
  {
   "cell_type": "code",
   "execution_count": 12,
   "metadata": {},
   "outputs": [],
   "source": [
    "m = tf.keras.models.load_model('checkpoints/{}.hdf5'.format(dt))"
   ]
  },
  {
   "cell_type": "code",
   "execution_count": null,
   "metadata": {},
   "outputs": [],
   "source": []
  }
 ],
 "metadata": {
  "kernelspec": {
   "display_name": "Python 3",
   "language": "python",
   "name": "python3"
  },
  "language_info": {
   "codemirror_mode": {
    "name": "ipython",
    "version": 3
   },
   "file_extension": ".py",
   "mimetype": "text/x-python",
   "name": "python",
   "nbconvert_exporter": "python",
   "pygments_lexer": "ipython3",
   "version": "3.6.9"
  }
 },
 "nbformat": 4,
 "nbformat_minor": 2
}
