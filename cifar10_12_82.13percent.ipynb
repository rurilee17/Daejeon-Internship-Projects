{
 "cells": [
  {
   "cell_type": "code",
   "execution_count": 1,
   "metadata": {},
   "outputs": [
    {
     "name": "stdout",
     "output_type": "stream",
     "text": [
      "Requirement already satisfied: tensorflow-datasets in c:\\users\\affinity\\anaconda3\\lib\\site-packages (1.3.0)\n",
      "Requirement already satisfied: termcolor in c:\\users\\affinity\\anaconda3\\lib\\site-packages (from tensorflow-datasets) (1.1.0)\n",
      "Requirement already satisfied: numpy in c:\\users\\affinity\\anaconda3\\lib\\site-packages (from tensorflow-datasets) (1.16.5)\n",
      "Requirement already satisfied: tqdm in c:\\users\\affinity\\anaconda3\\lib\\site-packages (from tensorflow-datasets) (4.36.1)\n",
      "Requirement already satisfied: tensorflow-metadata in c:\\users\\affinity\\anaconda3\\lib\\site-packages (from tensorflow-datasets) (0.15.0)\n",
      "Requirement already satisfied: wrapt in c:\\users\\affinity\\anaconda3\\lib\\site-packages (from tensorflow-datasets) (1.11.2)\n",
      "Requirement already satisfied: attrs in c:\\users\\affinity\\anaconda3\\lib\\site-packages (from tensorflow-datasets) (19.3.0)\n",
      "Requirement already satisfied: absl-py in c:\\users\\affinity\\anaconda3\\lib\\site-packages (from tensorflow-datasets) (0.8.0)\n",
      "Requirement already satisfied: requests>=2.19.0 in c:\\users\\affinity\\anaconda3\\lib\\site-packages (from tensorflow-datasets) (2.22.0)\n",
      "Requirement already satisfied: future in c:\\users\\affinity\\anaconda3\\lib\\site-packages (from tensorflow-datasets) (0.17.1)\n",
      "Requirement already satisfied: dill in c:\\users\\affinity\\anaconda3\\lib\\site-packages (from tensorflow-datasets) (0.3.1.1)\n",
      "Requirement already satisfied: promise in c:\\users\\affinity\\anaconda3\\lib\\site-packages (from tensorflow-datasets) (2.2.1)\n",
      "Requirement already satisfied: six in c:\\users\\affinity\\anaconda3\\lib\\site-packages (from tensorflow-datasets) (1.12.0)\n",
      "Requirement already satisfied: protobuf>=3.6.1 in c:\\users\\affinity\\anaconda3\\lib\\site-packages (from tensorflow-datasets) (3.9.2)\n",
      "Requirement already satisfied: googleapis-common-protos in c:\\users\\affinity\\anaconda3\\lib\\site-packages (from tensorflow-metadata->tensorflow-datasets) (1.6.0)\n",
      "Requirement already satisfied: idna<2.9,>=2.5 in c:\\users\\affinity\\anaconda3\\lib\\site-packages (from requests>=2.19.0->tensorflow-datasets) (2.8)\n",
      "Requirement already satisfied: certifi>=2017.4.17 in c:\\users\\affinity\\anaconda3\\lib\\site-packages (from requests>=2.19.0->tensorflow-datasets) (2019.9.11)\n",
      "Requirement already satisfied: chardet<3.1.0,>=3.0.2 in c:\\users\\affinity\\anaconda3\\lib\\site-packages (from requests>=2.19.0->tensorflow-datasets) (3.0.4)\n",
      "Requirement already satisfied: urllib3!=1.25.0,!=1.25.1,<1.26,>=1.21.1 in c:\\users\\affinity\\anaconda3\\lib\\site-packages (from requests>=2.19.0->tensorflow-datasets) (1.24.2)\n",
      "Requirement already satisfied: setuptools in c:\\users\\affinity\\anaconda3\\lib\\site-packages (from protobuf>=3.6.1->tensorflow-datasets) (41.4.0)\n"
     ]
    }
   ],
   "source": [
    "!pip install tensorflow-datasets"
   ]
  },
  {
   "cell_type": "code",
   "execution_count": 2,
   "metadata": {},
   "outputs": [
    {
     "name": "stdout",
     "output_type": "stream",
     "text": [
      "Requirement already up-to-date: pip in c:\\users\\affinity\\anaconda3\\lib\\site-packages (19.3.1)\n"
     ]
    }
   ],
   "source": [
    "!python -m pip install --upgrade pip"
   ]
  },
  {
   "cell_type": "code",
   "execution_count": 3,
   "metadata": {},
   "outputs": [
    {
     "name": "stderr",
     "output_type": "stream",
     "text": [
      "Using TensorFlow backend.\n"
     ]
    }
   ],
   "source": [
    "import tensorflow as tf\n",
    "import tensorflow_datasets as tfds\n",
    "from keras.models import load_model\n",
    "from datetime import datetime\n",
    "#tf.enable_eager_execution()"
   ]
  },
  {
   "cell_type": "code",
   "execution_count": 4,
   "metadata": {},
   "outputs": [],
   "source": [
    "train_data = tfds.load(name='cifar10:3.*.*', split='train[:80%]', as_supervised=True)\n",
    "valid_data = tfds.load(name='cifar10:3.*.*', split='train[80%:]', as_supervised=True)\n",
    "test_data = tfds.load(name='cifar10:3.*.*', split='test', as_supervised=True)"
   ]
  },
  {
   "cell_type": "code",
   "execution_count": 5,
   "metadata": {},
   "outputs": [
    {
     "name": "stdout",
     "output_type": "stream",
     "text": [
      "Model: \"sequential\"\n",
      "_________________________________________________________________\n",
      "Layer (type)                 Output Shape              Param #   \n",
      "=================================================================\n",
      "conv2d (Conv2D)              (None, 32, 32, 128)       3584      \n",
      "_________________________________________________________________\n",
      "batch_normalization (BatchNo (None, 32, 32, 128)       512       \n",
      "_________________________________________________________________\n",
      "max_pooling2d (MaxPooling2D) (None, 16, 16, 128)       0         \n",
      "_________________________________________________________________\n",
      "conv2d_1 (Conv2D)            (None, 16, 16, 256)       295168    \n",
      "_________________________________________________________________\n",
      "conv2d_2 (Conv2D)            (None, 16, 16, 256)       590080    \n",
      "_________________________________________________________________\n",
      "batch_normalization_1 (Batch (None, 16, 16, 256)       1024      \n",
      "_________________________________________________________________\n",
      "max_pooling2d_1 (MaxPooling2 (None, 8, 8, 256)         0         \n",
      "_________________________________________________________________\n",
      "dropout (Dropout)            (None, 8, 8, 256)         0         \n",
      "_________________________________________________________________\n",
      "conv2d_3 (Conv2D)            (None, 8, 8, 512)         1180160   \n",
      "_________________________________________________________________\n",
      "conv2d_4 (Conv2D)            (None, 8, 8, 512)         2359808   \n",
      "_________________________________________________________________\n",
      "batch_normalization_2 (Batch (None, 8, 8, 512)         2048      \n",
      "_________________________________________________________________\n",
      "max_pooling2d_2 (MaxPooling2 (None, 4, 4, 512)         0         \n",
      "_________________________________________________________________\n",
      "flatten (Flatten)            (None, 8192)              0         \n",
      "_________________________________________________________________\n",
      "dropout_1 (Dropout)          (None, 8192)              0         \n",
      "_________________________________________________________________\n",
      "dense (Dense)                (None, 10)                81930     \n",
      "=================================================================\n",
      "Total params: 4,514,314\n",
      "Trainable params: 4,512,522\n",
      "Non-trainable params: 1,792\n",
      "_________________________________________________________________\n"
     ]
    }
   ],
   "source": [
    "model = tf.keras.Sequential([\n",
    "    tf.keras.layers.Conv2D(128, 3, activation='relu', padding='same', input_shape=(32, 32, 3)),\n",
    "    tf.keras.layers.BatchNormalization(),  # Gradient Vanishing / Gradient Exploding 이 일어나지 않도록 하는 아이디어 중의 하나이다\n",
    "    tf.keras.layers.MaxPooling2D(),\n",
    "    tf.keras.layers.Conv2D(256, 3, activation='relu', padding='same'),\n",
    "    tf.keras.layers.Conv2D(256, 3, activation='relu', padding='same'),\n",
    "    tf.keras.layers.BatchNormalization(),\n",
    "    tf.keras.layers.MaxPooling2D(),\n",
    "    tf.keras.layers.Dropout(0.4),\n",
    "    tf.keras.layers.Conv2D(512, 3, activation='relu', padding='same'),\n",
    "    tf.keras.layers.Conv2D(512, 3, activation='relu', padding='same'),\n",
    "    tf.keras.layers.BatchNormalization(),\n",
    "    tf.keras.layers.MaxPooling2D(),\n",
    "    tf.keras.layers.Flatten(),\n",
    "    tf.keras.layers.Dropout(0.4),\n",
    "    tf.keras.layers.Dense(10, activation='softmax')\n",
    "    \n",
    "])\n",
    "model.summary()"
   ]
  },
  {
   "cell_type": "code",
   "execution_count": 6,
   "metadata": {},
   "outputs": [],
   "source": [
    "model.compile(optimizer='adam',\n",
    "              loss='sparse_categorical_crossentropy',\n",
    "              metrics=['accuracy'])"
   ]
  },
  {
   "cell_type": "code",
   "execution_count": 7,
   "metadata": {},
   "outputs": [],
   "source": [
    "def scale(image, label):\n",
    "    image = tf.cast(image, tf.float32)\n",
    "    image /= 255\n",
    "    return image, label\n",
    "\n",
    "train_data = train_data.map(scale).shuffle(50000).repeat(4).batch(64) \n",
    "valid_data = valid_data.map(scale).batch(64)\n",
    "test_data = test_data.map(scale).batch(64)"
   ]
  },
  {
   "cell_type": "code",
   "execution_count": 8,
   "metadata": {},
   "outputs": [],
   "source": [
    "dt = datetime.now().strftime('%Y%m%d-%H%M%S')\n",
    "\n",
    "cp_callback = tf.keras.callbacks.ModelCheckpoint(   \n",
    "    'checkpoints/{}.hdf5'.format(dt),\n",
    "    monitor='val_accuracy',\n",
    "    save_best_only=True)"
   ]
  },
  {
   "cell_type": "code",
   "execution_count": 9,
   "metadata": {},
   "outputs": [],
   "source": [
    "class MyCallback(tf.keras.callbacks.Callback):\n",
    "\n",
    "    def on_epoch_start(self, epoch, logs=None):\n",
    "        print('Epoch {} begins at {}: {}'.format(epoch, datetime.now().time(), logs))\n",
    "\n",
    "    def on_epoch_end(self, epoch, logs=None):\n",
    "        print('Epoch {} ends at {}: {}'.format(epoch, datetime.now().time(), logs))"
   ]
  },
  {
   "cell_type": "code",
   "execution_count": null,
   "metadata": {},
   "outputs": [
    {
     "name": "stdout",
     "output_type": "stream",
     "text": [
      "Epoch 0 ends at 15:46:45.568326: {'loss': 1.7697291528224945, 'accuracy': 0.53484374, 'val_loss': 1.2027355424917427, 'val_accuracy': 0.628}\n",
      "Epoch 1 ends at 15:51:03.498698: {'loss': 0.7630997260689736, 'accuracy': 0.7450125, 'val_loss': 0.8082613088902394, 'val_accuracy': 0.7452}\n",
      "Epoch 2 ends at 15:55:24.503308: {'loss': 0.4699798501133919, 'accuracy': 0.83905625, 'val_loss': 0.7041504145807521, 'val_accuracy': 0.7871}\n",
      "Epoch 3 ends at 15:59:47.980598: {'loss': 0.26791631528884174, 'accuracy': 0.905975, 'val_loss': 0.8049568158046455, 'val_accuracy': 0.7718}\n",
      "Epoch 4 ends at 16:04:11.028283: {'loss': 0.177216804433614, 'accuracy': 0.93741876, 'val_loss': 0.9149952885831237, 'val_accuracy': 0.7809}\n",
      "Epoch 5 ends at 16:08:34.920955: {'loss': 0.13758335811169817, 'accuracy': 0.9516, 'val_loss': 0.9725807786557326, 'val_accuracy': 0.772}\n",
      "Epoch 6 ends at 16:12:57.187201: {'loss': 0.11233932321472094, 'accuracy': 0.9615375, 'val_loss': 0.8714233578010729, 'val_accuracy': 0.7921}\n",
      "Epoch 7 ends at 16:17:20.703758: {'loss': 0.09372592452331446, 'accuracy': 0.9675437, 'val_loss': 0.9327431000342035, 'val_accuracy': 0.8006}\n",
      "Epoch 8 ends at 16:21:43.211548: {'loss': 0.07902276242980734, 'accuracy': 0.97274375, 'val_loss': 0.9555273581841949, 'val_accuracy': 0.8111}\n",
      "Epoch 9 ends at 16:26:07.410662: {'loss': 0.07078592964624986, 'accuracy': 0.975475, 'val_loss': 0.9662770251179956, 'val_accuracy': 0.8106}\n",
      "Epoch 10 ends at 16:30:39.546979: {'loss': 0.06637398265847005, 'accuracy': 0.9777688, 'val_loss': 1.025952830625947, 'val_accuracy': 0.7952}\n",
      "Epoch 11 ends at 16:35:14.059432: {'loss': 0.05728597678769147, 'accuracy': 0.98063123, 'val_loss': 1.0097985682403965, 'val_accuracy': 0.8157}\n",
      "Epoch 12 ends at 16:39:47.961568: {'loss': 0.05534195809043595, 'accuracy': 0.98126876, 'val_loss': 1.0996799355099915, 'val_accuracy': 0.809}\n",
      "Epoch 13 ends at 16:44:15.585164: {'loss': 0.0498323435886763, 'accuracy': 0.983475, 'val_loss': 0.9335795117981115, 'val_accuracy': 0.8248}\n",
      "Epoch 14 ends at 16:48:42.554083: {'loss': 0.04757656799196266, 'accuracy': 0.98396873, 'val_loss': 1.163050972921833, 'val_accuracy': 0.8119}\n",
      "Epoch 15 ends at 16:53:10.007350: {'loss': 0.04352988668293692, 'accuracy': 0.98516876, 'val_loss': 1.0408256623395689, 'val_accuracy': 0.8063}\n",
      "Epoch 16 ends at 16:57:34.506081: {'loss': 0.03988632983735879, 'accuracy': 0.98673123, 'val_loss': 1.0086748920808173, 'val_accuracy': 0.8236}\n",
      "Epoch 17 ends at 17:02:04.051814: {'loss': 0.041200290874112394, 'accuracy': 0.986625, 'val_loss': 1.2219611748008972, 'val_accuracy': 0.7993}\n",
      "Epoch 18 ends at 17:06:40.941552: {'loss': 0.040320573916492866, 'accuracy': 0.986975, 'val_loss': 1.0364529460099092, 'val_accuracy': 0.8316}\n",
      "Epoch 19 ends at 17:11:09.684033: {'loss': 0.034935527479299344, 'accuracy': 0.988325, 'val_loss': 1.3604628542426285, 'val_accuracy': 0.8018}\n",
      "Epoch 20 ends at 17:15:41.683827: {'loss': 0.035476556638562036, 'accuracy': 0.9882625, 'val_loss': 1.0078047922082767, 'val_accuracy': 0.8219}\n",
      "Epoch 21 ends at 17:20:14.388582: {'loss': 0.03324933638436487, 'accuracy': 0.9890375, 'val_loss': 1.0469772477818142, 'val_accuracy': 0.829}\n"
     ]
    }
   ],
   "source": [
    "history = model.fit(train_data,\n",
    "                    epochs=25,\n",
    "                    validation_data=valid_data,\n",
    "                    verbose=0,\n",
    "                    callbacks=[cp_callback, MyCallback()])"
   ]
  },
  {
   "cell_type": "code",
   "execution_count": 13,
   "metadata": {
    "scrolled": true
   },
   "outputs": [
    {
     "name": "stdout",
     "output_type": "stream",
     "text": [
      "157/157 [==============================].8555 - accuracy: 0.81 - 0s 52ms/step - loss: 0.8825 - accuracy: 0.82 - 0s 47ms/step - loss: 1.0508 - accuracy: 0.83 - 0s 44ms/step - loss: 1.0363 - accuracy: 0.82 - 0s 44ms/step - loss: 0.9109 - accuracy: 0.83 - 0s 43ms/step - loss: 0.9308 - accuracy: 0.83 - 0s 42ms/step - loss: 0.9559 - accuracy: 0.83 - 0s 42ms/step - loss: 0.9920 - accuracy: 0.83 - 0s 41ms/step - loss: 0.9350 - accuracy: 0.84 - 0s 41ms/step - loss: 0.9540 - accuracy: 0.84 - 0s 40ms/step - loss: 0.9013 - accuracy: 0.85 - 0s 40ms/step - loss: 0.9295 - accuracy: 0.84 - 1s 40ms/step - loss: 0.9595 - accuracy: 0.83 - 1s 39ms/step - loss: 0.9461 - accuracy: 0.83 - 1s 39ms/step - loss: 0.9248 - accuracy: 0.84 - 1s 39ms/step - loss: 0.9639 - accuracy: 0.83 - 1s 39ms/step - loss: 0.9569 - accuracy: 0.83 - 1s 38ms/step - loss: 0.9801 - accuracy: 0.84 - 1s 38ms/step - loss: 0.9871 - accuracy: 0.83 - 1s 38ms/step - loss: 0.9952 - accuracy: 0.83 - 1s 38ms/step - loss: 0.9617 - accuracy: 0.84 - 1s 38ms/step - loss: 0.9561 - accuracy: 0.84 - 1s 38ms/step - loss: 0.9551 - accuracy: 0.84 - 1s 38ms/step - loss: 0.9654 - accuracy: 0.84 - 1s 38ms/step - loss: 0.9598 - accuracy: 0.84 - 1s 38ms/step - loss: 0.9763 - accuracy: 0.84 - 1s 38ms/step - loss: 0.9786 - accuracy: 0.84 - 1s 38ms/step - loss: 0.9645 - accuracy: 0.84 - 1s 38ms/step - loss: 0.9807 - accuracy: 0.84 - 1s 38ms/step - loss: 0.9804 - accuracy: 0.83 - 1s 38ms/step - loss: 0.9815 - accuracy: 0.83 - 1s 38ms/step - loss: 0.9695 - accuracy: 0.84 - 1s 38ms/step - loss: 1.0024 - accuracy: 0.83 - 1s 38ms/step - loss: 0.9903 - accuracy: 0.83 - 1s 38ms/step - loss: 0.9876 - accuracy: 0.83 - 1s 38ms/step - loss: 0.9960 - accuracy: 0.83 - 1s 38ms/step - loss: 1.0037 - accuracy: 0.83 - 1s 38ms/step - loss: 1.0046 - accuracy: 0.83 - 2s 39ms/step - loss: 1.0066 - accuracy: 0.83 - 2s 39ms/step - loss: 1.0170 - accuracy: 0.83 - 2s 39ms/step - loss: 1.0201 - accuracy: 0.83 - 2s 38ms/step - loss: 1.0255 - accuracy: 0.83 - 2s 38ms/step - loss: 1.0340 - accuracy: 0.83 - 2s 38ms/step - loss: 1.0376 - accuracy: 0.83 - 2s 38ms/step - loss: 1.0304 - accuracy: 0.83 - 2s 38ms/step - loss: 1.0290 - accuracy: 0.83 - 2s 38ms/step - loss: 1.0353 - accuracy: 0.83 - 2s 38ms/step - loss: 1.0391 - accuracy: 0.83 - 2s 38ms/step - loss: 1.0590 - accuracy: 0.82 - 2s 38ms/step - loss: 1.0472 - accuracy: 0.83 - 2s 38ms/step - loss: 1.0595 - accuracy: 0.83 - 2s 38ms/step - loss: 1.0741 - accuracy: 0.82 - 2s 38ms/step - loss: 1.0787 - accuracy: 0.82 - 2s 38ms/step - loss: 1.0857 - accuracy: 0.82 - 2s 38ms/step - loss: 1.0844 - accuracy: 0.82 - 2s 38ms/step - loss: 1.0924 - accuracy: 0.82 - 2s 38ms/step - loss: 1.0952 - accuracy: 0.82 - 2s 38ms/step - loss: 1.0897 - accuracy: 0.82 - 2s 38ms/step - loss: 1.0989 - accuracy: 0.82 - 2s 38ms/step - loss: 1.1009 - accuracy: 0.82 - 2s 38ms/step - loss: 1.0964 - accuracy: 0.82 - 2s 38ms/step - loss: 1.1012 - accuracy: 0.82 - 2s 38ms/step - loss: 1.1018 - accuracy: 0.82 - 2s 38ms/step - loss: 1.1102 - accuracy: 0.82 - 2s 38ms/step - loss: 1.1095 - accuracy: 0.82 - 3s 38ms/step - loss: 1.1085 - accuracy: 0.82 - 3s 38ms/step - loss: 1.1110 - accuracy: 0.82 - 3s 38ms/step - loss: 1.1201 - accuracy: 0.82 - 3s 38ms/step - loss: 1.1125 - accuracy: 0.82 - 3s 38ms/step - loss: 1.1111 - accuracy: 0.82 - 3s 38ms/step - loss: 1.1086 - accuracy: 0.82 - 3s 38ms/step - loss: 1.1172 - accuracy: 0.81 - 3s 38ms/step - loss: 1.1356 - accuracy: 0.81 - 3s 38ms/step - loss: 1.1323 - accuracy: 0.81 - 3s 38ms/step - loss: 1.1306 - accuracy: 0.81 - 3s 38ms/step - loss: 1.1281 - accuracy: 0.81 - 3s 38ms/step - loss: 1.1235 - accuracy: 0.81 - 3s 38ms/step - loss: 1.1218 - accuracy: 0.81 - 3s 38ms/step - loss: 1.1148 - accuracy: 0.81 - 3s 38ms/step - loss: 1.1099 - accuracy: 0.82 - 3s 38ms/step - loss: 1.1102 - accuracy: 0.82 - 3s 38ms/step - loss: 1.1110 - accuracy: 0.82 - 3s 38ms/step - loss: 1.1117 - accuracy: 0.82 - 3s 38ms/step - loss: 1.1111 - accuracy: 0.81 - 3s 38ms/step - loss: 1.1100 - accuracy: 0.82 - 3s 38ms/step - loss: 1.1152 - accuracy: 0.81 - 3s 38ms/step - loss: 1.1095 - accuracy: 0.82 - 3s 38ms/step - loss: 1.1076 - accuracy: 0.82 - 3s 38ms/step - loss: 1.1053 - accuracy: 0.82 - 3s 38ms/step - loss: 1.1053 - accuracy: 0.81 - 3s 38ms/step - loss: 1.1013 - accuracy: 0.81 - 4s 38ms/step - loss: 1.1012 - accuracy: 0.81 - 4s 38ms/step - loss: 1.0983 - accuracy: 0.81 - 4s 38ms/step - loss: 1.1057 - accuracy: 0.81 - 4s 38ms/step - loss: 1.1121 - accuracy: 0.81 - 4s 38ms/step - loss: 1.1154 - accuracy: 0.81 - 4s 38ms/step - loss: 1.1173 - accuracy: 0.81 - 4s 38ms/step - loss: 1.1144 - accuracy: 0.81 - 4s 38ms/step - loss: 1.1175 - accuracy: 0.81 - 4s 38ms/step - loss: 1.1208 - accuracy: 0.81 - 4s 38ms/step - loss: 1.1299 - accuracy: 0.81 - 4s 38ms/step - loss: 1.1264 - accuracy: 0.81 - 4s 38ms/step - loss: 1.1226 - accuracy: 0.81 - 4s 38ms/step - loss: 1.1274 - accuracy: 0.81 - 4s 38ms/step - loss: 1.1281 - accuracy: 0.81 - 4s 38ms/step - loss: 1.1275 - accuracy: 0.81 - 4s 38ms/step - loss: 1.1304 - accuracy: 0.81 - 4s 38ms/step - loss: 1.1294 - accuracy: 0.81 - 4s 38ms/step - loss: 1.1319 - accuracy: 0.81 - 4s 38ms/step - loss: 1.1353 - accuracy: 0.81 - 4s 38ms/step - loss: 1.1325 - accuracy: 0.81 - 4s 38ms/step - loss: 1.1370 - accuracy: 0.81 - 4s 38ms/step - loss: 1.1432 - accuracy: 0.81 - 4s 38ms/step - loss: 1.1412 - accuracy: 0.81 - 4s 38ms/step - loss: 1.1369 - accuracy: 0.81 - 4s 39ms/step - loss: 1.1405 - accuracy: 0.81 - 4s 38ms/step - loss: 1.1386 - accuracy: 0.81 - 5s 38ms/step - loss: 1.1402 - accuracy: 0.81 - 5s 38ms/step - loss: 1.1331 - accuracy: 0.81 - 5s 38ms/step - loss: 1.1337 - accuracy: 0.81 - 5s 38ms/step - loss: 1.1321 - accuracy: 0.81 - 5s 38ms/step - loss: 1.1336 - accuracy: 0.81 - 5s 38ms/step - loss: 1.1308 - accuracy: 0.81 - 5s 38ms/step - loss: 1.1366 - accuracy: 0.81 - 5s 38ms/step - loss: 1.1332 - accuracy: 0.82 - 5s 38ms/step - loss: 1.1309 - accuracy: 0.82 - 5s 38ms/step - loss: 1.1318 - accuracy: 0.82 - 5s 38ms/step - loss: 1.1262 - accuracy: 0.82 - 5s 38ms/step - loss: 1.1305 - accuracy: 0.82 - 5s 38ms/step - loss: 1.1281 - accuracy: 0.82 - 5s 38ms/step - loss: 1.1234 - accuracy: 0.82 - 5s 38ms/step - loss: 1.1259 - accuracy: 0.82 - 5s 38ms/step - loss: 1.1267 - accuracy: 0.82 - 5s 38ms/step - loss: 1.1252 - accuracy: 0.82 - 5s 38ms/step - loss: 1.1220 - accuracy: 0.82 - 5s 38ms/step - loss: 1.1220 - accuracy: 0.82 - 5s 38ms/step - loss: 1.1222 - accuracy: 0.82 - 5s 38ms/step - loss: 1.1196 - accuracy: 0.82 - 5s 38ms/step - loss: 1.1213 - accuracy: 0.82 - 5s 38ms/step - loss: 1.1179 - accuracy: 0.82 - 5s 38ms/step - loss: 1.1204 - accuracy: 0.82 - 5s 38ms/step - loss: 1.1181 - accuracy: 0.82 - 6s 39ms/step - loss: 1.1202 - accuracy: 0.82 - 6s 39ms/step - loss: 1.1185 - accuracy: 0.82 - 6s 39ms/step - loss: 1.1155 - accuracy: 0.82 - 6s 39ms/step - loss: 1.1154 - accuracy: 0.82 - 6s 39ms/step - loss: 1.1160 - accuracy: 0.81 - 6s 39ms/step - loss: 1.1147 - accuracy: 0.81 - 6s 39ms/step - loss: 1.1134 - accuracy: 0.81 - 6s 39ms/step - loss: 1.1135 - accuracy: 0.81 - 6s 39ms/step - loss: 1.1113 - accuracy: 0.81 - 6s 39ms/step - loss: 1.1099 - accuracy: 0.81 - 6s 39ms/step - loss: 1.1072 - accuracy: 0.82 - 6s 39ms/step - loss: 1.1068 - accuracy: 0.82 - 6s 39ms/step - loss: 1.1029 - accuracy: 0.82 - 6s 39ms/step - loss: 1.1016 - accuracy: 0.82 - 6s 39ms/step - loss: 1.0988 - accuracy: 0.82 - 6s 40ms/step - loss: 1.0988 - accuracy: 0.8213\n"
     ]
    },
    {
     "data": {
      "text/plain": [
       "[1.0988232183987927, 0.8213]"
      ]
     },
     "execution_count": 13,
     "metadata": {},
     "output_type": "execute_result"
    }
   ],
   "source": [
    "model.evaluate(test_data)"
   ]
  },
  {
   "cell_type": "code",
   "execution_count": 14,
   "metadata": {},
   "outputs": [],
   "source": [
    "m = tf.keras.models.load_model('checkpoints/{}.hdf5'.format(dt))"
   ]
  },
  {
   "cell_type": "code",
   "execution_count": null,
   "metadata": {},
   "outputs": [],
   "source": []
  }
 ],
 "metadata": {
  "kernelspec": {
   "display_name": "Python 3",
   "language": "python",
   "name": "python3"
  },
  "language_info": {
   "codemirror_mode": {
    "name": "ipython",
    "version": 3
   },
   "file_extension": ".py",
   "mimetype": "text/x-python",
   "name": "python",
   "nbconvert_exporter": "python",
   "pygments_lexer": "ipython3",
   "version": "3.6.9"
  }
 },
 "nbformat": 4,
 "nbformat_minor": 2
}
