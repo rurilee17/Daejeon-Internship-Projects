{
 "cells": [
  {
   "cell_type": "code",
   "execution_count": 1,
   "metadata": {},
   "outputs": [
    {
     "name": "stdout",
     "output_type": "stream",
     "text": [
      "Requirement already satisfied: tensorflow-datasets in c:\\users\\affinity\\anaconda3\\lib\\site-packages (1.3.0)\n",
      "Requirement already satisfied: protobuf>=3.6.1 in c:\\users\\affinity\\anaconda3\\lib\\site-packages (from tensorflow-datasets) (3.9.2)\n",
      "Requirement already satisfied: numpy in c:\\users\\affinity\\anaconda3\\lib\\site-packages (from tensorflow-datasets) (1.16.5)\n",
      "Requirement already satisfied: termcolor in c:\\users\\affinity\\anaconda3\\lib\\site-packages (from tensorflow-datasets) (1.1.0)\n",
      "Requirement already satisfied: six in c:\\users\\affinity\\anaconda3\\lib\\site-packages (from tensorflow-datasets) (1.12.0)\n",
      "Requirement already satisfied: tensorflow-metadata in c:\\users\\affinity\\anaconda3\\lib\\site-packages (from tensorflow-datasets) (0.15.0)\n",
      "Requirement already satisfied: absl-py in c:\\users\\affinity\\anaconda3\\lib\\site-packages (from tensorflow-datasets) (0.8.0)\n",
      "Requirement already satisfied: attrs in c:\\users\\affinity\\anaconda3\\lib\\site-packages (from tensorflow-datasets) (19.3.0)\n",
      "Requirement already satisfied: tqdm in c:\\users\\affinity\\anaconda3\\lib\\site-packages (from tensorflow-datasets) (4.36.1)\n",
      "Requirement already satisfied: wrapt in c:\\users\\affinity\\anaconda3\\lib\\site-packages (from tensorflow-datasets) (1.11.2)\n",
      "Requirement already satisfied: promise in c:\\users\\affinity\\anaconda3\\lib\\site-packages (from tensorflow-datasets) (2.2.1)\n",
      "Requirement already satisfied: requests>=2.19.0 in c:\\users\\affinity\\anaconda3\\lib\\site-packages (from tensorflow-datasets) (2.22.0)\n",
      "Requirement already satisfied: dill in c:\\users\\affinity\\anaconda3\\lib\\site-packages (from tensorflow-datasets) (0.3.1.1)\n",
      "Requirement already satisfied: future in c:\\users\\affinity\\anaconda3\\lib\\site-packages (from tensorflow-datasets) (0.17.1)\n",
      "Requirement already satisfied: setuptools in c:\\users\\affinity\\anaconda3\\lib\\site-packages (from protobuf>=3.6.1->tensorflow-datasets) (41.4.0)\n",
      "Requirement already satisfied: googleapis-common-protos in c:\\users\\affinity\\anaconda3\\lib\\site-packages (from tensorflow-metadata->tensorflow-datasets) (1.6.0)\n",
      "Requirement already satisfied: idna<2.9,>=2.5 in c:\\users\\affinity\\anaconda3\\lib\\site-packages (from requests>=2.19.0->tensorflow-datasets) (2.8)\n",
      "Requirement already satisfied: chardet<3.1.0,>=3.0.2 in c:\\users\\affinity\\anaconda3\\lib\\site-packages (from requests>=2.19.0->tensorflow-datasets) (3.0.4)\n",
      "Requirement already satisfied: urllib3!=1.25.0,!=1.25.1,<1.26,>=1.21.1 in c:\\users\\affinity\\anaconda3\\lib\\site-packages (from requests>=2.19.0->tensorflow-datasets) (1.24.2)\n",
      "Requirement already satisfied: certifi>=2017.4.17 in c:\\users\\affinity\\anaconda3\\lib\\site-packages (from requests>=2.19.0->tensorflow-datasets) (2019.9.11)\n"
     ]
    }
   ],
   "source": [
    "!pip install tensorflow-datasets"
   ]
  },
  {
   "cell_type": "code",
   "execution_count": 2,
   "metadata": {},
   "outputs": [
    {
     "name": "stdout",
     "output_type": "stream",
     "text": [
      "Requirement already up-to-date: pip in c:\\users\\affinity\\anaconda3\\lib\\site-packages (19.3.1)\n"
     ]
    }
   ],
   "source": [
    "!python -m pip install --upgrade pip"
   ]
  },
  {
   "cell_type": "code",
   "execution_count": 3,
   "metadata": {},
   "outputs": [
    {
     "name": "stderr",
     "output_type": "stream",
     "text": [
      "Using TensorFlow backend.\n"
     ]
    }
   ],
   "source": [
    "import tensorflow as tf\n",
    "import tensorflow_datasets as tfds\n",
    "from keras.models import load_model\n",
    "from datetime import datetime\n",
    "#tf.enable_eager_execution()"
   ]
  },
  {
   "cell_type": "code",
   "execution_count": 4,
   "metadata": {},
   "outputs": [],
   "source": [
    "train_data = tfds.load(name='cifar10:3.*.*', split='train[:80%]', as_supervised=True)\n",
    "valid_data = tfds.load(name='cifar10:3.*.*', split='train[80%:]', as_supervised=True)\n",
    "test_data = tfds.load(name='cifar10:3.*.*', split='test', as_supervised=True)"
   ]
  },
  {
   "cell_type": "code",
   "execution_count": 5,
   "metadata": {},
   "outputs": [
    {
     "name": "stdout",
     "output_type": "stream",
     "text": [
      "Model: \"sequential\"\n",
      "_________________________________________________________________\n",
      "Layer (type)                 Output Shape              Param #   \n",
      "=================================================================\n",
      "conv2d (Conv2D)              (None, 32, 32, 128)       3584      \n",
      "_________________________________________________________________\n",
      "batch_normalization (BatchNo (None, 32, 32, 128)       512       \n",
      "_________________________________________________________________\n",
      "max_pooling2d (MaxPooling2D) (None, 16, 16, 128)       0         \n",
      "_________________________________________________________________\n",
      "conv2d_1 (Conv2D)            (None, 16, 16, 256)       295168    \n",
      "_________________________________________________________________\n",
      "conv2d_2 (Conv2D)            (None, 16, 16, 256)       590080    \n",
      "_________________________________________________________________\n",
      "batch_normalization_1 (Batch (None, 16, 16, 256)       1024      \n",
      "_________________________________________________________________\n",
      "max_pooling2d_1 (MaxPooling2 (None, 8, 8, 256)         0         \n",
      "_________________________________________________________________\n",
      "dropout (Dropout)            (None, 8, 8, 256)         0         \n",
      "_________________________________________________________________\n",
      "conv2d_3 (Conv2D)            (None, 8, 8, 512)         1180160   \n",
      "_________________________________________________________________\n",
      "conv2d_4 (Conv2D)            (None, 8, 8, 512)         2359808   \n",
      "_________________________________________________________________\n",
      "batch_normalization_2 (Batch (None, 8, 8, 512)         2048      \n",
      "_________________________________________________________________\n",
      "max_pooling2d_2 (MaxPooling2 (None, 4, 4, 512)         0         \n",
      "_________________________________________________________________\n",
      "flatten (Flatten)            (None, 8192)              0         \n",
      "_________________________________________________________________\n",
      "dropout_1 (Dropout)          (None, 8192)              0         \n",
      "_________________________________________________________________\n",
      "dense (Dense)                (None, 10)                81930     \n",
      "=================================================================\n",
      "Total params: 4,514,314\n",
      "Trainable params: 4,512,522\n",
      "Non-trainable params: 1,792\n",
      "_________________________________________________________________\n"
     ]
    }
   ],
   "source": [
    "model = tf.keras.Sequential([\n",
    "    tf.keras.layers.Conv2D(128, 3, activation='relu', padding='same', input_shape=(32, 32, 3)),\n",
    "    tf.keras.layers.BatchNormalization(),  # Gradient Vanishing / Gradient Exploding 이 일어나지 않도록 하는 아이디어 중의 하나이다\n",
    "    tf.keras.layers.MaxPooling2D(),\n",
    "    tf.keras.layers.Conv2D(256, 3, activation='relu', padding='same'),\n",
    "    tf.keras.layers.Conv2D(256, 3, activation='relu', padding='same'),\n",
    "    tf.keras.layers.BatchNormalization(),\n",
    "    tf.keras.layers.MaxPooling2D(),\n",
    "    tf.keras.layers.Dropout(0.4),\n",
    "    tf.keras.layers.Conv2D(512, 3, activation='relu', padding='same'),\n",
    "    tf.keras.layers.Conv2D(512, 3, activation='relu', padding='same'),\n",
    "    tf.keras.layers.BatchNormalization(),\n",
    "    tf.keras.layers.MaxPooling2D(),\n",
    "    tf.keras.layers.Flatten(),\n",
    "    tf.keras.layers.Dropout(0.4),\n",
    "    tf.keras.layers.Dense(10, activation='softmax', bias_regularizer=tf.keras.regularizers.l2(0.01))\n",
    "    \n",
    "])\n",
    "model.summary()"
   ]
  },
  {
   "cell_type": "code",
   "execution_count": 6,
   "metadata": {},
   "outputs": [],
   "source": [
    "model.compile(optimizer='adam',\n",
    "              loss='sparse_categorical_crossentropy',\n",
    "              metrics=['accuracy'])"
   ]
  },
  {
   "cell_type": "code",
   "execution_count": 7,
   "metadata": {},
   "outputs": [],
   "source": [
    "def scale(image, label):\n",
    "    image = tf.cast(image, tf.float32)\n",
    "    image /= 255\n",
    "    return image, label\n",
    "\n",
    "train_data = train_data.map(scale).shuffle(50000).repeat(4).batch(64) \n",
    "valid_data = valid_data.map(scale).batch(64)\n",
    "test_data = test_data.map(scale).batch(64)"
   ]
  },
  {
   "cell_type": "code",
   "execution_count": 8,
   "metadata": {},
   "outputs": [],
   "source": [
    "dt = datetime.now().strftime('%Y%m%d-%H%M%S')\n",
    "\n",
    "cp_callback = tf.keras.callbacks.ModelCheckpoint(   \n",
    "    'checkpoints/{}.hdf5'.format(dt),\n",
    "    monitor='val_accuracy',\n",
    "    save_best_only=True)"
   ]
  },
  {
   "cell_type": "code",
   "execution_count": 9,
   "metadata": {},
   "outputs": [],
   "source": [
    "class MyCallback(tf.keras.callbacks.Callback):\n",
    "\n",
    "    def on_epoch_start(self, epoch, logs=None):\n",
    "        print('Epoch {} begins at {}: {}'.format(epoch, datetime.now().time(), logs))\n",
    "\n",
    "    def on_epoch_end(self, epoch, logs=None):\n",
    "        print('Epoch {} ends at {}: {}'.format(epoch, datetime.now().time(), logs))"
   ]
  },
  {
   "cell_type": "code",
   "execution_count": null,
   "metadata": {},
   "outputs": [
    {
     "name": "stdout",
     "output_type": "stream",
     "text": [
      "Epoch 0 ends at 15:51:19.011088: {'loss': 1.7453446639299393, 'accuracy': 0.52, 'val_loss': 1.0222094408266105, 'val_accuracy': 0.6519}\n",
      "Epoch 1 ends at 15:55:27.302223: {'loss': 0.7599972515106201, 'accuracy': 0.7406, 'val_loss': 0.7763329205239654, 'val_accuracy': 0.7472}\n",
      "Epoch 2 ends at 15:59:45.385301: {'loss': 0.4555173779428005, 'accuracy': 0.84178126, 'val_loss': 0.7637511476589616, 'val_accuracy': 0.7573}\n",
      "Epoch 3 ends at 16:04:03.914538: {'loss': 0.281345135255158, 'accuracy': 0.9011437, 'val_loss': 0.8794279343383328, 'val_accuracy': 0.7698}\n",
      "Epoch 4 ends at 16:08:24.480960: {'loss': 0.18339385634586214, 'accuracy': 0.9359375, 'val_loss': 1.0393373681481477, 'val_accuracy': 0.7531}\n",
      "Epoch 5 ends at 16:12:52.908057: {'loss': 0.14016855713557452, 'accuracy': 0.9509875, 'val_loss': 0.9831283952400183, 'val_accuracy': 0.7843}\n",
      "Epoch 6 ends at 16:17:17.611680: {'loss': 0.11495254803262651, 'accuracy': 0.96045625, 'val_loss': 0.8752877064950907, 'val_accuracy': 0.8014}\n",
      "Epoch 7 ends at 16:21:42.338152: {'loss': 0.09999025685749947, 'accuracy': 0.9660375, 'val_loss': 1.2361479853368869, 'val_accuracy': 0.7312}\n",
      "Epoch 8 ends at 16:26:07.031162: {'loss': 0.08443896114467643, 'accuracy': 0.9714062, 'val_loss': 0.9660849428860245, 'val_accuracy': 0.7979}\n",
      "Epoch 9 ends at 16:30:22.897114: {'loss': 0.07614238966403064, 'accuracy': 0.9735625, 'val_loss': 0.9557669166546718, 'val_accuracy': 0.7816}\n",
      "Epoch 10 ends at 16:34:40.275512: {'loss': 0.07158731035930105, 'accuracy': 0.9759125, 'val_loss': 0.9261407259922878, 'val_accuracy': 0.8132}\n",
      "Epoch 11 ends at 16:39:02.734095: {'loss': 0.06408494067050051, 'accuracy': 0.9781, 'val_loss': 1.324752253901427, 'val_accuracy': 0.7874}\n",
      "Epoch 12 ends at 16:43:24.312378: {'loss': 0.05987540238939691, 'accuracy': 0.9799687, 'val_loss': 1.0217999908954474, 'val_accuracy': 0.8174}\n",
      "Epoch 13 ends at 16:47:46.940264: {'loss': 0.05525282457201974, 'accuracy': 0.98165625, 'val_loss': 1.1534108063977235, 'val_accuracy': 0.7813}\n",
      "Epoch 14 ends at 16:52:09.775782: {'loss': 0.049973823503113815, 'accuracy': 0.98324376, 'val_loss': 0.9366916988495808, 'val_accuracy': 0.8208}\n",
      "Epoch 15 ends at 16:56:28.630102: {'loss': 0.04577692113587982, 'accuracy': 0.984575, 'val_loss': 1.0522047355296507, 'val_accuracy': 0.8022}\n",
      "Epoch 16 ends at 17:00:55.858958: {'loss': 0.043433581455558305, 'accuracy': 0.985475, 'val_loss': 1.0503913204001774, 'val_accuracy': 0.8194}\n",
      "Epoch 17 ends at 17:05:14.109547: {'loss': 0.040271518303955964, 'accuracy': 0.98645, 'val_loss': 0.9903810293811142, 'val_accuracy': 0.8158}\n",
      "Epoch 18 ends at 17:09:35.364425: {'loss': 0.038550233381663565, 'accuracy': 0.98721874, 'val_loss': 1.097503611046797, 'val_accuracy': 0.8155}\n",
      "Epoch 19 ends at 17:14:02.856125: {'loss': 0.037345202253021126, 'accuracy': 0.9874875, 'val_loss': 0.9425075247788884, 'val_accuracy': 0.8236}\n"
     ]
    }
   ],
   "source": [
    "history = model.fit(train_data,\n",
    "                    epochs=30,\n",
    "                    validation_data=valid_data,\n",
    "                    verbose=0,\n",
    "                    callbacks=[cp_callback, MyCallback()])"
   ]
  },
  {
   "cell_type": "code",
   "execution_count": null,
   "metadata": {
    "scrolled": true
   },
   "outputs": [],
   "source": [
    "model.evaluate(test_data)"
   ]
  },
  {
   "cell_type": "code",
   "execution_count": null,
   "metadata": {},
   "outputs": [],
   "source": [
    "m = tf.keras.models.load_model('checkpoints/{}.hdf5'.format(dt))"
   ]
  },
  {
   "cell_type": "code",
   "execution_count": null,
   "metadata": {},
   "outputs": [],
   "source": []
  }
 ],
 "metadata": {
  "kernelspec": {
   "display_name": "Python 3",
   "language": "python",
   "name": "python3"
  },
  "language_info": {
   "codemirror_mode": {
    "name": "ipython",
    "version": 3
   },
   "file_extension": ".py",
   "mimetype": "text/x-python",
   "name": "python",
   "nbconvert_exporter": "python",
   "pygments_lexer": "ipython3",
   "version": "3.6.9"
  }
 },
 "nbformat": 4,
 "nbformat_minor": 2
}
