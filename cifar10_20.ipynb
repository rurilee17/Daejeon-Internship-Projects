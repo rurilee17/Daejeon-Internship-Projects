{
 "cells": [
  {
   "cell_type": "code",
   "execution_count": 1,
   "metadata": {},
   "outputs": [
    {
     "name": "stdout",
     "output_type": "stream",
     "text": [
      "Requirement already satisfied: tensorflow-datasets in c:\\users\\affinity\\anaconda3\\lib\\site-packages (1.3.0)\n",
      "Requirement already satisfied: promise in c:\\users\\affinity\\anaconda3\\lib\\site-packages (from tensorflow-datasets) (2.2.1)\n",
      "Requirement already satisfied: termcolor in c:\\users\\affinity\\anaconda3\\lib\\site-packages (from tensorflow-datasets) (1.1.0)\n",
      "Requirement already satisfied: dill in c:\\users\\affinity\\anaconda3\\lib\\site-packages (from tensorflow-datasets) (0.3.1.1)\n",
      "Requirement already satisfied: requests>=2.19.0 in c:\\users\\affinity\\anaconda3\\lib\\site-packages (from tensorflow-datasets) (2.22.0)\n",
      "Requirement already satisfied: absl-py in c:\\users\\affinity\\anaconda3\\lib\\site-packages (from tensorflow-datasets) (0.8.0)\n",
      "Requirement already satisfied: six in c:\\users\\affinity\\anaconda3\\lib\\site-packages (from tensorflow-datasets) (1.12.0)\n",
      "Requirement already satisfied: tqdm in c:\\users\\affinity\\anaconda3\\lib\\site-packages (from tensorflow-datasets) (4.36.1)\n",
      "Requirement already satisfied: wrapt in c:\\users\\affinity\\anaconda3\\lib\\site-packages (from tensorflow-datasets) (1.11.2)\n",
      "Requirement already satisfied: attrs in c:\\users\\affinity\\anaconda3\\lib\\site-packages (from tensorflow-datasets) (19.3.0)\n",
      "Requirement already satisfied: protobuf>=3.6.1 in c:\\users\\affinity\\anaconda3\\lib\\site-packages (from tensorflow-datasets) (3.9.2)\n",
      "Requirement already satisfied: numpy in c:\\users\\affinity\\anaconda3\\lib\\site-packages (from tensorflow-datasets) (1.16.5)\n",
      "Requirement already satisfied: future in c:\\users\\affinity\\anaconda3\\lib\\site-packages (from tensorflow-datasets) (0.17.1)\n",
      "Requirement already satisfied: tensorflow-metadata in c:\\users\\affinity\\anaconda3\\lib\\site-packages (from tensorflow-datasets) (0.15.0)\n",
      "Requirement already satisfied: urllib3!=1.25.0,!=1.25.1,<1.26,>=1.21.1 in c:\\users\\affinity\\anaconda3\\lib\\site-packages (from requests>=2.19.0->tensorflow-datasets) (1.24.2)\n",
      "Requirement already satisfied: certifi>=2017.4.17 in c:\\users\\affinity\\anaconda3\\lib\\site-packages (from requests>=2.19.0->tensorflow-datasets) (2019.9.11)\n",
      "Requirement already satisfied: chardet<3.1.0,>=3.0.2 in c:\\users\\affinity\\anaconda3\\lib\\site-packages (from requests>=2.19.0->tensorflow-datasets) (3.0.4)\n",
      "Requirement already satisfied: idna<2.9,>=2.5 in c:\\users\\affinity\\anaconda3\\lib\\site-packages (from requests>=2.19.0->tensorflow-datasets) (2.8)\n",
      "Requirement already satisfied: setuptools in c:\\users\\affinity\\anaconda3\\lib\\site-packages (from protobuf>=3.6.1->tensorflow-datasets) (41.4.0)\n",
      "Requirement already satisfied: googleapis-common-protos in c:\\users\\affinity\\anaconda3\\lib\\site-packages (from tensorflow-metadata->tensorflow-datasets) (1.6.0)\n"
     ]
    }
   ],
   "source": [
    "!pip install tensorflow-datasets"
   ]
  },
  {
   "cell_type": "code",
   "execution_count": 2,
   "metadata": {},
   "outputs": [
    {
     "name": "stdout",
     "output_type": "stream",
     "text": [
      "Requirement already up-to-date: pip in c:\\users\\affinity\\anaconda3\\lib\\site-packages (19.3.1)\n"
     ]
    }
   ],
   "source": [
    "!python -m pip install --upgrade pip"
   ]
  },
  {
   "cell_type": "code",
   "execution_count": 3,
   "metadata": {},
   "outputs": [
    {
     "name": "stderr",
     "output_type": "stream",
     "text": [
      "Using TensorFlow backend.\n"
     ]
    }
   ],
   "source": [
    "import tensorflow as tf\n",
    "import tensorflow_datasets as tfds\n",
    "from keras.models import load_model\n",
    "from datetime import datetime\n",
    "#tf.enable_eager_execution()"
   ]
  },
  {
   "cell_type": "code",
   "execution_count": 4,
   "metadata": {},
   "outputs": [],
   "source": [
    "train_data = tfds.load(name='cifar10:3.*.*', split='train[:80%]', as_supervised=True)\n",
    "valid_data = tfds.load(name='cifar10:3.*.*', split='train[80%:]', as_supervised=True)\n",
    "test_data = tfds.load(name='cifar10:3.*.*', split='test', as_supervised=True)"
   ]
  },
  {
   "cell_type": "code",
   "execution_count": 5,
   "metadata": {},
   "outputs": [],
   "source": [
    "def scale(image, label):\n",
    "    image = tf.cast(image, tf.float32)\n",
    "    image /= 255\n",
    "    image = tf.image.random_contrast(image, lower=2.0, upper=2.0)\n",
    "    image = tf.image.random_flip_left_right(image)\n",
    "    image = tf.image.random_contrast(image, lower=0.2, upper = 0.2)\n",
    "    image = tf.image.random_hue(image, max_delta = 0.8)\n",
    "    image = tf.image.random_saturation(image, lower=0.2, upper=0.2)\n",
    "    return image, label"
   ]
  },
  {
   "cell_type": "code",
   "execution_count": 6,
   "metadata": {},
   "outputs": [
    {
     "name": "stdout",
     "output_type": "stream",
     "text": [
      "Model: \"sequential\"\n",
      "_________________________________________________________________\n",
      "Layer (type)                 Output Shape              Param #   \n",
      "=================================================================\n",
      "conv2d (Conv2D)              (None, 32, 32, 128)       3584      \n",
      "_________________________________________________________________\n",
      "batch_normalization (BatchNo (None, 32, 32, 128)       512       \n",
      "_________________________________________________________________\n",
      "max_pooling2d (MaxPooling2D) (None, 16, 16, 128)       0         \n",
      "_________________________________________________________________\n",
      "conv2d_1 (Conv2D)            (None, 16, 16, 256)       295168    \n",
      "_________________________________________________________________\n",
      "conv2d_2 (Conv2D)            (None, 16, 16, 256)       590080    \n",
      "_________________________________________________________________\n",
      "batch_normalization_1 (Batch (None, 16, 16, 256)       1024      \n",
      "_________________________________________________________________\n",
      "max_pooling2d_1 (MaxPooling2 (None, 8, 8, 256)         0         \n",
      "_________________________________________________________________\n",
      "dropout (Dropout)            (None, 8, 8, 256)         0         \n",
      "_________________________________________________________________\n",
      "conv2d_3 (Conv2D)            (None, 8, 8, 512)         1180160   \n",
      "_________________________________________________________________\n",
      "conv2d_4 (Conv2D)            (None, 8, 8, 512)         2359808   \n",
      "_________________________________________________________________\n",
      "batch_normalization_2 (Batch (None, 8, 8, 512)         2048      \n",
      "_________________________________________________________________\n",
      "max_pooling2d_2 (MaxPooling2 (None, 4, 4, 512)         0         \n",
      "_________________________________________________________________\n",
      "flatten (Flatten)            (None, 8192)              0         \n",
      "_________________________________________________________________\n",
      "dropout_1 (Dropout)          (None, 8192)              0         \n",
      "_________________________________________________________________\n",
      "dense (Dense)                (None, 10)                81930     \n",
      "=================================================================\n",
      "Total params: 4,514,314\n",
      "Trainable params: 4,512,522\n",
      "Non-trainable params: 1,792\n",
      "_________________________________________________________________\n"
     ]
    }
   ],
   "source": [
    "model = tf.keras.Sequential([\n",
    "    tf.keras.layers.Conv2D(128, 3, activation='relu', padding='same', input_shape=(32, 32, 3)),\n",
    "    tf.keras.layers.BatchNormalization(),  # Gradient Vanishing / Gradient Exploding 이 일어나지 않도록 하는 아이디어 중의 하나이다\n",
    "    tf.keras.layers.MaxPooling2D(),\n",
    "    tf.keras.layers.Conv2D(256, 3, activation='relu', padding='same'),\n",
    "    tf.keras.layers.Conv2D(256, 3, activation='relu', padding='same'),\n",
    "    tf.keras.layers.BatchNormalization(),\n",
    "    tf.keras.layers.MaxPooling2D(),\n",
    "    tf.keras.layers.Dropout(0.4),\n",
    "    tf.keras.layers.Conv2D(512, 3, activation='relu', padding='same'),\n",
    "    tf.keras.layers.Conv2D(512, 3, activation='relu', padding='same'),\n",
    "    tf.keras.layers.BatchNormalization(),\n",
    "    tf.keras.layers.MaxPooling2D(),\n",
    "    tf.keras.layers.Flatten(),\n",
    "    tf.keras.layers.Dropout(0.4),\n",
    "    tf.keras.layers.Dense(10, activation='softmax')\n",
    "    \n",
    "])\n",
    "model.summary()"
   ]
  },
  {
   "cell_type": "code",
   "execution_count": 7,
   "metadata": {},
   "outputs": [],
   "source": [
    "model.compile(optimizer='adam',\n",
    "              loss='sparse_categorical_crossentropy',\n",
    "              metrics=['accuracy'])"
   ]
  },
  {
   "cell_type": "code",
   "execution_count": 8,
   "metadata": {},
   "outputs": [],
   "source": [
    "def scale(image, label):\n",
    "    image = tf.cast(image, tf.float32)\n",
    "    image /= 255\n",
    "    return image, label\n",
    "\n",
    "train_data = train_data.map(scale).shuffle(50000).repeat(4).batch(64) \n",
    "valid_data = valid_data.map(scale).batch(64)\n",
    "test_data = test_data.map(scale).batch(64)"
   ]
  },
  {
   "cell_type": "code",
   "execution_count": 9,
   "metadata": {},
   "outputs": [],
   "source": [
    "dt = datetime.now().strftime('%Y%m%d-%H%M%S')\n",
    "\n",
    "cp_callback = tf.keras.callbacks.ModelCheckpoint(   \n",
    "    'checkpoints/{}.hdf5'.format(dt),\n",
    "    monitor='val_accuracy',\n",
    "    save_best_only=True)"
   ]
  },
  {
   "cell_type": "code",
   "execution_count": 10,
   "metadata": {},
   "outputs": [],
   "source": [
    "class MyCallback(tf.keras.callbacks.Callback):\n",
    "\n",
    "    def on_epoch_start(self, epoch, logs=None):\n",
    "        print('Epoch {} begins at {}: {}'.format(epoch, datetime.now().time(), logs))\n",
    "\n",
    "    def on_epoch_end(self, epoch, logs=None):\n",
    "        print('Epoch {} ends at {}: {}'.format(epoch, datetime.now().time(), logs))"
   ]
  },
  {
   "cell_type": "code",
   "execution_count": 11,
   "metadata": {},
   "outputs": [
    {
     "name": "stdout",
     "output_type": "stream",
     "text": [
      "Epoch 0 ends at 16:08:00.372830: {'loss': 1.8948131281137466, 'accuracy': 0.54976875, 'val_loss': 1.8253279411868684, 'val_accuracy': 0.5645}\n",
      "Epoch 1 ends at 16:11:57.713600: {'loss': 0.933191196680069, 'accuracy': 0.7292625, 'val_loss': 0.7479450645720124, 'val_accuracy': 0.7634}\n",
      "Epoch 2 ends at 16:16:02.826167: {'loss': 0.46422039376795293, 'accuracy': 0.84065, 'val_loss': 0.7840870318898729, 'val_accuracy': 0.7536}\n",
      "Epoch 3 ends at 16:20:19.465481: {'loss': 0.2680863493025303, 'accuracy': 0.9059188, 'val_loss': 0.8177522181705305, 'val_accuracy': 0.7786}\n",
      "Epoch 4 ends at 16:24:41.571255: {'loss': 0.17881050588600336, 'accuracy': 0.9375188, 'val_loss': 0.806446906013094, 'val_accuracy': 0.7948}\n",
      "Epoch 5 ends at 16:29:05.409609: {'loss': 0.13609543774612248, 'accuracy': 0.953225, 'val_loss': 0.8340318506690347, 'val_accuracy': 0.8132}\n",
      "Epoch 6 ends at 16:33:28.043135: {'loss': 0.11413427741676568, 'accuracy': 0.9609125, 'val_loss': 0.9698422587221596, 'val_accuracy': 0.8026}\n"
     ]
    }
   ],
   "source": [
    "history = model.fit(train_data,\n",
    "                    epochs=7,\n",
    "                    validation_data=valid_data,\n",
    "                    verbose=0,\n",
    "                    callbacks=[cp_callback, MyCallback()])"
   ]
  },
  {
   "cell_type": "code",
   "execution_count": 12,
   "metadata": {
    "scrolled": true
   },
   "outputs": [
    {
     "name": "stdout",
     "output_type": "stream",
     "text": [
      "157/157 [==============================]0.9969 - accuracy: 0.812 - 0s 85ms/step - loss: 0.9285 - accuracy: 0.812 - 0s 72ms/step - loss: 0.9333 - accuracy: 0.82 - 0s 65ms/step - loss: 0.9512 - accuracy: 0.82 - 0s 61ms/step - loss: 0.8918 - accuracy: 0.84 - 0s 60ms/step - loss: 0.8361 - accuracy: 0.85 - 0s 57ms/step - loss: 0.8520 - accuracy: 0.84 - 0s 54ms/step - loss: 1.0093 - accuracy: 0.83 - 0s 53ms/step - loss: 0.9607 - accuracy: 0.82 - 1s 52ms/step - loss: 1.0049 - accuracy: 0.82 - 1s 51ms/step - loss: 1.0134 - accuracy: 0.82 - 1s 50ms/step - loss: 0.9840 - accuracy: 0.82 - 1s 50ms/step - loss: 1.0124 - accuracy: 0.82 - 1s 49ms/step - loss: 1.0136 - accuracy: 0.82 - 1s 48ms/step - loss: 1.0252 - accuracy: 0.81 - 1s 48ms/step - loss: 1.0590 - accuracy: 0.81 - 1s 47ms/step - loss: 1.0940 - accuracy: 0.81 - 1s 47ms/step - loss: 1.1237 - accuracy: 0.80 - 1s 47ms/step - loss: 1.0995 - accuracy: 0.80 - 1s 47ms/step - loss: 1.0937 - accuracy: 0.80 - 1s 47ms/step - loss: 1.0581 - accuracy: 0.80 - 1s 47ms/step - loss: 1.0569 - accuracy: 0.81 - 1s 47ms/step - loss: 1.0564 - accuracy: 0.80 - 1s 47ms/step - loss: 1.0514 - accuracy: 0.80 - 1s 47ms/step - loss: 1.0480 - accuracy: 0.80 - 1s 46ms/step - loss: 1.0584 - accuracy: 0.80 - 1s 46ms/step - loss: 1.0519 - accuracy: 0.80 - 1s 46ms/step - loss: 1.0353 - accuracy: 0.80 - 1s 46ms/step - loss: 1.0367 - accuracy: 0.80 - 1s 46ms/step - loss: 1.0322 - accuracy: 0.80 - 1s 46ms/step - loss: 1.0191 - accuracy: 0.80 - 1s 46ms/step - loss: 1.0148 - accuracy: 0.80 - 1s 45ms/step - loss: 1.0359 - accuracy: 0.80 - 2s 45ms/step - loss: 1.0370 - accuracy: 0.80 - 2s 45ms/step - loss: 1.0308 - accuracy: 0.80 - 2s 45ms/step - loss: 1.0293 - accuracy: 0.80 - 2s 45ms/step - loss: 1.0392 - accuracy: 0.80 - 2s 45ms/step - loss: 1.0416 - accuracy: 0.80 - 2s 45ms/step - loss: 1.0436 - accuracy: 0.80 - 2s 45ms/step - loss: 1.0478 - accuracy: 0.80 - 2s 45ms/step - loss: 1.0414 - accuracy: 0.80 - 2s 44ms/step - loss: 1.0315 - accuracy: 0.80 - 2s 44ms/step - loss: 1.0387 - accuracy: 0.80 - 2s 44ms/step - loss: 1.0462 - accuracy: 0.80 - 2s 44ms/step - loss: 1.0401 - accuracy: 0.80 - 2s 44ms/step - loss: 1.0307 - accuracy: 0.80 - 2s 44ms/step - loss: 1.0281 - accuracy: 0.80 - 2s 44ms/step - loss: 1.0223 - accuracy: 0.80 - 2s 44ms/step - loss: 1.0272 - accuracy: 0.80 - 2s 44ms/step - loss: 1.0183 - accuracy: 0.80 - 2s 44ms/step - loss: 1.0181 - accuracy: 0.80 - 2s 43ms/step - loss: 1.0275 - accuracy: 0.80 - 2s 43ms/step - loss: 1.0412 - accuracy: 0.80 - 2s 43ms/step - loss: 1.0451 - accuracy: 0.80 - 2s 43ms/step - loss: 1.0427 - accuracy: 0.80 - 2s 43ms/step - loss: 1.0459 - accuracy: 0.80 - 2s 43ms/step - loss: 1.0431 - accuracy: 0.80 - 3s 43ms/step - loss: 1.0426 - accuracy: 0.80 - 3s 43ms/step - loss: 1.0464 - accuracy: 0.80 - 3s 43ms/step - loss: 1.0562 - accuracy: 0.79 - 3s 43ms/step - loss: 1.0527 - accuracy: 0.79 - 3s 43ms/step - loss: 1.0579 - accuracy: 0.79 - 3s 43ms/step - loss: 1.0548 - accuracy: 0.79 - 3s 43ms/step - loss: 1.0601 - accuracy: 0.79 - 3s 44ms/step - loss: 1.0593 - accuracy: 0.79 - 3s 44ms/step - loss: 1.0653 - accuracy: 0.79 - 3s 44ms/step - loss: 1.0667 - accuracy: 0.79 - 3s 43ms/step - loss: 1.0728 - accuracy: 0.79 - 3s 44ms/step - loss: 1.0704 - accuracy: 0.79 - 3s 44ms/step - loss: 1.0665 - accuracy: 0.79 - 3s 43ms/step - loss: 1.0706 - accuracy: 0.79 - 3s 43ms/step - loss: 1.0813 - accuracy: 0.79 - 3s 44ms/step - loss: 1.0846 - accuracy: 0.79 - 3s 44ms/step - loss: 1.0757 - accuracy: 0.79 - 3s 44ms/step - loss: 1.0773 - accuracy: 0.79 - 3s 44ms/step - loss: 1.0741 - accuracy: 0.79 - 3s 44ms/step - loss: 1.0706 - accuracy: 0.79 - 3s 44ms/step - loss: 1.0656 - accuracy: 0.79 - 3s 44ms/step - loss: 1.0605 - accuracy: 0.79 - 3s 44ms/step - loss: 1.0621 - accuracy: 0.79 - 4s 44ms/step - loss: 1.0643 - accuracy: 0.79 - 4s 44ms/step - loss: 1.0600 - accuracy: 0.79 - 4s 44ms/step - loss: 1.0623 - accuracy: 0.79 - 4s 44ms/step - loss: 1.0596 - accuracy: 0.79 - 4s 44ms/step - loss: 1.0583 - accuracy: 0.79 - 4s 43ms/step - loss: 1.0647 - accuracy: 0.79 - 4s 44ms/step - loss: 1.0620 - accuracy: 0.79 - 4s 44ms/step - loss: 1.0617 - accuracy: 0.79 - 4s 44ms/step - loss: 1.0587 - accuracy: 0.79 - 4s 44ms/step - loss: 1.0574 - accuracy: 0.79 - 4s 44ms/step - loss: 1.0543 - accuracy: 0.79 - 4s 44ms/step - loss: 1.0548 - accuracy: 0.79 - 4s 44ms/step - loss: 1.0516 - accuracy: 0.79 - 4s 44ms/step - loss: 1.0529 - accuracy: 0.79 - 4s 43ms/step - loss: 1.0535 - accuracy: 0.79 - 4s 43ms/step - loss: 1.0561 - accuracy: 0.79 - 4s 43ms/step - loss: 1.0613 - accuracy: 0.79 - 4s 43ms/step - loss: 1.0636 - accuracy: 0.79 - 4s 43ms/step - loss: 1.0613 - accuracy: 0.79 - 4s 43ms/step - loss: 1.0606 - accuracy: 0.79 - 4s 43ms/step - loss: 1.0628 - accuracy: 0.79 - 4s 43ms/step - loss: 1.0601 - accuracy: 0.79 - 4s 43ms/step - loss: 1.0591 - accuracy: 0.79 - 5s 43ms/step - loss: 1.0602 - accuracy: 0.79 - 5s 43ms/step - loss: 1.0609 - accuracy: 0.79 - 5s 43ms/step - loss: 1.0624 - accuracy: 0.79 - 5s 43ms/step - loss: 1.0641 - accuracy: 0.79 - 5s 43ms/step - loss: 1.0608 - accuracy: 0.79 - 5s 43ms/step - loss: 1.0605 - accuracy: 0.79 - 5s 43ms/step - loss: 1.0638 - accuracy: 0.79 - 5s 43ms/step - loss: 1.0582 - accuracy: 0.79 - 5s 43ms/step - loss: 1.0639 - accuracy: 0.79 - 5s 43ms/step - loss: 1.0656 - accuracy: 0.79 - 5s 43ms/step - loss: 1.0646 - accuracy: 0.79 - 5s 43ms/step - loss: 1.0667 - accuracy: 0.79 - 5s 43ms/step - loss: 1.0634 - accuracy: 0.79 - 5s 43ms/step - loss: 1.0615 - accuracy: 0.79 - 5s 43ms/step - loss: 1.0622 - accuracy: 0.79 - 5s 43ms/step - loss: 1.0614 - accuracy: 0.79 - 5s 43ms/step - loss: 1.0577 - accuracy: 0.79 - 5s 43ms/step - loss: 1.0573 - accuracy: 0.79 - 5s 43ms/step - loss: 1.0530 - accuracy: 0.79 - 5s 43ms/step - loss: 1.0492 - accuracy: 0.79 - 5s 43ms/step - loss: 1.0515 - accuracy: 0.79 - 5s 43ms/step - loss: 1.0503 - accuracy: 0.79 - 5s 43ms/step - loss: 1.0461 - accuracy: 0.79 - 5s 43ms/step - loss: 1.0486 - accuracy: 0.79 - 6s 43ms/step - loss: 1.0464 - accuracy: 0.79 - 6s 43ms/step - loss: 1.0508 - accuracy: 0.79 - 6s 43ms/step - loss: 1.0488 - accuracy: 0.79 - 6s 43ms/step - loss: 1.0479 - accuracy: 0.79 - 6s 43ms/step - loss: 1.0509 - accuracy: 0.79 - 6s 43ms/step - loss: 1.0524 - accuracy: 0.79 - 6s 43ms/step - loss: 1.0493 - accuracy: 0.79 - 6s 43ms/step - loss: 1.0483 - accuracy: 0.79 - 6s 43ms/step - loss: 1.0526 - accuracy: 0.79 - 6s 43ms/step - loss: 1.0509 - accuracy: 0.79 - 6s 43ms/step - loss: 1.0489 - accuracy: 0.79 - 6s 43ms/step - loss: 1.0493 - accuracy: 0.79 - 6s 43ms/step - loss: 1.0460 - accuracy: 0.79 - 6s 43ms/step - loss: 1.0467 - accuracy: 0.79 - 6s 43ms/step - loss: 1.0439 - accuracy: 0.79 - 6s 43ms/step - loss: 1.0437 - accuracy: 0.79 - 6s 43ms/step - loss: 1.0414 - accuracy: 0.79 - 6s 43ms/step - loss: 1.0376 - accuracy: 0.79 - 6s 43ms/step - loss: 1.0375 - accuracy: 0.79 - 6s 43ms/step - loss: 1.0373 - accuracy: 0.79 - 6s 43ms/step - loss: 1.0369 - accuracy: 0.79 - 6s 43ms/step - loss: 1.0387 - accuracy: 0.79 - 6s 43ms/step - loss: 1.0410 - accuracy: 0.79 - 6s 43ms/step - loss: 1.0379 - accuracy: 0.79 - 7s 43ms/step - loss: 1.0375 - accuracy: 0.79 - 7s 43ms/step - loss: 1.0377 - accuracy: 0.79 - 7s 43ms/step - loss: 1.0348 - accuracy: 0.79 - 7s 43ms/step - loss: 1.0337 - accuracy: 0.79 - 7s 43ms/step - loss: 1.0324 - accuracy: 0.79 - 7s 43ms/step - loss: 1.0354 - accuracy: 0.79 - 7s 44ms/step - loss: 1.0354 - accuracy: 0.7952\n"
     ]
    },
    {
     "data": {
      "text/plain": [
       "[1.0354013911857727, 0.7952]"
      ]
     },
     "execution_count": 12,
     "metadata": {},
     "output_type": "execute_result"
    }
   ],
   "source": [
    "model.evaluate(test_data)"
   ]
  },
  {
   "cell_type": "code",
   "execution_count": 13,
   "metadata": {},
   "outputs": [],
   "source": [
    "m = tf.keras.models.load_model('checkpoints/{}.hdf5'.format(dt))"
   ]
  },
  {
   "cell_type": "code",
   "execution_count": null,
   "metadata": {},
   "outputs": [],
   "source": []
  }
 ],
 "metadata": {
  "kernelspec": {
   "display_name": "Python 3",
   "language": "python",
   "name": "python3"
  },
  "language_info": {
   "codemirror_mode": {
    "name": "ipython",
    "version": 3
   },
   "file_extension": ".py",
   "mimetype": "text/x-python",
   "name": "python",
   "nbconvert_exporter": "python",
   "pygments_lexer": "ipython3",
   "version": "3.6.9"
  }
 },
 "nbformat": 4,
 "nbformat_minor": 2
}
